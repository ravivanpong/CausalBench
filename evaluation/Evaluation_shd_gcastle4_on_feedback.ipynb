{
 "cells": [
  {
   "cell_type": "code",
   "execution_count": 11,
   "id": "ef3a494b",
   "metadata": {},
   "outputs": [
    {
     "ename": "ImportError",
     "evalue": "cannot import name 'read_group_arc_num_as_dataframe' from 'causalbench.data.datasets' (/Users/huigong/ba-thesis/CausalBench/causalbench/data/datasets.py)",
     "output_type": "error",
     "traceback": [
      "\u001b[0;31m---------------------------------------------------------------------------\u001b[0m",
      "\u001b[0;31mImportError\u001b[0m                               Traceback (most recent call last)",
      "Input \u001b[0;32mIn [11]\u001b[0m, in \u001b[0;36m<cell line: 6>\u001b[0;34m()\u001b[0m\n\u001b[1;32m      4\u001b[0m \u001b[38;5;28;01mimport\u001b[39;00m \u001b[38;5;21;01mplotly\u001b[39;00m\u001b[38;5;21;01m.\u001b[39;00m\u001b[38;5;21;01mgraph_objects\u001b[39;00m \u001b[38;5;28;01mas\u001b[39;00m \u001b[38;5;21;01mgo\u001b[39;00m\n\u001b[1;32m      5\u001b[0m \u001b[38;5;28;01mimport\u001b[39;00m \u001b[38;5;21;01mplotly\u001b[39;00m\u001b[38;5;21;01m.\u001b[39;00m\u001b[38;5;21;01mexpress\u001b[39;00m \u001b[38;5;28;01mas\u001b[39;00m \u001b[38;5;21;01mpx\u001b[39;00m\n\u001b[0;32m----> 6\u001b[0m \u001b[38;5;28;01mfrom\u001b[39;00m \u001b[38;5;21;01mcausalbench\u001b[39;00m\u001b[38;5;21;01m.\u001b[39;00m\u001b[38;5;21;01mdata\u001b[39;00m\u001b[38;5;21;01m.\u001b[39;00m\u001b[38;5;21;01mdatasets\u001b[39;00m \u001b[38;5;28;01mimport\u001b[39;00m read_group_arc_num_as_dataframe\n",
      "\u001b[0;31mImportError\u001b[0m: cannot import name 'read_group_arc_num_as_dataframe' from 'causalbench.data.datasets' (/Users/huigong/ba-thesis/CausalBench/causalbench/data/datasets.py)"
     ]
    }
   ],
   "source": [
    "import numpy as np\n",
    "import pandas as pd\n",
    "from scipy.stats import normaltest, mannwhitneyu, ttest_ind\n",
    "import plotly.graph_objects as go\n",
    "import plotly.express as px\n",
    "from causalbench.data.datasets import read_group_arc_num_as_dataframe"
   ]
  },
  {
   "cell_type": "code",
   "execution_count": 8,
   "id": "4422b524",
   "metadata": {},
   "outputs": [],
   "source": [
    "df = pd.read_csv('data_for_evaluation/feeback_castle4__04Mar.csv',  sep=';')"
   ]
  },
  {
   "cell_type": "code",
   "execution_count": 9,
   "id": "035d46f8",
   "metadata": {},
   "outputs": [],
   "source": [
    "def extract_group(name):\n",
    "    \n",
    "    if '-' in name:#case of feedback\n",
    "        return name.split('.')[1] \n",
    "    elif 'real' in name:\n",
    "        return name\n",
    "    elif 'numdata' in name:\n",
    "        return name\n",
    "    elif 'dream' in name:\n",
    "        return name\n",
    "    elif '_' in name:\n",
    "        return name.split('_')[0]\n",
    "    else:\n",
    "        return name"
   ]
  },
  {
   "cell_type": "code",
   "execution_count": null,
   "id": "1470585b",
   "metadata": {},
   "outputs": [],
   "source": [
    "group_arc_num_df = read_group_arc_num_as_dataframe()\n",
    "group_arc_num_df"
   ]
  }
 ],
 "metadata": {
  "kernelspec": {
   "display_name": "torch-gpu",
   "language": "python",
   "name": "torch-gpu"
  },
  "language_info": {
   "codemirror_mode": {
    "name": "ipython",
    "version": 3
   },
   "file_extension": ".py",
   "mimetype": "text/x-python",
   "name": "python",
   "nbconvert_exporter": "python",
   "pygments_lexer": "ipython3",
   "version": "3.8.13"
  }
 },
 "nbformat": 4,
 "nbformat_minor": 5
}
