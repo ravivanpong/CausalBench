{
 "cells": [
  {
   "cell_type": "code",
   "execution_count": 13,
   "id": "e09eedc3",
   "metadata": {},
   "outputs": [
    {
     "data": {
      "text/html": [
       "<div>\n",
       "<style scoped>\n",
       "    .dataframe tbody tr th:only-of-type {\n",
       "        vertical-align: middle;\n",
       "    }\n",
       "\n",
       "    .dataframe tbody tr th {\n",
       "        vertical-align: top;\n",
       "    }\n",
       "\n",
       "    .dataframe thead th {\n",
       "        text-align: right;\n",
       "    }\n",
       "</style>\n",
       "<table border=\"1\" class=\"dataframe\">\n",
       "  <thead>\n",
       "    <tr style=\"text-align: right;\">\n",
       "      <th></th>\n",
       "      <th>name</th>\n",
       "      <th>var_num</th>\n",
       "      <th>sample_num</th>\n",
       "      <th>varsortability</th>\n",
       "      <th>last_updated</th>\n",
       "      <th>group</th>\n",
       "      <th>type</th>\n",
       "    </tr>\n",
       "  </thead>\n",
       "  <tbody>\n",
       "    <tr>\n",
       "      <th>0</th>\n",
       "      <td>Alarm1_s500_v1</td>\n",
       "      <td>37</td>\n",
       "      <td>500</td>\n",
       "      <td>0.867550</td>\n",
       "      <td>Mon Feb 27 20:34:22 2023</td>\n",
       "      <td>Alarm1</td>\n",
       "      <td>semi-synthetic</td>\n",
       "    </tr>\n",
       "    <tr>\n",
       "      <th>1</th>\n",
       "      <td>Alarm1_s500_v2</td>\n",
       "      <td>37</td>\n",
       "      <td>500</td>\n",
       "      <td>0.864238</td>\n",
       "      <td>Mon Feb 27 20:34:22 2023</td>\n",
       "      <td>Alarm1</td>\n",
       "      <td>semi-synthetic</td>\n",
       "    </tr>\n",
       "    <tr>\n",
       "      <th>2</th>\n",
       "      <td>Alarm1_s500_v3</td>\n",
       "      <td>37</td>\n",
       "      <td>500</td>\n",
       "      <td>0.867550</td>\n",
       "      <td>Mon Feb 27 20:34:22 2023</td>\n",
       "      <td>Alarm1</td>\n",
       "      <td>semi-synthetic</td>\n",
       "    </tr>\n",
       "    <tr>\n",
       "      <th>3</th>\n",
       "      <td>Alarm1_s500_v4</td>\n",
       "      <td>37</td>\n",
       "      <td>500</td>\n",
       "      <td>0.867550</td>\n",
       "      <td>Mon Feb 27 20:34:22 2023</td>\n",
       "      <td>Alarm1</td>\n",
       "      <td>semi-synthetic</td>\n",
       "    </tr>\n",
       "    <tr>\n",
       "      <th>4</th>\n",
       "      <td>Alarm1_s500_v5</td>\n",
       "      <td>37</td>\n",
       "      <td>500</td>\n",
       "      <td>0.847682</td>\n",
       "      <td>Mon Feb 27 20:34:22 2023</td>\n",
       "      <td>Alarm1</td>\n",
       "      <td>semi-synthetic</td>\n",
       "    </tr>\n",
       "  </tbody>\n",
       "</table>\n",
       "</div>"
      ],
      "text/plain": [
       "             name  var_num  sample_num  varsortability  \\\n",
       "0  Alarm1_s500_v1       37         500        0.867550   \n",
       "1  Alarm1_s500_v2       37         500        0.864238   \n",
       "2  Alarm1_s500_v3       37         500        0.867550   \n",
       "3  Alarm1_s500_v4       37         500        0.867550   \n",
       "4  Alarm1_s500_v5       37         500        0.847682   \n",
       "\n",
       "               last_updated   group            type  \n",
       "0  Mon Feb 27 20:34:22 2023  Alarm1  semi-synthetic  \n",
       "1  Mon Feb 27 20:34:22 2023  Alarm1  semi-synthetic  \n",
       "2  Mon Feb 27 20:34:22 2023  Alarm1  semi-synthetic  \n",
       "3  Mon Feb 27 20:34:22 2023  Alarm1  semi-synthetic  \n",
       "4  Mon Feb 27 20:34:22 2023  Alarm1  semi-synthetic  "
      ]
     },
     "execution_count": 13,
     "metadata": {},
     "output_type": "execute_result"
    }
   ],
   "source": [
    "import numpy as np\n",
    "import plotly.graph_objects as go\n",
    "import plotly.express as px\n",
    "from causalbench.data.datasets import read_datasets_summary_as_dataframe\n",
    "# read datasets summary with group and type info\n",
    "df = read_datasets_summary_as_dataframe(True)\n",
    "df.head()"
   ]
  },
  {
   "cell_type": "code",
   "execution_count": 4,
   "id": "2cdbbdd6",
   "metadata": {},
   "outputs": [],
   "source": [
    "groups_with_more_than_one_member = ['Alarm1',\n",
    " 'Alarm3',\n",
    " 'Alarm5',\n",
    " 'Alarm10',\n",
    " 'Child',\n",
    " 'Child3',\n",
    " 'Child5',\n",
    " 'Child10',\n",
    " 'HailFinder',\n",
    " 'HailFinder3',\n",
    " 'HailFinder5',\n",
    " 'HailFinder10',\n",
    " 'Insurance',\n",
    " 'Insurance3',\n",
    " 'Insurance5',\n",
    " 'Insurance10',\n",
    " 'Network1_amp',\n",
    " 'Network2_amp',\n",
    " 'Network3_amp',\n",
    " 'Network4_amp',\n",
    " 'Network5_amp',\n",
    " 'Network5_cont',\n",
    " 'Network5_cont_p3n7',\n",
    " 'Network5_cont_p7n3',\n",
    " 'Network6_amp',\n",
    " 'Network6_cont',\n",
    " 'Network7_amp',\n",
    " 'Network7_cont',\n",
    " 'Network8_amp_amp',\n",
    " 'Network8_amp_cont',\n",
    " 'Network8_cont_amp',\n",
    " 'Network9_amp_amp',\n",
    " 'Network9_amp_cont',\n",
    " 'Network9_cont_amp',\n",
    " 'Barley',\n",
    " 'dream4',\n",
    " 'Gene',\n",
    " 'link',\n",
    " 'mildew',\n",
    " 'munin1',\n",
    " 'pigs']"
   ]
  },
  {
   "cell_type": "code",
   "execution_count": 9,
   "id": "33994dad",
   "metadata": {},
   "outputs": [
    {
     "data": {
      "application/vnd.plotly.v1+json": {
       "config": {
        "plotlyServerURL": "https://plot.ly"
       },
       "data": [
        {
         "box": {
          "visible": true
         },
         "meanline": {
          "visible": true
         },
         "name": "Alarm1",
         "type": "violin",
         "x": [
          "Alarm1",
          "Alarm1",
          "Alarm1",
          "Alarm1",
          "Alarm1",
          "Alarm1",
          "Alarm1",
          "Alarm1",
          "Alarm1",
          "Alarm1",
          "Alarm1",
          "Alarm1",
          "Alarm1",
          "Alarm1",
          "Alarm1",
          "Alarm1",
          "Alarm1",
          "Alarm1",
          "Alarm1",
          "Alarm1",
          "Alarm1",
          "Alarm1",
          "Alarm1",
          "Alarm1",
          "Alarm1",
          "Alarm1",
          "Alarm1",
          "Alarm1",
          "Alarm1",
          "Alarm1"
         ],
         "y": [
          0.8675496688741722,
          0.8642384105960265,
          0.8675496688741722,
          0.8675496688741722,
          0.847682119205298,
          0.8609271523178808,
          0.8725165562913907,
          0.8576158940397351,
          0.8741721854304636,
          0.8642384105960265,
          0.8642384105960265,
          0.8741721854304636,
          0.8642384105960265,
          0.8708609271523179,
          0.8576158940397351,
          0.8576158940397351,
          0.8725165562913907,
          0.8675496688741722,
          0.8708609271523179,
          0.8708609271523179,
          0.8708609271523179,
          0.8708609271523179,
          0.8675496688741722,
          0.8675496688741722,
          0.8642384105960265,
          0.8642384105960265,
          0.8675496688741722,
          0.8675496688741722,
          0.8675496688741722,
          0.8675496688741722
         ]
        },
        {
         "box": {
          "visible": true
         },
         "meanline": {
          "visible": true
         },
         "name": "Alarm3",
         "type": "violin",
         "x": [
          "Alarm3",
          "Alarm3",
          "Alarm3",
          "Alarm3",
          "Alarm3",
          "Alarm3",
          "Alarm3",
          "Alarm3",
          "Alarm3",
          "Alarm3",
          "Alarm3",
          "Alarm3",
          "Alarm3",
          "Alarm3",
          "Alarm3",
          "Alarm3",
          "Alarm3",
          "Alarm3",
          "Alarm3",
          "Alarm3",
          "Alarm3",
          "Alarm3",
          "Alarm3",
          "Alarm3",
          "Alarm3",
          "Alarm3",
          "Alarm3",
          "Alarm3",
          "Alarm3",
          "Alarm3"
         ],
         "y": [
          0.8078802687843616,
          0.8210140500916311,
          0.8145998778252902,
          0.8368967623701894,
          0.820097739767868,
          0.8216249236408063,
          0.8277336591325596,
          0.8448381185094685,
          0.8246792913866829,
          0.8286499694563225,
          0.8176542455711667,
          0.818265119120342,
          0.8204031765424558,
          0.8335369578497251,
          0.8173488087965791,
          0.822846670739157,
          0.8320097739767868,
          0.8344532681734881,
          0.8197923029932804,
          0.8289554062309102,
          0.8246792913866829,
          0.8252901649358583,
          0.8295662797800856,
          0.8246792913866829,
          0.8289554062309102,
          0.8301771533292609,
          0.8283445326817349,
          0.8210140500916311,
          0.8252901649358583,
          0.8271227855833843
         ]
        },
        {
         "box": {
          "visible": true
         },
         "meanline": {
          "visible": true
         },
         "name": "Alarm5",
         "type": "violin",
         "x": [
          "Alarm5",
          "Alarm5",
          "Alarm5",
          "Alarm5",
          "Alarm5",
          "Alarm5",
          "Alarm5",
          "Alarm5",
          "Alarm5",
          "Alarm5",
          "Alarm5",
          "Alarm5",
          "Alarm5",
          "Alarm5",
          "Alarm5",
          "Alarm5",
          "Alarm5",
          "Alarm5",
          "Alarm5",
          "Alarm5",
          "Alarm5",
          "Alarm5",
          "Alarm5",
          "Alarm5",
          "Alarm5",
          "Alarm5",
          "Alarm5",
          "Alarm5",
          "Alarm5",
          "Alarm5"
         ],
         "y": [
          0.8464022140221402,
          0.8057349323493235,
          0.7955873308733087,
          0.8042742927429274,
          0.8161131611316114,
          0.8066574415744158,
          0.8115774907749077,
          0.8171125461254612,
          0.8289514145141451,
          0.8200338253382534,
          0.8347170971709718,
          0.7968942189421894,
          0.8015836408364083,
          0.8120387453874539,
          0.8127306273062731,
          0.809040590405904,
          0.8174969249692496,
          0.8057349323493235,
          0.8334102091020911,
          0.8204950799507995,
          0.808579335793358,
          0.808579335793358,
          0.8096555965559655,
          0.8075030750307504,
          0.8104243542435424,
          0.8030442804428044,
          0.8065805658056581,
          0.8076568265682657,
          0.8065805658056581,
          0.808579335793358
         ]
        },
        {
         "box": {
          "visible": true
         },
         "meanline": {
          "visible": true
         },
         "name": "Alarm10",
         "type": "violin",
         "x": [
          "Alarm10",
          "Alarm10",
          "Alarm10",
          "Alarm10",
          "Alarm10",
          "Alarm10",
          "Alarm10",
          "Alarm10",
          "Alarm10",
          "Alarm10",
          "Alarm10",
          "Alarm10",
          "Alarm10",
          "Alarm10",
          "Alarm10",
          "Alarm10",
          "Alarm10",
          "Alarm10",
          "Alarm10",
          "Alarm10",
          "Alarm10",
          "Alarm10",
          "Alarm10",
          "Alarm10",
          "Alarm10",
          "Alarm10",
          "Alarm10",
          "Alarm10",
          "Alarm10",
          "Alarm10"
         ],
         "y": [
          0.7557698839766166,
          0.7441675456316929,
          0.74212059996067,
          0.7320110123889375,
          0.7486279206964979,
          0.7516849312619555,
          0.7369361960777303,
          0.7429429536800329,
          0.7540536675188159,
          0.7585229812110053,
          0.7510681659724333,
          0.7445072134722992,
          0.7429697695621861,
          0.7383753150866152,
          0.7480558485438976,
          0.7467597475731627,
          0.735818867654683,
          0.7362032286322112,
          0.7467239930636251,
          0.7576827502368736,
          0.7388043692010655,
          0.7442658705329209,
          0.7419150115308293,
          0.7377138566601713,
          0.74075298997086,
          0.7392959937072063,
          0.741932888785598,
          0.7456245418953465,
          0.7393049323345907,
          0.7478949532509788
         ]
        }
       ],
       "layout": {
        "template": {
         "data": {
          "bar": [
           {
            "error_x": {
             "color": "#2a3f5f"
            },
            "error_y": {
             "color": "#2a3f5f"
            },
            "marker": {
             "line": {
              "color": "#E5ECF6",
              "width": 0.5
             },
             "pattern": {
              "fillmode": "overlay",
              "size": 10,
              "solidity": 0.2
             }
            },
            "type": "bar"
           }
          ],
          "barpolar": [
           {
            "marker": {
             "line": {
              "color": "#E5ECF6",
              "width": 0.5
             },
             "pattern": {
              "fillmode": "overlay",
              "size": 10,
              "solidity": 0.2
             }
            },
            "type": "barpolar"
           }
          ],
          "carpet": [
           {
            "aaxis": {
             "endlinecolor": "#2a3f5f",
             "gridcolor": "white",
             "linecolor": "white",
             "minorgridcolor": "white",
             "startlinecolor": "#2a3f5f"
            },
            "baxis": {
             "endlinecolor": "#2a3f5f",
             "gridcolor": "white",
             "linecolor": "white",
             "minorgridcolor": "white",
             "startlinecolor": "#2a3f5f"
            },
            "type": "carpet"
           }
          ],
          "choropleth": [
           {
            "colorbar": {
             "outlinewidth": 0,
             "ticks": ""
            },
            "type": "choropleth"
           }
          ],
          "contour": [
           {
            "colorbar": {
             "outlinewidth": 0,
             "ticks": ""
            },
            "colorscale": [
             [
              0,
              "#0d0887"
             ],
             [
              0.1111111111111111,
              "#46039f"
             ],
             [
              0.2222222222222222,
              "#7201a8"
             ],
             [
              0.3333333333333333,
              "#9c179e"
             ],
             [
              0.4444444444444444,
              "#bd3786"
             ],
             [
              0.5555555555555556,
              "#d8576b"
             ],
             [
              0.6666666666666666,
              "#ed7953"
             ],
             [
              0.7777777777777778,
              "#fb9f3a"
             ],
             [
              0.8888888888888888,
              "#fdca26"
             ],
             [
              1,
              "#f0f921"
             ]
            ],
            "type": "contour"
           }
          ],
          "contourcarpet": [
           {
            "colorbar": {
             "outlinewidth": 0,
             "ticks": ""
            },
            "type": "contourcarpet"
           }
          ],
          "heatmap": [
           {
            "colorbar": {
             "outlinewidth": 0,
             "ticks": ""
            },
            "colorscale": [
             [
              0,
              "#0d0887"
             ],
             [
              0.1111111111111111,
              "#46039f"
             ],
             [
              0.2222222222222222,
              "#7201a8"
             ],
             [
              0.3333333333333333,
              "#9c179e"
             ],
             [
              0.4444444444444444,
              "#bd3786"
             ],
             [
              0.5555555555555556,
              "#d8576b"
             ],
             [
              0.6666666666666666,
              "#ed7953"
             ],
             [
              0.7777777777777778,
              "#fb9f3a"
             ],
             [
              0.8888888888888888,
              "#fdca26"
             ],
             [
              1,
              "#f0f921"
             ]
            ],
            "type": "heatmap"
           }
          ],
          "heatmapgl": [
           {
            "colorbar": {
             "outlinewidth": 0,
             "ticks": ""
            },
            "colorscale": [
             [
              0,
              "#0d0887"
             ],
             [
              0.1111111111111111,
              "#46039f"
             ],
             [
              0.2222222222222222,
              "#7201a8"
             ],
             [
              0.3333333333333333,
              "#9c179e"
             ],
             [
              0.4444444444444444,
              "#bd3786"
             ],
             [
              0.5555555555555556,
              "#d8576b"
             ],
             [
              0.6666666666666666,
              "#ed7953"
             ],
             [
              0.7777777777777778,
              "#fb9f3a"
             ],
             [
              0.8888888888888888,
              "#fdca26"
             ],
             [
              1,
              "#f0f921"
             ]
            ],
            "type": "heatmapgl"
           }
          ],
          "histogram": [
           {
            "marker": {
             "pattern": {
              "fillmode": "overlay",
              "size": 10,
              "solidity": 0.2
             }
            },
            "type": "histogram"
           }
          ],
          "histogram2d": [
           {
            "colorbar": {
             "outlinewidth": 0,
             "ticks": ""
            },
            "colorscale": [
             [
              0,
              "#0d0887"
             ],
             [
              0.1111111111111111,
              "#46039f"
             ],
             [
              0.2222222222222222,
              "#7201a8"
             ],
             [
              0.3333333333333333,
              "#9c179e"
             ],
             [
              0.4444444444444444,
              "#bd3786"
             ],
             [
              0.5555555555555556,
              "#d8576b"
             ],
             [
              0.6666666666666666,
              "#ed7953"
             ],
             [
              0.7777777777777778,
              "#fb9f3a"
             ],
             [
              0.8888888888888888,
              "#fdca26"
             ],
             [
              1,
              "#f0f921"
             ]
            ],
            "type": "histogram2d"
           }
          ],
          "histogram2dcontour": [
           {
            "colorbar": {
             "outlinewidth": 0,
             "ticks": ""
            },
            "colorscale": [
             [
              0,
              "#0d0887"
             ],
             [
              0.1111111111111111,
              "#46039f"
             ],
             [
              0.2222222222222222,
              "#7201a8"
             ],
             [
              0.3333333333333333,
              "#9c179e"
             ],
             [
              0.4444444444444444,
              "#bd3786"
             ],
             [
              0.5555555555555556,
              "#d8576b"
             ],
             [
              0.6666666666666666,
              "#ed7953"
             ],
             [
              0.7777777777777778,
              "#fb9f3a"
             ],
             [
              0.8888888888888888,
              "#fdca26"
             ],
             [
              1,
              "#f0f921"
             ]
            ],
            "type": "histogram2dcontour"
           }
          ],
          "mesh3d": [
           {
            "colorbar": {
             "outlinewidth": 0,
             "ticks": ""
            },
            "type": "mesh3d"
           }
          ],
          "parcoords": [
           {
            "line": {
             "colorbar": {
              "outlinewidth": 0,
              "ticks": ""
             }
            },
            "type": "parcoords"
           }
          ],
          "pie": [
           {
            "automargin": true,
            "type": "pie"
           }
          ],
          "scatter": [
           {
            "fillpattern": {
             "fillmode": "overlay",
             "size": 10,
             "solidity": 0.2
            },
            "type": "scatter"
           }
          ],
          "scatter3d": [
           {
            "line": {
             "colorbar": {
              "outlinewidth": 0,
              "ticks": ""
             }
            },
            "marker": {
             "colorbar": {
              "outlinewidth": 0,
              "ticks": ""
             }
            },
            "type": "scatter3d"
           }
          ],
          "scattercarpet": [
           {
            "marker": {
             "colorbar": {
              "outlinewidth": 0,
              "ticks": ""
             }
            },
            "type": "scattercarpet"
           }
          ],
          "scattergeo": [
           {
            "marker": {
             "colorbar": {
              "outlinewidth": 0,
              "ticks": ""
             }
            },
            "type": "scattergeo"
           }
          ],
          "scattergl": [
           {
            "marker": {
             "colorbar": {
              "outlinewidth": 0,
              "ticks": ""
             }
            },
            "type": "scattergl"
           }
          ],
          "scattermapbox": [
           {
            "marker": {
             "colorbar": {
              "outlinewidth": 0,
              "ticks": ""
             }
            },
            "type": "scattermapbox"
           }
          ],
          "scatterpolar": [
           {
            "marker": {
             "colorbar": {
              "outlinewidth": 0,
              "ticks": ""
             }
            },
            "type": "scatterpolar"
           }
          ],
          "scatterpolargl": [
           {
            "marker": {
             "colorbar": {
              "outlinewidth": 0,
              "ticks": ""
             }
            },
            "type": "scatterpolargl"
           }
          ],
          "scatterternary": [
           {
            "marker": {
             "colorbar": {
              "outlinewidth": 0,
              "ticks": ""
             }
            },
            "type": "scatterternary"
           }
          ],
          "surface": [
           {
            "colorbar": {
             "outlinewidth": 0,
             "ticks": ""
            },
            "colorscale": [
             [
              0,
              "#0d0887"
             ],
             [
              0.1111111111111111,
              "#46039f"
             ],
             [
              0.2222222222222222,
              "#7201a8"
             ],
             [
              0.3333333333333333,
              "#9c179e"
             ],
             [
              0.4444444444444444,
              "#bd3786"
             ],
             [
              0.5555555555555556,
              "#d8576b"
             ],
             [
              0.6666666666666666,
              "#ed7953"
             ],
             [
              0.7777777777777778,
              "#fb9f3a"
             ],
             [
              0.8888888888888888,
              "#fdca26"
             ],
             [
              1,
              "#f0f921"
             ]
            ],
            "type": "surface"
           }
          ],
          "table": [
           {
            "cells": {
             "fill": {
              "color": "#EBF0F8"
             },
             "line": {
              "color": "white"
             }
            },
            "header": {
             "fill": {
              "color": "#C8D4E3"
             },
             "line": {
              "color": "white"
             }
            },
            "type": "table"
           }
          ]
         },
         "layout": {
          "annotationdefaults": {
           "arrowcolor": "#2a3f5f",
           "arrowhead": 0,
           "arrowwidth": 1
          },
          "autotypenumbers": "strict",
          "coloraxis": {
           "colorbar": {
            "outlinewidth": 0,
            "ticks": ""
           }
          },
          "colorscale": {
           "diverging": [
            [
             0,
             "#8e0152"
            ],
            [
             0.1,
             "#c51b7d"
            ],
            [
             0.2,
             "#de77ae"
            ],
            [
             0.3,
             "#f1b6da"
            ],
            [
             0.4,
             "#fde0ef"
            ],
            [
             0.5,
             "#f7f7f7"
            ],
            [
             0.6,
             "#e6f5d0"
            ],
            [
             0.7,
             "#b8e186"
            ],
            [
             0.8,
             "#7fbc41"
            ],
            [
             0.9,
             "#4d9221"
            ],
            [
             1,
             "#276419"
            ]
           ],
           "sequential": [
            [
             0,
             "#0d0887"
            ],
            [
             0.1111111111111111,
             "#46039f"
            ],
            [
             0.2222222222222222,
             "#7201a8"
            ],
            [
             0.3333333333333333,
             "#9c179e"
            ],
            [
             0.4444444444444444,
             "#bd3786"
            ],
            [
             0.5555555555555556,
             "#d8576b"
            ],
            [
             0.6666666666666666,
             "#ed7953"
            ],
            [
             0.7777777777777778,
             "#fb9f3a"
            ],
            [
             0.8888888888888888,
             "#fdca26"
            ],
            [
             1,
             "#f0f921"
            ]
           ],
           "sequentialminus": [
            [
             0,
             "#0d0887"
            ],
            [
             0.1111111111111111,
             "#46039f"
            ],
            [
             0.2222222222222222,
             "#7201a8"
            ],
            [
             0.3333333333333333,
             "#9c179e"
            ],
            [
             0.4444444444444444,
             "#bd3786"
            ],
            [
             0.5555555555555556,
             "#d8576b"
            ],
            [
             0.6666666666666666,
             "#ed7953"
            ],
            [
             0.7777777777777778,
             "#fb9f3a"
            ],
            [
             0.8888888888888888,
             "#fdca26"
            ],
            [
             1,
             "#f0f921"
            ]
           ]
          },
          "colorway": [
           "#636efa",
           "#EF553B",
           "#00cc96",
           "#ab63fa",
           "#FFA15A",
           "#19d3f3",
           "#FF6692",
           "#B6E880",
           "#FF97FF",
           "#FECB52"
          ],
          "font": {
           "color": "#2a3f5f"
          },
          "geo": {
           "bgcolor": "white",
           "lakecolor": "white",
           "landcolor": "#E5ECF6",
           "showlakes": true,
           "showland": true,
           "subunitcolor": "white"
          },
          "hoverlabel": {
           "align": "left"
          },
          "hovermode": "closest",
          "mapbox": {
           "style": "light"
          },
          "paper_bgcolor": "white",
          "plot_bgcolor": "#E5ECF6",
          "polar": {
           "angularaxis": {
            "gridcolor": "white",
            "linecolor": "white",
            "ticks": ""
           },
           "bgcolor": "#E5ECF6",
           "radialaxis": {
            "gridcolor": "white",
            "linecolor": "white",
            "ticks": ""
           }
          },
          "scene": {
           "xaxis": {
            "backgroundcolor": "#E5ECF6",
            "gridcolor": "white",
            "gridwidth": 2,
            "linecolor": "white",
            "showbackground": true,
            "ticks": "",
            "zerolinecolor": "white"
           },
           "yaxis": {
            "backgroundcolor": "#E5ECF6",
            "gridcolor": "white",
            "gridwidth": 2,
            "linecolor": "white",
            "showbackground": true,
            "ticks": "",
            "zerolinecolor": "white"
           },
           "zaxis": {
            "backgroundcolor": "#E5ECF6",
            "gridcolor": "white",
            "gridwidth": 2,
            "linecolor": "white",
            "showbackground": true,
            "ticks": "",
            "zerolinecolor": "white"
           }
          },
          "shapedefaults": {
           "line": {
            "color": "#2a3f5f"
           }
          },
          "ternary": {
           "aaxis": {
            "gridcolor": "white",
            "linecolor": "white",
            "ticks": ""
           },
           "baxis": {
            "gridcolor": "white",
            "linecolor": "white",
            "ticks": ""
           },
           "bgcolor": "#E5ECF6",
           "caxis": {
            "gridcolor": "white",
            "linecolor": "white",
            "ticks": ""
           }
          },
          "title": {
           "x": 0.05
          },
          "xaxis": {
           "automargin": true,
           "gridcolor": "white",
           "linecolor": "white",
           "ticks": "",
           "title": {
            "standoff": 15
           },
           "zerolinecolor": "white",
           "zerolinewidth": 2
          },
          "yaxis": {
           "automargin": true,
           "gridcolor": "white",
           "linecolor": "white",
           "ticks": "",
           "title": {
            "standoff": 15
           },
           "zerolinecolor": "white",
           "zerolinewidth": 2
          }
         }
        }
       }
      },
      "text/html": [
       "<div>                            <div id=\"674b0546-1904-4215-bb98-0301a238d29a\" class=\"plotly-graph-div\" style=\"height:525px; width:100%;\"></div>            <script type=\"text/javascript\">                require([\"plotly\"], function(Plotly) {                    window.PLOTLYENV=window.PLOTLYENV || {};                                    if (document.getElementById(\"674b0546-1904-4215-bb98-0301a238d29a\")) {                    Plotly.newPlot(                        \"674b0546-1904-4215-bb98-0301a238d29a\",                        [{\"box\":{\"visible\":true},\"meanline\":{\"visible\":true},\"name\":\"Alarm1\",\"x\":[\"Alarm1\",\"Alarm1\",\"Alarm1\",\"Alarm1\",\"Alarm1\",\"Alarm1\",\"Alarm1\",\"Alarm1\",\"Alarm1\",\"Alarm1\",\"Alarm1\",\"Alarm1\",\"Alarm1\",\"Alarm1\",\"Alarm1\",\"Alarm1\",\"Alarm1\",\"Alarm1\",\"Alarm1\",\"Alarm1\",\"Alarm1\",\"Alarm1\",\"Alarm1\",\"Alarm1\",\"Alarm1\",\"Alarm1\",\"Alarm1\",\"Alarm1\",\"Alarm1\",\"Alarm1\"],\"y\":[0.8675496688741722,0.8642384105960265,0.8675496688741722,0.8675496688741722,0.847682119205298,0.8609271523178808,0.8725165562913907,0.8576158940397351,0.8741721854304636,0.8642384105960265,0.8642384105960265,0.8741721854304636,0.8642384105960265,0.8708609271523179,0.8576158940397351,0.8576158940397351,0.8725165562913907,0.8675496688741722,0.8708609271523179,0.8708609271523179,0.8708609271523179,0.8708609271523179,0.8675496688741722,0.8675496688741722,0.8642384105960265,0.8642384105960265,0.8675496688741722,0.8675496688741722,0.8675496688741722,0.8675496688741722],\"type\":\"violin\"},{\"box\":{\"visible\":true},\"meanline\":{\"visible\":true},\"name\":\"Alarm3\",\"x\":[\"Alarm3\",\"Alarm3\",\"Alarm3\",\"Alarm3\",\"Alarm3\",\"Alarm3\",\"Alarm3\",\"Alarm3\",\"Alarm3\",\"Alarm3\",\"Alarm3\",\"Alarm3\",\"Alarm3\",\"Alarm3\",\"Alarm3\",\"Alarm3\",\"Alarm3\",\"Alarm3\",\"Alarm3\",\"Alarm3\",\"Alarm3\",\"Alarm3\",\"Alarm3\",\"Alarm3\",\"Alarm3\",\"Alarm3\",\"Alarm3\",\"Alarm3\",\"Alarm3\",\"Alarm3\"],\"y\":[0.8078802687843616,0.8210140500916311,0.8145998778252902,0.8368967623701894,0.820097739767868,0.8216249236408063,0.8277336591325596,0.8448381185094685,0.8246792913866829,0.8286499694563225,0.8176542455711667,0.818265119120342,0.8204031765424558,0.8335369578497251,0.8173488087965791,0.822846670739157,0.8320097739767868,0.8344532681734881,0.8197923029932804,0.8289554062309102,0.8246792913866829,0.8252901649358583,0.8295662797800856,0.8246792913866829,0.8289554062309102,0.8301771533292609,0.8283445326817349,0.8210140500916311,0.8252901649358583,0.8271227855833843],\"type\":\"violin\"},{\"box\":{\"visible\":true},\"meanline\":{\"visible\":true},\"name\":\"Alarm5\",\"x\":[\"Alarm5\",\"Alarm5\",\"Alarm5\",\"Alarm5\",\"Alarm5\",\"Alarm5\",\"Alarm5\",\"Alarm5\",\"Alarm5\",\"Alarm5\",\"Alarm5\",\"Alarm5\",\"Alarm5\",\"Alarm5\",\"Alarm5\",\"Alarm5\",\"Alarm5\",\"Alarm5\",\"Alarm5\",\"Alarm5\",\"Alarm5\",\"Alarm5\",\"Alarm5\",\"Alarm5\",\"Alarm5\",\"Alarm5\",\"Alarm5\",\"Alarm5\",\"Alarm5\",\"Alarm5\"],\"y\":[0.8464022140221402,0.8057349323493235,0.7955873308733087,0.8042742927429274,0.8161131611316114,0.8066574415744158,0.8115774907749077,0.8171125461254612,0.8289514145141451,0.8200338253382534,0.8347170971709718,0.7968942189421894,0.8015836408364083,0.8120387453874539,0.8127306273062731,0.809040590405904,0.8174969249692496,0.8057349323493235,0.8334102091020911,0.8204950799507995,0.808579335793358,0.808579335793358,0.8096555965559655,0.8075030750307504,0.8104243542435424,0.8030442804428044,0.8065805658056581,0.8076568265682657,0.8065805658056581,0.808579335793358],\"type\":\"violin\"},{\"box\":{\"visible\":true},\"meanline\":{\"visible\":true},\"name\":\"Alarm10\",\"x\":[\"Alarm10\",\"Alarm10\",\"Alarm10\",\"Alarm10\",\"Alarm10\",\"Alarm10\",\"Alarm10\",\"Alarm10\",\"Alarm10\",\"Alarm10\",\"Alarm10\",\"Alarm10\",\"Alarm10\",\"Alarm10\",\"Alarm10\",\"Alarm10\",\"Alarm10\",\"Alarm10\",\"Alarm10\",\"Alarm10\",\"Alarm10\",\"Alarm10\",\"Alarm10\",\"Alarm10\",\"Alarm10\",\"Alarm10\",\"Alarm10\",\"Alarm10\",\"Alarm10\",\"Alarm10\"],\"y\":[0.7557698839766166,0.7441675456316929,0.74212059996067,0.7320110123889375,0.7486279206964979,0.7516849312619555,0.7369361960777303,0.7429429536800329,0.7540536675188159,0.7585229812110053,0.7510681659724333,0.7445072134722992,0.7429697695621861,0.7383753150866152,0.7480558485438976,0.7467597475731627,0.735818867654683,0.7362032286322112,0.7467239930636251,0.7576827502368736,0.7388043692010655,0.7442658705329209,0.7419150115308293,0.7377138566601713,0.74075298997086,0.7392959937072063,0.741932888785598,0.7456245418953465,0.7393049323345907,0.7478949532509788],\"type\":\"violin\"}],                        {\"template\":{\"data\":{\"histogram2dcontour\":[{\"type\":\"histogram2dcontour\",\"colorbar\":{\"outlinewidth\":0,\"ticks\":\"\"},\"colorscale\":[[0.0,\"#0d0887\"],[0.1111111111111111,\"#46039f\"],[0.2222222222222222,\"#7201a8\"],[0.3333333333333333,\"#9c179e\"],[0.4444444444444444,\"#bd3786\"],[0.5555555555555556,\"#d8576b\"],[0.6666666666666666,\"#ed7953\"],[0.7777777777777778,\"#fb9f3a\"],[0.8888888888888888,\"#fdca26\"],[1.0,\"#f0f921\"]]}],\"choropleth\":[{\"type\":\"choropleth\",\"colorbar\":{\"outlinewidth\":0,\"ticks\":\"\"}}],\"histogram2d\":[{\"type\":\"histogram2d\",\"colorbar\":{\"outlinewidth\":0,\"ticks\":\"\"},\"colorscale\":[[0.0,\"#0d0887\"],[0.1111111111111111,\"#46039f\"],[0.2222222222222222,\"#7201a8\"],[0.3333333333333333,\"#9c179e\"],[0.4444444444444444,\"#bd3786\"],[0.5555555555555556,\"#d8576b\"],[0.6666666666666666,\"#ed7953\"],[0.7777777777777778,\"#fb9f3a\"],[0.8888888888888888,\"#fdca26\"],[1.0,\"#f0f921\"]]}],\"heatmap\":[{\"type\":\"heatmap\",\"colorbar\":{\"outlinewidth\":0,\"ticks\":\"\"},\"colorscale\":[[0.0,\"#0d0887\"],[0.1111111111111111,\"#46039f\"],[0.2222222222222222,\"#7201a8\"],[0.3333333333333333,\"#9c179e\"],[0.4444444444444444,\"#bd3786\"],[0.5555555555555556,\"#d8576b\"],[0.6666666666666666,\"#ed7953\"],[0.7777777777777778,\"#fb9f3a\"],[0.8888888888888888,\"#fdca26\"],[1.0,\"#f0f921\"]]}],\"heatmapgl\":[{\"type\":\"heatmapgl\",\"colorbar\":{\"outlinewidth\":0,\"ticks\":\"\"},\"colorscale\":[[0.0,\"#0d0887\"],[0.1111111111111111,\"#46039f\"],[0.2222222222222222,\"#7201a8\"],[0.3333333333333333,\"#9c179e\"],[0.4444444444444444,\"#bd3786\"],[0.5555555555555556,\"#d8576b\"],[0.6666666666666666,\"#ed7953\"],[0.7777777777777778,\"#fb9f3a\"],[0.8888888888888888,\"#fdca26\"],[1.0,\"#f0f921\"]]}],\"contourcarpet\":[{\"type\":\"contourcarpet\",\"colorbar\":{\"outlinewidth\":0,\"ticks\":\"\"}}],\"contour\":[{\"type\":\"contour\",\"colorbar\":{\"outlinewidth\":0,\"ticks\":\"\"},\"colorscale\":[[0.0,\"#0d0887\"],[0.1111111111111111,\"#46039f\"],[0.2222222222222222,\"#7201a8\"],[0.3333333333333333,\"#9c179e\"],[0.4444444444444444,\"#bd3786\"],[0.5555555555555556,\"#d8576b\"],[0.6666666666666666,\"#ed7953\"],[0.7777777777777778,\"#fb9f3a\"],[0.8888888888888888,\"#fdca26\"],[1.0,\"#f0f921\"]]}],\"surface\":[{\"type\":\"surface\",\"colorbar\":{\"outlinewidth\":0,\"ticks\":\"\"},\"colorscale\":[[0.0,\"#0d0887\"],[0.1111111111111111,\"#46039f\"],[0.2222222222222222,\"#7201a8\"],[0.3333333333333333,\"#9c179e\"],[0.4444444444444444,\"#bd3786\"],[0.5555555555555556,\"#d8576b\"],[0.6666666666666666,\"#ed7953\"],[0.7777777777777778,\"#fb9f3a\"],[0.8888888888888888,\"#fdca26\"],[1.0,\"#f0f921\"]]}],\"mesh3d\":[{\"type\":\"mesh3d\",\"colorbar\":{\"outlinewidth\":0,\"ticks\":\"\"}}],\"scatter\":[{\"fillpattern\":{\"fillmode\":\"overlay\",\"size\":10,\"solidity\":0.2},\"type\":\"scatter\"}],\"parcoords\":[{\"type\":\"parcoords\",\"line\":{\"colorbar\":{\"outlinewidth\":0,\"ticks\":\"\"}}}],\"scatterpolargl\":[{\"type\":\"scatterpolargl\",\"marker\":{\"colorbar\":{\"outlinewidth\":0,\"ticks\":\"\"}}}],\"bar\":[{\"error_x\":{\"color\":\"#2a3f5f\"},\"error_y\":{\"color\":\"#2a3f5f\"},\"marker\":{\"line\":{\"color\":\"#E5ECF6\",\"width\":0.5},\"pattern\":{\"fillmode\":\"overlay\",\"size\":10,\"solidity\":0.2}},\"type\":\"bar\"}],\"scattergeo\":[{\"type\":\"scattergeo\",\"marker\":{\"colorbar\":{\"outlinewidth\":0,\"ticks\":\"\"}}}],\"scatterpolar\":[{\"type\":\"scatterpolar\",\"marker\":{\"colorbar\":{\"outlinewidth\":0,\"ticks\":\"\"}}}],\"histogram\":[{\"marker\":{\"pattern\":{\"fillmode\":\"overlay\",\"size\":10,\"solidity\":0.2}},\"type\":\"histogram\"}],\"scattergl\":[{\"type\":\"scattergl\",\"marker\":{\"colorbar\":{\"outlinewidth\":0,\"ticks\":\"\"}}}],\"scatter3d\":[{\"type\":\"scatter3d\",\"line\":{\"colorbar\":{\"outlinewidth\":0,\"ticks\":\"\"}},\"marker\":{\"colorbar\":{\"outlinewidth\":0,\"ticks\":\"\"}}}],\"scattermapbox\":[{\"type\":\"scattermapbox\",\"marker\":{\"colorbar\":{\"outlinewidth\":0,\"ticks\":\"\"}}}],\"scatterternary\":[{\"type\":\"scatterternary\",\"marker\":{\"colorbar\":{\"outlinewidth\":0,\"ticks\":\"\"}}}],\"scattercarpet\":[{\"type\":\"scattercarpet\",\"marker\":{\"colorbar\":{\"outlinewidth\":0,\"ticks\":\"\"}}}],\"carpet\":[{\"aaxis\":{\"endlinecolor\":\"#2a3f5f\",\"gridcolor\":\"white\",\"linecolor\":\"white\",\"minorgridcolor\":\"white\",\"startlinecolor\":\"#2a3f5f\"},\"baxis\":{\"endlinecolor\":\"#2a3f5f\",\"gridcolor\":\"white\",\"linecolor\":\"white\",\"minorgridcolor\":\"white\",\"startlinecolor\":\"#2a3f5f\"},\"type\":\"carpet\"}],\"table\":[{\"cells\":{\"fill\":{\"color\":\"#EBF0F8\"},\"line\":{\"color\":\"white\"}},\"header\":{\"fill\":{\"color\":\"#C8D4E3\"},\"line\":{\"color\":\"white\"}},\"type\":\"table\"}],\"barpolar\":[{\"marker\":{\"line\":{\"color\":\"#E5ECF6\",\"width\":0.5},\"pattern\":{\"fillmode\":\"overlay\",\"size\":10,\"solidity\":0.2}},\"type\":\"barpolar\"}],\"pie\":[{\"automargin\":true,\"type\":\"pie\"}]},\"layout\":{\"autotypenumbers\":\"strict\",\"colorway\":[\"#636efa\",\"#EF553B\",\"#00cc96\",\"#ab63fa\",\"#FFA15A\",\"#19d3f3\",\"#FF6692\",\"#B6E880\",\"#FF97FF\",\"#FECB52\"],\"font\":{\"color\":\"#2a3f5f\"},\"hovermode\":\"closest\",\"hoverlabel\":{\"align\":\"left\"},\"paper_bgcolor\":\"white\",\"plot_bgcolor\":\"#E5ECF6\",\"polar\":{\"bgcolor\":\"#E5ECF6\",\"angularaxis\":{\"gridcolor\":\"white\",\"linecolor\":\"white\",\"ticks\":\"\"},\"radialaxis\":{\"gridcolor\":\"white\",\"linecolor\":\"white\",\"ticks\":\"\"}},\"ternary\":{\"bgcolor\":\"#E5ECF6\",\"aaxis\":{\"gridcolor\":\"white\",\"linecolor\":\"white\",\"ticks\":\"\"},\"baxis\":{\"gridcolor\":\"white\",\"linecolor\":\"white\",\"ticks\":\"\"},\"caxis\":{\"gridcolor\":\"white\",\"linecolor\":\"white\",\"ticks\":\"\"}},\"coloraxis\":{\"colorbar\":{\"outlinewidth\":0,\"ticks\":\"\"}},\"colorscale\":{\"sequential\":[[0.0,\"#0d0887\"],[0.1111111111111111,\"#46039f\"],[0.2222222222222222,\"#7201a8\"],[0.3333333333333333,\"#9c179e\"],[0.4444444444444444,\"#bd3786\"],[0.5555555555555556,\"#d8576b\"],[0.6666666666666666,\"#ed7953\"],[0.7777777777777778,\"#fb9f3a\"],[0.8888888888888888,\"#fdca26\"],[1.0,\"#f0f921\"]],\"sequentialminus\":[[0.0,\"#0d0887\"],[0.1111111111111111,\"#46039f\"],[0.2222222222222222,\"#7201a8\"],[0.3333333333333333,\"#9c179e\"],[0.4444444444444444,\"#bd3786\"],[0.5555555555555556,\"#d8576b\"],[0.6666666666666666,\"#ed7953\"],[0.7777777777777778,\"#fb9f3a\"],[0.8888888888888888,\"#fdca26\"],[1.0,\"#f0f921\"]],\"diverging\":[[0,\"#8e0152\"],[0.1,\"#c51b7d\"],[0.2,\"#de77ae\"],[0.3,\"#f1b6da\"],[0.4,\"#fde0ef\"],[0.5,\"#f7f7f7\"],[0.6,\"#e6f5d0\"],[0.7,\"#b8e186\"],[0.8,\"#7fbc41\"],[0.9,\"#4d9221\"],[1,\"#276419\"]]},\"xaxis\":{\"gridcolor\":\"white\",\"linecolor\":\"white\",\"ticks\":\"\",\"title\":{\"standoff\":15},\"zerolinecolor\":\"white\",\"automargin\":true,\"zerolinewidth\":2},\"yaxis\":{\"gridcolor\":\"white\",\"linecolor\":\"white\",\"ticks\":\"\",\"title\":{\"standoff\":15},\"zerolinecolor\":\"white\",\"automargin\":true,\"zerolinewidth\":2},\"scene\":{\"xaxis\":{\"backgroundcolor\":\"#E5ECF6\",\"gridcolor\":\"white\",\"linecolor\":\"white\",\"showbackground\":true,\"ticks\":\"\",\"zerolinecolor\":\"white\",\"gridwidth\":2},\"yaxis\":{\"backgroundcolor\":\"#E5ECF6\",\"gridcolor\":\"white\",\"linecolor\":\"white\",\"showbackground\":true,\"ticks\":\"\",\"zerolinecolor\":\"white\",\"gridwidth\":2},\"zaxis\":{\"backgroundcolor\":\"#E5ECF6\",\"gridcolor\":\"white\",\"linecolor\":\"white\",\"showbackground\":true,\"ticks\":\"\",\"zerolinecolor\":\"white\",\"gridwidth\":2}},\"shapedefaults\":{\"line\":{\"color\":\"#2a3f5f\"}},\"annotationdefaults\":{\"arrowcolor\":\"#2a3f5f\",\"arrowhead\":0,\"arrowwidth\":1},\"geo\":{\"bgcolor\":\"white\",\"landcolor\":\"#E5ECF6\",\"subunitcolor\":\"white\",\"showland\":true,\"showlakes\":true,\"lakecolor\":\"white\"},\"title\":{\"x\":0.05},\"mapbox\":{\"style\":\"light\"}}}},                        {\"responsive\": true}                    ).then(function(){\n",
       "                            \n",
       "var gd = document.getElementById('674b0546-1904-4215-bb98-0301a238d29a');\n",
       "var x = new MutationObserver(function (mutations, observer) {{\n",
       "        var display = window.getComputedStyle(gd).display;\n",
       "        if (!display || display === 'none') {{\n",
       "            console.log([gd, 'removed!']);\n",
       "            Plotly.purge(gd);\n",
       "            observer.disconnect();\n",
       "        }}\n",
       "}});\n",
       "\n",
       "// Listen for the removal of the full notebook cells\n",
       "var notebookContainer = gd.closest('#notebook-container');\n",
       "if (notebookContainer) {{\n",
       "    x.observe(notebookContainer, {childList: true});\n",
       "}}\n",
       "\n",
       "// Listen for the clearing of the current output cell\n",
       "var outputEl = gd.closest('.output');\n",
       "if (outputEl) {{\n",
       "    x.observe(outputEl, {childList: true});\n",
       "}}\n",
       "\n",
       "                        })                };                });            </script>        </div>"
      ]
     },
     "metadata": {},
     "output_type": "display_data"
    },
    {
     "data": {
      "application/vnd.plotly.v1+json": {
       "config": {
        "plotlyServerURL": "https://plot.ly"
       },
       "data": [
        {
         "box": {
          "visible": true
         },
         "meanline": {
          "visible": true
         },
         "name": "Child",
         "type": "violin",
         "x": [
          "Child",
          "Child",
          "Child",
          "Child",
          "Child",
          "Child",
          "Child",
          "Child",
          "Child",
          "Child",
          "Child",
          "Child",
          "Child",
          "Child",
          "Child",
          "Child",
          "Child",
          "Child",
          "Child",
          "Child",
          "Child",
          "Child",
          "Child",
          "Child",
          "Child",
          "Child",
          "Child",
          "Child",
          "Child",
          "Child"
         ],
         "y": [
          0.5075757575757576,
          0.5,
          0.5227272727272727,
          0.5151515151515151,
          0.5151515151515151,
          0.5,
          0.5151515151515151,
          0.5,
          0.5,
          0.5,
          0.5151515151515151,
          0.5,
          0.5151515151515151,
          0.5,
          0.5151515151515151,
          0.4848484848484848,
          0.5151515151515151,
          0.5,
          0.5151515151515151,
          0.5151515151515151,
          0.5,
          0.5,
          0.5303030303030303,
          0.5,
          0.5,
          0.5151515151515151,
          0.5,
          0.5,
          0.5,
          0.5
         ]
        },
        {
         "box": {
          "visible": true
         },
         "meanline": {
          "visible": true
         },
         "name": "Child3",
         "type": "violin",
         "x": [
          "Child3",
          "Child3",
          "Child3",
          "Child3",
          "Child3",
          "Child3",
          "Child3",
          "Child3",
          "Child3",
          "Child3",
          "Child3",
          "Child3",
          "Child3",
          "Child3",
          "Child3",
          "Child3",
          "Child3",
          "Child3",
          "Child3",
          "Child3",
          "Child3",
          "Child3",
          "Child3",
          "Child3",
          "Child3",
          "Child3",
          "Child3",
          "Child3",
          "Child3",
          "Child3"
         ],
         "y": [
          0.502132196162047,
          0.4925373134328358,
          0.488272921108742,
          0.5138592750533049,
          0.5106609808102346,
          0.5149253731343284,
          0.4946695095948827,
          0.5181236673773987,
          0.4893390191897654,
          0.5127931769722814,
          0.4925373134328358,
          0.488272921108742,
          0.4914712153518124,
          0.5223880597014925,
          0.5053304904051172,
          0.5202558635394456,
          0.4925373134328358,
          0.5010660980810234,
          0.4904051172707889,
          0.5106609808102346,
          0.4989339019189765,
          0.4946695095948827,
          0.4968017057569296,
          0.4946695095948827,
          0.4946695095948827,
          0.4989339019189765,
          0.5159914712153518,
          0.5053304904051172,
          0.5053304904051172,
          0.509594882729211
         ]
        },
        {
         "box": {
          "visible": true
         },
         "meanline": {
          "visible": true
         },
         "name": "Child5",
         "type": "violin",
         "x": [
          "Child5",
          "Child5",
          "Child5",
          "Child5",
          "Child5",
          "Child5",
          "Child5",
          "Child5",
          "Child5",
          "Child5",
          "Child5",
          "Child5",
          "Child5",
          "Child5",
          "Child5",
          "Child5",
          "Child5",
          "Child5",
          "Child5",
          "Child5",
          "Child5",
          "Child5",
          "Child5",
          "Child5",
          "Child5",
          "Child5",
          "Child5",
          "Child5",
          "Child5",
          "Child5"
         ],
         "y": [
          0.4782608695652174,
          0.4987922705314009,
          0.4975845410628019,
          0.4867149758454106,
          0.4794685990338164,
          0.4927536231884058,
          0.4830917874396135,
          0.466183574879227,
          0.5217391304347826,
          0.4758454106280193,
          0.4794685990338164,
          0.4903381642512077,
          0.4927536231884058,
          0.4903381642512077,
          0.4758454106280193,
          0.4782608695652174,
          0.4842995169082125,
          0.4710144927536231,
          0.5024154589371981,
          0.4842995169082125,
          0.4879227053140096,
          0.4879227053140096,
          0.4879227053140096,
          0.4927536231884058,
          0.4879227053140096,
          0.4806763285024155,
          0.4879227053140096,
          0.4734299516908212,
          0.4806763285024155,
          0.4927536231884058
         ]
        },
        {
         "box": {
          "visible": true
         },
         "meanline": {
          "visible": true
         },
         "name": "Child10",
         "type": "violin",
         "x": [
          "Child10",
          "Child10",
          "Child10",
          "Child10",
          "Child10",
          "Child10",
          "Child10",
          "Child10",
          "Child10",
          "Child10",
          "Child10",
          "Child10",
          "Child10",
          "Child10",
          "Child10",
          "Child10",
          "Child10",
          "Child10",
          "Child10",
          "Child10",
          "Child10",
          "Child10",
          "Child10",
          "Child10",
          "Child10",
          "Child10",
          "Child10",
          "Child10",
          "Child10",
          "Child10"
         ],
         "y": [
          0.4680913348946136,
          0.4470140515222482,
          0.4543325526932084,
          0.4546252927400468,
          0.4613583138173302,
          0.4645784543325527,
          0.4716042154566744,
          0.4637002341920375,
          0.4745316159250585,
          0.4587236533957845,
          0.4648711943793911,
          0.4496487119437939,
          0.4514051522248243,
          0.4473067915690866,
          0.4613583138173302,
          0.4581381733021077,
          0.4677985948477752,
          0.4613583138173302,
          0.4716042154566744,
          0.4648711943793911,
          0.4560889929742389,
          0.4519906323185012,
          0.4531615925058548,
          0.4508196721311475,
          0.4598946135831381,
          0.4490632318501171,
          0.4534543325526932,
          0.4508196721311475,
          0.4566744730679157,
          0.4531615925058548
         ]
        }
       ],
       "layout": {
        "template": {
         "data": {
          "bar": [
           {
            "error_x": {
             "color": "#2a3f5f"
            },
            "error_y": {
             "color": "#2a3f5f"
            },
            "marker": {
             "line": {
              "color": "#E5ECF6",
              "width": 0.5
             },
             "pattern": {
              "fillmode": "overlay",
              "size": 10,
              "solidity": 0.2
             }
            },
            "type": "bar"
           }
          ],
          "barpolar": [
           {
            "marker": {
             "line": {
              "color": "#E5ECF6",
              "width": 0.5
             },
             "pattern": {
              "fillmode": "overlay",
              "size": 10,
              "solidity": 0.2
             }
            },
            "type": "barpolar"
           }
          ],
          "carpet": [
           {
            "aaxis": {
             "endlinecolor": "#2a3f5f",
             "gridcolor": "white",
             "linecolor": "white",
             "minorgridcolor": "white",
             "startlinecolor": "#2a3f5f"
            },
            "baxis": {
             "endlinecolor": "#2a3f5f",
             "gridcolor": "white",
             "linecolor": "white",
             "minorgridcolor": "white",
             "startlinecolor": "#2a3f5f"
            },
            "type": "carpet"
           }
          ],
          "choropleth": [
           {
            "colorbar": {
             "outlinewidth": 0,
             "ticks": ""
            },
            "type": "choropleth"
           }
          ],
          "contour": [
           {
            "colorbar": {
             "outlinewidth": 0,
             "ticks": ""
            },
            "colorscale": [
             [
              0,
              "#0d0887"
             ],
             [
              0.1111111111111111,
              "#46039f"
             ],
             [
              0.2222222222222222,
              "#7201a8"
             ],
             [
              0.3333333333333333,
              "#9c179e"
             ],
             [
              0.4444444444444444,
              "#bd3786"
             ],
             [
              0.5555555555555556,
              "#d8576b"
             ],
             [
              0.6666666666666666,
              "#ed7953"
             ],
             [
              0.7777777777777778,
              "#fb9f3a"
             ],
             [
              0.8888888888888888,
              "#fdca26"
             ],
             [
              1,
              "#f0f921"
             ]
            ],
            "type": "contour"
           }
          ],
          "contourcarpet": [
           {
            "colorbar": {
             "outlinewidth": 0,
             "ticks": ""
            },
            "type": "contourcarpet"
           }
          ],
          "heatmap": [
           {
            "colorbar": {
             "outlinewidth": 0,
             "ticks": ""
            },
            "colorscale": [
             [
              0,
              "#0d0887"
             ],
             [
              0.1111111111111111,
              "#46039f"
             ],
             [
              0.2222222222222222,
              "#7201a8"
             ],
             [
              0.3333333333333333,
              "#9c179e"
             ],
             [
              0.4444444444444444,
              "#bd3786"
             ],
             [
              0.5555555555555556,
              "#d8576b"
             ],
             [
              0.6666666666666666,
              "#ed7953"
             ],
             [
              0.7777777777777778,
              "#fb9f3a"
             ],
             [
              0.8888888888888888,
              "#fdca26"
             ],
             [
              1,
              "#f0f921"
             ]
            ],
            "type": "heatmap"
           }
          ],
          "heatmapgl": [
           {
            "colorbar": {
             "outlinewidth": 0,
             "ticks": ""
            },
            "colorscale": [
             [
              0,
              "#0d0887"
             ],
             [
              0.1111111111111111,
              "#46039f"
             ],
             [
              0.2222222222222222,
              "#7201a8"
             ],
             [
              0.3333333333333333,
              "#9c179e"
             ],
             [
              0.4444444444444444,
              "#bd3786"
             ],
             [
              0.5555555555555556,
              "#d8576b"
             ],
             [
              0.6666666666666666,
              "#ed7953"
             ],
             [
              0.7777777777777778,
              "#fb9f3a"
             ],
             [
              0.8888888888888888,
              "#fdca26"
             ],
             [
              1,
              "#f0f921"
             ]
            ],
            "type": "heatmapgl"
           }
          ],
          "histogram": [
           {
            "marker": {
             "pattern": {
              "fillmode": "overlay",
              "size": 10,
              "solidity": 0.2
             }
            },
            "type": "histogram"
           }
          ],
          "histogram2d": [
           {
            "colorbar": {
             "outlinewidth": 0,
             "ticks": ""
            },
            "colorscale": [
             [
              0,
              "#0d0887"
             ],
             [
              0.1111111111111111,
              "#46039f"
             ],
             [
              0.2222222222222222,
              "#7201a8"
             ],
             [
              0.3333333333333333,
              "#9c179e"
             ],
             [
              0.4444444444444444,
              "#bd3786"
             ],
             [
              0.5555555555555556,
              "#d8576b"
             ],
             [
              0.6666666666666666,
              "#ed7953"
             ],
             [
              0.7777777777777778,
              "#fb9f3a"
             ],
             [
              0.8888888888888888,
              "#fdca26"
             ],
             [
              1,
              "#f0f921"
             ]
            ],
            "type": "histogram2d"
           }
          ],
          "histogram2dcontour": [
           {
            "colorbar": {
             "outlinewidth": 0,
             "ticks": ""
            },
            "colorscale": [
             [
              0,
              "#0d0887"
             ],
             [
              0.1111111111111111,
              "#46039f"
             ],
             [
              0.2222222222222222,
              "#7201a8"
             ],
             [
              0.3333333333333333,
              "#9c179e"
             ],
             [
              0.4444444444444444,
              "#bd3786"
             ],
             [
              0.5555555555555556,
              "#d8576b"
             ],
             [
              0.6666666666666666,
              "#ed7953"
             ],
             [
              0.7777777777777778,
              "#fb9f3a"
             ],
             [
              0.8888888888888888,
              "#fdca26"
             ],
             [
              1,
              "#f0f921"
             ]
            ],
            "type": "histogram2dcontour"
           }
          ],
          "mesh3d": [
           {
            "colorbar": {
             "outlinewidth": 0,
             "ticks": ""
            },
            "type": "mesh3d"
           }
          ],
          "parcoords": [
           {
            "line": {
             "colorbar": {
              "outlinewidth": 0,
              "ticks": ""
             }
            },
            "type": "parcoords"
           }
          ],
          "pie": [
           {
            "automargin": true,
            "type": "pie"
           }
          ],
          "scatter": [
           {
            "fillpattern": {
             "fillmode": "overlay",
             "size": 10,
             "solidity": 0.2
            },
            "type": "scatter"
           }
          ],
          "scatter3d": [
           {
            "line": {
             "colorbar": {
              "outlinewidth": 0,
              "ticks": ""
             }
            },
            "marker": {
             "colorbar": {
              "outlinewidth": 0,
              "ticks": ""
             }
            },
            "type": "scatter3d"
           }
          ],
          "scattercarpet": [
           {
            "marker": {
             "colorbar": {
              "outlinewidth": 0,
              "ticks": ""
             }
            },
            "type": "scattercarpet"
           }
          ],
          "scattergeo": [
           {
            "marker": {
             "colorbar": {
              "outlinewidth": 0,
              "ticks": ""
             }
            },
            "type": "scattergeo"
           }
          ],
          "scattergl": [
           {
            "marker": {
             "colorbar": {
              "outlinewidth": 0,
              "ticks": ""
             }
            },
            "type": "scattergl"
           }
          ],
          "scattermapbox": [
           {
            "marker": {
             "colorbar": {
              "outlinewidth": 0,
              "ticks": ""
             }
            },
            "type": "scattermapbox"
           }
          ],
          "scatterpolar": [
           {
            "marker": {
             "colorbar": {
              "outlinewidth": 0,
              "ticks": ""
             }
            },
            "type": "scatterpolar"
           }
          ],
          "scatterpolargl": [
           {
            "marker": {
             "colorbar": {
              "outlinewidth": 0,
              "ticks": ""
             }
            },
            "type": "scatterpolargl"
           }
          ],
          "scatterternary": [
           {
            "marker": {
             "colorbar": {
              "outlinewidth": 0,
              "ticks": ""
             }
            },
            "type": "scatterternary"
           }
          ],
          "surface": [
           {
            "colorbar": {
             "outlinewidth": 0,
             "ticks": ""
            },
            "colorscale": [
             [
              0,
              "#0d0887"
             ],
             [
              0.1111111111111111,
              "#46039f"
             ],
             [
              0.2222222222222222,
              "#7201a8"
             ],
             [
              0.3333333333333333,
              "#9c179e"
             ],
             [
              0.4444444444444444,
              "#bd3786"
             ],
             [
              0.5555555555555556,
              "#d8576b"
             ],
             [
              0.6666666666666666,
              "#ed7953"
             ],
             [
              0.7777777777777778,
              "#fb9f3a"
             ],
             [
              0.8888888888888888,
              "#fdca26"
             ],
             [
              1,
              "#f0f921"
             ]
            ],
            "type": "surface"
           }
          ],
          "table": [
           {
            "cells": {
             "fill": {
              "color": "#EBF0F8"
             },
             "line": {
              "color": "white"
             }
            },
            "header": {
             "fill": {
              "color": "#C8D4E3"
             },
             "line": {
              "color": "white"
             }
            },
            "type": "table"
           }
          ]
         },
         "layout": {
          "annotationdefaults": {
           "arrowcolor": "#2a3f5f",
           "arrowhead": 0,
           "arrowwidth": 1
          },
          "autotypenumbers": "strict",
          "coloraxis": {
           "colorbar": {
            "outlinewidth": 0,
            "ticks": ""
           }
          },
          "colorscale": {
           "diverging": [
            [
             0,
             "#8e0152"
            ],
            [
             0.1,
             "#c51b7d"
            ],
            [
             0.2,
             "#de77ae"
            ],
            [
             0.3,
             "#f1b6da"
            ],
            [
             0.4,
             "#fde0ef"
            ],
            [
             0.5,
             "#f7f7f7"
            ],
            [
             0.6,
             "#e6f5d0"
            ],
            [
             0.7,
             "#b8e186"
            ],
            [
             0.8,
             "#7fbc41"
            ],
            [
             0.9,
             "#4d9221"
            ],
            [
             1,
             "#276419"
            ]
           ],
           "sequential": [
            [
             0,
             "#0d0887"
            ],
            [
             0.1111111111111111,
             "#46039f"
            ],
            [
             0.2222222222222222,
             "#7201a8"
            ],
            [
             0.3333333333333333,
             "#9c179e"
            ],
            [
             0.4444444444444444,
             "#bd3786"
            ],
            [
             0.5555555555555556,
             "#d8576b"
            ],
            [
             0.6666666666666666,
             "#ed7953"
            ],
            [
             0.7777777777777778,
             "#fb9f3a"
            ],
            [
             0.8888888888888888,
             "#fdca26"
            ],
            [
             1,
             "#f0f921"
            ]
           ],
           "sequentialminus": [
            [
             0,
             "#0d0887"
            ],
            [
             0.1111111111111111,
             "#46039f"
            ],
            [
             0.2222222222222222,
             "#7201a8"
            ],
            [
             0.3333333333333333,
             "#9c179e"
            ],
            [
             0.4444444444444444,
             "#bd3786"
            ],
            [
             0.5555555555555556,
             "#d8576b"
            ],
            [
             0.6666666666666666,
             "#ed7953"
            ],
            [
             0.7777777777777778,
             "#fb9f3a"
            ],
            [
             0.8888888888888888,
             "#fdca26"
            ],
            [
             1,
             "#f0f921"
            ]
           ]
          },
          "colorway": [
           "#636efa",
           "#EF553B",
           "#00cc96",
           "#ab63fa",
           "#FFA15A",
           "#19d3f3",
           "#FF6692",
           "#B6E880",
           "#FF97FF",
           "#FECB52"
          ],
          "font": {
           "color": "#2a3f5f"
          },
          "geo": {
           "bgcolor": "white",
           "lakecolor": "white",
           "landcolor": "#E5ECF6",
           "showlakes": true,
           "showland": true,
           "subunitcolor": "white"
          },
          "hoverlabel": {
           "align": "left"
          },
          "hovermode": "closest",
          "mapbox": {
           "style": "light"
          },
          "paper_bgcolor": "white",
          "plot_bgcolor": "#E5ECF6",
          "polar": {
           "angularaxis": {
            "gridcolor": "white",
            "linecolor": "white",
            "ticks": ""
           },
           "bgcolor": "#E5ECF6",
           "radialaxis": {
            "gridcolor": "white",
            "linecolor": "white",
            "ticks": ""
           }
          },
          "scene": {
           "xaxis": {
            "backgroundcolor": "#E5ECF6",
            "gridcolor": "white",
            "gridwidth": 2,
            "linecolor": "white",
            "showbackground": true,
            "ticks": "",
            "zerolinecolor": "white"
           },
           "yaxis": {
            "backgroundcolor": "#E5ECF6",
            "gridcolor": "white",
            "gridwidth": 2,
            "linecolor": "white",
            "showbackground": true,
            "ticks": "",
            "zerolinecolor": "white"
           },
           "zaxis": {
            "backgroundcolor": "#E5ECF6",
            "gridcolor": "white",
            "gridwidth": 2,
            "linecolor": "white",
            "showbackground": true,
            "ticks": "",
            "zerolinecolor": "white"
           }
          },
          "shapedefaults": {
           "line": {
            "color": "#2a3f5f"
           }
          },
          "ternary": {
           "aaxis": {
            "gridcolor": "white",
            "linecolor": "white",
            "ticks": ""
           },
           "baxis": {
            "gridcolor": "white",
            "linecolor": "white",
            "ticks": ""
           },
           "bgcolor": "#E5ECF6",
           "caxis": {
            "gridcolor": "white",
            "linecolor": "white",
            "ticks": ""
           }
          },
          "title": {
           "x": 0.05
          },
          "xaxis": {
           "automargin": true,
           "gridcolor": "white",
           "linecolor": "white",
           "ticks": "",
           "title": {
            "standoff": 15
           },
           "zerolinecolor": "white",
           "zerolinewidth": 2
          },
          "yaxis": {
           "automargin": true,
           "gridcolor": "white",
           "linecolor": "white",
           "ticks": "",
           "title": {
            "standoff": 15
           },
           "zerolinecolor": "white",
           "zerolinewidth": 2
          }
         }
        }
       }
      },
      "text/html": [
       "<div>                            <div id=\"1fd59309-b643-4e25-8bdf-659072f63338\" class=\"plotly-graph-div\" style=\"height:525px; width:100%;\"></div>            <script type=\"text/javascript\">                require([\"plotly\"], function(Plotly) {                    window.PLOTLYENV=window.PLOTLYENV || {};                                    if (document.getElementById(\"1fd59309-b643-4e25-8bdf-659072f63338\")) {                    Plotly.newPlot(                        \"1fd59309-b643-4e25-8bdf-659072f63338\",                        [{\"box\":{\"visible\":true},\"meanline\":{\"visible\":true},\"name\":\"Child\",\"x\":[\"Child\",\"Child\",\"Child\",\"Child\",\"Child\",\"Child\",\"Child\",\"Child\",\"Child\",\"Child\",\"Child\",\"Child\",\"Child\",\"Child\",\"Child\",\"Child\",\"Child\",\"Child\",\"Child\",\"Child\",\"Child\",\"Child\",\"Child\",\"Child\",\"Child\",\"Child\",\"Child\",\"Child\",\"Child\",\"Child\"],\"y\":[0.5075757575757576,0.5,0.5227272727272727,0.5151515151515151,0.5151515151515151,0.5,0.5151515151515151,0.5,0.5,0.5,0.5151515151515151,0.5,0.5151515151515151,0.5,0.5151515151515151,0.4848484848484848,0.5151515151515151,0.5,0.5151515151515151,0.5151515151515151,0.5,0.5,0.5303030303030303,0.5,0.5,0.5151515151515151,0.5,0.5,0.5,0.5],\"type\":\"violin\"},{\"box\":{\"visible\":true},\"meanline\":{\"visible\":true},\"name\":\"Child3\",\"x\":[\"Child3\",\"Child3\",\"Child3\",\"Child3\",\"Child3\",\"Child3\",\"Child3\",\"Child3\",\"Child3\",\"Child3\",\"Child3\",\"Child3\",\"Child3\",\"Child3\",\"Child3\",\"Child3\",\"Child3\",\"Child3\",\"Child3\",\"Child3\",\"Child3\",\"Child3\",\"Child3\",\"Child3\",\"Child3\",\"Child3\",\"Child3\",\"Child3\",\"Child3\",\"Child3\"],\"y\":[0.502132196162047,0.4925373134328358,0.488272921108742,0.5138592750533049,0.5106609808102346,0.5149253731343284,0.4946695095948827,0.5181236673773987,0.4893390191897654,0.5127931769722814,0.4925373134328358,0.488272921108742,0.4914712153518124,0.5223880597014925,0.5053304904051172,0.5202558635394456,0.4925373134328358,0.5010660980810234,0.4904051172707889,0.5106609808102346,0.4989339019189765,0.4946695095948827,0.4968017057569296,0.4946695095948827,0.4946695095948827,0.4989339019189765,0.5159914712153518,0.5053304904051172,0.5053304904051172,0.509594882729211],\"type\":\"violin\"},{\"box\":{\"visible\":true},\"meanline\":{\"visible\":true},\"name\":\"Child5\",\"x\":[\"Child5\",\"Child5\",\"Child5\",\"Child5\",\"Child5\",\"Child5\",\"Child5\",\"Child5\",\"Child5\",\"Child5\",\"Child5\",\"Child5\",\"Child5\",\"Child5\",\"Child5\",\"Child5\",\"Child5\",\"Child5\",\"Child5\",\"Child5\",\"Child5\",\"Child5\",\"Child5\",\"Child5\",\"Child5\",\"Child5\",\"Child5\",\"Child5\",\"Child5\",\"Child5\"],\"y\":[0.4782608695652174,0.4987922705314009,0.4975845410628019,0.4867149758454106,0.4794685990338164,0.4927536231884058,0.4830917874396135,0.466183574879227,0.5217391304347826,0.4758454106280193,0.4794685990338164,0.4903381642512077,0.4927536231884058,0.4903381642512077,0.4758454106280193,0.4782608695652174,0.4842995169082125,0.4710144927536231,0.5024154589371981,0.4842995169082125,0.4879227053140096,0.4879227053140096,0.4879227053140096,0.4927536231884058,0.4879227053140096,0.4806763285024155,0.4879227053140096,0.4734299516908212,0.4806763285024155,0.4927536231884058],\"type\":\"violin\"},{\"box\":{\"visible\":true},\"meanline\":{\"visible\":true},\"name\":\"Child10\",\"x\":[\"Child10\",\"Child10\",\"Child10\",\"Child10\",\"Child10\",\"Child10\",\"Child10\",\"Child10\",\"Child10\",\"Child10\",\"Child10\",\"Child10\",\"Child10\",\"Child10\",\"Child10\",\"Child10\",\"Child10\",\"Child10\",\"Child10\",\"Child10\",\"Child10\",\"Child10\",\"Child10\",\"Child10\",\"Child10\",\"Child10\",\"Child10\",\"Child10\",\"Child10\",\"Child10\"],\"y\":[0.4680913348946136,0.4470140515222482,0.4543325526932084,0.4546252927400468,0.4613583138173302,0.4645784543325527,0.4716042154566744,0.4637002341920375,0.4745316159250585,0.4587236533957845,0.4648711943793911,0.4496487119437939,0.4514051522248243,0.4473067915690866,0.4613583138173302,0.4581381733021077,0.4677985948477752,0.4613583138173302,0.4716042154566744,0.4648711943793911,0.4560889929742389,0.4519906323185012,0.4531615925058548,0.4508196721311475,0.4598946135831381,0.4490632318501171,0.4534543325526932,0.4508196721311475,0.4566744730679157,0.4531615925058548],\"type\":\"violin\"}],                        {\"template\":{\"data\":{\"histogram2dcontour\":[{\"type\":\"histogram2dcontour\",\"colorbar\":{\"outlinewidth\":0,\"ticks\":\"\"},\"colorscale\":[[0.0,\"#0d0887\"],[0.1111111111111111,\"#46039f\"],[0.2222222222222222,\"#7201a8\"],[0.3333333333333333,\"#9c179e\"],[0.4444444444444444,\"#bd3786\"],[0.5555555555555556,\"#d8576b\"],[0.6666666666666666,\"#ed7953\"],[0.7777777777777778,\"#fb9f3a\"],[0.8888888888888888,\"#fdca26\"],[1.0,\"#f0f921\"]]}],\"choropleth\":[{\"type\":\"choropleth\",\"colorbar\":{\"outlinewidth\":0,\"ticks\":\"\"}}],\"histogram2d\":[{\"type\":\"histogram2d\",\"colorbar\":{\"outlinewidth\":0,\"ticks\":\"\"},\"colorscale\":[[0.0,\"#0d0887\"],[0.1111111111111111,\"#46039f\"],[0.2222222222222222,\"#7201a8\"],[0.3333333333333333,\"#9c179e\"],[0.4444444444444444,\"#bd3786\"],[0.5555555555555556,\"#d8576b\"],[0.6666666666666666,\"#ed7953\"],[0.7777777777777778,\"#fb9f3a\"],[0.8888888888888888,\"#fdca26\"],[1.0,\"#f0f921\"]]}],\"heatmap\":[{\"type\":\"heatmap\",\"colorbar\":{\"outlinewidth\":0,\"ticks\":\"\"},\"colorscale\":[[0.0,\"#0d0887\"],[0.1111111111111111,\"#46039f\"],[0.2222222222222222,\"#7201a8\"],[0.3333333333333333,\"#9c179e\"],[0.4444444444444444,\"#bd3786\"],[0.5555555555555556,\"#d8576b\"],[0.6666666666666666,\"#ed7953\"],[0.7777777777777778,\"#fb9f3a\"],[0.8888888888888888,\"#fdca26\"],[1.0,\"#f0f921\"]]}],\"heatmapgl\":[{\"type\":\"heatmapgl\",\"colorbar\":{\"outlinewidth\":0,\"ticks\":\"\"},\"colorscale\":[[0.0,\"#0d0887\"],[0.1111111111111111,\"#46039f\"],[0.2222222222222222,\"#7201a8\"],[0.3333333333333333,\"#9c179e\"],[0.4444444444444444,\"#bd3786\"],[0.5555555555555556,\"#d8576b\"],[0.6666666666666666,\"#ed7953\"],[0.7777777777777778,\"#fb9f3a\"],[0.8888888888888888,\"#fdca26\"],[1.0,\"#f0f921\"]]}],\"contourcarpet\":[{\"type\":\"contourcarpet\",\"colorbar\":{\"outlinewidth\":0,\"ticks\":\"\"}}],\"contour\":[{\"type\":\"contour\",\"colorbar\":{\"outlinewidth\":0,\"ticks\":\"\"},\"colorscale\":[[0.0,\"#0d0887\"],[0.1111111111111111,\"#46039f\"],[0.2222222222222222,\"#7201a8\"],[0.3333333333333333,\"#9c179e\"],[0.4444444444444444,\"#bd3786\"],[0.5555555555555556,\"#d8576b\"],[0.6666666666666666,\"#ed7953\"],[0.7777777777777778,\"#fb9f3a\"],[0.8888888888888888,\"#fdca26\"],[1.0,\"#f0f921\"]]}],\"surface\":[{\"type\":\"surface\",\"colorbar\":{\"outlinewidth\":0,\"ticks\":\"\"},\"colorscale\":[[0.0,\"#0d0887\"],[0.1111111111111111,\"#46039f\"],[0.2222222222222222,\"#7201a8\"],[0.3333333333333333,\"#9c179e\"],[0.4444444444444444,\"#bd3786\"],[0.5555555555555556,\"#d8576b\"],[0.6666666666666666,\"#ed7953\"],[0.7777777777777778,\"#fb9f3a\"],[0.8888888888888888,\"#fdca26\"],[1.0,\"#f0f921\"]]}],\"mesh3d\":[{\"type\":\"mesh3d\",\"colorbar\":{\"outlinewidth\":0,\"ticks\":\"\"}}],\"scatter\":[{\"fillpattern\":{\"fillmode\":\"overlay\",\"size\":10,\"solidity\":0.2},\"type\":\"scatter\"}],\"parcoords\":[{\"type\":\"parcoords\",\"line\":{\"colorbar\":{\"outlinewidth\":0,\"ticks\":\"\"}}}],\"scatterpolargl\":[{\"type\":\"scatterpolargl\",\"marker\":{\"colorbar\":{\"outlinewidth\":0,\"ticks\":\"\"}}}],\"bar\":[{\"error_x\":{\"color\":\"#2a3f5f\"},\"error_y\":{\"color\":\"#2a3f5f\"},\"marker\":{\"line\":{\"color\":\"#E5ECF6\",\"width\":0.5},\"pattern\":{\"fillmode\":\"overlay\",\"size\":10,\"solidity\":0.2}},\"type\":\"bar\"}],\"scattergeo\":[{\"type\":\"scattergeo\",\"marker\":{\"colorbar\":{\"outlinewidth\":0,\"ticks\":\"\"}}}],\"scatterpolar\":[{\"type\":\"scatterpolar\",\"marker\":{\"colorbar\":{\"outlinewidth\":0,\"ticks\":\"\"}}}],\"histogram\":[{\"marker\":{\"pattern\":{\"fillmode\":\"overlay\",\"size\":10,\"solidity\":0.2}},\"type\":\"histogram\"}],\"scattergl\":[{\"type\":\"scattergl\",\"marker\":{\"colorbar\":{\"outlinewidth\":0,\"ticks\":\"\"}}}],\"scatter3d\":[{\"type\":\"scatter3d\",\"line\":{\"colorbar\":{\"outlinewidth\":0,\"ticks\":\"\"}},\"marker\":{\"colorbar\":{\"outlinewidth\":0,\"ticks\":\"\"}}}],\"scattermapbox\":[{\"type\":\"scattermapbox\",\"marker\":{\"colorbar\":{\"outlinewidth\":0,\"ticks\":\"\"}}}],\"scatterternary\":[{\"type\":\"scatterternary\",\"marker\":{\"colorbar\":{\"outlinewidth\":0,\"ticks\":\"\"}}}],\"scattercarpet\":[{\"type\":\"scattercarpet\",\"marker\":{\"colorbar\":{\"outlinewidth\":0,\"ticks\":\"\"}}}],\"carpet\":[{\"aaxis\":{\"endlinecolor\":\"#2a3f5f\",\"gridcolor\":\"white\",\"linecolor\":\"white\",\"minorgridcolor\":\"white\",\"startlinecolor\":\"#2a3f5f\"},\"baxis\":{\"endlinecolor\":\"#2a3f5f\",\"gridcolor\":\"white\",\"linecolor\":\"white\",\"minorgridcolor\":\"white\",\"startlinecolor\":\"#2a3f5f\"},\"type\":\"carpet\"}],\"table\":[{\"cells\":{\"fill\":{\"color\":\"#EBF0F8\"},\"line\":{\"color\":\"white\"}},\"header\":{\"fill\":{\"color\":\"#C8D4E3\"},\"line\":{\"color\":\"white\"}},\"type\":\"table\"}],\"barpolar\":[{\"marker\":{\"line\":{\"color\":\"#E5ECF6\",\"width\":0.5},\"pattern\":{\"fillmode\":\"overlay\",\"size\":10,\"solidity\":0.2}},\"type\":\"barpolar\"}],\"pie\":[{\"automargin\":true,\"type\":\"pie\"}]},\"layout\":{\"autotypenumbers\":\"strict\",\"colorway\":[\"#636efa\",\"#EF553B\",\"#00cc96\",\"#ab63fa\",\"#FFA15A\",\"#19d3f3\",\"#FF6692\",\"#B6E880\",\"#FF97FF\",\"#FECB52\"],\"font\":{\"color\":\"#2a3f5f\"},\"hovermode\":\"closest\",\"hoverlabel\":{\"align\":\"left\"},\"paper_bgcolor\":\"white\",\"plot_bgcolor\":\"#E5ECF6\",\"polar\":{\"bgcolor\":\"#E5ECF6\",\"angularaxis\":{\"gridcolor\":\"white\",\"linecolor\":\"white\",\"ticks\":\"\"},\"radialaxis\":{\"gridcolor\":\"white\",\"linecolor\":\"white\",\"ticks\":\"\"}},\"ternary\":{\"bgcolor\":\"#E5ECF6\",\"aaxis\":{\"gridcolor\":\"white\",\"linecolor\":\"white\",\"ticks\":\"\"},\"baxis\":{\"gridcolor\":\"white\",\"linecolor\":\"white\",\"ticks\":\"\"},\"caxis\":{\"gridcolor\":\"white\",\"linecolor\":\"white\",\"ticks\":\"\"}},\"coloraxis\":{\"colorbar\":{\"outlinewidth\":0,\"ticks\":\"\"}},\"colorscale\":{\"sequential\":[[0.0,\"#0d0887\"],[0.1111111111111111,\"#46039f\"],[0.2222222222222222,\"#7201a8\"],[0.3333333333333333,\"#9c179e\"],[0.4444444444444444,\"#bd3786\"],[0.5555555555555556,\"#d8576b\"],[0.6666666666666666,\"#ed7953\"],[0.7777777777777778,\"#fb9f3a\"],[0.8888888888888888,\"#fdca26\"],[1.0,\"#f0f921\"]],\"sequentialminus\":[[0.0,\"#0d0887\"],[0.1111111111111111,\"#46039f\"],[0.2222222222222222,\"#7201a8\"],[0.3333333333333333,\"#9c179e\"],[0.4444444444444444,\"#bd3786\"],[0.5555555555555556,\"#d8576b\"],[0.6666666666666666,\"#ed7953\"],[0.7777777777777778,\"#fb9f3a\"],[0.8888888888888888,\"#fdca26\"],[1.0,\"#f0f921\"]],\"diverging\":[[0,\"#8e0152\"],[0.1,\"#c51b7d\"],[0.2,\"#de77ae\"],[0.3,\"#f1b6da\"],[0.4,\"#fde0ef\"],[0.5,\"#f7f7f7\"],[0.6,\"#e6f5d0\"],[0.7,\"#b8e186\"],[0.8,\"#7fbc41\"],[0.9,\"#4d9221\"],[1,\"#276419\"]]},\"xaxis\":{\"gridcolor\":\"white\",\"linecolor\":\"white\",\"ticks\":\"\",\"title\":{\"standoff\":15},\"zerolinecolor\":\"white\",\"automargin\":true,\"zerolinewidth\":2},\"yaxis\":{\"gridcolor\":\"white\",\"linecolor\":\"white\",\"ticks\":\"\",\"title\":{\"standoff\":15},\"zerolinecolor\":\"white\",\"automargin\":true,\"zerolinewidth\":2},\"scene\":{\"xaxis\":{\"backgroundcolor\":\"#E5ECF6\",\"gridcolor\":\"white\",\"linecolor\":\"white\",\"showbackground\":true,\"ticks\":\"\",\"zerolinecolor\":\"white\",\"gridwidth\":2},\"yaxis\":{\"backgroundcolor\":\"#E5ECF6\",\"gridcolor\":\"white\",\"linecolor\":\"white\",\"showbackground\":true,\"ticks\":\"\",\"zerolinecolor\":\"white\",\"gridwidth\":2},\"zaxis\":{\"backgroundcolor\":\"#E5ECF6\",\"gridcolor\":\"white\",\"linecolor\":\"white\",\"showbackground\":true,\"ticks\":\"\",\"zerolinecolor\":\"white\",\"gridwidth\":2}},\"shapedefaults\":{\"line\":{\"color\":\"#2a3f5f\"}},\"annotationdefaults\":{\"arrowcolor\":\"#2a3f5f\",\"arrowhead\":0,\"arrowwidth\":1},\"geo\":{\"bgcolor\":\"white\",\"landcolor\":\"#E5ECF6\",\"subunitcolor\":\"white\",\"showland\":true,\"showlakes\":true,\"lakecolor\":\"white\"},\"title\":{\"x\":0.05},\"mapbox\":{\"style\":\"light\"}}}},                        {\"responsive\": true}                    ).then(function(){\n",
       "                            \n",
       "var gd = document.getElementById('1fd59309-b643-4e25-8bdf-659072f63338');\n",
       "var x = new MutationObserver(function (mutations, observer) {{\n",
       "        var display = window.getComputedStyle(gd).display;\n",
       "        if (!display || display === 'none') {{\n",
       "            console.log([gd, 'removed!']);\n",
       "            Plotly.purge(gd);\n",
       "            observer.disconnect();\n",
       "        }}\n",
       "}});\n",
       "\n",
       "// Listen for the removal of the full notebook cells\n",
       "var notebookContainer = gd.closest('#notebook-container');\n",
       "if (notebookContainer) {{\n",
       "    x.observe(notebookContainer, {childList: true});\n",
       "}}\n",
       "\n",
       "// Listen for the clearing of the current output cell\n",
       "var outputEl = gd.closest('.output');\n",
       "if (outputEl) {{\n",
       "    x.observe(outputEl, {childList: true});\n",
       "}}\n",
       "\n",
       "                        })                };                });            </script>        </div>"
      ]
     },
     "metadata": {},
     "output_type": "display_data"
    },
    {
     "data": {
      "application/vnd.plotly.v1+json": {
       "config": {
        "plotlyServerURL": "https://plot.ly"
       },
       "data": [
        {
         "box": {
          "visible": true
         },
         "meanline": {
          "visible": true
         },
         "name": "HailFinder",
         "type": "violin",
         "x": [
          "HailFinder",
          "HailFinder",
          "HailFinder",
          "HailFinder",
          "HailFinder",
          "HailFinder",
          "HailFinder",
          "HailFinder",
          "HailFinder",
          "HailFinder",
          "HailFinder",
          "HailFinder",
          "HailFinder",
          "HailFinder",
          "HailFinder",
          "HailFinder",
          "HailFinder",
          "HailFinder",
          "HailFinder",
          "HailFinder",
          "HailFinder",
          "HailFinder",
          "HailFinder",
          "HailFinder",
          "HailFinder",
          "HailFinder",
          "HailFinder",
          "HailFinder",
          "HailFinder",
          "HailFinder"
         ],
         "y": [
          0.5920889987639061,
          0.5933250927070457,
          0.6131025957972805,
          0.6131025957972805,
          0.5995055624227441,
          0.5982694684796045,
          0.6180469715698393,
          0.6019777503090235,
          0.619283065512979,
          0.5859085290482077,
          0.5982694684796045,
          0.6007416563658838,
          0.6254635352286774,
          0.6044499381953028,
          0.6081582200247219,
          0.6131025957972805,
          0.6081582200247219,
          0.6044499381953028,
          0.6007416563658838,
          0.5797280593325093,
          0.6007416563658838,
          0.5945611866501854,
          0.6056860321384425,
          0.6081582200247219,
          0.6106304079110012,
          0.6106304079110012,
          0.6069221260815822,
          0.6032138442521632,
          0.5896168108776267,
          0.6118665018541409
         ]
        },
        {
         "box": {
          "visible": true
         },
         "meanline": {
          "visible": true
         },
         "name": "HailFinder3",
         "type": "violin",
         "x": [
          "HailFinder3",
          "HailFinder3",
          "HailFinder3",
          "HailFinder3",
          "HailFinder3",
          "HailFinder3",
          "HailFinder3",
          "HailFinder3",
          "HailFinder3",
          "HailFinder3",
          "HailFinder3",
          "HailFinder3",
          "HailFinder3",
          "HailFinder3",
          "HailFinder3",
          "HailFinder3",
          "HailFinder3",
          "HailFinder3",
          "HailFinder3",
          "HailFinder3",
          "HailFinder3",
          "HailFinder3",
          "HailFinder3",
          "HailFinder3",
          "HailFinder3",
          "HailFinder3",
          "HailFinder3",
          "HailFinder3",
          "HailFinder3",
          "HailFinder3"
         ],
         "y": [
          0.3675166002656042,
          0.3798406374501992,
          0.3574236387782205,
          0.350199203187251,
          0.3619123505976095,
          0.3744223107569721,
          0.3463745019920318,
          0.3769189907038512,
          0.3832403718459495,
          0.3471181938911022,
          0.3668260292164674,
          0.3716600265604249,
          0.3546082337317397,
          0.3443027888446215,
          0.3607702523240372,
          0.3656573705179283,
          0.3630013280212483,
          0.3620185922974767,
          0.3665073041168659,
          0.3574236387782205,
          0.3621513944223107,
          0.3719787516600266,
          0.3730942895086321,
          0.3585922974767596,
          0.3693227091633466,
          0.3744223107569721,
          0.3654980079681275,
          0.3634262948207171,
          0.3691633466135458,
          0.3617795484727755
         ]
        },
        {
         "box": {
          "visible": true
         },
         "meanline": {
          "visible": true
         },
         "name": "HailFinder5",
         "type": "violin",
         "x": [
          "HailFinder5",
          "HailFinder5",
          "HailFinder5",
          "HailFinder5",
          "HailFinder5",
          "HailFinder5",
          "HailFinder5",
          "HailFinder5",
          "HailFinder5",
          "HailFinder5",
          "HailFinder5",
          "HailFinder5",
          "HailFinder5",
          "HailFinder5",
          "HailFinder5",
          "HailFinder5",
          "HailFinder5",
          "HailFinder5",
          "HailFinder5",
          "HailFinder5",
          "HailFinder5",
          "HailFinder5",
          "HailFinder5",
          "HailFinder5",
          "HailFinder5",
          "HailFinder5",
          "HailFinder5",
          "HailFinder5",
          "HailFinder5",
          "HailFinder5"
         ],
         "y": [
          0.3699622750417448,
          0.3518419262404914,
          0.3630563400606073,
          0.368869694283535,
          0.3650662763610876,
          0.3801665670287987,
          0.3536147931311715,
          0.3765899111505081,
          0.3635304788802078,
          0.352254220866231,
          0.3751365725947762,
          0.3610567111257705,
          0.3613040879012142,
          0.3677358840627512,
          0.3580778824548022,
          0.3664268486260281,
          0.355037209589973,
          0.3713846915005463,
          0.3625100496815024,
          0.364293223937826,
          0.3694469067595703,
          0.3636747819992166,
          0.3616751530643798,
          0.3676946546001773,
          0.3673235894370117,
          0.3645199859819827,
          0.3643550681316869,
          0.3696736688037271,
          0.3638190851182254,
          0.3675297367498815
         ]
        },
        {
         "box": {
          "visible": true
         },
         "meanline": {
          "visible": true
         },
         "name": "HailFinder10",
         "type": "violin",
         "x": [
          "HailFinder10",
          "HailFinder10",
          "HailFinder10",
          "HailFinder10",
          "HailFinder10",
          "HailFinder10",
          "HailFinder10",
          "HailFinder10",
          "HailFinder10",
          "HailFinder10",
          "HailFinder10",
          "HailFinder10",
          "HailFinder10",
          "HailFinder10",
          "HailFinder10",
          "HailFinder10",
          "HailFinder10",
          "HailFinder10",
          "HailFinder10",
          "HailFinder10",
          "HailFinder10",
          "HailFinder10",
          "HailFinder10",
          "HailFinder10",
          "HailFinder10",
          "HailFinder10",
          "HailFinder10",
          "HailFinder10",
          "HailFinder10",
          "HailFinder10"
         ],
         "y": [
          0.395089133043581,
          0.4031847886238007,
          0.4023764666380645,
          0.3904195191105971,
          0.3985307193443887,
          0.3903371324466663,
          0.38815932648125,
          0.3965207956375484,
          0.3956798298793113,
          0.3916009127820577,
          0.4021899307952023,
          0.4038221194202466,
          0.3977426054082958,
          0.3995551120147736,
          0.3962860713686135,
          0.3906045004881021,
          0.3960622283571788,
          0.3979291412511581,
          0.3898972187505829,
          0.3931118531092416,
          0.3976648821404366,
          0.3974301578715016,
          0.3980348448954466,
          0.3988416124158257,
          0.4006105939923023,
          0.4005888314773017,
          0.3970353236707766,
          0.3924372151442233,
          0.3980177457765176,
          0.3941020475417685
         ]
        }
       ],
       "layout": {
        "template": {
         "data": {
          "bar": [
           {
            "error_x": {
             "color": "#2a3f5f"
            },
            "error_y": {
             "color": "#2a3f5f"
            },
            "marker": {
             "line": {
              "color": "#E5ECF6",
              "width": 0.5
             },
             "pattern": {
              "fillmode": "overlay",
              "size": 10,
              "solidity": 0.2
             }
            },
            "type": "bar"
           }
          ],
          "barpolar": [
           {
            "marker": {
             "line": {
              "color": "#E5ECF6",
              "width": 0.5
             },
             "pattern": {
              "fillmode": "overlay",
              "size": 10,
              "solidity": 0.2
             }
            },
            "type": "barpolar"
           }
          ],
          "carpet": [
           {
            "aaxis": {
             "endlinecolor": "#2a3f5f",
             "gridcolor": "white",
             "linecolor": "white",
             "minorgridcolor": "white",
             "startlinecolor": "#2a3f5f"
            },
            "baxis": {
             "endlinecolor": "#2a3f5f",
             "gridcolor": "white",
             "linecolor": "white",
             "minorgridcolor": "white",
             "startlinecolor": "#2a3f5f"
            },
            "type": "carpet"
           }
          ],
          "choropleth": [
           {
            "colorbar": {
             "outlinewidth": 0,
             "ticks": ""
            },
            "type": "choropleth"
           }
          ],
          "contour": [
           {
            "colorbar": {
             "outlinewidth": 0,
             "ticks": ""
            },
            "colorscale": [
             [
              0,
              "#0d0887"
             ],
             [
              0.1111111111111111,
              "#46039f"
             ],
             [
              0.2222222222222222,
              "#7201a8"
             ],
             [
              0.3333333333333333,
              "#9c179e"
             ],
             [
              0.4444444444444444,
              "#bd3786"
             ],
             [
              0.5555555555555556,
              "#d8576b"
             ],
             [
              0.6666666666666666,
              "#ed7953"
             ],
             [
              0.7777777777777778,
              "#fb9f3a"
             ],
             [
              0.8888888888888888,
              "#fdca26"
             ],
             [
              1,
              "#f0f921"
             ]
            ],
            "type": "contour"
           }
          ],
          "contourcarpet": [
           {
            "colorbar": {
             "outlinewidth": 0,
             "ticks": ""
            },
            "type": "contourcarpet"
           }
          ],
          "heatmap": [
           {
            "colorbar": {
             "outlinewidth": 0,
             "ticks": ""
            },
            "colorscale": [
             [
              0,
              "#0d0887"
             ],
             [
              0.1111111111111111,
              "#46039f"
             ],
             [
              0.2222222222222222,
              "#7201a8"
             ],
             [
              0.3333333333333333,
              "#9c179e"
             ],
             [
              0.4444444444444444,
              "#bd3786"
             ],
             [
              0.5555555555555556,
              "#d8576b"
             ],
             [
              0.6666666666666666,
              "#ed7953"
             ],
             [
              0.7777777777777778,
              "#fb9f3a"
             ],
             [
              0.8888888888888888,
              "#fdca26"
             ],
             [
              1,
              "#f0f921"
             ]
            ],
            "type": "heatmap"
           }
          ],
          "heatmapgl": [
           {
            "colorbar": {
             "outlinewidth": 0,
             "ticks": ""
            },
            "colorscale": [
             [
              0,
              "#0d0887"
             ],
             [
              0.1111111111111111,
              "#46039f"
             ],
             [
              0.2222222222222222,
              "#7201a8"
             ],
             [
              0.3333333333333333,
              "#9c179e"
             ],
             [
              0.4444444444444444,
              "#bd3786"
             ],
             [
              0.5555555555555556,
              "#d8576b"
             ],
             [
              0.6666666666666666,
              "#ed7953"
             ],
             [
              0.7777777777777778,
              "#fb9f3a"
             ],
             [
              0.8888888888888888,
              "#fdca26"
             ],
             [
              1,
              "#f0f921"
             ]
            ],
            "type": "heatmapgl"
           }
          ],
          "histogram": [
           {
            "marker": {
             "pattern": {
              "fillmode": "overlay",
              "size": 10,
              "solidity": 0.2
             }
            },
            "type": "histogram"
           }
          ],
          "histogram2d": [
           {
            "colorbar": {
             "outlinewidth": 0,
             "ticks": ""
            },
            "colorscale": [
             [
              0,
              "#0d0887"
             ],
             [
              0.1111111111111111,
              "#46039f"
             ],
             [
              0.2222222222222222,
              "#7201a8"
             ],
             [
              0.3333333333333333,
              "#9c179e"
             ],
             [
              0.4444444444444444,
              "#bd3786"
             ],
             [
              0.5555555555555556,
              "#d8576b"
             ],
             [
              0.6666666666666666,
              "#ed7953"
             ],
             [
              0.7777777777777778,
              "#fb9f3a"
             ],
             [
              0.8888888888888888,
              "#fdca26"
             ],
             [
              1,
              "#f0f921"
             ]
            ],
            "type": "histogram2d"
           }
          ],
          "histogram2dcontour": [
           {
            "colorbar": {
             "outlinewidth": 0,
             "ticks": ""
            },
            "colorscale": [
             [
              0,
              "#0d0887"
             ],
             [
              0.1111111111111111,
              "#46039f"
             ],
             [
              0.2222222222222222,
              "#7201a8"
             ],
             [
              0.3333333333333333,
              "#9c179e"
             ],
             [
              0.4444444444444444,
              "#bd3786"
             ],
             [
              0.5555555555555556,
              "#d8576b"
             ],
             [
              0.6666666666666666,
              "#ed7953"
             ],
             [
              0.7777777777777778,
              "#fb9f3a"
             ],
             [
              0.8888888888888888,
              "#fdca26"
             ],
             [
              1,
              "#f0f921"
             ]
            ],
            "type": "histogram2dcontour"
           }
          ],
          "mesh3d": [
           {
            "colorbar": {
             "outlinewidth": 0,
             "ticks": ""
            },
            "type": "mesh3d"
           }
          ],
          "parcoords": [
           {
            "line": {
             "colorbar": {
              "outlinewidth": 0,
              "ticks": ""
             }
            },
            "type": "parcoords"
           }
          ],
          "pie": [
           {
            "automargin": true,
            "type": "pie"
           }
          ],
          "scatter": [
           {
            "fillpattern": {
             "fillmode": "overlay",
             "size": 10,
             "solidity": 0.2
            },
            "type": "scatter"
           }
          ],
          "scatter3d": [
           {
            "line": {
             "colorbar": {
              "outlinewidth": 0,
              "ticks": ""
             }
            },
            "marker": {
             "colorbar": {
              "outlinewidth": 0,
              "ticks": ""
             }
            },
            "type": "scatter3d"
           }
          ],
          "scattercarpet": [
           {
            "marker": {
             "colorbar": {
              "outlinewidth": 0,
              "ticks": ""
             }
            },
            "type": "scattercarpet"
           }
          ],
          "scattergeo": [
           {
            "marker": {
             "colorbar": {
              "outlinewidth": 0,
              "ticks": ""
             }
            },
            "type": "scattergeo"
           }
          ],
          "scattergl": [
           {
            "marker": {
             "colorbar": {
              "outlinewidth": 0,
              "ticks": ""
             }
            },
            "type": "scattergl"
           }
          ],
          "scattermapbox": [
           {
            "marker": {
             "colorbar": {
              "outlinewidth": 0,
              "ticks": ""
             }
            },
            "type": "scattermapbox"
           }
          ],
          "scatterpolar": [
           {
            "marker": {
             "colorbar": {
              "outlinewidth": 0,
              "ticks": ""
             }
            },
            "type": "scatterpolar"
           }
          ],
          "scatterpolargl": [
           {
            "marker": {
             "colorbar": {
              "outlinewidth": 0,
              "ticks": ""
             }
            },
            "type": "scatterpolargl"
           }
          ],
          "scatterternary": [
           {
            "marker": {
             "colorbar": {
              "outlinewidth": 0,
              "ticks": ""
             }
            },
            "type": "scatterternary"
           }
          ],
          "surface": [
           {
            "colorbar": {
             "outlinewidth": 0,
             "ticks": ""
            },
            "colorscale": [
             [
              0,
              "#0d0887"
             ],
             [
              0.1111111111111111,
              "#46039f"
             ],
             [
              0.2222222222222222,
              "#7201a8"
             ],
             [
              0.3333333333333333,
              "#9c179e"
             ],
             [
              0.4444444444444444,
              "#bd3786"
             ],
             [
              0.5555555555555556,
              "#d8576b"
             ],
             [
              0.6666666666666666,
              "#ed7953"
             ],
             [
              0.7777777777777778,
              "#fb9f3a"
             ],
             [
              0.8888888888888888,
              "#fdca26"
             ],
             [
              1,
              "#f0f921"
             ]
            ],
            "type": "surface"
           }
          ],
          "table": [
           {
            "cells": {
             "fill": {
              "color": "#EBF0F8"
             },
             "line": {
              "color": "white"
             }
            },
            "header": {
             "fill": {
              "color": "#C8D4E3"
             },
             "line": {
              "color": "white"
             }
            },
            "type": "table"
           }
          ]
         },
         "layout": {
          "annotationdefaults": {
           "arrowcolor": "#2a3f5f",
           "arrowhead": 0,
           "arrowwidth": 1
          },
          "autotypenumbers": "strict",
          "coloraxis": {
           "colorbar": {
            "outlinewidth": 0,
            "ticks": ""
           }
          },
          "colorscale": {
           "diverging": [
            [
             0,
             "#8e0152"
            ],
            [
             0.1,
             "#c51b7d"
            ],
            [
             0.2,
             "#de77ae"
            ],
            [
             0.3,
             "#f1b6da"
            ],
            [
             0.4,
             "#fde0ef"
            ],
            [
             0.5,
             "#f7f7f7"
            ],
            [
             0.6,
             "#e6f5d0"
            ],
            [
             0.7,
             "#b8e186"
            ],
            [
             0.8,
             "#7fbc41"
            ],
            [
             0.9,
             "#4d9221"
            ],
            [
             1,
             "#276419"
            ]
           ],
           "sequential": [
            [
             0,
             "#0d0887"
            ],
            [
             0.1111111111111111,
             "#46039f"
            ],
            [
             0.2222222222222222,
             "#7201a8"
            ],
            [
             0.3333333333333333,
             "#9c179e"
            ],
            [
             0.4444444444444444,
             "#bd3786"
            ],
            [
             0.5555555555555556,
             "#d8576b"
            ],
            [
             0.6666666666666666,
             "#ed7953"
            ],
            [
             0.7777777777777778,
             "#fb9f3a"
            ],
            [
             0.8888888888888888,
             "#fdca26"
            ],
            [
             1,
             "#f0f921"
            ]
           ],
           "sequentialminus": [
            [
             0,
             "#0d0887"
            ],
            [
             0.1111111111111111,
             "#46039f"
            ],
            [
             0.2222222222222222,
             "#7201a8"
            ],
            [
             0.3333333333333333,
             "#9c179e"
            ],
            [
             0.4444444444444444,
             "#bd3786"
            ],
            [
             0.5555555555555556,
             "#d8576b"
            ],
            [
             0.6666666666666666,
             "#ed7953"
            ],
            [
             0.7777777777777778,
             "#fb9f3a"
            ],
            [
             0.8888888888888888,
             "#fdca26"
            ],
            [
             1,
             "#f0f921"
            ]
           ]
          },
          "colorway": [
           "#636efa",
           "#EF553B",
           "#00cc96",
           "#ab63fa",
           "#FFA15A",
           "#19d3f3",
           "#FF6692",
           "#B6E880",
           "#FF97FF",
           "#FECB52"
          ],
          "font": {
           "color": "#2a3f5f"
          },
          "geo": {
           "bgcolor": "white",
           "lakecolor": "white",
           "landcolor": "#E5ECF6",
           "showlakes": true,
           "showland": true,
           "subunitcolor": "white"
          },
          "hoverlabel": {
           "align": "left"
          },
          "hovermode": "closest",
          "mapbox": {
           "style": "light"
          },
          "paper_bgcolor": "white",
          "plot_bgcolor": "#E5ECF6",
          "polar": {
           "angularaxis": {
            "gridcolor": "white",
            "linecolor": "white",
            "ticks": ""
           },
           "bgcolor": "#E5ECF6",
           "radialaxis": {
            "gridcolor": "white",
            "linecolor": "white",
            "ticks": ""
           }
          },
          "scene": {
           "xaxis": {
            "backgroundcolor": "#E5ECF6",
            "gridcolor": "white",
            "gridwidth": 2,
            "linecolor": "white",
            "showbackground": true,
            "ticks": "",
            "zerolinecolor": "white"
           },
           "yaxis": {
            "backgroundcolor": "#E5ECF6",
            "gridcolor": "white",
            "gridwidth": 2,
            "linecolor": "white",
            "showbackground": true,
            "ticks": "",
            "zerolinecolor": "white"
           },
           "zaxis": {
            "backgroundcolor": "#E5ECF6",
            "gridcolor": "white",
            "gridwidth": 2,
            "linecolor": "white",
            "showbackground": true,
            "ticks": "",
            "zerolinecolor": "white"
           }
          },
          "shapedefaults": {
           "line": {
            "color": "#2a3f5f"
           }
          },
          "ternary": {
           "aaxis": {
            "gridcolor": "white",
            "linecolor": "white",
            "ticks": ""
           },
           "baxis": {
            "gridcolor": "white",
            "linecolor": "white",
            "ticks": ""
           },
           "bgcolor": "#E5ECF6",
           "caxis": {
            "gridcolor": "white",
            "linecolor": "white",
            "ticks": ""
           }
          },
          "title": {
           "x": 0.05
          },
          "xaxis": {
           "automargin": true,
           "gridcolor": "white",
           "linecolor": "white",
           "ticks": "",
           "title": {
            "standoff": 15
           },
           "zerolinecolor": "white",
           "zerolinewidth": 2
          },
          "yaxis": {
           "automargin": true,
           "gridcolor": "white",
           "linecolor": "white",
           "ticks": "",
           "title": {
            "standoff": 15
           },
           "zerolinecolor": "white",
           "zerolinewidth": 2
          }
         }
        }
       }
      },
      "text/html": [
       "<div>                            <div id=\"16ee5e89-74a7-4ef7-9c61-a1b00c794838\" class=\"plotly-graph-div\" style=\"height:525px; width:100%;\"></div>            <script type=\"text/javascript\">                require([\"plotly\"], function(Plotly) {                    window.PLOTLYENV=window.PLOTLYENV || {};                                    if (document.getElementById(\"16ee5e89-74a7-4ef7-9c61-a1b00c794838\")) {                    Plotly.newPlot(                        \"16ee5e89-74a7-4ef7-9c61-a1b00c794838\",                        [{\"box\":{\"visible\":true},\"meanline\":{\"visible\":true},\"name\":\"HailFinder\",\"x\":[\"HailFinder\",\"HailFinder\",\"HailFinder\",\"HailFinder\",\"HailFinder\",\"HailFinder\",\"HailFinder\",\"HailFinder\",\"HailFinder\",\"HailFinder\",\"HailFinder\",\"HailFinder\",\"HailFinder\",\"HailFinder\",\"HailFinder\",\"HailFinder\",\"HailFinder\",\"HailFinder\",\"HailFinder\",\"HailFinder\",\"HailFinder\",\"HailFinder\",\"HailFinder\",\"HailFinder\",\"HailFinder\",\"HailFinder\",\"HailFinder\",\"HailFinder\",\"HailFinder\",\"HailFinder\"],\"y\":[0.5920889987639061,0.5933250927070457,0.6131025957972805,0.6131025957972805,0.5995055624227441,0.5982694684796045,0.6180469715698393,0.6019777503090235,0.619283065512979,0.5859085290482077,0.5982694684796045,0.6007416563658838,0.6254635352286774,0.6044499381953028,0.6081582200247219,0.6131025957972805,0.6081582200247219,0.6044499381953028,0.6007416563658838,0.5797280593325093,0.6007416563658838,0.5945611866501854,0.6056860321384425,0.6081582200247219,0.6106304079110012,0.6106304079110012,0.6069221260815822,0.6032138442521632,0.5896168108776267,0.6118665018541409],\"type\":\"violin\"},{\"box\":{\"visible\":true},\"meanline\":{\"visible\":true},\"name\":\"HailFinder3\",\"x\":[\"HailFinder3\",\"HailFinder3\",\"HailFinder3\",\"HailFinder3\",\"HailFinder3\",\"HailFinder3\",\"HailFinder3\",\"HailFinder3\",\"HailFinder3\",\"HailFinder3\",\"HailFinder3\",\"HailFinder3\",\"HailFinder3\",\"HailFinder3\",\"HailFinder3\",\"HailFinder3\",\"HailFinder3\",\"HailFinder3\",\"HailFinder3\",\"HailFinder3\",\"HailFinder3\",\"HailFinder3\",\"HailFinder3\",\"HailFinder3\",\"HailFinder3\",\"HailFinder3\",\"HailFinder3\",\"HailFinder3\",\"HailFinder3\",\"HailFinder3\"],\"y\":[0.3675166002656042,0.3798406374501992,0.3574236387782205,0.350199203187251,0.3619123505976095,0.3744223107569721,0.3463745019920318,0.3769189907038512,0.3832403718459495,0.3471181938911022,0.3668260292164674,0.3716600265604249,0.3546082337317397,0.3443027888446215,0.3607702523240372,0.3656573705179283,0.3630013280212483,0.3620185922974767,0.3665073041168659,0.3574236387782205,0.3621513944223107,0.3719787516600266,0.3730942895086321,0.3585922974767596,0.3693227091633466,0.3744223107569721,0.3654980079681275,0.3634262948207171,0.3691633466135458,0.3617795484727755],\"type\":\"violin\"},{\"box\":{\"visible\":true},\"meanline\":{\"visible\":true},\"name\":\"HailFinder5\",\"x\":[\"HailFinder5\",\"HailFinder5\",\"HailFinder5\",\"HailFinder5\",\"HailFinder5\",\"HailFinder5\",\"HailFinder5\",\"HailFinder5\",\"HailFinder5\",\"HailFinder5\",\"HailFinder5\",\"HailFinder5\",\"HailFinder5\",\"HailFinder5\",\"HailFinder5\",\"HailFinder5\",\"HailFinder5\",\"HailFinder5\",\"HailFinder5\",\"HailFinder5\",\"HailFinder5\",\"HailFinder5\",\"HailFinder5\",\"HailFinder5\",\"HailFinder5\",\"HailFinder5\",\"HailFinder5\",\"HailFinder5\",\"HailFinder5\",\"HailFinder5\"],\"y\":[0.3699622750417448,0.3518419262404914,0.3630563400606073,0.368869694283535,0.3650662763610876,0.3801665670287987,0.3536147931311715,0.3765899111505081,0.3635304788802078,0.352254220866231,0.3751365725947762,0.3610567111257705,0.3613040879012142,0.3677358840627512,0.3580778824548022,0.3664268486260281,0.355037209589973,0.3713846915005463,0.3625100496815024,0.364293223937826,0.3694469067595703,0.3636747819992166,0.3616751530643798,0.3676946546001773,0.3673235894370117,0.3645199859819827,0.3643550681316869,0.3696736688037271,0.3638190851182254,0.3675297367498815],\"type\":\"violin\"},{\"box\":{\"visible\":true},\"meanline\":{\"visible\":true},\"name\":\"HailFinder10\",\"x\":[\"HailFinder10\",\"HailFinder10\",\"HailFinder10\",\"HailFinder10\",\"HailFinder10\",\"HailFinder10\",\"HailFinder10\",\"HailFinder10\",\"HailFinder10\",\"HailFinder10\",\"HailFinder10\",\"HailFinder10\",\"HailFinder10\",\"HailFinder10\",\"HailFinder10\",\"HailFinder10\",\"HailFinder10\",\"HailFinder10\",\"HailFinder10\",\"HailFinder10\",\"HailFinder10\",\"HailFinder10\",\"HailFinder10\",\"HailFinder10\",\"HailFinder10\",\"HailFinder10\",\"HailFinder10\",\"HailFinder10\",\"HailFinder10\",\"HailFinder10\"],\"y\":[0.395089133043581,0.4031847886238007,0.4023764666380645,0.3904195191105971,0.3985307193443887,0.3903371324466663,0.38815932648125,0.3965207956375484,0.3956798298793113,0.3916009127820577,0.4021899307952023,0.4038221194202466,0.3977426054082958,0.3995551120147736,0.3962860713686135,0.3906045004881021,0.3960622283571788,0.3979291412511581,0.3898972187505829,0.3931118531092416,0.3976648821404366,0.3974301578715016,0.3980348448954466,0.3988416124158257,0.4006105939923023,0.4005888314773017,0.3970353236707766,0.3924372151442233,0.3980177457765176,0.3941020475417685],\"type\":\"violin\"}],                        {\"template\":{\"data\":{\"histogram2dcontour\":[{\"type\":\"histogram2dcontour\",\"colorbar\":{\"outlinewidth\":0,\"ticks\":\"\"},\"colorscale\":[[0.0,\"#0d0887\"],[0.1111111111111111,\"#46039f\"],[0.2222222222222222,\"#7201a8\"],[0.3333333333333333,\"#9c179e\"],[0.4444444444444444,\"#bd3786\"],[0.5555555555555556,\"#d8576b\"],[0.6666666666666666,\"#ed7953\"],[0.7777777777777778,\"#fb9f3a\"],[0.8888888888888888,\"#fdca26\"],[1.0,\"#f0f921\"]]}],\"choropleth\":[{\"type\":\"choropleth\",\"colorbar\":{\"outlinewidth\":0,\"ticks\":\"\"}}],\"histogram2d\":[{\"type\":\"histogram2d\",\"colorbar\":{\"outlinewidth\":0,\"ticks\":\"\"},\"colorscale\":[[0.0,\"#0d0887\"],[0.1111111111111111,\"#46039f\"],[0.2222222222222222,\"#7201a8\"],[0.3333333333333333,\"#9c179e\"],[0.4444444444444444,\"#bd3786\"],[0.5555555555555556,\"#d8576b\"],[0.6666666666666666,\"#ed7953\"],[0.7777777777777778,\"#fb9f3a\"],[0.8888888888888888,\"#fdca26\"],[1.0,\"#f0f921\"]]}],\"heatmap\":[{\"type\":\"heatmap\",\"colorbar\":{\"outlinewidth\":0,\"ticks\":\"\"},\"colorscale\":[[0.0,\"#0d0887\"],[0.1111111111111111,\"#46039f\"],[0.2222222222222222,\"#7201a8\"],[0.3333333333333333,\"#9c179e\"],[0.4444444444444444,\"#bd3786\"],[0.5555555555555556,\"#d8576b\"],[0.6666666666666666,\"#ed7953\"],[0.7777777777777778,\"#fb9f3a\"],[0.8888888888888888,\"#fdca26\"],[1.0,\"#f0f921\"]]}],\"heatmapgl\":[{\"type\":\"heatmapgl\",\"colorbar\":{\"outlinewidth\":0,\"ticks\":\"\"},\"colorscale\":[[0.0,\"#0d0887\"],[0.1111111111111111,\"#46039f\"],[0.2222222222222222,\"#7201a8\"],[0.3333333333333333,\"#9c179e\"],[0.4444444444444444,\"#bd3786\"],[0.5555555555555556,\"#d8576b\"],[0.6666666666666666,\"#ed7953\"],[0.7777777777777778,\"#fb9f3a\"],[0.8888888888888888,\"#fdca26\"],[1.0,\"#f0f921\"]]}],\"contourcarpet\":[{\"type\":\"contourcarpet\",\"colorbar\":{\"outlinewidth\":0,\"ticks\":\"\"}}],\"contour\":[{\"type\":\"contour\",\"colorbar\":{\"outlinewidth\":0,\"ticks\":\"\"},\"colorscale\":[[0.0,\"#0d0887\"],[0.1111111111111111,\"#46039f\"],[0.2222222222222222,\"#7201a8\"],[0.3333333333333333,\"#9c179e\"],[0.4444444444444444,\"#bd3786\"],[0.5555555555555556,\"#d8576b\"],[0.6666666666666666,\"#ed7953\"],[0.7777777777777778,\"#fb9f3a\"],[0.8888888888888888,\"#fdca26\"],[1.0,\"#f0f921\"]]}],\"surface\":[{\"type\":\"surface\",\"colorbar\":{\"outlinewidth\":0,\"ticks\":\"\"},\"colorscale\":[[0.0,\"#0d0887\"],[0.1111111111111111,\"#46039f\"],[0.2222222222222222,\"#7201a8\"],[0.3333333333333333,\"#9c179e\"],[0.4444444444444444,\"#bd3786\"],[0.5555555555555556,\"#d8576b\"],[0.6666666666666666,\"#ed7953\"],[0.7777777777777778,\"#fb9f3a\"],[0.8888888888888888,\"#fdca26\"],[1.0,\"#f0f921\"]]}],\"mesh3d\":[{\"type\":\"mesh3d\",\"colorbar\":{\"outlinewidth\":0,\"ticks\":\"\"}}],\"scatter\":[{\"fillpattern\":{\"fillmode\":\"overlay\",\"size\":10,\"solidity\":0.2},\"type\":\"scatter\"}],\"parcoords\":[{\"type\":\"parcoords\",\"line\":{\"colorbar\":{\"outlinewidth\":0,\"ticks\":\"\"}}}],\"scatterpolargl\":[{\"type\":\"scatterpolargl\",\"marker\":{\"colorbar\":{\"outlinewidth\":0,\"ticks\":\"\"}}}],\"bar\":[{\"error_x\":{\"color\":\"#2a3f5f\"},\"error_y\":{\"color\":\"#2a3f5f\"},\"marker\":{\"line\":{\"color\":\"#E5ECF6\",\"width\":0.5},\"pattern\":{\"fillmode\":\"overlay\",\"size\":10,\"solidity\":0.2}},\"type\":\"bar\"}],\"scattergeo\":[{\"type\":\"scattergeo\",\"marker\":{\"colorbar\":{\"outlinewidth\":0,\"ticks\":\"\"}}}],\"scatterpolar\":[{\"type\":\"scatterpolar\",\"marker\":{\"colorbar\":{\"outlinewidth\":0,\"ticks\":\"\"}}}],\"histogram\":[{\"marker\":{\"pattern\":{\"fillmode\":\"overlay\",\"size\":10,\"solidity\":0.2}},\"type\":\"histogram\"}],\"scattergl\":[{\"type\":\"scattergl\",\"marker\":{\"colorbar\":{\"outlinewidth\":0,\"ticks\":\"\"}}}],\"scatter3d\":[{\"type\":\"scatter3d\",\"line\":{\"colorbar\":{\"outlinewidth\":0,\"ticks\":\"\"}},\"marker\":{\"colorbar\":{\"outlinewidth\":0,\"ticks\":\"\"}}}],\"scattermapbox\":[{\"type\":\"scattermapbox\",\"marker\":{\"colorbar\":{\"outlinewidth\":0,\"ticks\":\"\"}}}],\"scatterternary\":[{\"type\":\"scatterternary\",\"marker\":{\"colorbar\":{\"outlinewidth\":0,\"ticks\":\"\"}}}],\"scattercarpet\":[{\"type\":\"scattercarpet\",\"marker\":{\"colorbar\":{\"outlinewidth\":0,\"ticks\":\"\"}}}],\"carpet\":[{\"aaxis\":{\"endlinecolor\":\"#2a3f5f\",\"gridcolor\":\"white\",\"linecolor\":\"white\",\"minorgridcolor\":\"white\",\"startlinecolor\":\"#2a3f5f\"},\"baxis\":{\"endlinecolor\":\"#2a3f5f\",\"gridcolor\":\"white\",\"linecolor\":\"white\",\"minorgridcolor\":\"white\",\"startlinecolor\":\"#2a3f5f\"},\"type\":\"carpet\"}],\"table\":[{\"cells\":{\"fill\":{\"color\":\"#EBF0F8\"},\"line\":{\"color\":\"white\"}},\"header\":{\"fill\":{\"color\":\"#C8D4E3\"},\"line\":{\"color\":\"white\"}},\"type\":\"table\"}],\"barpolar\":[{\"marker\":{\"line\":{\"color\":\"#E5ECF6\",\"width\":0.5},\"pattern\":{\"fillmode\":\"overlay\",\"size\":10,\"solidity\":0.2}},\"type\":\"barpolar\"}],\"pie\":[{\"automargin\":true,\"type\":\"pie\"}]},\"layout\":{\"autotypenumbers\":\"strict\",\"colorway\":[\"#636efa\",\"#EF553B\",\"#00cc96\",\"#ab63fa\",\"#FFA15A\",\"#19d3f3\",\"#FF6692\",\"#B6E880\",\"#FF97FF\",\"#FECB52\"],\"font\":{\"color\":\"#2a3f5f\"},\"hovermode\":\"closest\",\"hoverlabel\":{\"align\":\"left\"},\"paper_bgcolor\":\"white\",\"plot_bgcolor\":\"#E5ECF6\",\"polar\":{\"bgcolor\":\"#E5ECF6\",\"angularaxis\":{\"gridcolor\":\"white\",\"linecolor\":\"white\",\"ticks\":\"\"},\"radialaxis\":{\"gridcolor\":\"white\",\"linecolor\":\"white\",\"ticks\":\"\"}},\"ternary\":{\"bgcolor\":\"#E5ECF6\",\"aaxis\":{\"gridcolor\":\"white\",\"linecolor\":\"white\",\"ticks\":\"\"},\"baxis\":{\"gridcolor\":\"white\",\"linecolor\":\"white\",\"ticks\":\"\"},\"caxis\":{\"gridcolor\":\"white\",\"linecolor\":\"white\",\"ticks\":\"\"}},\"coloraxis\":{\"colorbar\":{\"outlinewidth\":0,\"ticks\":\"\"}},\"colorscale\":{\"sequential\":[[0.0,\"#0d0887\"],[0.1111111111111111,\"#46039f\"],[0.2222222222222222,\"#7201a8\"],[0.3333333333333333,\"#9c179e\"],[0.4444444444444444,\"#bd3786\"],[0.5555555555555556,\"#d8576b\"],[0.6666666666666666,\"#ed7953\"],[0.7777777777777778,\"#fb9f3a\"],[0.8888888888888888,\"#fdca26\"],[1.0,\"#f0f921\"]],\"sequentialminus\":[[0.0,\"#0d0887\"],[0.1111111111111111,\"#46039f\"],[0.2222222222222222,\"#7201a8\"],[0.3333333333333333,\"#9c179e\"],[0.4444444444444444,\"#bd3786\"],[0.5555555555555556,\"#d8576b\"],[0.6666666666666666,\"#ed7953\"],[0.7777777777777778,\"#fb9f3a\"],[0.8888888888888888,\"#fdca26\"],[1.0,\"#f0f921\"]],\"diverging\":[[0,\"#8e0152\"],[0.1,\"#c51b7d\"],[0.2,\"#de77ae\"],[0.3,\"#f1b6da\"],[0.4,\"#fde0ef\"],[0.5,\"#f7f7f7\"],[0.6,\"#e6f5d0\"],[0.7,\"#b8e186\"],[0.8,\"#7fbc41\"],[0.9,\"#4d9221\"],[1,\"#276419\"]]},\"xaxis\":{\"gridcolor\":\"white\",\"linecolor\":\"white\",\"ticks\":\"\",\"title\":{\"standoff\":15},\"zerolinecolor\":\"white\",\"automargin\":true,\"zerolinewidth\":2},\"yaxis\":{\"gridcolor\":\"white\",\"linecolor\":\"white\",\"ticks\":\"\",\"title\":{\"standoff\":15},\"zerolinecolor\":\"white\",\"automargin\":true,\"zerolinewidth\":2},\"scene\":{\"xaxis\":{\"backgroundcolor\":\"#E5ECF6\",\"gridcolor\":\"white\",\"linecolor\":\"white\",\"showbackground\":true,\"ticks\":\"\",\"zerolinecolor\":\"white\",\"gridwidth\":2},\"yaxis\":{\"backgroundcolor\":\"#E5ECF6\",\"gridcolor\":\"white\",\"linecolor\":\"white\",\"showbackground\":true,\"ticks\":\"\",\"zerolinecolor\":\"white\",\"gridwidth\":2},\"zaxis\":{\"backgroundcolor\":\"#E5ECF6\",\"gridcolor\":\"white\",\"linecolor\":\"white\",\"showbackground\":true,\"ticks\":\"\",\"zerolinecolor\":\"white\",\"gridwidth\":2}},\"shapedefaults\":{\"line\":{\"color\":\"#2a3f5f\"}},\"annotationdefaults\":{\"arrowcolor\":\"#2a3f5f\",\"arrowhead\":0,\"arrowwidth\":1},\"geo\":{\"bgcolor\":\"white\",\"landcolor\":\"#E5ECF6\",\"subunitcolor\":\"white\",\"showland\":true,\"showlakes\":true,\"lakecolor\":\"white\"},\"title\":{\"x\":0.05},\"mapbox\":{\"style\":\"light\"}}}},                        {\"responsive\": true}                    ).then(function(){\n",
       "                            \n",
       "var gd = document.getElementById('16ee5e89-74a7-4ef7-9c61-a1b00c794838');\n",
       "var x = new MutationObserver(function (mutations, observer) {{\n",
       "        var display = window.getComputedStyle(gd).display;\n",
       "        if (!display || display === 'none') {{\n",
       "            console.log([gd, 'removed!']);\n",
       "            Plotly.purge(gd);\n",
       "            observer.disconnect();\n",
       "        }}\n",
       "}});\n",
       "\n",
       "// Listen for the removal of the full notebook cells\n",
       "var notebookContainer = gd.closest('#notebook-container');\n",
       "if (notebookContainer) {{\n",
       "    x.observe(notebookContainer, {childList: true});\n",
       "}}\n",
       "\n",
       "// Listen for the clearing of the current output cell\n",
       "var outputEl = gd.closest('.output');\n",
       "if (outputEl) {{\n",
       "    x.observe(outputEl, {childList: true});\n",
       "}}\n",
       "\n",
       "                        })                };                });            </script>        </div>"
      ]
     },
     "metadata": {},
     "output_type": "display_data"
    },
    {
     "data": {
      "application/vnd.plotly.v1+json": {
       "config": {
        "plotlyServerURL": "https://plot.ly"
       },
       "data": [
        {
         "box": {
          "visible": true
         },
         "meanline": {
          "visible": true
         },
         "name": "Insurance",
         "type": "violin",
         "x": [
          "Insurance",
          "Insurance",
          "Insurance",
          "Insurance",
          "Insurance",
          "Insurance",
          "Insurance",
          "Insurance",
          "Insurance",
          "Insurance",
          "Insurance",
          "Insurance",
          "Insurance",
          "Insurance",
          "Insurance",
          "Insurance",
          "Insurance",
          "Insurance",
          "Insurance",
          "Insurance",
          "Insurance",
          "Insurance",
          "Insurance",
          "Insurance",
          "Insurance",
          "Insurance",
          "Insurance",
          "Insurance",
          "Insurance",
          "Insurance"
         ],
         "y": [
          0.4344827586206896,
          0.4517241379310345,
          0.4137931034482758,
          0.4379310344827586,
          0.4551724137931034,
          0.4551724137931034,
          0.4275862068965517,
          0.4655172413793103,
          0.4620689655172413,
          0.4862068965517241,
          0.4517241379310345,
          0.4551724137931034,
          0.4103448275862069,
          0.4310344827586206,
          0.4551724137931034,
          0.4517241379310345,
          0.4172413793103448,
          0.4482758620689655,
          0.4620689655172413,
          0.4827586206896552,
          0.4413793103448276,
          0.4413793103448276,
          0.4310344827586206,
          0.4413793103448276,
          0.4551724137931034,
          0.4379310344827586,
          0.4310344827586206,
          0.4413793103448276,
          0.4379310344827586,
          0.4689655172413793
         ]
        },
        {
         "box": {
          "visible": true
         },
         "meanline": {
          "visible": true
         },
         "name": "Insurance3",
         "type": "violin",
         "x": [
          "Insurance3",
          "Insurance3",
          "Insurance3",
          "Insurance3",
          "Insurance3",
          "Insurance3",
          "Insurance3",
          "Insurance3",
          "Insurance3",
          "Insurance3",
          "Insurance3",
          "Insurance3",
          "Insurance3",
          "Insurance3",
          "Insurance3",
          "Insurance3",
          "Insurance3",
          "Insurance3",
          "Insurance3",
          "Insurance3",
          "Insurance3",
          "Insurance3",
          "Insurance3",
          "Insurance3",
          "Insurance3",
          "Insurance3",
          "Insurance3",
          "Insurance3",
          "Insurance3",
          "Insurance3"
         ],
         "y": [
          0.5238095238095238,
          0.5492063492063493,
          0.5297619047619048,
          0.5333333333333333,
          0.5301587301587302,
          0.5261904761904762,
          0.5212301587301588,
          0.5142857142857142,
          0.5107142857142857,
          0.55,
          0.5380952380952381,
          0.5476190476190477,
          0.5307539682539683,
          0.5386904761904762,
          0.5507936507936508,
          0.5178571428571429,
          0.525,
          0.5170634920634921,
          0.5353174603174603,
          0.5303571428571429,
          0.5396825396825397,
          0.5380952380952381,
          0.525,
          0.5321428571428571,
          0.5287698412698413,
          0.5317460317460317,
          0.5339285714285714,
          0.5432539682539682,
          0.5359126984126984,
          0.5242063492063492
         ]
        },
        {
         "box": {
          "visible": true
         },
         "meanline": {
          "visible": true
         },
         "name": "Insurance5",
         "type": "violin",
         "x": [
          "Insurance5",
          "Insurance5",
          "Insurance5",
          "Insurance5",
          "Insurance5",
          "Insurance5",
          "Insurance5",
          "Insurance5",
          "Insurance5",
          "Insurance5",
          "Insurance5",
          "Insurance5",
          "Insurance5",
          "Insurance5",
          "Insurance5",
          "Insurance5",
          "Insurance5",
          "Insurance5",
          "Insurance5",
          "Insurance5",
          "Insurance5",
          "Insurance5",
          "Insurance5",
          "Insurance5",
          "Insurance5",
          "Insurance5",
          "Insurance5",
          "Insurance5",
          "Insurance5",
          "Insurance5"
         ],
         "y": [
          0.492354318776691,
          0.4950406392065022,
          0.4920328787252606,
          0.4981861597097856,
          0.4886118381778941,
          0.5109060017449603,
          0.4969003995040639,
          0.4953850392616062,
          0.502181200348992,
          0.5072324011571842,
          0.4902879184460669,
          0.4912981586077053,
          0.4925379988060798,
          0.4949487991918079,
          0.4970151995224319,
          0.4939155990264958,
          0.5049823207971713,
          0.4927905588464894,
          0.5067732010837122,
          0.5044542407126785,
          0.4935482389677182,
          0.4927216788354686,
          0.4954768792763007,
          0.5014235202277633,
          0.5021352803416449,
          0.5059925609588097,
          0.4970151995224319,
          0.4978417596546815,
          0.4971299995407999,
          0.4952472792395647
         ]
        },
        {
         "box": {
          "visible": true
         },
         "meanline": {
          "visible": true
         },
         "name": "Insurance10",
         "type": "violin",
         "x": [
          "Insurance10",
          "Insurance10",
          "Insurance10",
          "Insurance10",
          "Insurance10",
          "Insurance10",
          "Insurance10",
          "Insurance10",
          "Insurance10",
          "Insurance10",
          "Insurance10",
          "Insurance10",
          "Insurance10",
          "Insurance10",
          "Insurance10",
          "Insurance10",
          "Insurance10",
          "Insurance10",
          "Insurance10",
          "Insurance10",
          "Insurance10",
          "Insurance10",
          "Insurance10",
          "Insurance10",
          "Insurance10",
          "Insurance10",
          "Insurance10",
          "Insurance10",
          "Insurance10",
          "Insurance10"
         ],
         "y": [
          0.5281814334085779,
          0.5081828442437923,
          0.5282519751693002,
          0.5199280474040632,
          0.5049026523702032,
          0.5325550225733634,
          0.5214799661399548,
          0.508323927765237,
          0.5163656884875847,
          0.513191309255079,
          0.535517776523702,
          0.519081546275395,
          0.5223970090293454,
          0.519081546275395,
          0.5162951467268623,
          0.5290279345372461,
          0.5270174943566591,
          0.5125564334085779,
          0.5276523702031602,
          0.5098053047404063,
          0.5367522573363431,
          0.5262415349887133,
          0.5302976862302483,
          0.5290632054176072,
          0.5256066591422122,
          0.5303682279909706,
          0.5313910835214447,
          0.5242663656884876,
          0.5311794582392777,
          0.5188346501128668
         ]
        }
       ],
       "layout": {
        "template": {
         "data": {
          "bar": [
           {
            "error_x": {
             "color": "#2a3f5f"
            },
            "error_y": {
             "color": "#2a3f5f"
            },
            "marker": {
             "line": {
              "color": "#E5ECF6",
              "width": 0.5
             },
             "pattern": {
              "fillmode": "overlay",
              "size": 10,
              "solidity": 0.2
             }
            },
            "type": "bar"
           }
          ],
          "barpolar": [
           {
            "marker": {
             "line": {
              "color": "#E5ECF6",
              "width": 0.5
             },
             "pattern": {
              "fillmode": "overlay",
              "size": 10,
              "solidity": 0.2
             }
            },
            "type": "barpolar"
           }
          ],
          "carpet": [
           {
            "aaxis": {
             "endlinecolor": "#2a3f5f",
             "gridcolor": "white",
             "linecolor": "white",
             "minorgridcolor": "white",
             "startlinecolor": "#2a3f5f"
            },
            "baxis": {
             "endlinecolor": "#2a3f5f",
             "gridcolor": "white",
             "linecolor": "white",
             "minorgridcolor": "white",
             "startlinecolor": "#2a3f5f"
            },
            "type": "carpet"
           }
          ],
          "choropleth": [
           {
            "colorbar": {
             "outlinewidth": 0,
             "ticks": ""
            },
            "type": "choropleth"
           }
          ],
          "contour": [
           {
            "colorbar": {
             "outlinewidth": 0,
             "ticks": ""
            },
            "colorscale": [
             [
              0,
              "#0d0887"
             ],
             [
              0.1111111111111111,
              "#46039f"
             ],
             [
              0.2222222222222222,
              "#7201a8"
             ],
             [
              0.3333333333333333,
              "#9c179e"
             ],
             [
              0.4444444444444444,
              "#bd3786"
             ],
             [
              0.5555555555555556,
              "#d8576b"
             ],
             [
              0.6666666666666666,
              "#ed7953"
             ],
             [
              0.7777777777777778,
              "#fb9f3a"
             ],
             [
              0.8888888888888888,
              "#fdca26"
             ],
             [
              1,
              "#f0f921"
             ]
            ],
            "type": "contour"
           }
          ],
          "contourcarpet": [
           {
            "colorbar": {
             "outlinewidth": 0,
             "ticks": ""
            },
            "type": "contourcarpet"
           }
          ],
          "heatmap": [
           {
            "colorbar": {
             "outlinewidth": 0,
             "ticks": ""
            },
            "colorscale": [
             [
              0,
              "#0d0887"
             ],
             [
              0.1111111111111111,
              "#46039f"
             ],
             [
              0.2222222222222222,
              "#7201a8"
             ],
             [
              0.3333333333333333,
              "#9c179e"
             ],
             [
              0.4444444444444444,
              "#bd3786"
             ],
             [
              0.5555555555555556,
              "#d8576b"
             ],
             [
              0.6666666666666666,
              "#ed7953"
             ],
             [
              0.7777777777777778,
              "#fb9f3a"
             ],
             [
              0.8888888888888888,
              "#fdca26"
             ],
             [
              1,
              "#f0f921"
             ]
            ],
            "type": "heatmap"
           }
          ],
          "heatmapgl": [
           {
            "colorbar": {
             "outlinewidth": 0,
             "ticks": ""
            },
            "colorscale": [
             [
              0,
              "#0d0887"
             ],
             [
              0.1111111111111111,
              "#46039f"
             ],
             [
              0.2222222222222222,
              "#7201a8"
             ],
             [
              0.3333333333333333,
              "#9c179e"
             ],
             [
              0.4444444444444444,
              "#bd3786"
             ],
             [
              0.5555555555555556,
              "#d8576b"
             ],
             [
              0.6666666666666666,
              "#ed7953"
             ],
             [
              0.7777777777777778,
              "#fb9f3a"
             ],
             [
              0.8888888888888888,
              "#fdca26"
             ],
             [
              1,
              "#f0f921"
             ]
            ],
            "type": "heatmapgl"
           }
          ],
          "histogram": [
           {
            "marker": {
             "pattern": {
              "fillmode": "overlay",
              "size": 10,
              "solidity": 0.2
             }
            },
            "type": "histogram"
           }
          ],
          "histogram2d": [
           {
            "colorbar": {
             "outlinewidth": 0,
             "ticks": ""
            },
            "colorscale": [
             [
              0,
              "#0d0887"
             ],
             [
              0.1111111111111111,
              "#46039f"
             ],
             [
              0.2222222222222222,
              "#7201a8"
             ],
             [
              0.3333333333333333,
              "#9c179e"
             ],
             [
              0.4444444444444444,
              "#bd3786"
             ],
             [
              0.5555555555555556,
              "#d8576b"
             ],
             [
              0.6666666666666666,
              "#ed7953"
             ],
             [
              0.7777777777777778,
              "#fb9f3a"
             ],
             [
              0.8888888888888888,
              "#fdca26"
             ],
             [
              1,
              "#f0f921"
             ]
            ],
            "type": "histogram2d"
           }
          ],
          "histogram2dcontour": [
           {
            "colorbar": {
             "outlinewidth": 0,
             "ticks": ""
            },
            "colorscale": [
             [
              0,
              "#0d0887"
             ],
             [
              0.1111111111111111,
              "#46039f"
             ],
             [
              0.2222222222222222,
              "#7201a8"
             ],
             [
              0.3333333333333333,
              "#9c179e"
             ],
             [
              0.4444444444444444,
              "#bd3786"
             ],
             [
              0.5555555555555556,
              "#d8576b"
             ],
             [
              0.6666666666666666,
              "#ed7953"
             ],
             [
              0.7777777777777778,
              "#fb9f3a"
             ],
             [
              0.8888888888888888,
              "#fdca26"
             ],
             [
              1,
              "#f0f921"
             ]
            ],
            "type": "histogram2dcontour"
           }
          ],
          "mesh3d": [
           {
            "colorbar": {
             "outlinewidth": 0,
             "ticks": ""
            },
            "type": "mesh3d"
           }
          ],
          "parcoords": [
           {
            "line": {
             "colorbar": {
              "outlinewidth": 0,
              "ticks": ""
             }
            },
            "type": "parcoords"
           }
          ],
          "pie": [
           {
            "automargin": true,
            "type": "pie"
           }
          ],
          "scatter": [
           {
            "fillpattern": {
             "fillmode": "overlay",
             "size": 10,
             "solidity": 0.2
            },
            "type": "scatter"
           }
          ],
          "scatter3d": [
           {
            "line": {
             "colorbar": {
              "outlinewidth": 0,
              "ticks": ""
             }
            },
            "marker": {
             "colorbar": {
              "outlinewidth": 0,
              "ticks": ""
             }
            },
            "type": "scatter3d"
           }
          ],
          "scattercarpet": [
           {
            "marker": {
             "colorbar": {
              "outlinewidth": 0,
              "ticks": ""
             }
            },
            "type": "scattercarpet"
           }
          ],
          "scattergeo": [
           {
            "marker": {
             "colorbar": {
              "outlinewidth": 0,
              "ticks": ""
             }
            },
            "type": "scattergeo"
           }
          ],
          "scattergl": [
           {
            "marker": {
             "colorbar": {
              "outlinewidth": 0,
              "ticks": ""
             }
            },
            "type": "scattergl"
           }
          ],
          "scattermapbox": [
           {
            "marker": {
             "colorbar": {
              "outlinewidth": 0,
              "ticks": ""
             }
            },
            "type": "scattermapbox"
           }
          ],
          "scatterpolar": [
           {
            "marker": {
             "colorbar": {
              "outlinewidth": 0,
              "ticks": ""
             }
            },
            "type": "scatterpolar"
           }
          ],
          "scatterpolargl": [
           {
            "marker": {
             "colorbar": {
              "outlinewidth": 0,
              "ticks": ""
             }
            },
            "type": "scatterpolargl"
           }
          ],
          "scatterternary": [
           {
            "marker": {
             "colorbar": {
              "outlinewidth": 0,
              "ticks": ""
             }
            },
            "type": "scatterternary"
           }
          ],
          "surface": [
           {
            "colorbar": {
             "outlinewidth": 0,
             "ticks": ""
            },
            "colorscale": [
             [
              0,
              "#0d0887"
             ],
             [
              0.1111111111111111,
              "#46039f"
             ],
             [
              0.2222222222222222,
              "#7201a8"
             ],
             [
              0.3333333333333333,
              "#9c179e"
             ],
             [
              0.4444444444444444,
              "#bd3786"
             ],
             [
              0.5555555555555556,
              "#d8576b"
             ],
             [
              0.6666666666666666,
              "#ed7953"
             ],
             [
              0.7777777777777778,
              "#fb9f3a"
             ],
             [
              0.8888888888888888,
              "#fdca26"
             ],
             [
              1,
              "#f0f921"
             ]
            ],
            "type": "surface"
           }
          ],
          "table": [
           {
            "cells": {
             "fill": {
              "color": "#EBF0F8"
             },
             "line": {
              "color": "white"
             }
            },
            "header": {
             "fill": {
              "color": "#C8D4E3"
             },
             "line": {
              "color": "white"
             }
            },
            "type": "table"
           }
          ]
         },
         "layout": {
          "annotationdefaults": {
           "arrowcolor": "#2a3f5f",
           "arrowhead": 0,
           "arrowwidth": 1
          },
          "autotypenumbers": "strict",
          "coloraxis": {
           "colorbar": {
            "outlinewidth": 0,
            "ticks": ""
           }
          },
          "colorscale": {
           "diverging": [
            [
             0,
             "#8e0152"
            ],
            [
             0.1,
             "#c51b7d"
            ],
            [
             0.2,
             "#de77ae"
            ],
            [
             0.3,
             "#f1b6da"
            ],
            [
             0.4,
             "#fde0ef"
            ],
            [
             0.5,
             "#f7f7f7"
            ],
            [
             0.6,
             "#e6f5d0"
            ],
            [
             0.7,
             "#b8e186"
            ],
            [
             0.8,
             "#7fbc41"
            ],
            [
             0.9,
             "#4d9221"
            ],
            [
             1,
             "#276419"
            ]
           ],
           "sequential": [
            [
             0,
             "#0d0887"
            ],
            [
             0.1111111111111111,
             "#46039f"
            ],
            [
             0.2222222222222222,
             "#7201a8"
            ],
            [
             0.3333333333333333,
             "#9c179e"
            ],
            [
             0.4444444444444444,
             "#bd3786"
            ],
            [
             0.5555555555555556,
             "#d8576b"
            ],
            [
             0.6666666666666666,
             "#ed7953"
            ],
            [
             0.7777777777777778,
             "#fb9f3a"
            ],
            [
             0.8888888888888888,
             "#fdca26"
            ],
            [
             1,
             "#f0f921"
            ]
           ],
           "sequentialminus": [
            [
             0,
             "#0d0887"
            ],
            [
             0.1111111111111111,
             "#46039f"
            ],
            [
             0.2222222222222222,
             "#7201a8"
            ],
            [
             0.3333333333333333,
             "#9c179e"
            ],
            [
             0.4444444444444444,
             "#bd3786"
            ],
            [
             0.5555555555555556,
             "#d8576b"
            ],
            [
             0.6666666666666666,
             "#ed7953"
            ],
            [
             0.7777777777777778,
             "#fb9f3a"
            ],
            [
             0.8888888888888888,
             "#fdca26"
            ],
            [
             1,
             "#f0f921"
            ]
           ]
          },
          "colorway": [
           "#636efa",
           "#EF553B",
           "#00cc96",
           "#ab63fa",
           "#FFA15A",
           "#19d3f3",
           "#FF6692",
           "#B6E880",
           "#FF97FF",
           "#FECB52"
          ],
          "font": {
           "color": "#2a3f5f"
          },
          "geo": {
           "bgcolor": "white",
           "lakecolor": "white",
           "landcolor": "#E5ECF6",
           "showlakes": true,
           "showland": true,
           "subunitcolor": "white"
          },
          "hoverlabel": {
           "align": "left"
          },
          "hovermode": "closest",
          "mapbox": {
           "style": "light"
          },
          "paper_bgcolor": "white",
          "plot_bgcolor": "#E5ECF6",
          "polar": {
           "angularaxis": {
            "gridcolor": "white",
            "linecolor": "white",
            "ticks": ""
           },
           "bgcolor": "#E5ECF6",
           "radialaxis": {
            "gridcolor": "white",
            "linecolor": "white",
            "ticks": ""
           }
          },
          "scene": {
           "xaxis": {
            "backgroundcolor": "#E5ECF6",
            "gridcolor": "white",
            "gridwidth": 2,
            "linecolor": "white",
            "showbackground": true,
            "ticks": "",
            "zerolinecolor": "white"
           },
           "yaxis": {
            "backgroundcolor": "#E5ECF6",
            "gridcolor": "white",
            "gridwidth": 2,
            "linecolor": "white",
            "showbackground": true,
            "ticks": "",
            "zerolinecolor": "white"
           },
           "zaxis": {
            "backgroundcolor": "#E5ECF6",
            "gridcolor": "white",
            "gridwidth": 2,
            "linecolor": "white",
            "showbackground": true,
            "ticks": "",
            "zerolinecolor": "white"
           }
          },
          "shapedefaults": {
           "line": {
            "color": "#2a3f5f"
           }
          },
          "ternary": {
           "aaxis": {
            "gridcolor": "white",
            "linecolor": "white",
            "ticks": ""
           },
           "baxis": {
            "gridcolor": "white",
            "linecolor": "white",
            "ticks": ""
           },
           "bgcolor": "#E5ECF6",
           "caxis": {
            "gridcolor": "white",
            "linecolor": "white",
            "ticks": ""
           }
          },
          "title": {
           "x": 0.05
          },
          "xaxis": {
           "automargin": true,
           "gridcolor": "white",
           "linecolor": "white",
           "ticks": "",
           "title": {
            "standoff": 15
           },
           "zerolinecolor": "white",
           "zerolinewidth": 2
          },
          "yaxis": {
           "automargin": true,
           "gridcolor": "white",
           "linecolor": "white",
           "ticks": "",
           "title": {
            "standoff": 15
           },
           "zerolinecolor": "white",
           "zerolinewidth": 2
          }
         }
        }
       }
      },
      "text/html": [
       "<div>                            <div id=\"5b3c03a6-1679-4020-8a04-9bafb9dddaf3\" class=\"plotly-graph-div\" style=\"height:525px; width:100%;\"></div>            <script type=\"text/javascript\">                require([\"plotly\"], function(Plotly) {                    window.PLOTLYENV=window.PLOTLYENV || {};                                    if (document.getElementById(\"5b3c03a6-1679-4020-8a04-9bafb9dddaf3\")) {                    Plotly.newPlot(                        \"5b3c03a6-1679-4020-8a04-9bafb9dddaf3\",                        [{\"box\":{\"visible\":true},\"meanline\":{\"visible\":true},\"name\":\"Insurance\",\"x\":[\"Insurance\",\"Insurance\",\"Insurance\",\"Insurance\",\"Insurance\",\"Insurance\",\"Insurance\",\"Insurance\",\"Insurance\",\"Insurance\",\"Insurance\",\"Insurance\",\"Insurance\",\"Insurance\",\"Insurance\",\"Insurance\",\"Insurance\",\"Insurance\",\"Insurance\",\"Insurance\",\"Insurance\",\"Insurance\",\"Insurance\",\"Insurance\",\"Insurance\",\"Insurance\",\"Insurance\",\"Insurance\",\"Insurance\",\"Insurance\"],\"y\":[0.4344827586206896,0.4517241379310345,0.4137931034482758,0.4379310344827586,0.4551724137931034,0.4551724137931034,0.4275862068965517,0.4655172413793103,0.4620689655172413,0.4862068965517241,0.4517241379310345,0.4551724137931034,0.4103448275862069,0.4310344827586206,0.4551724137931034,0.4517241379310345,0.4172413793103448,0.4482758620689655,0.4620689655172413,0.4827586206896552,0.4413793103448276,0.4413793103448276,0.4310344827586206,0.4413793103448276,0.4551724137931034,0.4379310344827586,0.4310344827586206,0.4413793103448276,0.4379310344827586,0.4689655172413793],\"type\":\"violin\"},{\"box\":{\"visible\":true},\"meanline\":{\"visible\":true},\"name\":\"Insurance3\",\"x\":[\"Insurance3\",\"Insurance3\",\"Insurance3\",\"Insurance3\",\"Insurance3\",\"Insurance3\",\"Insurance3\",\"Insurance3\",\"Insurance3\",\"Insurance3\",\"Insurance3\",\"Insurance3\",\"Insurance3\",\"Insurance3\",\"Insurance3\",\"Insurance3\",\"Insurance3\",\"Insurance3\",\"Insurance3\",\"Insurance3\",\"Insurance3\",\"Insurance3\",\"Insurance3\",\"Insurance3\",\"Insurance3\",\"Insurance3\",\"Insurance3\",\"Insurance3\",\"Insurance3\",\"Insurance3\"],\"y\":[0.5238095238095238,0.5492063492063493,0.5297619047619048,0.5333333333333333,0.5301587301587302,0.5261904761904762,0.5212301587301588,0.5142857142857142,0.5107142857142857,0.55,0.5380952380952381,0.5476190476190477,0.5307539682539683,0.5386904761904762,0.5507936507936508,0.5178571428571429,0.525,0.5170634920634921,0.5353174603174603,0.5303571428571429,0.5396825396825397,0.5380952380952381,0.525,0.5321428571428571,0.5287698412698413,0.5317460317460317,0.5339285714285714,0.5432539682539682,0.5359126984126984,0.5242063492063492],\"type\":\"violin\"},{\"box\":{\"visible\":true},\"meanline\":{\"visible\":true},\"name\":\"Insurance5\",\"x\":[\"Insurance5\",\"Insurance5\",\"Insurance5\",\"Insurance5\",\"Insurance5\",\"Insurance5\",\"Insurance5\",\"Insurance5\",\"Insurance5\",\"Insurance5\",\"Insurance5\",\"Insurance5\",\"Insurance5\",\"Insurance5\",\"Insurance5\",\"Insurance5\",\"Insurance5\",\"Insurance5\",\"Insurance5\",\"Insurance5\",\"Insurance5\",\"Insurance5\",\"Insurance5\",\"Insurance5\",\"Insurance5\",\"Insurance5\",\"Insurance5\",\"Insurance5\",\"Insurance5\",\"Insurance5\"],\"y\":[0.492354318776691,0.4950406392065022,0.4920328787252606,0.4981861597097856,0.4886118381778941,0.5109060017449603,0.4969003995040639,0.4953850392616062,0.502181200348992,0.5072324011571842,0.4902879184460669,0.4912981586077053,0.4925379988060798,0.4949487991918079,0.4970151995224319,0.4939155990264958,0.5049823207971713,0.4927905588464894,0.5067732010837122,0.5044542407126785,0.4935482389677182,0.4927216788354686,0.4954768792763007,0.5014235202277633,0.5021352803416449,0.5059925609588097,0.4970151995224319,0.4978417596546815,0.4971299995407999,0.4952472792395647],\"type\":\"violin\"},{\"box\":{\"visible\":true},\"meanline\":{\"visible\":true},\"name\":\"Insurance10\",\"x\":[\"Insurance10\",\"Insurance10\",\"Insurance10\",\"Insurance10\",\"Insurance10\",\"Insurance10\",\"Insurance10\",\"Insurance10\",\"Insurance10\",\"Insurance10\",\"Insurance10\",\"Insurance10\",\"Insurance10\",\"Insurance10\",\"Insurance10\",\"Insurance10\",\"Insurance10\",\"Insurance10\",\"Insurance10\",\"Insurance10\",\"Insurance10\",\"Insurance10\",\"Insurance10\",\"Insurance10\",\"Insurance10\",\"Insurance10\",\"Insurance10\",\"Insurance10\",\"Insurance10\",\"Insurance10\"],\"y\":[0.5281814334085779,0.5081828442437923,0.5282519751693002,0.5199280474040632,0.5049026523702032,0.5325550225733634,0.5214799661399548,0.508323927765237,0.5163656884875847,0.513191309255079,0.535517776523702,0.519081546275395,0.5223970090293454,0.519081546275395,0.5162951467268623,0.5290279345372461,0.5270174943566591,0.5125564334085779,0.5276523702031602,0.5098053047404063,0.5367522573363431,0.5262415349887133,0.5302976862302483,0.5290632054176072,0.5256066591422122,0.5303682279909706,0.5313910835214447,0.5242663656884876,0.5311794582392777,0.5188346501128668],\"type\":\"violin\"}],                        {\"template\":{\"data\":{\"histogram2dcontour\":[{\"type\":\"histogram2dcontour\",\"colorbar\":{\"outlinewidth\":0,\"ticks\":\"\"},\"colorscale\":[[0.0,\"#0d0887\"],[0.1111111111111111,\"#46039f\"],[0.2222222222222222,\"#7201a8\"],[0.3333333333333333,\"#9c179e\"],[0.4444444444444444,\"#bd3786\"],[0.5555555555555556,\"#d8576b\"],[0.6666666666666666,\"#ed7953\"],[0.7777777777777778,\"#fb9f3a\"],[0.8888888888888888,\"#fdca26\"],[1.0,\"#f0f921\"]]}],\"choropleth\":[{\"type\":\"choropleth\",\"colorbar\":{\"outlinewidth\":0,\"ticks\":\"\"}}],\"histogram2d\":[{\"type\":\"histogram2d\",\"colorbar\":{\"outlinewidth\":0,\"ticks\":\"\"},\"colorscale\":[[0.0,\"#0d0887\"],[0.1111111111111111,\"#46039f\"],[0.2222222222222222,\"#7201a8\"],[0.3333333333333333,\"#9c179e\"],[0.4444444444444444,\"#bd3786\"],[0.5555555555555556,\"#d8576b\"],[0.6666666666666666,\"#ed7953\"],[0.7777777777777778,\"#fb9f3a\"],[0.8888888888888888,\"#fdca26\"],[1.0,\"#f0f921\"]]}],\"heatmap\":[{\"type\":\"heatmap\",\"colorbar\":{\"outlinewidth\":0,\"ticks\":\"\"},\"colorscale\":[[0.0,\"#0d0887\"],[0.1111111111111111,\"#46039f\"],[0.2222222222222222,\"#7201a8\"],[0.3333333333333333,\"#9c179e\"],[0.4444444444444444,\"#bd3786\"],[0.5555555555555556,\"#d8576b\"],[0.6666666666666666,\"#ed7953\"],[0.7777777777777778,\"#fb9f3a\"],[0.8888888888888888,\"#fdca26\"],[1.0,\"#f0f921\"]]}],\"heatmapgl\":[{\"type\":\"heatmapgl\",\"colorbar\":{\"outlinewidth\":0,\"ticks\":\"\"},\"colorscale\":[[0.0,\"#0d0887\"],[0.1111111111111111,\"#46039f\"],[0.2222222222222222,\"#7201a8\"],[0.3333333333333333,\"#9c179e\"],[0.4444444444444444,\"#bd3786\"],[0.5555555555555556,\"#d8576b\"],[0.6666666666666666,\"#ed7953\"],[0.7777777777777778,\"#fb9f3a\"],[0.8888888888888888,\"#fdca26\"],[1.0,\"#f0f921\"]]}],\"contourcarpet\":[{\"type\":\"contourcarpet\",\"colorbar\":{\"outlinewidth\":0,\"ticks\":\"\"}}],\"contour\":[{\"type\":\"contour\",\"colorbar\":{\"outlinewidth\":0,\"ticks\":\"\"},\"colorscale\":[[0.0,\"#0d0887\"],[0.1111111111111111,\"#46039f\"],[0.2222222222222222,\"#7201a8\"],[0.3333333333333333,\"#9c179e\"],[0.4444444444444444,\"#bd3786\"],[0.5555555555555556,\"#d8576b\"],[0.6666666666666666,\"#ed7953\"],[0.7777777777777778,\"#fb9f3a\"],[0.8888888888888888,\"#fdca26\"],[1.0,\"#f0f921\"]]}],\"surface\":[{\"type\":\"surface\",\"colorbar\":{\"outlinewidth\":0,\"ticks\":\"\"},\"colorscale\":[[0.0,\"#0d0887\"],[0.1111111111111111,\"#46039f\"],[0.2222222222222222,\"#7201a8\"],[0.3333333333333333,\"#9c179e\"],[0.4444444444444444,\"#bd3786\"],[0.5555555555555556,\"#d8576b\"],[0.6666666666666666,\"#ed7953\"],[0.7777777777777778,\"#fb9f3a\"],[0.8888888888888888,\"#fdca26\"],[1.0,\"#f0f921\"]]}],\"mesh3d\":[{\"type\":\"mesh3d\",\"colorbar\":{\"outlinewidth\":0,\"ticks\":\"\"}}],\"scatter\":[{\"fillpattern\":{\"fillmode\":\"overlay\",\"size\":10,\"solidity\":0.2},\"type\":\"scatter\"}],\"parcoords\":[{\"type\":\"parcoords\",\"line\":{\"colorbar\":{\"outlinewidth\":0,\"ticks\":\"\"}}}],\"scatterpolargl\":[{\"type\":\"scatterpolargl\",\"marker\":{\"colorbar\":{\"outlinewidth\":0,\"ticks\":\"\"}}}],\"bar\":[{\"error_x\":{\"color\":\"#2a3f5f\"},\"error_y\":{\"color\":\"#2a3f5f\"},\"marker\":{\"line\":{\"color\":\"#E5ECF6\",\"width\":0.5},\"pattern\":{\"fillmode\":\"overlay\",\"size\":10,\"solidity\":0.2}},\"type\":\"bar\"}],\"scattergeo\":[{\"type\":\"scattergeo\",\"marker\":{\"colorbar\":{\"outlinewidth\":0,\"ticks\":\"\"}}}],\"scatterpolar\":[{\"type\":\"scatterpolar\",\"marker\":{\"colorbar\":{\"outlinewidth\":0,\"ticks\":\"\"}}}],\"histogram\":[{\"marker\":{\"pattern\":{\"fillmode\":\"overlay\",\"size\":10,\"solidity\":0.2}},\"type\":\"histogram\"}],\"scattergl\":[{\"type\":\"scattergl\",\"marker\":{\"colorbar\":{\"outlinewidth\":0,\"ticks\":\"\"}}}],\"scatter3d\":[{\"type\":\"scatter3d\",\"line\":{\"colorbar\":{\"outlinewidth\":0,\"ticks\":\"\"}},\"marker\":{\"colorbar\":{\"outlinewidth\":0,\"ticks\":\"\"}}}],\"scattermapbox\":[{\"type\":\"scattermapbox\",\"marker\":{\"colorbar\":{\"outlinewidth\":0,\"ticks\":\"\"}}}],\"scatterternary\":[{\"type\":\"scatterternary\",\"marker\":{\"colorbar\":{\"outlinewidth\":0,\"ticks\":\"\"}}}],\"scattercarpet\":[{\"type\":\"scattercarpet\",\"marker\":{\"colorbar\":{\"outlinewidth\":0,\"ticks\":\"\"}}}],\"carpet\":[{\"aaxis\":{\"endlinecolor\":\"#2a3f5f\",\"gridcolor\":\"white\",\"linecolor\":\"white\",\"minorgridcolor\":\"white\",\"startlinecolor\":\"#2a3f5f\"},\"baxis\":{\"endlinecolor\":\"#2a3f5f\",\"gridcolor\":\"white\",\"linecolor\":\"white\",\"minorgridcolor\":\"white\",\"startlinecolor\":\"#2a3f5f\"},\"type\":\"carpet\"}],\"table\":[{\"cells\":{\"fill\":{\"color\":\"#EBF0F8\"},\"line\":{\"color\":\"white\"}},\"header\":{\"fill\":{\"color\":\"#C8D4E3\"},\"line\":{\"color\":\"white\"}},\"type\":\"table\"}],\"barpolar\":[{\"marker\":{\"line\":{\"color\":\"#E5ECF6\",\"width\":0.5},\"pattern\":{\"fillmode\":\"overlay\",\"size\":10,\"solidity\":0.2}},\"type\":\"barpolar\"}],\"pie\":[{\"automargin\":true,\"type\":\"pie\"}]},\"layout\":{\"autotypenumbers\":\"strict\",\"colorway\":[\"#636efa\",\"#EF553B\",\"#00cc96\",\"#ab63fa\",\"#FFA15A\",\"#19d3f3\",\"#FF6692\",\"#B6E880\",\"#FF97FF\",\"#FECB52\"],\"font\":{\"color\":\"#2a3f5f\"},\"hovermode\":\"closest\",\"hoverlabel\":{\"align\":\"left\"},\"paper_bgcolor\":\"white\",\"plot_bgcolor\":\"#E5ECF6\",\"polar\":{\"bgcolor\":\"#E5ECF6\",\"angularaxis\":{\"gridcolor\":\"white\",\"linecolor\":\"white\",\"ticks\":\"\"},\"radialaxis\":{\"gridcolor\":\"white\",\"linecolor\":\"white\",\"ticks\":\"\"}},\"ternary\":{\"bgcolor\":\"#E5ECF6\",\"aaxis\":{\"gridcolor\":\"white\",\"linecolor\":\"white\",\"ticks\":\"\"},\"baxis\":{\"gridcolor\":\"white\",\"linecolor\":\"white\",\"ticks\":\"\"},\"caxis\":{\"gridcolor\":\"white\",\"linecolor\":\"white\",\"ticks\":\"\"}},\"coloraxis\":{\"colorbar\":{\"outlinewidth\":0,\"ticks\":\"\"}},\"colorscale\":{\"sequential\":[[0.0,\"#0d0887\"],[0.1111111111111111,\"#46039f\"],[0.2222222222222222,\"#7201a8\"],[0.3333333333333333,\"#9c179e\"],[0.4444444444444444,\"#bd3786\"],[0.5555555555555556,\"#d8576b\"],[0.6666666666666666,\"#ed7953\"],[0.7777777777777778,\"#fb9f3a\"],[0.8888888888888888,\"#fdca26\"],[1.0,\"#f0f921\"]],\"sequentialminus\":[[0.0,\"#0d0887\"],[0.1111111111111111,\"#46039f\"],[0.2222222222222222,\"#7201a8\"],[0.3333333333333333,\"#9c179e\"],[0.4444444444444444,\"#bd3786\"],[0.5555555555555556,\"#d8576b\"],[0.6666666666666666,\"#ed7953\"],[0.7777777777777778,\"#fb9f3a\"],[0.8888888888888888,\"#fdca26\"],[1.0,\"#f0f921\"]],\"diverging\":[[0,\"#8e0152\"],[0.1,\"#c51b7d\"],[0.2,\"#de77ae\"],[0.3,\"#f1b6da\"],[0.4,\"#fde0ef\"],[0.5,\"#f7f7f7\"],[0.6,\"#e6f5d0\"],[0.7,\"#b8e186\"],[0.8,\"#7fbc41\"],[0.9,\"#4d9221\"],[1,\"#276419\"]]},\"xaxis\":{\"gridcolor\":\"white\",\"linecolor\":\"white\",\"ticks\":\"\",\"title\":{\"standoff\":15},\"zerolinecolor\":\"white\",\"automargin\":true,\"zerolinewidth\":2},\"yaxis\":{\"gridcolor\":\"white\",\"linecolor\":\"white\",\"ticks\":\"\",\"title\":{\"standoff\":15},\"zerolinecolor\":\"white\",\"automargin\":true,\"zerolinewidth\":2},\"scene\":{\"xaxis\":{\"backgroundcolor\":\"#E5ECF6\",\"gridcolor\":\"white\",\"linecolor\":\"white\",\"showbackground\":true,\"ticks\":\"\",\"zerolinecolor\":\"white\",\"gridwidth\":2},\"yaxis\":{\"backgroundcolor\":\"#E5ECF6\",\"gridcolor\":\"white\",\"linecolor\":\"white\",\"showbackground\":true,\"ticks\":\"\",\"zerolinecolor\":\"white\",\"gridwidth\":2},\"zaxis\":{\"backgroundcolor\":\"#E5ECF6\",\"gridcolor\":\"white\",\"linecolor\":\"white\",\"showbackground\":true,\"ticks\":\"\",\"zerolinecolor\":\"white\",\"gridwidth\":2}},\"shapedefaults\":{\"line\":{\"color\":\"#2a3f5f\"}},\"annotationdefaults\":{\"arrowcolor\":\"#2a3f5f\",\"arrowhead\":0,\"arrowwidth\":1},\"geo\":{\"bgcolor\":\"white\",\"landcolor\":\"#E5ECF6\",\"subunitcolor\":\"white\",\"showland\":true,\"showlakes\":true,\"lakecolor\":\"white\"},\"title\":{\"x\":0.05},\"mapbox\":{\"style\":\"light\"}}}},                        {\"responsive\": true}                    ).then(function(){\n",
       "                            \n",
       "var gd = document.getElementById('5b3c03a6-1679-4020-8a04-9bafb9dddaf3');\n",
       "var x = new MutationObserver(function (mutations, observer) {{\n",
       "        var display = window.getComputedStyle(gd).display;\n",
       "        if (!display || display === 'none') {{\n",
       "            console.log([gd, 'removed!']);\n",
       "            Plotly.purge(gd);\n",
       "            observer.disconnect();\n",
       "        }}\n",
       "}});\n",
       "\n",
       "// Listen for the removal of the full notebook cells\n",
       "var notebookContainer = gd.closest('#notebook-container');\n",
       "if (notebookContainer) {{\n",
       "    x.observe(notebookContainer, {childList: true});\n",
       "}}\n",
       "\n",
       "// Listen for the clearing of the current output cell\n",
       "var outputEl = gd.closest('.output');\n",
       "if (outputEl) {{\n",
       "    x.observe(outputEl, {childList: true});\n",
       "}}\n",
       "\n",
       "                        })                };                });            </script>        </div>"
      ]
     },
     "metadata": {},
     "output_type": "display_data"
    },
    {
     "data": {
      "application/vnd.plotly.v1+json": {
       "config": {
        "plotlyServerURL": "https://plot.ly"
       },
       "data": [
        {
         "box": {
          "visible": true
         },
         "meanline": {
          "visible": true
         },
         "name": "Network1_amp",
         "type": "violin",
         "x": [
          "Network1_amp",
          "Network1_amp",
          "Network1_amp",
          "Network1_amp",
          "Network1_amp",
          "Network1_amp",
          "Network1_amp",
          "Network1_amp",
          "Network1_amp",
          "Network1_amp",
          "Network1_amp",
          "Network1_amp",
          "Network1_amp",
          "Network1_amp",
          "Network1_amp",
          "Network1_amp",
          "Network1_amp",
          "Network1_amp",
          "Network1_amp",
          "Network1_amp",
          "Network1_amp",
          "Network1_amp",
          "Network1_amp",
          "Network1_amp",
          "Network1_amp",
          "Network1_amp",
          "Network1_amp",
          "Network1_amp",
          "Network1_amp",
          "Network1_amp",
          "Network1_amp",
          "Network1_amp",
          "Network1_amp",
          "Network1_amp",
          "Network1_amp",
          "Network1_amp",
          "Network1_amp",
          "Network1_amp",
          "Network1_amp",
          "Network1_amp",
          "Network1_amp",
          "Network1_amp",
          "Network1_amp",
          "Network1_amp",
          "Network1_amp",
          "Network1_amp",
          "Network1_amp",
          "Network1_amp",
          "Network1_amp",
          "Network1_amp",
          "Network1_amp",
          "Network1_amp",
          "Network1_amp",
          "Network1_amp",
          "Network1_amp",
          "Network1_amp",
          "Network1_amp",
          "Network1_amp",
          "Network1_amp",
          "Network1_amp"
         ],
         "y": [
          0.375,
          0.25,
          0.5416666666666666,
          0.25,
          0.4583333333333333,
          0.4166666666666667,
          0.1666666666666666,
          0.25,
          0.375,
          0.1666666666666666,
          0.5416666666666666,
          0.2916666666666667,
          0.6666666666666666,
          0.7916666666666666,
          0.25,
          0.375,
          0.2083333333333333,
          0.25,
          0.4583333333333333,
          0.2916666666666667,
          0.5,
          0.25,
          0.4166666666666667,
          0.375,
          0.25,
          0.1666666666666666,
          0.5,
          0.25,
          0.2916666666666667,
          0.375,
          0.25,
          0.25,
          0.5416666666666666,
          0.5833333333333334,
          0.25,
          0.7083333333333334,
          0.25,
          0.2083333333333333,
          0.2916666666666667,
          0.4583333333333333,
          0.2083333333333333,
          0.2083333333333333,
          0.375,
          0.5,
          0.5,
          0.4583333333333333,
          0.1666666666666666,
          0.25,
          0.5,
          0.5,
          0.2083333333333333,
          0.2916666666666667,
          0.25,
          0.375,
          0.2916666666666667,
          0.1666666666666666,
          0.3333333333333333,
          0.4166666666666667,
          0.2916666666666667,
          0.375
         ]
        },
        {
         "box": {
          "visible": true
         },
         "meanline": {
          "visible": true
         },
         "name": "Network2_amp",
         "type": "violin",
         "x": [
          "Network2_amp",
          "Network2_amp",
          "Network2_amp",
          "Network2_amp",
          "Network2_amp",
          "Network2_amp",
          "Network2_amp",
          "Network2_amp",
          "Network2_amp",
          "Network2_amp",
          "Network2_amp",
          "Network2_amp",
          "Network2_amp",
          "Network2_amp",
          "Network2_amp",
          "Network2_amp",
          "Network2_amp",
          "Network2_amp",
          "Network2_amp",
          "Network2_amp",
          "Network2_amp",
          "Network2_amp",
          "Network2_amp",
          "Network2_amp",
          "Network2_amp",
          "Network2_amp",
          "Network2_amp",
          "Network2_amp",
          "Network2_amp",
          "Network2_amp",
          "Network2_amp",
          "Network2_amp",
          "Network2_amp",
          "Network2_amp",
          "Network2_amp",
          "Network2_amp",
          "Network2_amp",
          "Network2_amp",
          "Network2_amp",
          "Network2_amp",
          "Network2_amp",
          "Network2_amp",
          "Network2_amp",
          "Network2_amp",
          "Network2_amp",
          "Network2_amp",
          "Network2_amp",
          "Network2_amp",
          "Network2_amp",
          "Network2_amp",
          "Network2_amp",
          "Network2_amp",
          "Network2_amp",
          "Network2_amp",
          "Network2_amp",
          "Network2_amp",
          "Network2_amp",
          "Network2_amp",
          "Network2_amp",
          "Network2_amp"
         ],
         "y": [
          0.303030303030303,
          0.3939393939393939,
          0.5757575757575758,
          0.4545454545454545,
          0.303030303030303,
          0.3939393939393939,
          0.2727272727272727,
          0.303030303030303,
          0.2727272727272727,
          0.2727272727272727,
          0.6363636363636364,
          0.303030303030303,
          0.6060606060606061,
          0.4242424242424242,
          0.303030303030303,
          0.3939393939393939,
          0.303030303030303,
          0.3939393939393939,
          0.3939393939393939,
          0.303030303030303,
          0.5454545454545454,
          0.2727272727272727,
          0.5151515151515151,
          0.4242424242424242,
          0.2727272727272727,
          0.303030303030303,
          0.4848484848484848,
          0.2727272727272727,
          0.303030303030303,
          0.4242424242424242,
          0.2727272727272727,
          0.2727272727272727,
          0.2727272727272727,
          0.5151515151515151,
          0.2727272727272727,
          0.4848484848484848,
          0.2727272727272727,
          0.3333333333333333,
          0.303030303030303,
          0.4848484848484848,
          0.2727272727272727,
          0.303030303030303,
          0.303030303030303,
          0.3939393939393939,
          0.4242424242424242,
          0.4848484848484848,
          0.2727272727272727,
          0.303030303030303,
          0.696969696969697,
          0.303030303030303,
          0.303030303030303,
          0.303030303030303,
          0.2727272727272727,
          0.3636363636363636,
          0.4545454545454545,
          0.2727272727272727,
          0.4848484848484848,
          0.4848484848484848,
          0.303030303030303,
          0.2727272727272727
         ]
        },
        {
         "box": {
          "visible": true
         },
         "meanline": {
          "visible": true
         },
         "name": "Network3_amp",
         "type": "violin",
         "x": [
          "Network3_amp",
          "Network3_amp",
          "Network3_amp",
          "Network3_amp",
          "Network3_amp",
          "Network3_amp",
          "Network3_amp",
          "Network3_amp",
          "Network3_amp",
          "Network3_amp",
          "Network3_amp",
          "Network3_amp",
          "Network3_amp",
          "Network3_amp",
          "Network3_amp",
          "Network3_amp",
          "Network3_amp",
          "Network3_amp",
          "Network3_amp",
          "Network3_amp",
          "Network3_amp",
          "Network3_amp",
          "Network3_amp",
          "Network3_amp",
          "Network3_amp",
          "Network3_amp",
          "Network3_amp",
          "Network3_amp",
          "Network3_amp",
          "Network3_amp",
          "Network3_amp",
          "Network3_amp",
          "Network3_amp",
          "Network3_amp",
          "Network3_amp",
          "Network3_amp",
          "Network3_amp",
          "Network3_amp",
          "Network3_amp",
          "Network3_amp",
          "Network3_amp",
          "Network3_amp",
          "Network3_amp",
          "Network3_amp",
          "Network3_amp",
          "Network3_amp",
          "Network3_amp",
          "Network3_amp",
          "Network3_amp",
          "Network3_amp",
          "Network3_amp",
          "Network3_amp",
          "Network3_amp",
          "Network3_amp",
          "Network3_amp",
          "Network3_amp",
          "Network3_amp",
          "Network3_amp",
          "Network3_amp",
          "Network3_amp"
         ],
         "y": [
          0.5151515151515151,
          0.3636363636363636,
          0.5454545454545454,
          0.3939393939393939,
          0.4545454545454545,
          0.4545454545454545,
          0.3636363636363636,
          0.3636363636363636,
          0.4242424242424242,
          0.4545454545454545,
          0.6666666666666666,
          0.3333333333333333,
          0.7575757575757576,
          0.6363636363636364,
          0.303030303030303,
          0.5151515151515151,
          0.303030303030303,
          0.3636363636363636,
          0.5454545454545454,
          0.5454545454545454,
          0.5757575757575758,
          0.2424242424242424,
          0.6363636363636364,
          0.3333333333333333,
          0.3333333333333333,
          0.2424242424242424,
          0.6060606060606061,
          0.3636363636363636,
          0.4242424242424242,
          0.3939393939393939,
          0.4545454545454545,
          0.3939393939393939,
          0.5454545454545454,
          0.6363636363636364,
          0.3333333333333333,
          0.6363636363636364,
          0.3636363636363636,
          0.3333333333333333,
          0.2424242424242424,
          0.5454545454545454,
          0.3333333333333333,
          0.2424242424242424,
          0.6363636363636364,
          0.5757575757575758,
          0.5454545454545454,
          0.696969696969697,
          0.3636363636363636,
          0.3636363636363636,
          0.4545454545454545,
          0.5151515151515151,
          0.3636363636363636,
          0.4242424242424242,
          0.2424242424242424,
          0.4848484848484848,
          0.303030303030303,
          0.3939393939393939,
          0.3939393939393939,
          0.6666666666666666,
          0.3636363636363636,
          0.3636363636363636
         ]
        },
        {
         "box": {
          "visible": true
         },
         "meanline": {
          "visible": true
         },
         "name": "Network4_amp",
         "type": "violin",
         "x": [
          "Network4_amp",
          "Network4_amp",
          "Network4_amp",
          "Network4_amp",
          "Network4_amp",
          "Network4_amp",
          "Network4_amp",
          "Network4_amp",
          "Network4_amp",
          "Network4_amp",
          "Network4_amp",
          "Network4_amp",
          "Network4_amp",
          "Network4_amp",
          "Network4_amp",
          "Network4_amp",
          "Network4_amp",
          "Network4_amp",
          "Network4_amp",
          "Network4_amp",
          "Network4_amp",
          "Network4_amp",
          "Network4_amp",
          "Network4_amp",
          "Network4_amp",
          "Network4_amp",
          "Network4_amp",
          "Network4_amp",
          "Network4_amp",
          "Network4_amp",
          "Network4_amp",
          "Network4_amp",
          "Network4_amp",
          "Network4_amp",
          "Network4_amp",
          "Network4_amp",
          "Network4_amp",
          "Network4_amp",
          "Network4_amp",
          "Network4_amp",
          "Network4_amp",
          "Network4_amp",
          "Network4_amp",
          "Network4_amp",
          "Network4_amp",
          "Network4_amp",
          "Network4_amp",
          "Network4_amp",
          "Network4_amp",
          "Network4_amp",
          "Network4_amp",
          "Network4_amp",
          "Network4_amp",
          "Network4_amp",
          "Network4_amp",
          "Network4_amp",
          "Network4_amp",
          "Network4_amp",
          "Network4_amp",
          "Network4_amp"
         ],
         "y": [
          0.710204081632653,
          0.6612244897959184,
          0.5469387755102041,
          0.6081632653061224,
          0.5795918367346938,
          0.6816326530612244,
          0.4285714285714285,
          0.6285714285714286,
          0.5510204081632653,
          0.6612244897959184,
          0.7142857142857143,
          0.4244897959183673,
          0.3224489795918367,
          0.689795918367347,
          0.5061224489795918,
          0.5673469387755102,
          0.5387755102040817,
          0.5755102040816327,
          0.5102040816326531,
          0.6775510204081633,
          0.6489795918367347,
          0.5224489795918368,
          0.5959183673469388,
          0.7510204081632653,
          0.5918367346938775,
          0.4897959183673469,
          0.4326530612244898,
          0.5102040816326531,
          0.710204081632653,
          0.6653061224489796,
          0.4,
          0.6857142857142857,
          0.4408163265306122,
          0.4612244897959183,
          0.5714285714285714,
          0.5673469387755102,
          0.3061224489795918,
          0.5387755102040817,
          0.3877551020408163,
          0.563265306122449,
          0.5020408163265306,
          0.6448979591836734,
          0.6448979591836734,
          0.673469387755102,
          0.4775510204081633,
          0.5918367346938775,
          0.3795918367346939,
          0.8,
          0.6816326530612244,
          0.5795918367346938,
          0.6612244897959184,
          0.8,
          0.5755102040816327,
          0.5469387755102041,
          0.6081632653061224,
          0.4122448979591837,
          0.5795918367346938,
          0.6612244897959184,
          0.4938775510204081,
          0.5795918367346938
         ]
        }
       ],
       "layout": {
        "template": {
         "data": {
          "bar": [
           {
            "error_x": {
             "color": "#2a3f5f"
            },
            "error_y": {
             "color": "#2a3f5f"
            },
            "marker": {
             "line": {
              "color": "#E5ECF6",
              "width": 0.5
             },
             "pattern": {
              "fillmode": "overlay",
              "size": 10,
              "solidity": 0.2
             }
            },
            "type": "bar"
           }
          ],
          "barpolar": [
           {
            "marker": {
             "line": {
              "color": "#E5ECF6",
              "width": 0.5
             },
             "pattern": {
              "fillmode": "overlay",
              "size": 10,
              "solidity": 0.2
             }
            },
            "type": "barpolar"
           }
          ],
          "carpet": [
           {
            "aaxis": {
             "endlinecolor": "#2a3f5f",
             "gridcolor": "white",
             "linecolor": "white",
             "minorgridcolor": "white",
             "startlinecolor": "#2a3f5f"
            },
            "baxis": {
             "endlinecolor": "#2a3f5f",
             "gridcolor": "white",
             "linecolor": "white",
             "minorgridcolor": "white",
             "startlinecolor": "#2a3f5f"
            },
            "type": "carpet"
           }
          ],
          "choropleth": [
           {
            "colorbar": {
             "outlinewidth": 0,
             "ticks": ""
            },
            "type": "choropleth"
           }
          ],
          "contour": [
           {
            "colorbar": {
             "outlinewidth": 0,
             "ticks": ""
            },
            "colorscale": [
             [
              0,
              "#0d0887"
             ],
             [
              0.1111111111111111,
              "#46039f"
             ],
             [
              0.2222222222222222,
              "#7201a8"
             ],
             [
              0.3333333333333333,
              "#9c179e"
             ],
             [
              0.4444444444444444,
              "#bd3786"
             ],
             [
              0.5555555555555556,
              "#d8576b"
             ],
             [
              0.6666666666666666,
              "#ed7953"
             ],
             [
              0.7777777777777778,
              "#fb9f3a"
             ],
             [
              0.8888888888888888,
              "#fdca26"
             ],
             [
              1,
              "#f0f921"
             ]
            ],
            "type": "contour"
           }
          ],
          "contourcarpet": [
           {
            "colorbar": {
             "outlinewidth": 0,
             "ticks": ""
            },
            "type": "contourcarpet"
           }
          ],
          "heatmap": [
           {
            "colorbar": {
             "outlinewidth": 0,
             "ticks": ""
            },
            "colorscale": [
             [
              0,
              "#0d0887"
             ],
             [
              0.1111111111111111,
              "#46039f"
             ],
             [
              0.2222222222222222,
              "#7201a8"
             ],
             [
              0.3333333333333333,
              "#9c179e"
             ],
             [
              0.4444444444444444,
              "#bd3786"
             ],
             [
              0.5555555555555556,
              "#d8576b"
             ],
             [
              0.6666666666666666,
              "#ed7953"
             ],
             [
              0.7777777777777778,
              "#fb9f3a"
             ],
             [
              0.8888888888888888,
              "#fdca26"
             ],
             [
              1,
              "#f0f921"
             ]
            ],
            "type": "heatmap"
           }
          ],
          "heatmapgl": [
           {
            "colorbar": {
             "outlinewidth": 0,
             "ticks": ""
            },
            "colorscale": [
             [
              0,
              "#0d0887"
             ],
             [
              0.1111111111111111,
              "#46039f"
             ],
             [
              0.2222222222222222,
              "#7201a8"
             ],
             [
              0.3333333333333333,
              "#9c179e"
             ],
             [
              0.4444444444444444,
              "#bd3786"
             ],
             [
              0.5555555555555556,
              "#d8576b"
             ],
             [
              0.6666666666666666,
              "#ed7953"
             ],
             [
              0.7777777777777778,
              "#fb9f3a"
             ],
             [
              0.8888888888888888,
              "#fdca26"
             ],
             [
              1,
              "#f0f921"
             ]
            ],
            "type": "heatmapgl"
           }
          ],
          "histogram": [
           {
            "marker": {
             "pattern": {
              "fillmode": "overlay",
              "size": 10,
              "solidity": 0.2
             }
            },
            "type": "histogram"
           }
          ],
          "histogram2d": [
           {
            "colorbar": {
             "outlinewidth": 0,
             "ticks": ""
            },
            "colorscale": [
             [
              0,
              "#0d0887"
             ],
             [
              0.1111111111111111,
              "#46039f"
             ],
             [
              0.2222222222222222,
              "#7201a8"
             ],
             [
              0.3333333333333333,
              "#9c179e"
             ],
             [
              0.4444444444444444,
              "#bd3786"
             ],
             [
              0.5555555555555556,
              "#d8576b"
             ],
             [
              0.6666666666666666,
              "#ed7953"
             ],
             [
              0.7777777777777778,
              "#fb9f3a"
             ],
             [
              0.8888888888888888,
              "#fdca26"
             ],
             [
              1,
              "#f0f921"
             ]
            ],
            "type": "histogram2d"
           }
          ],
          "histogram2dcontour": [
           {
            "colorbar": {
             "outlinewidth": 0,
             "ticks": ""
            },
            "colorscale": [
             [
              0,
              "#0d0887"
             ],
             [
              0.1111111111111111,
              "#46039f"
             ],
             [
              0.2222222222222222,
              "#7201a8"
             ],
             [
              0.3333333333333333,
              "#9c179e"
             ],
             [
              0.4444444444444444,
              "#bd3786"
             ],
             [
              0.5555555555555556,
              "#d8576b"
             ],
             [
              0.6666666666666666,
              "#ed7953"
             ],
             [
              0.7777777777777778,
              "#fb9f3a"
             ],
             [
              0.8888888888888888,
              "#fdca26"
             ],
             [
              1,
              "#f0f921"
             ]
            ],
            "type": "histogram2dcontour"
           }
          ],
          "mesh3d": [
           {
            "colorbar": {
             "outlinewidth": 0,
             "ticks": ""
            },
            "type": "mesh3d"
           }
          ],
          "parcoords": [
           {
            "line": {
             "colorbar": {
              "outlinewidth": 0,
              "ticks": ""
             }
            },
            "type": "parcoords"
           }
          ],
          "pie": [
           {
            "automargin": true,
            "type": "pie"
           }
          ],
          "scatter": [
           {
            "fillpattern": {
             "fillmode": "overlay",
             "size": 10,
             "solidity": 0.2
            },
            "type": "scatter"
           }
          ],
          "scatter3d": [
           {
            "line": {
             "colorbar": {
              "outlinewidth": 0,
              "ticks": ""
             }
            },
            "marker": {
             "colorbar": {
              "outlinewidth": 0,
              "ticks": ""
             }
            },
            "type": "scatter3d"
           }
          ],
          "scattercarpet": [
           {
            "marker": {
             "colorbar": {
              "outlinewidth": 0,
              "ticks": ""
             }
            },
            "type": "scattercarpet"
           }
          ],
          "scattergeo": [
           {
            "marker": {
             "colorbar": {
              "outlinewidth": 0,
              "ticks": ""
             }
            },
            "type": "scattergeo"
           }
          ],
          "scattergl": [
           {
            "marker": {
             "colorbar": {
              "outlinewidth": 0,
              "ticks": ""
             }
            },
            "type": "scattergl"
           }
          ],
          "scattermapbox": [
           {
            "marker": {
             "colorbar": {
              "outlinewidth": 0,
              "ticks": ""
             }
            },
            "type": "scattermapbox"
           }
          ],
          "scatterpolar": [
           {
            "marker": {
             "colorbar": {
              "outlinewidth": 0,
              "ticks": ""
             }
            },
            "type": "scatterpolar"
           }
          ],
          "scatterpolargl": [
           {
            "marker": {
             "colorbar": {
              "outlinewidth": 0,
              "ticks": ""
             }
            },
            "type": "scatterpolargl"
           }
          ],
          "scatterternary": [
           {
            "marker": {
             "colorbar": {
              "outlinewidth": 0,
              "ticks": ""
             }
            },
            "type": "scatterternary"
           }
          ],
          "surface": [
           {
            "colorbar": {
             "outlinewidth": 0,
             "ticks": ""
            },
            "colorscale": [
             [
              0,
              "#0d0887"
             ],
             [
              0.1111111111111111,
              "#46039f"
             ],
             [
              0.2222222222222222,
              "#7201a8"
             ],
             [
              0.3333333333333333,
              "#9c179e"
             ],
             [
              0.4444444444444444,
              "#bd3786"
             ],
             [
              0.5555555555555556,
              "#d8576b"
             ],
             [
              0.6666666666666666,
              "#ed7953"
             ],
             [
              0.7777777777777778,
              "#fb9f3a"
             ],
             [
              0.8888888888888888,
              "#fdca26"
             ],
             [
              1,
              "#f0f921"
             ]
            ],
            "type": "surface"
           }
          ],
          "table": [
           {
            "cells": {
             "fill": {
              "color": "#EBF0F8"
             },
             "line": {
              "color": "white"
             }
            },
            "header": {
             "fill": {
              "color": "#C8D4E3"
             },
             "line": {
              "color": "white"
             }
            },
            "type": "table"
           }
          ]
         },
         "layout": {
          "annotationdefaults": {
           "arrowcolor": "#2a3f5f",
           "arrowhead": 0,
           "arrowwidth": 1
          },
          "autotypenumbers": "strict",
          "coloraxis": {
           "colorbar": {
            "outlinewidth": 0,
            "ticks": ""
           }
          },
          "colorscale": {
           "diverging": [
            [
             0,
             "#8e0152"
            ],
            [
             0.1,
             "#c51b7d"
            ],
            [
             0.2,
             "#de77ae"
            ],
            [
             0.3,
             "#f1b6da"
            ],
            [
             0.4,
             "#fde0ef"
            ],
            [
             0.5,
             "#f7f7f7"
            ],
            [
             0.6,
             "#e6f5d0"
            ],
            [
             0.7,
             "#b8e186"
            ],
            [
             0.8,
             "#7fbc41"
            ],
            [
             0.9,
             "#4d9221"
            ],
            [
             1,
             "#276419"
            ]
           ],
           "sequential": [
            [
             0,
             "#0d0887"
            ],
            [
             0.1111111111111111,
             "#46039f"
            ],
            [
             0.2222222222222222,
             "#7201a8"
            ],
            [
             0.3333333333333333,
             "#9c179e"
            ],
            [
             0.4444444444444444,
             "#bd3786"
            ],
            [
             0.5555555555555556,
             "#d8576b"
            ],
            [
             0.6666666666666666,
             "#ed7953"
            ],
            [
             0.7777777777777778,
             "#fb9f3a"
            ],
            [
             0.8888888888888888,
             "#fdca26"
            ],
            [
             1,
             "#f0f921"
            ]
           ],
           "sequentialminus": [
            [
             0,
             "#0d0887"
            ],
            [
             0.1111111111111111,
             "#46039f"
            ],
            [
             0.2222222222222222,
             "#7201a8"
            ],
            [
             0.3333333333333333,
             "#9c179e"
            ],
            [
             0.4444444444444444,
             "#bd3786"
            ],
            [
             0.5555555555555556,
             "#d8576b"
            ],
            [
             0.6666666666666666,
             "#ed7953"
            ],
            [
             0.7777777777777778,
             "#fb9f3a"
            ],
            [
             0.8888888888888888,
             "#fdca26"
            ],
            [
             1,
             "#f0f921"
            ]
           ]
          },
          "colorway": [
           "#636efa",
           "#EF553B",
           "#00cc96",
           "#ab63fa",
           "#FFA15A",
           "#19d3f3",
           "#FF6692",
           "#B6E880",
           "#FF97FF",
           "#FECB52"
          ],
          "font": {
           "color": "#2a3f5f"
          },
          "geo": {
           "bgcolor": "white",
           "lakecolor": "white",
           "landcolor": "#E5ECF6",
           "showlakes": true,
           "showland": true,
           "subunitcolor": "white"
          },
          "hoverlabel": {
           "align": "left"
          },
          "hovermode": "closest",
          "mapbox": {
           "style": "light"
          },
          "paper_bgcolor": "white",
          "plot_bgcolor": "#E5ECF6",
          "polar": {
           "angularaxis": {
            "gridcolor": "white",
            "linecolor": "white",
            "ticks": ""
           },
           "bgcolor": "#E5ECF6",
           "radialaxis": {
            "gridcolor": "white",
            "linecolor": "white",
            "ticks": ""
           }
          },
          "scene": {
           "xaxis": {
            "backgroundcolor": "#E5ECF6",
            "gridcolor": "white",
            "gridwidth": 2,
            "linecolor": "white",
            "showbackground": true,
            "ticks": "",
            "zerolinecolor": "white"
           },
           "yaxis": {
            "backgroundcolor": "#E5ECF6",
            "gridcolor": "white",
            "gridwidth": 2,
            "linecolor": "white",
            "showbackground": true,
            "ticks": "",
            "zerolinecolor": "white"
           },
           "zaxis": {
            "backgroundcolor": "#E5ECF6",
            "gridcolor": "white",
            "gridwidth": 2,
            "linecolor": "white",
            "showbackground": true,
            "ticks": "",
            "zerolinecolor": "white"
           }
          },
          "shapedefaults": {
           "line": {
            "color": "#2a3f5f"
           }
          },
          "ternary": {
           "aaxis": {
            "gridcolor": "white",
            "linecolor": "white",
            "ticks": ""
           },
           "baxis": {
            "gridcolor": "white",
            "linecolor": "white",
            "ticks": ""
           },
           "bgcolor": "#E5ECF6",
           "caxis": {
            "gridcolor": "white",
            "linecolor": "white",
            "ticks": ""
           }
          },
          "title": {
           "x": 0.05
          },
          "xaxis": {
           "automargin": true,
           "gridcolor": "white",
           "linecolor": "white",
           "ticks": "",
           "title": {
            "standoff": 15
           },
           "zerolinecolor": "white",
           "zerolinewidth": 2
          },
          "yaxis": {
           "automargin": true,
           "gridcolor": "white",
           "linecolor": "white",
           "ticks": "",
           "title": {
            "standoff": 15
           },
           "zerolinecolor": "white",
           "zerolinewidth": 2
          }
         }
        }
       }
      },
      "text/html": [
       "<div>                            <div id=\"71319a1a-c4c9-4c9f-b95d-1836b4296b6b\" class=\"plotly-graph-div\" style=\"height:525px; width:100%;\"></div>            <script type=\"text/javascript\">                require([\"plotly\"], function(Plotly) {                    window.PLOTLYENV=window.PLOTLYENV || {};                                    if (document.getElementById(\"71319a1a-c4c9-4c9f-b95d-1836b4296b6b\")) {                    Plotly.newPlot(                        \"71319a1a-c4c9-4c9f-b95d-1836b4296b6b\",                        [{\"box\":{\"visible\":true},\"meanline\":{\"visible\":true},\"name\":\"Network1_amp\",\"x\":[\"Network1_amp\",\"Network1_amp\",\"Network1_amp\",\"Network1_amp\",\"Network1_amp\",\"Network1_amp\",\"Network1_amp\",\"Network1_amp\",\"Network1_amp\",\"Network1_amp\",\"Network1_amp\",\"Network1_amp\",\"Network1_amp\",\"Network1_amp\",\"Network1_amp\",\"Network1_amp\",\"Network1_amp\",\"Network1_amp\",\"Network1_amp\",\"Network1_amp\",\"Network1_amp\",\"Network1_amp\",\"Network1_amp\",\"Network1_amp\",\"Network1_amp\",\"Network1_amp\",\"Network1_amp\",\"Network1_amp\",\"Network1_amp\",\"Network1_amp\",\"Network1_amp\",\"Network1_amp\",\"Network1_amp\",\"Network1_amp\",\"Network1_amp\",\"Network1_amp\",\"Network1_amp\",\"Network1_amp\",\"Network1_amp\",\"Network1_amp\",\"Network1_amp\",\"Network1_amp\",\"Network1_amp\",\"Network1_amp\",\"Network1_amp\",\"Network1_amp\",\"Network1_amp\",\"Network1_amp\",\"Network1_amp\",\"Network1_amp\",\"Network1_amp\",\"Network1_amp\",\"Network1_amp\",\"Network1_amp\",\"Network1_amp\",\"Network1_amp\",\"Network1_amp\",\"Network1_amp\",\"Network1_amp\",\"Network1_amp\"],\"y\":[0.375,0.25,0.5416666666666666,0.25,0.4583333333333333,0.4166666666666667,0.1666666666666666,0.25,0.375,0.1666666666666666,0.5416666666666666,0.2916666666666667,0.6666666666666666,0.7916666666666666,0.25,0.375,0.2083333333333333,0.25,0.4583333333333333,0.2916666666666667,0.5,0.25,0.4166666666666667,0.375,0.25,0.1666666666666666,0.5,0.25,0.2916666666666667,0.375,0.25,0.25,0.5416666666666666,0.5833333333333334,0.25,0.7083333333333334,0.25,0.2083333333333333,0.2916666666666667,0.4583333333333333,0.2083333333333333,0.2083333333333333,0.375,0.5,0.5,0.4583333333333333,0.1666666666666666,0.25,0.5,0.5,0.2083333333333333,0.2916666666666667,0.25,0.375,0.2916666666666667,0.1666666666666666,0.3333333333333333,0.4166666666666667,0.2916666666666667,0.375],\"type\":\"violin\"},{\"box\":{\"visible\":true},\"meanline\":{\"visible\":true},\"name\":\"Network2_amp\",\"x\":[\"Network2_amp\",\"Network2_amp\",\"Network2_amp\",\"Network2_amp\",\"Network2_amp\",\"Network2_amp\",\"Network2_amp\",\"Network2_amp\",\"Network2_amp\",\"Network2_amp\",\"Network2_amp\",\"Network2_amp\",\"Network2_amp\",\"Network2_amp\",\"Network2_amp\",\"Network2_amp\",\"Network2_amp\",\"Network2_amp\",\"Network2_amp\",\"Network2_amp\",\"Network2_amp\",\"Network2_amp\",\"Network2_amp\",\"Network2_amp\",\"Network2_amp\",\"Network2_amp\",\"Network2_amp\",\"Network2_amp\",\"Network2_amp\",\"Network2_amp\",\"Network2_amp\",\"Network2_amp\",\"Network2_amp\",\"Network2_amp\",\"Network2_amp\",\"Network2_amp\",\"Network2_amp\",\"Network2_amp\",\"Network2_amp\",\"Network2_amp\",\"Network2_amp\",\"Network2_amp\",\"Network2_amp\",\"Network2_amp\",\"Network2_amp\",\"Network2_amp\",\"Network2_amp\",\"Network2_amp\",\"Network2_amp\",\"Network2_amp\",\"Network2_amp\",\"Network2_amp\",\"Network2_amp\",\"Network2_amp\",\"Network2_amp\",\"Network2_amp\",\"Network2_amp\",\"Network2_amp\",\"Network2_amp\",\"Network2_amp\"],\"y\":[0.303030303030303,0.3939393939393939,0.5757575757575758,0.4545454545454545,0.303030303030303,0.3939393939393939,0.2727272727272727,0.303030303030303,0.2727272727272727,0.2727272727272727,0.6363636363636364,0.303030303030303,0.6060606060606061,0.4242424242424242,0.303030303030303,0.3939393939393939,0.303030303030303,0.3939393939393939,0.3939393939393939,0.303030303030303,0.5454545454545454,0.2727272727272727,0.5151515151515151,0.4242424242424242,0.2727272727272727,0.303030303030303,0.4848484848484848,0.2727272727272727,0.303030303030303,0.4242424242424242,0.2727272727272727,0.2727272727272727,0.2727272727272727,0.5151515151515151,0.2727272727272727,0.4848484848484848,0.2727272727272727,0.3333333333333333,0.303030303030303,0.4848484848484848,0.2727272727272727,0.303030303030303,0.303030303030303,0.3939393939393939,0.4242424242424242,0.4848484848484848,0.2727272727272727,0.303030303030303,0.696969696969697,0.303030303030303,0.303030303030303,0.303030303030303,0.2727272727272727,0.3636363636363636,0.4545454545454545,0.2727272727272727,0.4848484848484848,0.4848484848484848,0.303030303030303,0.2727272727272727],\"type\":\"violin\"},{\"box\":{\"visible\":true},\"meanline\":{\"visible\":true},\"name\":\"Network3_amp\",\"x\":[\"Network3_amp\",\"Network3_amp\",\"Network3_amp\",\"Network3_amp\",\"Network3_amp\",\"Network3_amp\",\"Network3_amp\",\"Network3_amp\",\"Network3_amp\",\"Network3_amp\",\"Network3_amp\",\"Network3_amp\",\"Network3_amp\",\"Network3_amp\",\"Network3_amp\",\"Network3_amp\",\"Network3_amp\",\"Network3_amp\",\"Network3_amp\",\"Network3_amp\",\"Network3_amp\",\"Network3_amp\",\"Network3_amp\",\"Network3_amp\",\"Network3_amp\",\"Network3_amp\",\"Network3_amp\",\"Network3_amp\",\"Network3_amp\",\"Network3_amp\",\"Network3_amp\",\"Network3_amp\",\"Network3_amp\",\"Network3_amp\",\"Network3_amp\",\"Network3_amp\",\"Network3_amp\",\"Network3_amp\",\"Network3_amp\",\"Network3_amp\",\"Network3_amp\",\"Network3_amp\",\"Network3_amp\",\"Network3_amp\",\"Network3_amp\",\"Network3_amp\",\"Network3_amp\",\"Network3_amp\",\"Network3_amp\",\"Network3_amp\",\"Network3_amp\",\"Network3_amp\",\"Network3_amp\",\"Network3_amp\",\"Network3_amp\",\"Network3_amp\",\"Network3_amp\",\"Network3_amp\",\"Network3_amp\",\"Network3_amp\"],\"y\":[0.5151515151515151,0.3636363636363636,0.5454545454545454,0.3939393939393939,0.4545454545454545,0.4545454545454545,0.3636363636363636,0.3636363636363636,0.4242424242424242,0.4545454545454545,0.6666666666666666,0.3333333333333333,0.7575757575757576,0.6363636363636364,0.303030303030303,0.5151515151515151,0.303030303030303,0.3636363636363636,0.5454545454545454,0.5454545454545454,0.5757575757575758,0.2424242424242424,0.6363636363636364,0.3333333333333333,0.3333333333333333,0.2424242424242424,0.6060606060606061,0.3636363636363636,0.4242424242424242,0.3939393939393939,0.4545454545454545,0.3939393939393939,0.5454545454545454,0.6363636363636364,0.3333333333333333,0.6363636363636364,0.3636363636363636,0.3333333333333333,0.2424242424242424,0.5454545454545454,0.3333333333333333,0.2424242424242424,0.6363636363636364,0.5757575757575758,0.5454545454545454,0.696969696969697,0.3636363636363636,0.3636363636363636,0.4545454545454545,0.5151515151515151,0.3636363636363636,0.4242424242424242,0.2424242424242424,0.4848484848484848,0.303030303030303,0.3939393939393939,0.3939393939393939,0.6666666666666666,0.3636363636363636,0.3636363636363636],\"type\":\"violin\"},{\"box\":{\"visible\":true},\"meanline\":{\"visible\":true},\"name\":\"Network4_amp\",\"x\":[\"Network4_amp\",\"Network4_amp\",\"Network4_amp\",\"Network4_amp\",\"Network4_amp\",\"Network4_amp\",\"Network4_amp\",\"Network4_amp\",\"Network4_amp\",\"Network4_amp\",\"Network4_amp\",\"Network4_amp\",\"Network4_amp\",\"Network4_amp\",\"Network4_amp\",\"Network4_amp\",\"Network4_amp\",\"Network4_amp\",\"Network4_amp\",\"Network4_amp\",\"Network4_amp\",\"Network4_amp\",\"Network4_amp\",\"Network4_amp\",\"Network4_amp\",\"Network4_amp\",\"Network4_amp\",\"Network4_amp\",\"Network4_amp\",\"Network4_amp\",\"Network4_amp\",\"Network4_amp\",\"Network4_amp\",\"Network4_amp\",\"Network4_amp\",\"Network4_amp\",\"Network4_amp\",\"Network4_amp\",\"Network4_amp\",\"Network4_amp\",\"Network4_amp\",\"Network4_amp\",\"Network4_amp\",\"Network4_amp\",\"Network4_amp\",\"Network4_amp\",\"Network4_amp\",\"Network4_amp\",\"Network4_amp\",\"Network4_amp\",\"Network4_amp\",\"Network4_amp\",\"Network4_amp\",\"Network4_amp\",\"Network4_amp\",\"Network4_amp\",\"Network4_amp\",\"Network4_amp\",\"Network4_amp\",\"Network4_amp\"],\"y\":[0.710204081632653,0.6612244897959184,0.5469387755102041,0.6081632653061224,0.5795918367346938,0.6816326530612244,0.4285714285714285,0.6285714285714286,0.5510204081632653,0.6612244897959184,0.7142857142857143,0.4244897959183673,0.3224489795918367,0.689795918367347,0.5061224489795918,0.5673469387755102,0.5387755102040817,0.5755102040816327,0.5102040816326531,0.6775510204081633,0.6489795918367347,0.5224489795918368,0.5959183673469388,0.7510204081632653,0.5918367346938775,0.4897959183673469,0.4326530612244898,0.5102040816326531,0.710204081632653,0.6653061224489796,0.4,0.6857142857142857,0.4408163265306122,0.4612244897959183,0.5714285714285714,0.5673469387755102,0.3061224489795918,0.5387755102040817,0.3877551020408163,0.563265306122449,0.5020408163265306,0.6448979591836734,0.6448979591836734,0.673469387755102,0.4775510204081633,0.5918367346938775,0.3795918367346939,0.8,0.6816326530612244,0.5795918367346938,0.6612244897959184,0.8,0.5755102040816327,0.5469387755102041,0.6081632653061224,0.4122448979591837,0.5795918367346938,0.6612244897959184,0.4938775510204081,0.5795918367346938],\"type\":\"violin\"}],                        {\"template\":{\"data\":{\"histogram2dcontour\":[{\"type\":\"histogram2dcontour\",\"colorbar\":{\"outlinewidth\":0,\"ticks\":\"\"},\"colorscale\":[[0.0,\"#0d0887\"],[0.1111111111111111,\"#46039f\"],[0.2222222222222222,\"#7201a8\"],[0.3333333333333333,\"#9c179e\"],[0.4444444444444444,\"#bd3786\"],[0.5555555555555556,\"#d8576b\"],[0.6666666666666666,\"#ed7953\"],[0.7777777777777778,\"#fb9f3a\"],[0.8888888888888888,\"#fdca26\"],[1.0,\"#f0f921\"]]}],\"choropleth\":[{\"type\":\"choropleth\",\"colorbar\":{\"outlinewidth\":0,\"ticks\":\"\"}}],\"histogram2d\":[{\"type\":\"histogram2d\",\"colorbar\":{\"outlinewidth\":0,\"ticks\":\"\"},\"colorscale\":[[0.0,\"#0d0887\"],[0.1111111111111111,\"#46039f\"],[0.2222222222222222,\"#7201a8\"],[0.3333333333333333,\"#9c179e\"],[0.4444444444444444,\"#bd3786\"],[0.5555555555555556,\"#d8576b\"],[0.6666666666666666,\"#ed7953\"],[0.7777777777777778,\"#fb9f3a\"],[0.8888888888888888,\"#fdca26\"],[1.0,\"#f0f921\"]]}],\"heatmap\":[{\"type\":\"heatmap\",\"colorbar\":{\"outlinewidth\":0,\"ticks\":\"\"},\"colorscale\":[[0.0,\"#0d0887\"],[0.1111111111111111,\"#46039f\"],[0.2222222222222222,\"#7201a8\"],[0.3333333333333333,\"#9c179e\"],[0.4444444444444444,\"#bd3786\"],[0.5555555555555556,\"#d8576b\"],[0.6666666666666666,\"#ed7953\"],[0.7777777777777778,\"#fb9f3a\"],[0.8888888888888888,\"#fdca26\"],[1.0,\"#f0f921\"]]}],\"heatmapgl\":[{\"type\":\"heatmapgl\",\"colorbar\":{\"outlinewidth\":0,\"ticks\":\"\"},\"colorscale\":[[0.0,\"#0d0887\"],[0.1111111111111111,\"#46039f\"],[0.2222222222222222,\"#7201a8\"],[0.3333333333333333,\"#9c179e\"],[0.4444444444444444,\"#bd3786\"],[0.5555555555555556,\"#d8576b\"],[0.6666666666666666,\"#ed7953\"],[0.7777777777777778,\"#fb9f3a\"],[0.8888888888888888,\"#fdca26\"],[1.0,\"#f0f921\"]]}],\"contourcarpet\":[{\"type\":\"contourcarpet\",\"colorbar\":{\"outlinewidth\":0,\"ticks\":\"\"}}],\"contour\":[{\"type\":\"contour\",\"colorbar\":{\"outlinewidth\":0,\"ticks\":\"\"},\"colorscale\":[[0.0,\"#0d0887\"],[0.1111111111111111,\"#46039f\"],[0.2222222222222222,\"#7201a8\"],[0.3333333333333333,\"#9c179e\"],[0.4444444444444444,\"#bd3786\"],[0.5555555555555556,\"#d8576b\"],[0.6666666666666666,\"#ed7953\"],[0.7777777777777778,\"#fb9f3a\"],[0.8888888888888888,\"#fdca26\"],[1.0,\"#f0f921\"]]}],\"surface\":[{\"type\":\"surface\",\"colorbar\":{\"outlinewidth\":0,\"ticks\":\"\"},\"colorscale\":[[0.0,\"#0d0887\"],[0.1111111111111111,\"#46039f\"],[0.2222222222222222,\"#7201a8\"],[0.3333333333333333,\"#9c179e\"],[0.4444444444444444,\"#bd3786\"],[0.5555555555555556,\"#d8576b\"],[0.6666666666666666,\"#ed7953\"],[0.7777777777777778,\"#fb9f3a\"],[0.8888888888888888,\"#fdca26\"],[1.0,\"#f0f921\"]]}],\"mesh3d\":[{\"type\":\"mesh3d\",\"colorbar\":{\"outlinewidth\":0,\"ticks\":\"\"}}],\"scatter\":[{\"fillpattern\":{\"fillmode\":\"overlay\",\"size\":10,\"solidity\":0.2},\"type\":\"scatter\"}],\"parcoords\":[{\"type\":\"parcoords\",\"line\":{\"colorbar\":{\"outlinewidth\":0,\"ticks\":\"\"}}}],\"scatterpolargl\":[{\"type\":\"scatterpolargl\",\"marker\":{\"colorbar\":{\"outlinewidth\":0,\"ticks\":\"\"}}}],\"bar\":[{\"error_x\":{\"color\":\"#2a3f5f\"},\"error_y\":{\"color\":\"#2a3f5f\"},\"marker\":{\"line\":{\"color\":\"#E5ECF6\",\"width\":0.5},\"pattern\":{\"fillmode\":\"overlay\",\"size\":10,\"solidity\":0.2}},\"type\":\"bar\"}],\"scattergeo\":[{\"type\":\"scattergeo\",\"marker\":{\"colorbar\":{\"outlinewidth\":0,\"ticks\":\"\"}}}],\"scatterpolar\":[{\"type\":\"scatterpolar\",\"marker\":{\"colorbar\":{\"outlinewidth\":0,\"ticks\":\"\"}}}],\"histogram\":[{\"marker\":{\"pattern\":{\"fillmode\":\"overlay\",\"size\":10,\"solidity\":0.2}},\"type\":\"histogram\"}],\"scattergl\":[{\"type\":\"scattergl\",\"marker\":{\"colorbar\":{\"outlinewidth\":0,\"ticks\":\"\"}}}],\"scatter3d\":[{\"type\":\"scatter3d\",\"line\":{\"colorbar\":{\"outlinewidth\":0,\"ticks\":\"\"}},\"marker\":{\"colorbar\":{\"outlinewidth\":0,\"ticks\":\"\"}}}],\"scattermapbox\":[{\"type\":\"scattermapbox\",\"marker\":{\"colorbar\":{\"outlinewidth\":0,\"ticks\":\"\"}}}],\"scatterternary\":[{\"type\":\"scatterternary\",\"marker\":{\"colorbar\":{\"outlinewidth\":0,\"ticks\":\"\"}}}],\"scattercarpet\":[{\"type\":\"scattercarpet\",\"marker\":{\"colorbar\":{\"outlinewidth\":0,\"ticks\":\"\"}}}],\"carpet\":[{\"aaxis\":{\"endlinecolor\":\"#2a3f5f\",\"gridcolor\":\"white\",\"linecolor\":\"white\",\"minorgridcolor\":\"white\",\"startlinecolor\":\"#2a3f5f\"},\"baxis\":{\"endlinecolor\":\"#2a3f5f\",\"gridcolor\":\"white\",\"linecolor\":\"white\",\"minorgridcolor\":\"white\",\"startlinecolor\":\"#2a3f5f\"},\"type\":\"carpet\"}],\"table\":[{\"cells\":{\"fill\":{\"color\":\"#EBF0F8\"},\"line\":{\"color\":\"white\"}},\"header\":{\"fill\":{\"color\":\"#C8D4E3\"},\"line\":{\"color\":\"white\"}},\"type\":\"table\"}],\"barpolar\":[{\"marker\":{\"line\":{\"color\":\"#E5ECF6\",\"width\":0.5},\"pattern\":{\"fillmode\":\"overlay\",\"size\":10,\"solidity\":0.2}},\"type\":\"barpolar\"}],\"pie\":[{\"automargin\":true,\"type\":\"pie\"}]},\"layout\":{\"autotypenumbers\":\"strict\",\"colorway\":[\"#636efa\",\"#EF553B\",\"#00cc96\",\"#ab63fa\",\"#FFA15A\",\"#19d3f3\",\"#FF6692\",\"#B6E880\",\"#FF97FF\",\"#FECB52\"],\"font\":{\"color\":\"#2a3f5f\"},\"hovermode\":\"closest\",\"hoverlabel\":{\"align\":\"left\"},\"paper_bgcolor\":\"white\",\"plot_bgcolor\":\"#E5ECF6\",\"polar\":{\"bgcolor\":\"#E5ECF6\",\"angularaxis\":{\"gridcolor\":\"white\",\"linecolor\":\"white\",\"ticks\":\"\"},\"radialaxis\":{\"gridcolor\":\"white\",\"linecolor\":\"white\",\"ticks\":\"\"}},\"ternary\":{\"bgcolor\":\"#E5ECF6\",\"aaxis\":{\"gridcolor\":\"white\",\"linecolor\":\"white\",\"ticks\":\"\"},\"baxis\":{\"gridcolor\":\"white\",\"linecolor\":\"white\",\"ticks\":\"\"},\"caxis\":{\"gridcolor\":\"white\",\"linecolor\":\"white\",\"ticks\":\"\"}},\"coloraxis\":{\"colorbar\":{\"outlinewidth\":0,\"ticks\":\"\"}},\"colorscale\":{\"sequential\":[[0.0,\"#0d0887\"],[0.1111111111111111,\"#46039f\"],[0.2222222222222222,\"#7201a8\"],[0.3333333333333333,\"#9c179e\"],[0.4444444444444444,\"#bd3786\"],[0.5555555555555556,\"#d8576b\"],[0.6666666666666666,\"#ed7953\"],[0.7777777777777778,\"#fb9f3a\"],[0.8888888888888888,\"#fdca26\"],[1.0,\"#f0f921\"]],\"sequentialminus\":[[0.0,\"#0d0887\"],[0.1111111111111111,\"#46039f\"],[0.2222222222222222,\"#7201a8\"],[0.3333333333333333,\"#9c179e\"],[0.4444444444444444,\"#bd3786\"],[0.5555555555555556,\"#d8576b\"],[0.6666666666666666,\"#ed7953\"],[0.7777777777777778,\"#fb9f3a\"],[0.8888888888888888,\"#fdca26\"],[1.0,\"#f0f921\"]],\"diverging\":[[0,\"#8e0152\"],[0.1,\"#c51b7d\"],[0.2,\"#de77ae\"],[0.3,\"#f1b6da\"],[0.4,\"#fde0ef\"],[0.5,\"#f7f7f7\"],[0.6,\"#e6f5d0\"],[0.7,\"#b8e186\"],[0.8,\"#7fbc41\"],[0.9,\"#4d9221\"],[1,\"#276419\"]]},\"xaxis\":{\"gridcolor\":\"white\",\"linecolor\":\"white\",\"ticks\":\"\",\"title\":{\"standoff\":15},\"zerolinecolor\":\"white\",\"automargin\":true,\"zerolinewidth\":2},\"yaxis\":{\"gridcolor\":\"white\",\"linecolor\":\"white\",\"ticks\":\"\",\"title\":{\"standoff\":15},\"zerolinecolor\":\"white\",\"automargin\":true,\"zerolinewidth\":2},\"scene\":{\"xaxis\":{\"backgroundcolor\":\"#E5ECF6\",\"gridcolor\":\"white\",\"linecolor\":\"white\",\"showbackground\":true,\"ticks\":\"\",\"zerolinecolor\":\"white\",\"gridwidth\":2},\"yaxis\":{\"backgroundcolor\":\"#E5ECF6\",\"gridcolor\":\"white\",\"linecolor\":\"white\",\"showbackground\":true,\"ticks\":\"\",\"zerolinecolor\":\"white\",\"gridwidth\":2},\"zaxis\":{\"backgroundcolor\":\"#E5ECF6\",\"gridcolor\":\"white\",\"linecolor\":\"white\",\"showbackground\":true,\"ticks\":\"\",\"zerolinecolor\":\"white\",\"gridwidth\":2}},\"shapedefaults\":{\"line\":{\"color\":\"#2a3f5f\"}},\"annotationdefaults\":{\"arrowcolor\":\"#2a3f5f\",\"arrowhead\":0,\"arrowwidth\":1},\"geo\":{\"bgcolor\":\"white\",\"landcolor\":\"#E5ECF6\",\"subunitcolor\":\"white\",\"showland\":true,\"showlakes\":true,\"lakecolor\":\"white\"},\"title\":{\"x\":0.05},\"mapbox\":{\"style\":\"light\"}}}},                        {\"responsive\": true}                    ).then(function(){\n",
       "                            \n",
       "var gd = document.getElementById('71319a1a-c4c9-4c9f-b95d-1836b4296b6b');\n",
       "var x = new MutationObserver(function (mutations, observer) {{\n",
       "        var display = window.getComputedStyle(gd).display;\n",
       "        if (!display || display === 'none') {{\n",
       "            console.log([gd, 'removed!']);\n",
       "            Plotly.purge(gd);\n",
       "            observer.disconnect();\n",
       "        }}\n",
       "}});\n",
       "\n",
       "// Listen for the removal of the full notebook cells\n",
       "var notebookContainer = gd.closest('#notebook-container');\n",
       "if (notebookContainer) {{\n",
       "    x.observe(notebookContainer, {childList: true});\n",
       "}}\n",
       "\n",
       "// Listen for the clearing of the current output cell\n",
       "var outputEl = gd.closest('.output');\n",
       "if (outputEl) {{\n",
       "    x.observe(outputEl, {childList: true});\n",
       "}}\n",
       "\n",
       "                        })                };                });            </script>        </div>"
      ]
     },
     "metadata": {},
     "output_type": "display_data"
    },
    {
     "data": {
      "application/vnd.plotly.v1+json": {
       "config": {
        "plotlyServerURL": "https://plot.ly"
       },
       "data": [
        {
         "box": {
          "visible": true
         },
         "meanline": {
          "visible": true
         },
         "name": "Network5_amp",
         "type": "violin",
         "x": [
          "Network5_amp",
          "Network5_amp",
          "Network5_amp",
          "Network5_amp",
          "Network5_amp",
          "Network5_amp",
          "Network5_amp",
          "Network5_amp",
          "Network5_amp",
          "Network5_amp",
          "Network5_amp",
          "Network5_amp",
          "Network5_amp",
          "Network5_amp",
          "Network5_amp",
          "Network5_amp",
          "Network5_amp",
          "Network5_amp",
          "Network5_amp",
          "Network5_amp",
          "Network5_amp",
          "Network5_amp",
          "Network5_amp",
          "Network5_amp",
          "Network5_amp",
          "Network5_amp",
          "Network5_amp",
          "Network5_amp",
          "Network5_amp",
          "Network5_amp",
          "Network5_amp",
          "Network5_amp",
          "Network5_amp",
          "Network5_amp",
          "Network5_amp",
          "Network5_amp",
          "Network5_amp",
          "Network5_amp",
          "Network5_amp",
          "Network5_amp",
          "Network5_amp",
          "Network5_amp",
          "Network5_amp",
          "Network5_amp",
          "Network5_amp",
          "Network5_amp",
          "Network5_amp",
          "Network5_amp",
          "Network5_amp",
          "Network5_amp",
          "Network5_amp",
          "Network5_amp",
          "Network5_amp",
          "Network5_amp",
          "Network5_amp",
          "Network5_amp",
          "Network5_amp",
          "Network5_amp",
          "Network5_amp",
          "Network5_amp"
         ],
         "y": [
          0.7391304347826086,
          0.7391304347826086,
          0.6521739130434783,
          0.2608695652173913,
          0.6521739130434783,
          0.5217391304347826,
          0.6521739130434783,
          0.6521739130434783,
          0.5217391304347826,
          0.6521739130434783,
          0.6521739130434783,
          0.5217391304347826,
          0.6521739130434783,
          0.6521739130434783,
          0.5217391304347826,
          0.3478260869565217,
          0.6086956521739131,
          0.6521739130434783,
          0.7391304347826086,
          0.8260869565217391,
          0.5652173913043478,
          0.5217391304347826,
          0.6521739130434783,
          0.8260869565217391,
          0.5217391304347826,
          0.5652173913043478,
          0.6521739130434783,
          0.6086956521739131,
          0.5652173913043478,
          0.5217391304347826,
          0.6521739130434783,
          0.6521739130434783,
          0.7391304347826086,
          0.6521739130434783,
          0.5217391304347826,
          0.3478260869565217,
          0.6086956521739131,
          0.8260869565217391,
          0.5652173913043478,
          0.6521739130434783,
          0.5217391304347826,
          0.4782608695652174,
          0.5217391304347826,
          0.5652173913043478,
          0.6521739130434783,
          0.6521739130434783,
          0.7391304347826086,
          0.5652173913043478,
          0.8260869565217391,
          0.6521739130434783,
          0.7391304347826086,
          0.6521739130434783,
          0.5652173913043478,
          0.5652173913043478,
          0.5217391304347826,
          0.6521739130434783,
          0.5652173913043478,
          0.8260869565217391,
          0.5652173913043478,
          0.6521739130434783
         ]
        },
        {
         "box": {
          "visible": true
         },
         "meanline": {
          "visible": true
         },
         "name": "Network5_cont",
         "type": "violin",
         "x": [
          "Network5_cont",
          "Network5_cont",
          "Network5_cont",
          "Network5_cont",
          "Network5_cont",
          "Network5_cont",
          "Network5_cont",
          "Network5_cont",
          "Network5_cont",
          "Network5_cont",
          "Network5_cont",
          "Network5_cont",
          "Network5_cont",
          "Network5_cont",
          "Network5_cont",
          "Network5_cont",
          "Network5_cont",
          "Network5_cont",
          "Network5_cont",
          "Network5_cont",
          "Network5_cont",
          "Network5_cont",
          "Network5_cont",
          "Network5_cont",
          "Network5_cont",
          "Network5_cont",
          "Network5_cont",
          "Network5_cont",
          "Network5_cont",
          "Network5_cont",
          "Network5_cont",
          "Network5_cont",
          "Network5_cont",
          "Network5_cont",
          "Network5_cont",
          "Network5_cont",
          "Network5_cont",
          "Network5_cont",
          "Network5_cont",
          "Network5_cont",
          "Network5_cont",
          "Network5_cont",
          "Network5_cont",
          "Network5_cont",
          "Network5_cont",
          "Network5_cont",
          "Network5_cont",
          "Network5_cont",
          "Network5_cont",
          "Network5_cont",
          "Network5_cont",
          "Network5_cont",
          "Network5_cont",
          "Network5_cont",
          "Network5_cont",
          "Network5_cont",
          "Network5_cont",
          "Network5_cont",
          "Network5_cont",
          "Network5_cont"
         ],
         "y": [
          0.391304347826087,
          0.6521739130434783,
          0.5217391304347826,
          0.4782608695652174,
          0.7391304347826086,
          0.4347826086956521,
          0.5652173913043478,
          0.6086956521739131,
          0.5217391304347826,
          0.4782608695652174,
          0.6521739130434783,
          0.3478260869565217,
          0.5652173913043478,
          0.3478260869565217,
          0.5217391304347826,
          0.6521739130434783,
          0.5217391304347826,
          0.6521739130434783,
          0.5652173913043478,
          0.3478260869565217,
          0.2608695652173913,
          0.7391304347826086,
          0.4347826086956521,
          0.5652173913043478,
          0.7391304347826086,
          0.5652173913043478,
          0.5652173913043478,
          0.4782608695652174,
          0.7391304347826086,
          0.6521739130434783,
          0.4782608695652174,
          0.7391304347826086,
          0.5652173913043478,
          0.5652173913043478,
          0.7391304347826086,
          0.5652173913043478,
          0.6521739130434783,
          0.4782608695652174,
          0.8260869565217391,
          0.5652173913043478,
          0.7391304347826086,
          0.4782608695652174,
          0.7391304347826086,
          0.6086956521739131,
          0.6521739130434783,
          0.5652173913043478,
          0.5217391304347826,
          0.5652173913043478,
          0.6086956521739131,
          0.6521739130434783,
          0.5652173913043478,
          0.4782608695652174,
          0.5652173913043478,
          0.6086956521739131,
          0.4347826086956521,
          0.5217391304347826,
          0.3478260869565217,
          0.5652173913043478,
          0.4347826086956521,
          0.7391304347826086
         ]
        },
        {
         "box": {
          "visible": true
         },
         "meanline": {
          "visible": true
         },
         "name": "Network5_cont_p3n7",
         "type": "violin",
         "x": [
          "Network5_cont_p3n7",
          "Network5_cont_p3n7",
          "Network5_cont_p3n7",
          "Network5_cont_p3n7",
          "Network5_cont_p3n7",
          "Network5_cont_p3n7",
          "Network5_cont_p3n7",
          "Network5_cont_p3n7",
          "Network5_cont_p3n7",
          "Network5_cont_p3n7",
          "Network5_cont_p3n7",
          "Network5_cont_p3n7",
          "Network5_cont_p3n7",
          "Network5_cont_p3n7",
          "Network5_cont_p3n7",
          "Network5_cont_p3n7",
          "Network5_cont_p3n7",
          "Network5_cont_p3n7",
          "Network5_cont_p3n7",
          "Network5_cont_p3n7",
          "Network5_cont_p3n7",
          "Network5_cont_p3n7",
          "Network5_cont_p3n7",
          "Network5_cont_p3n7",
          "Network5_cont_p3n7",
          "Network5_cont_p3n7",
          "Network5_cont_p3n7",
          "Network5_cont_p3n7",
          "Network5_cont_p3n7",
          "Network5_cont_p3n7",
          "Network5_cont_p3n7",
          "Network5_cont_p3n7",
          "Network5_cont_p3n7",
          "Network5_cont_p3n7",
          "Network5_cont_p3n7",
          "Network5_cont_p3n7",
          "Network5_cont_p3n7",
          "Network5_cont_p3n7",
          "Network5_cont_p3n7",
          "Network5_cont_p3n7",
          "Network5_cont_p3n7",
          "Network5_cont_p3n7",
          "Network5_cont_p3n7",
          "Network5_cont_p3n7",
          "Network5_cont_p3n7",
          "Network5_cont_p3n7",
          "Network5_cont_p3n7",
          "Network5_cont_p3n7",
          "Network5_cont_p3n7",
          "Network5_cont_p3n7",
          "Network5_cont_p3n7",
          "Network5_cont_p3n7",
          "Network5_cont_p3n7",
          "Network5_cont_p3n7",
          "Network5_cont_p3n7",
          "Network5_cont_p3n7",
          "Network5_cont_p3n7",
          "Network5_cont_p3n7",
          "Network5_cont_p3n7",
          "Network5_cont_p3n7"
         ],
         "y": [
          0.6521739130434783,
          0.5217391304347826,
          0.7391304347826086,
          0.5652173913043478,
          0.6521739130434783,
          0.6521739130434783,
          0.7391304347826086,
          0.6521739130434783,
          0.5652173913043478,
          0.8260869565217391,
          0.4347826086956521,
          0.7391304347826086,
          0.6521739130434783,
          0.5652173913043478,
          0.4347826086956521,
          0.5652173913043478,
          0.5652173913043478,
          0.6521739130434783,
          0.3478260869565217,
          0.5652173913043478,
          0.6521739130434783,
          0.6521739130434783,
          0.5652173913043478,
          0.5652173913043478,
          0.6521739130434783,
          0.6521739130434783,
          0.6521739130434783,
          0.5652173913043478,
          0.5217391304347826,
          0.6086956521739131,
          0.5652173913043478,
          0.5652173913043478,
          0.4347826086956521,
          0.7391304347826086,
          0.7391304347826086,
          0.6521739130434783,
          0.4782608695652174,
          0.4782608695652174,
          0.5652173913043478,
          0.6521739130434783,
          0.4347826086956521,
          0.6521739130434783,
          0.7391304347826086,
          0.6521739130434783,
          0.5652173913043478,
          0.7391304347826086,
          0.5652173913043478,
          0.5652173913043478,
          0.5652173913043478,
          0.5652173913043478,
          0.5217391304347826,
          0.6086956521739131,
          0.5217391304347826,
          0.4782608695652174,
          0.5652173913043478,
          0.7391304347826086,
          0.5217391304347826,
          0.4782608695652174,
          0.5652173913043478,
          0.5652173913043478
         ]
        },
        {
         "box": {
          "visible": true
         },
         "meanline": {
          "visible": true
         },
         "name": "Network5_cont_p7n3",
         "type": "violin",
         "x": [
          "Network5_cont_p7n3",
          "Network5_cont_p7n3",
          "Network5_cont_p7n3",
          "Network5_cont_p7n3",
          "Network5_cont_p7n3",
          "Network5_cont_p7n3",
          "Network5_cont_p7n3",
          "Network5_cont_p7n3",
          "Network5_cont_p7n3",
          "Network5_cont_p7n3",
          "Network5_cont_p7n3",
          "Network5_cont_p7n3",
          "Network5_cont_p7n3",
          "Network5_cont_p7n3",
          "Network5_cont_p7n3",
          "Network5_cont_p7n3",
          "Network5_cont_p7n3",
          "Network5_cont_p7n3",
          "Network5_cont_p7n3",
          "Network5_cont_p7n3",
          "Network5_cont_p7n3",
          "Network5_cont_p7n3",
          "Network5_cont_p7n3",
          "Network5_cont_p7n3",
          "Network5_cont_p7n3",
          "Network5_cont_p7n3",
          "Network5_cont_p7n3",
          "Network5_cont_p7n3",
          "Network5_cont_p7n3",
          "Network5_cont_p7n3",
          "Network5_cont_p7n3",
          "Network5_cont_p7n3",
          "Network5_cont_p7n3",
          "Network5_cont_p7n3",
          "Network5_cont_p7n3",
          "Network5_cont_p7n3",
          "Network5_cont_p7n3",
          "Network5_cont_p7n3",
          "Network5_cont_p7n3",
          "Network5_cont_p7n3",
          "Network5_cont_p7n3",
          "Network5_cont_p7n3",
          "Network5_cont_p7n3",
          "Network5_cont_p7n3",
          "Network5_cont_p7n3",
          "Network5_cont_p7n3",
          "Network5_cont_p7n3",
          "Network5_cont_p7n3",
          "Network5_cont_p7n3",
          "Network5_cont_p7n3",
          "Network5_cont_p7n3",
          "Network5_cont_p7n3",
          "Network5_cont_p7n3",
          "Network5_cont_p7n3",
          "Network5_cont_p7n3",
          "Network5_cont_p7n3",
          "Network5_cont_p7n3",
          "Network5_cont_p7n3",
          "Network5_cont_p7n3",
          "Network5_cont_p7n3"
         ],
         "y": [
          0.4782608695652174,
          0.3478260869565217,
          0.3478260869565217,
          0.5652173913043478,
          0.5652173913043478,
          0.6521739130434783,
          0.6521739130434783,
          0.3478260869565217,
          0.6086956521739131,
          0.8260869565217391,
          0.5652173913043478,
          0.5217391304347826,
          0.4782608695652174,
          0.5652173913043478,
          0.4782608695652174,
          0.6521739130434783,
          0.4347826086956521,
          0.3478260869565217,
          0.4347826086956521,
          0.6521739130434783,
          0.5652173913043478,
          0.4347826086956521,
          0.6086956521739131,
          0.3478260869565217,
          0.3478260869565217,
          0.6521739130434783,
          0.4782608695652174,
          0.6521739130434783,
          0.7391304347826086,
          0.6521739130434783,
          0.7391304347826086,
          0.6086956521739131,
          0.6521739130434783,
          0.5652173913043478,
          0.8260869565217391,
          0.6521739130434783,
          0.5652173913043478,
          0.3478260869565217,
          0.6086956521739131,
          0.5652173913043478,
          0.391304347826087,
          0.6521739130434783,
          0.7391304347826086,
          0.6086956521739131,
          0.5652173913043478,
          0.2608695652173913,
          0.391304347826087,
          0.5652173913043478,
          0.8260869565217391,
          0.7391304347826086,
          0.4782608695652174,
          0.5652173913043478,
          0.3478260869565217,
          0.7391304347826086,
          0.5652173913043478,
          0.4782608695652174,
          0.5652173913043478,
          0.5652173913043478,
          0.3478260869565217,
          0.4347826086956521
         ]
        }
       ],
       "layout": {
        "template": {
         "data": {
          "bar": [
           {
            "error_x": {
             "color": "#2a3f5f"
            },
            "error_y": {
             "color": "#2a3f5f"
            },
            "marker": {
             "line": {
              "color": "#E5ECF6",
              "width": 0.5
             },
             "pattern": {
              "fillmode": "overlay",
              "size": 10,
              "solidity": 0.2
             }
            },
            "type": "bar"
           }
          ],
          "barpolar": [
           {
            "marker": {
             "line": {
              "color": "#E5ECF6",
              "width": 0.5
             },
             "pattern": {
              "fillmode": "overlay",
              "size": 10,
              "solidity": 0.2
             }
            },
            "type": "barpolar"
           }
          ],
          "carpet": [
           {
            "aaxis": {
             "endlinecolor": "#2a3f5f",
             "gridcolor": "white",
             "linecolor": "white",
             "minorgridcolor": "white",
             "startlinecolor": "#2a3f5f"
            },
            "baxis": {
             "endlinecolor": "#2a3f5f",
             "gridcolor": "white",
             "linecolor": "white",
             "minorgridcolor": "white",
             "startlinecolor": "#2a3f5f"
            },
            "type": "carpet"
           }
          ],
          "choropleth": [
           {
            "colorbar": {
             "outlinewidth": 0,
             "ticks": ""
            },
            "type": "choropleth"
           }
          ],
          "contour": [
           {
            "colorbar": {
             "outlinewidth": 0,
             "ticks": ""
            },
            "colorscale": [
             [
              0,
              "#0d0887"
             ],
             [
              0.1111111111111111,
              "#46039f"
             ],
             [
              0.2222222222222222,
              "#7201a8"
             ],
             [
              0.3333333333333333,
              "#9c179e"
             ],
             [
              0.4444444444444444,
              "#bd3786"
             ],
             [
              0.5555555555555556,
              "#d8576b"
             ],
             [
              0.6666666666666666,
              "#ed7953"
             ],
             [
              0.7777777777777778,
              "#fb9f3a"
             ],
             [
              0.8888888888888888,
              "#fdca26"
             ],
             [
              1,
              "#f0f921"
             ]
            ],
            "type": "contour"
           }
          ],
          "contourcarpet": [
           {
            "colorbar": {
             "outlinewidth": 0,
             "ticks": ""
            },
            "type": "contourcarpet"
           }
          ],
          "heatmap": [
           {
            "colorbar": {
             "outlinewidth": 0,
             "ticks": ""
            },
            "colorscale": [
             [
              0,
              "#0d0887"
             ],
             [
              0.1111111111111111,
              "#46039f"
             ],
             [
              0.2222222222222222,
              "#7201a8"
             ],
             [
              0.3333333333333333,
              "#9c179e"
             ],
             [
              0.4444444444444444,
              "#bd3786"
             ],
             [
              0.5555555555555556,
              "#d8576b"
             ],
             [
              0.6666666666666666,
              "#ed7953"
             ],
             [
              0.7777777777777778,
              "#fb9f3a"
             ],
             [
              0.8888888888888888,
              "#fdca26"
             ],
             [
              1,
              "#f0f921"
             ]
            ],
            "type": "heatmap"
           }
          ],
          "heatmapgl": [
           {
            "colorbar": {
             "outlinewidth": 0,
             "ticks": ""
            },
            "colorscale": [
             [
              0,
              "#0d0887"
             ],
             [
              0.1111111111111111,
              "#46039f"
             ],
             [
              0.2222222222222222,
              "#7201a8"
             ],
             [
              0.3333333333333333,
              "#9c179e"
             ],
             [
              0.4444444444444444,
              "#bd3786"
             ],
             [
              0.5555555555555556,
              "#d8576b"
             ],
             [
              0.6666666666666666,
              "#ed7953"
             ],
             [
              0.7777777777777778,
              "#fb9f3a"
             ],
             [
              0.8888888888888888,
              "#fdca26"
             ],
             [
              1,
              "#f0f921"
             ]
            ],
            "type": "heatmapgl"
           }
          ],
          "histogram": [
           {
            "marker": {
             "pattern": {
              "fillmode": "overlay",
              "size": 10,
              "solidity": 0.2
             }
            },
            "type": "histogram"
           }
          ],
          "histogram2d": [
           {
            "colorbar": {
             "outlinewidth": 0,
             "ticks": ""
            },
            "colorscale": [
             [
              0,
              "#0d0887"
             ],
             [
              0.1111111111111111,
              "#46039f"
             ],
             [
              0.2222222222222222,
              "#7201a8"
             ],
             [
              0.3333333333333333,
              "#9c179e"
             ],
             [
              0.4444444444444444,
              "#bd3786"
             ],
             [
              0.5555555555555556,
              "#d8576b"
             ],
             [
              0.6666666666666666,
              "#ed7953"
             ],
             [
              0.7777777777777778,
              "#fb9f3a"
             ],
             [
              0.8888888888888888,
              "#fdca26"
             ],
             [
              1,
              "#f0f921"
             ]
            ],
            "type": "histogram2d"
           }
          ],
          "histogram2dcontour": [
           {
            "colorbar": {
             "outlinewidth": 0,
             "ticks": ""
            },
            "colorscale": [
             [
              0,
              "#0d0887"
             ],
             [
              0.1111111111111111,
              "#46039f"
             ],
             [
              0.2222222222222222,
              "#7201a8"
             ],
             [
              0.3333333333333333,
              "#9c179e"
             ],
             [
              0.4444444444444444,
              "#bd3786"
             ],
             [
              0.5555555555555556,
              "#d8576b"
             ],
             [
              0.6666666666666666,
              "#ed7953"
             ],
             [
              0.7777777777777778,
              "#fb9f3a"
             ],
             [
              0.8888888888888888,
              "#fdca26"
             ],
             [
              1,
              "#f0f921"
             ]
            ],
            "type": "histogram2dcontour"
           }
          ],
          "mesh3d": [
           {
            "colorbar": {
             "outlinewidth": 0,
             "ticks": ""
            },
            "type": "mesh3d"
           }
          ],
          "parcoords": [
           {
            "line": {
             "colorbar": {
              "outlinewidth": 0,
              "ticks": ""
             }
            },
            "type": "parcoords"
           }
          ],
          "pie": [
           {
            "automargin": true,
            "type": "pie"
           }
          ],
          "scatter": [
           {
            "fillpattern": {
             "fillmode": "overlay",
             "size": 10,
             "solidity": 0.2
            },
            "type": "scatter"
           }
          ],
          "scatter3d": [
           {
            "line": {
             "colorbar": {
              "outlinewidth": 0,
              "ticks": ""
             }
            },
            "marker": {
             "colorbar": {
              "outlinewidth": 0,
              "ticks": ""
             }
            },
            "type": "scatter3d"
           }
          ],
          "scattercarpet": [
           {
            "marker": {
             "colorbar": {
              "outlinewidth": 0,
              "ticks": ""
             }
            },
            "type": "scattercarpet"
           }
          ],
          "scattergeo": [
           {
            "marker": {
             "colorbar": {
              "outlinewidth": 0,
              "ticks": ""
             }
            },
            "type": "scattergeo"
           }
          ],
          "scattergl": [
           {
            "marker": {
             "colorbar": {
              "outlinewidth": 0,
              "ticks": ""
             }
            },
            "type": "scattergl"
           }
          ],
          "scattermapbox": [
           {
            "marker": {
             "colorbar": {
              "outlinewidth": 0,
              "ticks": ""
             }
            },
            "type": "scattermapbox"
           }
          ],
          "scatterpolar": [
           {
            "marker": {
             "colorbar": {
              "outlinewidth": 0,
              "ticks": ""
             }
            },
            "type": "scatterpolar"
           }
          ],
          "scatterpolargl": [
           {
            "marker": {
             "colorbar": {
              "outlinewidth": 0,
              "ticks": ""
             }
            },
            "type": "scatterpolargl"
           }
          ],
          "scatterternary": [
           {
            "marker": {
             "colorbar": {
              "outlinewidth": 0,
              "ticks": ""
             }
            },
            "type": "scatterternary"
           }
          ],
          "surface": [
           {
            "colorbar": {
             "outlinewidth": 0,
             "ticks": ""
            },
            "colorscale": [
             [
              0,
              "#0d0887"
             ],
             [
              0.1111111111111111,
              "#46039f"
             ],
             [
              0.2222222222222222,
              "#7201a8"
             ],
             [
              0.3333333333333333,
              "#9c179e"
             ],
             [
              0.4444444444444444,
              "#bd3786"
             ],
             [
              0.5555555555555556,
              "#d8576b"
             ],
             [
              0.6666666666666666,
              "#ed7953"
             ],
             [
              0.7777777777777778,
              "#fb9f3a"
             ],
             [
              0.8888888888888888,
              "#fdca26"
             ],
             [
              1,
              "#f0f921"
             ]
            ],
            "type": "surface"
           }
          ],
          "table": [
           {
            "cells": {
             "fill": {
              "color": "#EBF0F8"
             },
             "line": {
              "color": "white"
             }
            },
            "header": {
             "fill": {
              "color": "#C8D4E3"
             },
             "line": {
              "color": "white"
             }
            },
            "type": "table"
           }
          ]
         },
         "layout": {
          "annotationdefaults": {
           "arrowcolor": "#2a3f5f",
           "arrowhead": 0,
           "arrowwidth": 1
          },
          "autotypenumbers": "strict",
          "coloraxis": {
           "colorbar": {
            "outlinewidth": 0,
            "ticks": ""
           }
          },
          "colorscale": {
           "diverging": [
            [
             0,
             "#8e0152"
            ],
            [
             0.1,
             "#c51b7d"
            ],
            [
             0.2,
             "#de77ae"
            ],
            [
             0.3,
             "#f1b6da"
            ],
            [
             0.4,
             "#fde0ef"
            ],
            [
             0.5,
             "#f7f7f7"
            ],
            [
             0.6,
             "#e6f5d0"
            ],
            [
             0.7,
             "#b8e186"
            ],
            [
             0.8,
             "#7fbc41"
            ],
            [
             0.9,
             "#4d9221"
            ],
            [
             1,
             "#276419"
            ]
           ],
           "sequential": [
            [
             0,
             "#0d0887"
            ],
            [
             0.1111111111111111,
             "#46039f"
            ],
            [
             0.2222222222222222,
             "#7201a8"
            ],
            [
             0.3333333333333333,
             "#9c179e"
            ],
            [
             0.4444444444444444,
             "#bd3786"
            ],
            [
             0.5555555555555556,
             "#d8576b"
            ],
            [
             0.6666666666666666,
             "#ed7953"
            ],
            [
             0.7777777777777778,
             "#fb9f3a"
            ],
            [
             0.8888888888888888,
             "#fdca26"
            ],
            [
             1,
             "#f0f921"
            ]
           ],
           "sequentialminus": [
            [
             0,
             "#0d0887"
            ],
            [
             0.1111111111111111,
             "#46039f"
            ],
            [
             0.2222222222222222,
             "#7201a8"
            ],
            [
             0.3333333333333333,
             "#9c179e"
            ],
            [
             0.4444444444444444,
             "#bd3786"
            ],
            [
             0.5555555555555556,
             "#d8576b"
            ],
            [
             0.6666666666666666,
             "#ed7953"
            ],
            [
             0.7777777777777778,
             "#fb9f3a"
            ],
            [
             0.8888888888888888,
             "#fdca26"
            ],
            [
             1,
             "#f0f921"
            ]
           ]
          },
          "colorway": [
           "#636efa",
           "#EF553B",
           "#00cc96",
           "#ab63fa",
           "#FFA15A",
           "#19d3f3",
           "#FF6692",
           "#B6E880",
           "#FF97FF",
           "#FECB52"
          ],
          "font": {
           "color": "#2a3f5f"
          },
          "geo": {
           "bgcolor": "white",
           "lakecolor": "white",
           "landcolor": "#E5ECF6",
           "showlakes": true,
           "showland": true,
           "subunitcolor": "white"
          },
          "hoverlabel": {
           "align": "left"
          },
          "hovermode": "closest",
          "mapbox": {
           "style": "light"
          },
          "paper_bgcolor": "white",
          "plot_bgcolor": "#E5ECF6",
          "polar": {
           "angularaxis": {
            "gridcolor": "white",
            "linecolor": "white",
            "ticks": ""
           },
           "bgcolor": "#E5ECF6",
           "radialaxis": {
            "gridcolor": "white",
            "linecolor": "white",
            "ticks": ""
           }
          },
          "scene": {
           "xaxis": {
            "backgroundcolor": "#E5ECF6",
            "gridcolor": "white",
            "gridwidth": 2,
            "linecolor": "white",
            "showbackground": true,
            "ticks": "",
            "zerolinecolor": "white"
           },
           "yaxis": {
            "backgroundcolor": "#E5ECF6",
            "gridcolor": "white",
            "gridwidth": 2,
            "linecolor": "white",
            "showbackground": true,
            "ticks": "",
            "zerolinecolor": "white"
           },
           "zaxis": {
            "backgroundcolor": "#E5ECF6",
            "gridcolor": "white",
            "gridwidth": 2,
            "linecolor": "white",
            "showbackground": true,
            "ticks": "",
            "zerolinecolor": "white"
           }
          },
          "shapedefaults": {
           "line": {
            "color": "#2a3f5f"
           }
          },
          "ternary": {
           "aaxis": {
            "gridcolor": "white",
            "linecolor": "white",
            "ticks": ""
           },
           "baxis": {
            "gridcolor": "white",
            "linecolor": "white",
            "ticks": ""
           },
           "bgcolor": "#E5ECF6",
           "caxis": {
            "gridcolor": "white",
            "linecolor": "white",
            "ticks": ""
           }
          },
          "title": {
           "x": 0.05
          },
          "xaxis": {
           "automargin": true,
           "gridcolor": "white",
           "linecolor": "white",
           "ticks": "",
           "title": {
            "standoff": 15
           },
           "zerolinecolor": "white",
           "zerolinewidth": 2
          },
          "yaxis": {
           "automargin": true,
           "gridcolor": "white",
           "linecolor": "white",
           "ticks": "",
           "title": {
            "standoff": 15
           },
           "zerolinecolor": "white",
           "zerolinewidth": 2
          }
         }
        }
       }
      },
      "text/html": [
       "<div>                            <div id=\"1d6a6446-9937-465b-899b-27f182930c30\" class=\"plotly-graph-div\" style=\"height:525px; width:100%;\"></div>            <script type=\"text/javascript\">                require([\"plotly\"], function(Plotly) {                    window.PLOTLYENV=window.PLOTLYENV || {};                                    if (document.getElementById(\"1d6a6446-9937-465b-899b-27f182930c30\")) {                    Plotly.newPlot(                        \"1d6a6446-9937-465b-899b-27f182930c30\",                        [{\"box\":{\"visible\":true},\"meanline\":{\"visible\":true},\"name\":\"Network5_amp\",\"x\":[\"Network5_amp\",\"Network5_amp\",\"Network5_amp\",\"Network5_amp\",\"Network5_amp\",\"Network5_amp\",\"Network5_amp\",\"Network5_amp\",\"Network5_amp\",\"Network5_amp\",\"Network5_amp\",\"Network5_amp\",\"Network5_amp\",\"Network5_amp\",\"Network5_amp\",\"Network5_amp\",\"Network5_amp\",\"Network5_amp\",\"Network5_amp\",\"Network5_amp\",\"Network5_amp\",\"Network5_amp\",\"Network5_amp\",\"Network5_amp\",\"Network5_amp\",\"Network5_amp\",\"Network5_amp\",\"Network5_amp\",\"Network5_amp\",\"Network5_amp\",\"Network5_amp\",\"Network5_amp\",\"Network5_amp\",\"Network5_amp\",\"Network5_amp\",\"Network5_amp\",\"Network5_amp\",\"Network5_amp\",\"Network5_amp\",\"Network5_amp\",\"Network5_amp\",\"Network5_amp\",\"Network5_amp\",\"Network5_amp\",\"Network5_amp\",\"Network5_amp\",\"Network5_amp\",\"Network5_amp\",\"Network5_amp\",\"Network5_amp\",\"Network5_amp\",\"Network5_amp\",\"Network5_amp\",\"Network5_amp\",\"Network5_amp\",\"Network5_amp\",\"Network5_amp\",\"Network5_amp\",\"Network5_amp\",\"Network5_amp\"],\"y\":[0.7391304347826086,0.7391304347826086,0.6521739130434783,0.2608695652173913,0.6521739130434783,0.5217391304347826,0.6521739130434783,0.6521739130434783,0.5217391304347826,0.6521739130434783,0.6521739130434783,0.5217391304347826,0.6521739130434783,0.6521739130434783,0.5217391304347826,0.3478260869565217,0.6086956521739131,0.6521739130434783,0.7391304347826086,0.8260869565217391,0.5652173913043478,0.5217391304347826,0.6521739130434783,0.8260869565217391,0.5217391304347826,0.5652173913043478,0.6521739130434783,0.6086956521739131,0.5652173913043478,0.5217391304347826,0.6521739130434783,0.6521739130434783,0.7391304347826086,0.6521739130434783,0.5217391304347826,0.3478260869565217,0.6086956521739131,0.8260869565217391,0.5652173913043478,0.6521739130434783,0.5217391304347826,0.4782608695652174,0.5217391304347826,0.5652173913043478,0.6521739130434783,0.6521739130434783,0.7391304347826086,0.5652173913043478,0.8260869565217391,0.6521739130434783,0.7391304347826086,0.6521739130434783,0.5652173913043478,0.5652173913043478,0.5217391304347826,0.6521739130434783,0.5652173913043478,0.8260869565217391,0.5652173913043478,0.6521739130434783],\"type\":\"violin\"},{\"box\":{\"visible\":true},\"meanline\":{\"visible\":true},\"name\":\"Network5_cont\",\"x\":[\"Network5_cont\",\"Network5_cont\",\"Network5_cont\",\"Network5_cont\",\"Network5_cont\",\"Network5_cont\",\"Network5_cont\",\"Network5_cont\",\"Network5_cont\",\"Network5_cont\",\"Network5_cont\",\"Network5_cont\",\"Network5_cont\",\"Network5_cont\",\"Network5_cont\",\"Network5_cont\",\"Network5_cont\",\"Network5_cont\",\"Network5_cont\",\"Network5_cont\",\"Network5_cont\",\"Network5_cont\",\"Network5_cont\",\"Network5_cont\",\"Network5_cont\",\"Network5_cont\",\"Network5_cont\",\"Network5_cont\",\"Network5_cont\",\"Network5_cont\",\"Network5_cont\",\"Network5_cont\",\"Network5_cont\",\"Network5_cont\",\"Network5_cont\",\"Network5_cont\",\"Network5_cont\",\"Network5_cont\",\"Network5_cont\",\"Network5_cont\",\"Network5_cont\",\"Network5_cont\",\"Network5_cont\",\"Network5_cont\",\"Network5_cont\",\"Network5_cont\",\"Network5_cont\",\"Network5_cont\",\"Network5_cont\",\"Network5_cont\",\"Network5_cont\",\"Network5_cont\",\"Network5_cont\",\"Network5_cont\",\"Network5_cont\",\"Network5_cont\",\"Network5_cont\",\"Network5_cont\",\"Network5_cont\",\"Network5_cont\"],\"y\":[0.391304347826087,0.6521739130434783,0.5217391304347826,0.4782608695652174,0.7391304347826086,0.4347826086956521,0.5652173913043478,0.6086956521739131,0.5217391304347826,0.4782608695652174,0.6521739130434783,0.3478260869565217,0.5652173913043478,0.3478260869565217,0.5217391304347826,0.6521739130434783,0.5217391304347826,0.6521739130434783,0.5652173913043478,0.3478260869565217,0.2608695652173913,0.7391304347826086,0.4347826086956521,0.5652173913043478,0.7391304347826086,0.5652173913043478,0.5652173913043478,0.4782608695652174,0.7391304347826086,0.6521739130434783,0.4782608695652174,0.7391304347826086,0.5652173913043478,0.5652173913043478,0.7391304347826086,0.5652173913043478,0.6521739130434783,0.4782608695652174,0.8260869565217391,0.5652173913043478,0.7391304347826086,0.4782608695652174,0.7391304347826086,0.6086956521739131,0.6521739130434783,0.5652173913043478,0.5217391304347826,0.5652173913043478,0.6086956521739131,0.6521739130434783,0.5652173913043478,0.4782608695652174,0.5652173913043478,0.6086956521739131,0.4347826086956521,0.5217391304347826,0.3478260869565217,0.5652173913043478,0.4347826086956521,0.7391304347826086],\"type\":\"violin\"},{\"box\":{\"visible\":true},\"meanline\":{\"visible\":true},\"name\":\"Network5_cont_p3n7\",\"x\":[\"Network5_cont_p3n7\",\"Network5_cont_p3n7\",\"Network5_cont_p3n7\",\"Network5_cont_p3n7\",\"Network5_cont_p3n7\",\"Network5_cont_p3n7\",\"Network5_cont_p3n7\",\"Network5_cont_p3n7\",\"Network5_cont_p3n7\",\"Network5_cont_p3n7\",\"Network5_cont_p3n7\",\"Network5_cont_p3n7\",\"Network5_cont_p3n7\",\"Network5_cont_p3n7\",\"Network5_cont_p3n7\",\"Network5_cont_p3n7\",\"Network5_cont_p3n7\",\"Network5_cont_p3n7\",\"Network5_cont_p3n7\",\"Network5_cont_p3n7\",\"Network5_cont_p3n7\",\"Network5_cont_p3n7\",\"Network5_cont_p3n7\",\"Network5_cont_p3n7\",\"Network5_cont_p3n7\",\"Network5_cont_p3n7\",\"Network5_cont_p3n7\",\"Network5_cont_p3n7\",\"Network5_cont_p3n7\",\"Network5_cont_p3n7\",\"Network5_cont_p3n7\",\"Network5_cont_p3n7\",\"Network5_cont_p3n7\",\"Network5_cont_p3n7\",\"Network5_cont_p3n7\",\"Network5_cont_p3n7\",\"Network5_cont_p3n7\",\"Network5_cont_p3n7\",\"Network5_cont_p3n7\",\"Network5_cont_p3n7\",\"Network5_cont_p3n7\",\"Network5_cont_p3n7\",\"Network5_cont_p3n7\",\"Network5_cont_p3n7\",\"Network5_cont_p3n7\",\"Network5_cont_p3n7\",\"Network5_cont_p3n7\",\"Network5_cont_p3n7\",\"Network5_cont_p3n7\",\"Network5_cont_p3n7\",\"Network5_cont_p3n7\",\"Network5_cont_p3n7\",\"Network5_cont_p3n7\",\"Network5_cont_p3n7\",\"Network5_cont_p3n7\",\"Network5_cont_p3n7\",\"Network5_cont_p3n7\",\"Network5_cont_p3n7\",\"Network5_cont_p3n7\",\"Network5_cont_p3n7\"],\"y\":[0.6521739130434783,0.5217391304347826,0.7391304347826086,0.5652173913043478,0.6521739130434783,0.6521739130434783,0.7391304347826086,0.6521739130434783,0.5652173913043478,0.8260869565217391,0.4347826086956521,0.7391304347826086,0.6521739130434783,0.5652173913043478,0.4347826086956521,0.5652173913043478,0.5652173913043478,0.6521739130434783,0.3478260869565217,0.5652173913043478,0.6521739130434783,0.6521739130434783,0.5652173913043478,0.5652173913043478,0.6521739130434783,0.6521739130434783,0.6521739130434783,0.5652173913043478,0.5217391304347826,0.6086956521739131,0.5652173913043478,0.5652173913043478,0.4347826086956521,0.7391304347826086,0.7391304347826086,0.6521739130434783,0.4782608695652174,0.4782608695652174,0.5652173913043478,0.6521739130434783,0.4347826086956521,0.6521739130434783,0.7391304347826086,0.6521739130434783,0.5652173913043478,0.7391304347826086,0.5652173913043478,0.5652173913043478,0.5652173913043478,0.5652173913043478,0.5217391304347826,0.6086956521739131,0.5217391304347826,0.4782608695652174,0.5652173913043478,0.7391304347826086,0.5217391304347826,0.4782608695652174,0.5652173913043478,0.5652173913043478],\"type\":\"violin\"},{\"box\":{\"visible\":true},\"meanline\":{\"visible\":true},\"name\":\"Network5_cont_p7n3\",\"x\":[\"Network5_cont_p7n3\",\"Network5_cont_p7n3\",\"Network5_cont_p7n3\",\"Network5_cont_p7n3\",\"Network5_cont_p7n3\",\"Network5_cont_p7n3\",\"Network5_cont_p7n3\",\"Network5_cont_p7n3\",\"Network5_cont_p7n3\",\"Network5_cont_p7n3\",\"Network5_cont_p7n3\",\"Network5_cont_p7n3\",\"Network5_cont_p7n3\",\"Network5_cont_p7n3\",\"Network5_cont_p7n3\",\"Network5_cont_p7n3\",\"Network5_cont_p7n3\",\"Network5_cont_p7n3\",\"Network5_cont_p7n3\",\"Network5_cont_p7n3\",\"Network5_cont_p7n3\",\"Network5_cont_p7n3\",\"Network5_cont_p7n3\",\"Network5_cont_p7n3\",\"Network5_cont_p7n3\",\"Network5_cont_p7n3\",\"Network5_cont_p7n3\",\"Network5_cont_p7n3\",\"Network5_cont_p7n3\",\"Network5_cont_p7n3\",\"Network5_cont_p7n3\",\"Network5_cont_p7n3\",\"Network5_cont_p7n3\",\"Network5_cont_p7n3\",\"Network5_cont_p7n3\",\"Network5_cont_p7n3\",\"Network5_cont_p7n3\",\"Network5_cont_p7n3\",\"Network5_cont_p7n3\",\"Network5_cont_p7n3\",\"Network5_cont_p7n3\",\"Network5_cont_p7n3\",\"Network5_cont_p7n3\",\"Network5_cont_p7n3\",\"Network5_cont_p7n3\",\"Network5_cont_p7n3\",\"Network5_cont_p7n3\",\"Network5_cont_p7n3\",\"Network5_cont_p7n3\",\"Network5_cont_p7n3\",\"Network5_cont_p7n3\",\"Network5_cont_p7n3\",\"Network5_cont_p7n3\",\"Network5_cont_p7n3\",\"Network5_cont_p7n3\",\"Network5_cont_p7n3\",\"Network5_cont_p7n3\",\"Network5_cont_p7n3\",\"Network5_cont_p7n3\",\"Network5_cont_p7n3\"],\"y\":[0.4782608695652174,0.3478260869565217,0.3478260869565217,0.5652173913043478,0.5652173913043478,0.6521739130434783,0.6521739130434783,0.3478260869565217,0.6086956521739131,0.8260869565217391,0.5652173913043478,0.5217391304347826,0.4782608695652174,0.5652173913043478,0.4782608695652174,0.6521739130434783,0.4347826086956521,0.3478260869565217,0.4347826086956521,0.6521739130434783,0.5652173913043478,0.4347826086956521,0.6086956521739131,0.3478260869565217,0.3478260869565217,0.6521739130434783,0.4782608695652174,0.6521739130434783,0.7391304347826086,0.6521739130434783,0.7391304347826086,0.6086956521739131,0.6521739130434783,0.5652173913043478,0.8260869565217391,0.6521739130434783,0.5652173913043478,0.3478260869565217,0.6086956521739131,0.5652173913043478,0.391304347826087,0.6521739130434783,0.7391304347826086,0.6086956521739131,0.5652173913043478,0.2608695652173913,0.391304347826087,0.5652173913043478,0.8260869565217391,0.7391304347826086,0.4782608695652174,0.5652173913043478,0.3478260869565217,0.7391304347826086,0.5652173913043478,0.4782608695652174,0.5652173913043478,0.5652173913043478,0.3478260869565217,0.4347826086956521],\"type\":\"violin\"}],                        {\"template\":{\"data\":{\"histogram2dcontour\":[{\"type\":\"histogram2dcontour\",\"colorbar\":{\"outlinewidth\":0,\"ticks\":\"\"},\"colorscale\":[[0.0,\"#0d0887\"],[0.1111111111111111,\"#46039f\"],[0.2222222222222222,\"#7201a8\"],[0.3333333333333333,\"#9c179e\"],[0.4444444444444444,\"#bd3786\"],[0.5555555555555556,\"#d8576b\"],[0.6666666666666666,\"#ed7953\"],[0.7777777777777778,\"#fb9f3a\"],[0.8888888888888888,\"#fdca26\"],[1.0,\"#f0f921\"]]}],\"choropleth\":[{\"type\":\"choropleth\",\"colorbar\":{\"outlinewidth\":0,\"ticks\":\"\"}}],\"histogram2d\":[{\"type\":\"histogram2d\",\"colorbar\":{\"outlinewidth\":0,\"ticks\":\"\"},\"colorscale\":[[0.0,\"#0d0887\"],[0.1111111111111111,\"#46039f\"],[0.2222222222222222,\"#7201a8\"],[0.3333333333333333,\"#9c179e\"],[0.4444444444444444,\"#bd3786\"],[0.5555555555555556,\"#d8576b\"],[0.6666666666666666,\"#ed7953\"],[0.7777777777777778,\"#fb9f3a\"],[0.8888888888888888,\"#fdca26\"],[1.0,\"#f0f921\"]]}],\"heatmap\":[{\"type\":\"heatmap\",\"colorbar\":{\"outlinewidth\":0,\"ticks\":\"\"},\"colorscale\":[[0.0,\"#0d0887\"],[0.1111111111111111,\"#46039f\"],[0.2222222222222222,\"#7201a8\"],[0.3333333333333333,\"#9c179e\"],[0.4444444444444444,\"#bd3786\"],[0.5555555555555556,\"#d8576b\"],[0.6666666666666666,\"#ed7953\"],[0.7777777777777778,\"#fb9f3a\"],[0.8888888888888888,\"#fdca26\"],[1.0,\"#f0f921\"]]}],\"heatmapgl\":[{\"type\":\"heatmapgl\",\"colorbar\":{\"outlinewidth\":0,\"ticks\":\"\"},\"colorscale\":[[0.0,\"#0d0887\"],[0.1111111111111111,\"#46039f\"],[0.2222222222222222,\"#7201a8\"],[0.3333333333333333,\"#9c179e\"],[0.4444444444444444,\"#bd3786\"],[0.5555555555555556,\"#d8576b\"],[0.6666666666666666,\"#ed7953\"],[0.7777777777777778,\"#fb9f3a\"],[0.8888888888888888,\"#fdca26\"],[1.0,\"#f0f921\"]]}],\"contourcarpet\":[{\"type\":\"contourcarpet\",\"colorbar\":{\"outlinewidth\":0,\"ticks\":\"\"}}],\"contour\":[{\"type\":\"contour\",\"colorbar\":{\"outlinewidth\":0,\"ticks\":\"\"},\"colorscale\":[[0.0,\"#0d0887\"],[0.1111111111111111,\"#46039f\"],[0.2222222222222222,\"#7201a8\"],[0.3333333333333333,\"#9c179e\"],[0.4444444444444444,\"#bd3786\"],[0.5555555555555556,\"#d8576b\"],[0.6666666666666666,\"#ed7953\"],[0.7777777777777778,\"#fb9f3a\"],[0.8888888888888888,\"#fdca26\"],[1.0,\"#f0f921\"]]}],\"surface\":[{\"type\":\"surface\",\"colorbar\":{\"outlinewidth\":0,\"ticks\":\"\"},\"colorscale\":[[0.0,\"#0d0887\"],[0.1111111111111111,\"#46039f\"],[0.2222222222222222,\"#7201a8\"],[0.3333333333333333,\"#9c179e\"],[0.4444444444444444,\"#bd3786\"],[0.5555555555555556,\"#d8576b\"],[0.6666666666666666,\"#ed7953\"],[0.7777777777777778,\"#fb9f3a\"],[0.8888888888888888,\"#fdca26\"],[1.0,\"#f0f921\"]]}],\"mesh3d\":[{\"type\":\"mesh3d\",\"colorbar\":{\"outlinewidth\":0,\"ticks\":\"\"}}],\"scatter\":[{\"fillpattern\":{\"fillmode\":\"overlay\",\"size\":10,\"solidity\":0.2},\"type\":\"scatter\"}],\"parcoords\":[{\"type\":\"parcoords\",\"line\":{\"colorbar\":{\"outlinewidth\":0,\"ticks\":\"\"}}}],\"scatterpolargl\":[{\"type\":\"scatterpolargl\",\"marker\":{\"colorbar\":{\"outlinewidth\":0,\"ticks\":\"\"}}}],\"bar\":[{\"error_x\":{\"color\":\"#2a3f5f\"},\"error_y\":{\"color\":\"#2a3f5f\"},\"marker\":{\"line\":{\"color\":\"#E5ECF6\",\"width\":0.5},\"pattern\":{\"fillmode\":\"overlay\",\"size\":10,\"solidity\":0.2}},\"type\":\"bar\"}],\"scattergeo\":[{\"type\":\"scattergeo\",\"marker\":{\"colorbar\":{\"outlinewidth\":0,\"ticks\":\"\"}}}],\"scatterpolar\":[{\"type\":\"scatterpolar\",\"marker\":{\"colorbar\":{\"outlinewidth\":0,\"ticks\":\"\"}}}],\"histogram\":[{\"marker\":{\"pattern\":{\"fillmode\":\"overlay\",\"size\":10,\"solidity\":0.2}},\"type\":\"histogram\"}],\"scattergl\":[{\"type\":\"scattergl\",\"marker\":{\"colorbar\":{\"outlinewidth\":0,\"ticks\":\"\"}}}],\"scatter3d\":[{\"type\":\"scatter3d\",\"line\":{\"colorbar\":{\"outlinewidth\":0,\"ticks\":\"\"}},\"marker\":{\"colorbar\":{\"outlinewidth\":0,\"ticks\":\"\"}}}],\"scattermapbox\":[{\"type\":\"scattermapbox\",\"marker\":{\"colorbar\":{\"outlinewidth\":0,\"ticks\":\"\"}}}],\"scatterternary\":[{\"type\":\"scatterternary\",\"marker\":{\"colorbar\":{\"outlinewidth\":0,\"ticks\":\"\"}}}],\"scattercarpet\":[{\"type\":\"scattercarpet\",\"marker\":{\"colorbar\":{\"outlinewidth\":0,\"ticks\":\"\"}}}],\"carpet\":[{\"aaxis\":{\"endlinecolor\":\"#2a3f5f\",\"gridcolor\":\"white\",\"linecolor\":\"white\",\"minorgridcolor\":\"white\",\"startlinecolor\":\"#2a3f5f\"},\"baxis\":{\"endlinecolor\":\"#2a3f5f\",\"gridcolor\":\"white\",\"linecolor\":\"white\",\"minorgridcolor\":\"white\",\"startlinecolor\":\"#2a3f5f\"},\"type\":\"carpet\"}],\"table\":[{\"cells\":{\"fill\":{\"color\":\"#EBF0F8\"},\"line\":{\"color\":\"white\"}},\"header\":{\"fill\":{\"color\":\"#C8D4E3\"},\"line\":{\"color\":\"white\"}},\"type\":\"table\"}],\"barpolar\":[{\"marker\":{\"line\":{\"color\":\"#E5ECF6\",\"width\":0.5},\"pattern\":{\"fillmode\":\"overlay\",\"size\":10,\"solidity\":0.2}},\"type\":\"barpolar\"}],\"pie\":[{\"automargin\":true,\"type\":\"pie\"}]},\"layout\":{\"autotypenumbers\":\"strict\",\"colorway\":[\"#636efa\",\"#EF553B\",\"#00cc96\",\"#ab63fa\",\"#FFA15A\",\"#19d3f3\",\"#FF6692\",\"#B6E880\",\"#FF97FF\",\"#FECB52\"],\"font\":{\"color\":\"#2a3f5f\"},\"hovermode\":\"closest\",\"hoverlabel\":{\"align\":\"left\"},\"paper_bgcolor\":\"white\",\"plot_bgcolor\":\"#E5ECF6\",\"polar\":{\"bgcolor\":\"#E5ECF6\",\"angularaxis\":{\"gridcolor\":\"white\",\"linecolor\":\"white\",\"ticks\":\"\"},\"radialaxis\":{\"gridcolor\":\"white\",\"linecolor\":\"white\",\"ticks\":\"\"}},\"ternary\":{\"bgcolor\":\"#E5ECF6\",\"aaxis\":{\"gridcolor\":\"white\",\"linecolor\":\"white\",\"ticks\":\"\"},\"baxis\":{\"gridcolor\":\"white\",\"linecolor\":\"white\",\"ticks\":\"\"},\"caxis\":{\"gridcolor\":\"white\",\"linecolor\":\"white\",\"ticks\":\"\"}},\"coloraxis\":{\"colorbar\":{\"outlinewidth\":0,\"ticks\":\"\"}},\"colorscale\":{\"sequential\":[[0.0,\"#0d0887\"],[0.1111111111111111,\"#46039f\"],[0.2222222222222222,\"#7201a8\"],[0.3333333333333333,\"#9c179e\"],[0.4444444444444444,\"#bd3786\"],[0.5555555555555556,\"#d8576b\"],[0.6666666666666666,\"#ed7953\"],[0.7777777777777778,\"#fb9f3a\"],[0.8888888888888888,\"#fdca26\"],[1.0,\"#f0f921\"]],\"sequentialminus\":[[0.0,\"#0d0887\"],[0.1111111111111111,\"#46039f\"],[0.2222222222222222,\"#7201a8\"],[0.3333333333333333,\"#9c179e\"],[0.4444444444444444,\"#bd3786\"],[0.5555555555555556,\"#d8576b\"],[0.6666666666666666,\"#ed7953\"],[0.7777777777777778,\"#fb9f3a\"],[0.8888888888888888,\"#fdca26\"],[1.0,\"#f0f921\"]],\"diverging\":[[0,\"#8e0152\"],[0.1,\"#c51b7d\"],[0.2,\"#de77ae\"],[0.3,\"#f1b6da\"],[0.4,\"#fde0ef\"],[0.5,\"#f7f7f7\"],[0.6,\"#e6f5d0\"],[0.7,\"#b8e186\"],[0.8,\"#7fbc41\"],[0.9,\"#4d9221\"],[1,\"#276419\"]]},\"xaxis\":{\"gridcolor\":\"white\",\"linecolor\":\"white\",\"ticks\":\"\",\"title\":{\"standoff\":15},\"zerolinecolor\":\"white\",\"automargin\":true,\"zerolinewidth\":2},\"yaxis\":{\"gridcolor\":\"white\",\"linecolor\":\"white\",\"ticks\":\"\",\"title\":{\"standoff\":15},\"zerolinecolor\":\"white\",\"automargin\":true,\"zerolinewidth\":2},\"scene\":{\"xaxis\":{\"backgroundcolor\":\"#E5ECF6\",\"gridcolor\":\"white\",\"linecolor\":\"white\",\"showbackground\":true,\"ticks\":\"\",\"zerolinecolor\":\"white\",\"gridwidth\":2},\"yaxis\":{\"backgroundcolor\":\"#E5ECF6\",\"gridcolor\":\"white\",\"linecolor\":\"white\",\"showbackground\":true,\"ticks\":\"\",\"zerolinecolor\":\"white\",\"gridwidth\":2},\"zaxis\":{\"backgroundcolor\":\"#E5ECF6\",\"gridcolor\":\"white\",\"linecolor\":\"white\",\"showbackground\":true,\"ticks\":\"\",\"zerolinecolor\":\"white\",\"gridwidth\":2}},\"shapedefaults\":{\"line\":{\"color\":\"#2a3f5f\"}},\"annotationdefaults\":{\"arrowcolor\":\"#2a3f5f\",\"arrowhead\":0,\"arrowwidth\":1},\"geo\":{\"bgcolor\":\"white\",\"landcolor\":\"#E5ECF6\",\"subunitcolor\":\"white\",\"showland\":true,\"showlakes\":true,\"lakecolor\":\"white\"},\"title\":{\"x\":0.05},\"mapbox\":{\"style\":\"light\"}}}},                        {\"responsive\": true}                    ).then(function(){\n",
       "                            \n",
       "var gd = document.getElementById('1d6a6446-9937-465b-899b-27f182930c30');\n",
       "var x = new MutationObserver(function (mutations, observer) {{\n",
       "        var display = window.getComputedStyle(gd).display;\n",
       "        if (!display || display === 'none') {{\n",
       "            console.log([gd, 'removed!']);\n",
       "            Plotly.purge(gd);\n",
       "            observer.disconnect();\n",
       "        }}\n",
       "}});\n",
       "\n",
       "// Listen for the removal of the full notebook cells\n",
       "var notebookContainer = gd.closest('#notebook-container');\n",
       "if (notebookContainer) {{\n",
       "    x.observe(notebookContainer, {childList: true});\n",
       "}}\n",
       "\n",
       "// Listen for the clearing of the current output cell\n",
       "var outputEl = gd.closest('.output');\n",
       "if (outputEl) {{\n",
       "    x.observe(outputEl, {childList: true});\n",
       "}}\n",
       "\n",
       "                        })                };                });            </script>        </div>"
      ]
     },
     "metadata": {},
     "output_type": "display_data"
    },
    {
     "data": {
      "application/vnd.plotly.v1+json": {
       "config": {
        "plotlyServerURL": "https://plot.ly"
       },
       "data": [
        {
         "box": {
          "visible": true
         },
         "meanline": {
          "visible": true
         },
         "name": "Network6_amp",
         "type": "violin",
         "x": [
          "Network6_amp",
          "Network6_amp",
          "Network6_amp",
          "Network6_amp",
          "Network6_amp",
          "Network6_amp",
          "Network6_amp",
          "Network6_amp",
          "Network6_amp",
          "Network6_amp",
          "Network6_amp",
          "Network6_amp",
          "Network6_amp",
          "Network6_amp",
          "Network6_amp",
          "Network6_amp",
          "Network6_amp",
          "Network6_amp",
          "Network6_amp",
          "Network6_amp",
          "Network6_amp",
          "Network6_amp",
          "Network6_amp",
          "Network6_amp",
          "Network6_amp",
          "Network6_amp",
          "Network6_amp",
          "Network6_amp",
          "Network6_amp",
          "Network6_amp",
          "Network6_amp",
          "Network6_amp",
          "Network6_amp",
          "Network6_amp",
          "Network6_amp",
          "Network6_amp",
          "Network6_amp",
          "Network6_amp",
          "Network6_amp",
          "Network6_amp",
          "Network6_amp",
          "Network6_amp",
          "Network6_amp",
          "Network6_amp",
          "Network6_amp",
          "Network6_amp",
          "Network6_amp",
          "Network6_amp",
          "Network6_amp",
          "Network6_amp",
          "Network6_amp",
          "Network6_amp",
          "Network6_amp",
          "Network6_amp",
          "Network6_amp",
          "Network6_amp",
          "Network6_amp",
          "Network6_amp",
          "Network6_amp"
         ],
         "y": [
          0.3783783783783784,
          0.4729729729729729,
          0.6351351351351351,
          0.4594594594594595,
          0.3783783783783784,
          0.5945945945945946,
          0.6486486486486487,
          0.2837837837837837,
          0.3918918918918919,
          0.4594594594594595,
          0.3648648648648648,
          0.5,
          0.5405405405405406,
          0.5405405405405406,
          0.3783783783783784,
          0.4594594594594595,
          0.5540540540540541,
          0.5945945945945946,
          0.3918918918918919,
          0.2972972972972973,
          0.4864864864864865,
          0.3918918918918919,
          0.4594594594594595,
          0.4594594594594595,
          0.527027027027027,
          0.6351351351351351,
          0.2972972972972973,
          0.3918918918918919,
          0.3108108108108108,
          0.6756756756756757,
          0.5675675675675675,
          0.527027027027027,
          0.4729729729729729,
          0.4864864864864865,
          0.5405405405405406,
          0.2702702702702703,
          0.527027027027027,
          0.4459459459459459,
          0.4054054054054054,
          0.4459459459459459,
          0.3648648648648648,
          0.5405405405405406,
          0.5540540540540541,
          0.581081081081081,
          0.4324324324324324,
          0.4054054054054054,
          0.4729729729729729,
          0.4054054054054054,
          0.6486486486486487,
          0.5540540540540541,
          0.5135135135135135,
          0.4864864864864865,
          0.4729729729729729,
          0.6351351351351351,
          0.6081081081081081,
          0.6216216216216216,
          0.2702702702702703,
          0.5945945945945946,
          0.3918918918918919
         ]
        },
        {
         "box": {
          "visible": true
         },
         "meanline": {
          "visible": true
         },
         "name": "Network6_cont",
         "type": "violin",
         "x": [
          "Network6_cont",
          "Network6_cont",
          "Network6_cont",
          "Network6_cont",
          "Network6_cont",
          "Network6_cont",
          "Network6_cont",
          "Network6_cont",
          "Network6_cont",
          "Network6_cont",
          "Network6_cont",
          "Network6_cont",
          "Network6_cont",
          "Network6_cont",
          "Network6_cont",
          "Network6_cont",
          "Network6_cont",
          "Network6_cont",
          "Network6_cont",
          "Network6_cont",
          "Network6_cont",
          "Network6_cont",
          "Network6_cont",
          "Network6_cont",
          "Network6_cont",
          "Network6_cont",
          "Network6_cont",
          "Network6_cont",
          "Network6_cont",
          "Network6_cont",
          "Network6_cont",
          "Network6_cont",
          "Network6_cont",
          "Network6_cont",
          "Network6_cont",
          "Network6_cont",
          "Network6_cont",
          "Network6_cont",
          "Network6_cont",
          "Network6_cont",
          "Network6_cont",
          "Network6_cont",
          "Network6_cont",
          "Network6_cont",
          "Network6_cont",
          "Network6_cont",
          "Network6_cont",
          "Network6_cont",
          "Network6_cont",
          "Network6_cont",
          "Network6_cont",
          "Network6_cont",
          "Network6_cont",
          "Network6_cont",
          "Network6_cont",
          "Network6_cont",
          "Network6_cont",
          "Network6_cont",
          "Network6_cont",
          "Network6_cont"
         ],
         "y": [
          0.527027027027027,
          0.581081081081081,
          0.4189189189189189,
          0.4594594594594595,
          0.527027027027027,
          0.4054054054054054,
          0.6081081081081081,
          0.2567567567567567,
          0.581081081081081,
          0.7297297297297297,
          0.5405405405405406,
          0.4594594594594595,
          0.6351351351351351,
          0.527027027027027,
          0.6081081081081081,
          0.4324324324324324,
          0.5675675675675675,
          0.7432432432432432,
          0.3513513513513513,
          0.5405405405405406,
          0.2837837837837837,
          0.6621621621621622,
          0.5675675675675675,
          0.3648648648648648,
          0.5,
          0.5675675675675675,
          0.5405405405405406,
          0.3243243243243243,
          0.5540540540540541,
          0.5405405405405406,
          0.5405405405405406,
          0.581081081081081,
          0.4594594594594595,
          0.5540540540540541,
          0.5945945945945946,
          0.581081081081081,
          0.5675675675675675,
          0.5135135135135135,
          0.4729729729729729,
          0.5675675675675675,
          0.6351351351351351,
          0.5675675675675675,
          0.4729729729729729,
          0.4189189189189189,
          0.4324324324324324,
          0.4729729729729729,
          0.3648648648648648,
          0.4594594594594595,
          0.6216216216216216,
          0.3378378378378378,
          0.3108108108108108,
          0.4189189189189189,
          0.581081081081081,
          0.5675675675675675,
          0.527027027027027,
          0.7297297297297297,
          0.6486486486486487,
          0.7297297297297297,
          0.6216216216216216,
          0.6081081081081081
         ]
        },
        {
         "box": {
          "visible": true
         },
         "meanline": {
          "visible": true
         },
         "name": "Network7_amp",
         "type": "violin",
         "x": [
          "Network7_amp",
          "Network7_amp",
          "Network7_amp",
          "Network7_amp",
          "Network7_amp",
          "Network7_amp",
          "Network7_amp",
          "Network7_amp",
          "Network7_amp",
          "Network7_amp",
          "Network7_amp",
          "Network7_amp",
          "Network7_amp",
          "Network7_amp",
          "Network7_amp",
          "Network7_amp",
          "Network7_amp",
          "Network7_amp",
          "Network7_amp",
          "Network7_amp",
          "Network7_amp",
          "Network7_amp",
          "Network7_amp",
          "Network7_amp",
          "Network7_amp",
          "Network7_amp",
          "Network7_amp",
          "Network7_amp",
          "Network7_amp",
          "Network7_amp",
          "Network7_amp",
          "Network7_amp",
          "Network7_amp",
          "Network7_amp",
          "Network7_amp",
          "Network7_amp",
          "Network7_amp",
          "Network7_amp",
          "Network7_amp",
          "Network7_amp",
          "Network7_amp",
          "Network7_amp",
          "Network7_amp",
          "Network7_amp",
          "Network7_amp",
          "Network7_amp",
          "Network7_amp",
          "Network7_amp",
          "Network7_amp",
          "Network7_amp",
          "Network7_amp",
          "Network7_amp",
          "Network7_amp",
          "Network7_amp",
          "Network7_amp",
          "Network7_amp",
          "Network7_amp",
          "Network7_amp",
          "Network7_amp",
          "Network7_amp"
         ],
         "y": [
          0.3548387096774194,
          0.6451612903225806,
          0.5161290322580645,
          0.5161290322580645,
          0.4516129032258064,
          0.3548387096774194,
          0.5161290322580645,
          0.5806451612903226,
          0.4838709677419355,
          0.5161290322580645,
          0.4193548387096774,
          0.6774193548387096,
          0.5161290322580645,
          0.4838709677419355,
          0.5483870967741935,
          0.4838709677419355,
          0.3548387096774194,
          0.6129032258064516,
          0.4193548387096774,
          0.4193548387096774,
          0.3548387096774194,
          0.5806451612903226,
          0.6774193548387096,
          0.6129032258064516,
          0.5483870967741935,
          0.4838709677419355,
          0.4516129032258064,
          0.4838709677419355,
          0.4193548387096774,
          0.3870967741935484,
          0.4838709677419355,
          0.4516129032258064,
          0.5806451612903226,
          0.6129032258064516,
          0.6129032258064516,
          0.6129032258064516,
          0.6451612903225806,
          0.6451612903225806,
          0.3548387096774194,
          0.6451612903225806,
          0.5483870967741935,
          0.5161290322580645,
          0.5161290322580645,
          0.5161290322580645,
          0.6451612903225806,
          0.5483870967741935,
          0.4193548387096774,
          0.5161290322580645,
          0.4193548387096774,
          0.6774193548387096,
          0.6129032258064516,
          0.5161290322580645,
          0.4193548387096774,
          0.3548387096774194,
          0.5483870967741935,
          0.3548387096774194,
          0.4193548387096774,
          0.6129032258064516,
          0.4516129032258064,
          0.4838709677419355
         ]
        },
        {
         "box": {
          "visible": true
         },
         "meanline": {
          "visible": true
         },
         "name": "Network7_cont",
         "type": "violin",
         "x": [
          "Network7_cont",
          "Network7_cont",
          "Network7_cont",
          "Network7_cont",
          "Network7_cont",
          "Network7_cont",
          "Network7_cont",
          "Network7_cont",
          "Network7_cont",
          "Network7_cont",
          "Network7_cont",
          "Network7_cont",
          "Network7_cont",
          "Network7_cont",
          "Network7_cont",
          "Network7_cont",
          "Network7_cont",
          "Network7_cont",
          "Network7_cont",
          "Network7_cont",
          "Network7_cont",
          "Network7_cont",
          "Network7_cont",
          "Network7_cont",
          "Network7_cont",
          "Network7_cont",
          "Network7_cont",
          "Network7_cont",
          "Network7_cont",
          "Network7_cont",
          "Network7_cont",
          "Network7_cont",
          "Network7_cont",
          "Network7_cont",
          "Network7_cont",
          "Network7_cont",
          "Network7_cont",
          "Network7_cont",
          "Network7_cont",
          "Network7_cont",
          "Network7_cont",
          "Network7_cont",
          "Network7_cont",
          "Network7_cont",
          "Network7_cont",
          "Network7_cont",
          "Network7_cont",
          "Network7_cont",
          "Network7_cont",
          "Network7_cont",
          "Network7_cont",
          "Network7_cont",
          "Network7_cont",
          "Network7_cont",
          "Network7_cont",
          "Network7_cont",
          "Network7_cont",
          "Network7_cont",
          "Network7_cont",
          "Network7_cont"
         ],
         "y": [
          0.5806451612903226,
          0.6451612903225806,
          0.5806451612903226,
          0.3870967741935484,
          0.6451612903225806,
          0.5806451612903226,
          0.5161290322580645,
          0.5161290322580645,
          0.5161290322580645,
          0.5161290322580645,
          0.4838709677419355,
          0.5161290322580645,
          0.5483870967741935,
          0.5483870967741935,
          0.4193548387096774,
          0.6129032258064516,
          0.5483870967741935,
          0.4193548387096774,
          0.5161290322580645,
          0.6129032258064516,
          0.5161290322580645,
          0.4516129032258064,
          0.6129032258064516,
          0.4838709677419355,
          0.5483870967741935,
          0.6451612903225806,
          0.6129032258064516,
          0.5161290322580645,
          0.4516129032258064,
          0.5483870967741935,
          0.6774193548387096,
          0.5806451612903226,
          0.4838709677419355,
          0.5483870967741935,
          0.4193548387096774,
          0.6451612903225806,
          0.4193548387096774,
          0.5806451612903226,
          0.4516129032258064,
          0.5806451612903226,
          0.5806451612903226,
          0.5806451612903226,
          0.5161290322580645,
          0.4193548387096774,
          0.4516129032258064,
          0.5806451612903226,
          0.5806451612903226,
          0.4516129032258064,
          0.5161290322580645,
          0.6451612903225806,
          0.3548387096774194,
          0.5806451612903226,
          0.3225806451612903,
          0.5161290322580645,
          0.5483870967741935,
          0.6451612903225806,
          0.5806451612903226,
          0.3870967741935484,
          0.5161290322580645,
          0.6451612903225806
         ]
        }
       ],
       "layout": {
        "template": {
         "data": {
          "bar": [
           {
            "error_x": {
             "color": "#2a3f5f"
            },
            "error_y": {
             "color": "#2a3f5f"
            },
            "marker": {
             "line": {
              "color": "#E5ECF6",
              "width": 0.5
             },
             "pattern": {
              "fillmode": "overlay",
              "size": 10,
              "solidity": 0.2
             }
            },
            "type": "bar"
           }
          ],
          "barpolar": [
           {
            "marker": {
             "line": {
              "color": "#E5ECF6",
              "width": 0.5
             },
             "pattern": {
              "fillmode": "overlay",
              "size": 10,
              "solidity": 0.2
             }
            },
            "type": "barpolar"
           }
          ],
          "carpet": [
           {
            "aaxis": {
             "endlinecolor": "#2a3f5f",
             "gridcolor": "white",
             "linecolor": "white",
             "minorgridcolor": "white",
             "startlinecolor": "#2a3f5f"
            },
            "baxis": {
             "endlinecolor": "#2a3f5f",
             "gridcolor": "white",
             "linecolor": "white",
             "minorgridcolor": "white",
             "startlinecolor": "#2a3f5f"
            },
            "type": "carpet"
           }
          ],
          "choropleth": [
           {
            "colorbar": {
             "outlinewidth": 0,
             "ticks": ""
            },
            "type": "choropleth"
           }
          ],
          "contour": [
           {
            "colorbar": {
             "outlinewidth": 0,
             "ticks": ""
            },
            "colorscale": [
             [
              0,
              "#0d0887"
             ],
             [
              0.1111111111111111,
              "#46039f"
             ],
             [
              0.2222222222222222,
              "#7201a8"
             ],
             [
              0.3333333333333333,
              "#9c179e"
             ],
             [
              0.4444444444444444,
              "#bd3786"
             ],
             [
              0.5555555555555556,
              "#d8576b"
             ],
             [
              0.6666666666666666,
              "#ed7953"
             ],
             [
              0.7777777777777778,
              "#fb9f3a"
             ],
             [
              0.8888888888888888,
              "#fdca26"
             ],
             [
              1,
              "#f0f921"
             ]
            ],
            "type": "contour"
           }
          ],
          "contourcarpet": [
           {
            "colorbar": {
             "outlinewidth": 0,
             "ticks": ""
            },
            "type": "contourcarpet"
           }
          ],
          "heatmap": [
           {
            "colorbar": {
             "outlinewidth": 0,
             "ticks": ""
            },
            "colorscale": [
             [
              0,
              "#0d0887"
             ],
             [
              0.1111111111111111,
              "#46039f"
             ],
             [
              0.2222222222222222,
              "#7201a8"
             ],
             [
              0.3333333333333333,
              "#9c179e"
             ],
             [
              0.4444444444444444,
              "#bd3786"
             ],
             [
              0.5555555555555556,
              "#d8576b"
             ],
             [
              0.6666666666666666,
              "#ed7953"
             ],
             [
              0.7777777777777778,
              "#fb9f3a"
             ],
             [
              0.8888888888888888,
              "#fdca26"
             ],
             [
              1,
              "#f0f921"
             ]
            ],
            "type": "heatmap"
           }
          ],
          "heatmapgl": [
           {
            "colorbar": {
             "outlinewidth": 0,
             "ticks": ""
            },
            "colorscale": [
             [
              0,
              "#0d0887"
             ],
             [
              0.1111111111111111,
              "#46039f"
             ],
             [
              0.2222222222222222,
              "#7201a8"
             ],
             [
              0.3333333333333333,
              "#9c179e"
             ],
             [
              0.4444444444444444,
              "#bd3786"
             ],
             [
              0.5555555555555556,
              "#d8576b"
             ],
             [
              0.6666666666666666,
              "#ed7953"
             ],
             [
              0.7777777777777778,
              "#fb9f3a"
             ],
             [
              0.8888888888888888,
              "#fdca26"
             ],
             [
              1,
              "#f0f921"
             ]
            ],
            "type": "heatmapgl"
           }
          ],
          "histogram": [
           {
            "marker": {
             "pattern": {
              "fillmode": "overlay",
              "size": 10,
              "solidity": 0.2
             }
            },
            "type": "histogram"
           }
          ],
          "histogram2d": [
           {
            "colorbar": {
             "outlinewidth": 0,
             "ticks": ""
            },
            "colorscale": [
             [
              0,
              "#0d0887"
             ],
             [
              0.1111111111111111,
              "#46039f"
             ],
             [
              0.2222222222222222,
              "#7201a8"
             ],
             [
              0.3333333333333333,
              "#9c179e"
             ],
             [
              0.4444444444444444,
              "#bd3786"
             ],
             [
              0.5555555555555556,
              "#d8576b"
             ],
             [
              0.6666666666666666,
              "#ed7953"
             ],
             [
              0.7777777777777778,
              "#fb9f3a"
             ],
             [
              0.8888888888888888,
              "#fdca26"
             ],
             [
              1,
              "#f0f921"
             ]
            ],
            "type": "histogram2d"
           }
          ],
          "histogram2dcontour": [
           {
            "colorbar": {
             "outlinewidth": 0,
             "ticks": ""
            },
            "colorscale": [
             [
              0,
              "#0d0887"
             ],
             [
              0.1111111111111111,
              "#46039f"
             ],
             [
              0.2222222222222222,
              "#7201a8"
             ],
             [
              0.3333333333333333,
              "#9c179e"
             ],
             [
              0.4444444444444444,
              "#bd3786"
             ],
             [
              0.5555555555555556,
              "#d8576b"
             ],
             [
              0.6666666666666666,
              "#ed7953"
             ],
             [
              0.7777777777777778,
              "#fb9f3a"
             ],
             [
              0.8888888888888888,
              "#fdca26"
             ],
             [
              1,
              "#f0f921"
             ]
            ],
            "type": "histogram2dcontour"
           }
          ],
          "mesh3d": [
           {
            "colorbar": {
             "outlinewidth": 0,
             "ticks": ""
            },
            "type": "mesh3d"
           }
          ],
          "parcoords": [
           {
            "line": {
             "colorbar": {
              "outlinewidth": 0,
              "ticks": ""
             }
            },
            "type": "parcoords"
           }
          ],
          "pie": [
           {
            "automargin": true,
            "type": "pie"
           }
          ],
          "scatter": [
           {
            "fillpattern": {
             "fillmode": "overlay",
             "size": 10,
             "solidity": 0.2
            },
            "type": "scatter"
           }
          ],
          "scatter3d": [
           {
            "line": {
             "colorbar": {
              "outlinewidth": 0,
              "ticks": ""
             }
            },
            "marker": {
             "colorbar": {
              "outlinewidth": 0,
              "ticks": ""
             }
            },
            "type": "scatter3d"
           }
          ],
          "scattercarpet": [
           {
            "marker": {
             "colorbar": {
              "outlinewidth": 0,
              "ticks": ""
             }
            },
            "type": "scattercarpet"
           }
          ],
          "scattergeo": [
           {
            "marker": {
             "colorbar": {
              "outlinewidth": 0,
              "ticks": ""
             }
            },
            "type": "scattergeo"
           }
          ],
          "scattergl": [
           {
            "marker": {
             "colorbar": {
              "outlinewidth": 0,
              "ticks": ""
             }
            },
            "type": "scattergl"
           }
          ],
          "scattermapbox": [
           {
            "marker": {
             "colorbar": {
              "outlinewidth": 0,
              "ticks": ""
             }
            },
            "type": "scattermapbox"
           }
          ],
          "scatterpolar": [
           {
            "marker": {
             "colorbar": {
              "outlinewidth": 0,
              "ticks": ""
             }
            },
            "type": "scatterpolar"
           }
          ],
          "scatterpolargl": [
           {
            "marker": {
             "colorbar": {
              "outlinewidth": 0,
              "ticks": ""
             }
            },
            "type": "scatterpolargl"
           }
          ],
          "scatterternary": [
           {
            "marker": {
             "colorbar": {
              "outlinewidth": 0,
              "ticks": ""
             }
            },
            "type": "scatterternary"
           }
          ],
          "surface": [
           {
            "colorbar": {
             "outlinewidth": 0,
             "ticks": ""
            },
            "colorscale": [
             [
              0,
              "#0d0887"
             ],
             [
              0.1111111111111111,
              "#46039f"
             ],
             [
              0.2222222222222222,
              "#7201a8"
             ],
             [
              0.3333333333333333,
              "#9c179e"
             ],
             [
              0.4444444444444444,
              "#bd3786"
             ],
             [
              0.5555555555555556,
              "#d8576b"
             ],
             [
              0.6666666666666666,
              "#ed7953"
             ],
             [
              0.7777777777777778,
              "#fb9f3a"
             ],
             [
              0.8888888888888888,
              "#fdca26"
             ],
             [
              1,
              "#f0f921"
             ]
            ],
            "type": "surface"
           }
          ],
          "table": [
           {
            "cells": {
             "fill": {
              "color": "#EBF0F8"
             },
             "line": {
              "color": "white"
             }
            },
            "header": {
             "fill": {
              "color": "#C8D4E3"
             },
             "line": {
              "color": "white"
             }
            },
            "type": "table"
           }
          ]
         },
         "layout": {
          "annotationdefaults": {
           "arrowcolor": "#2a3f5f",
           "arrowhead": 0,
           "arrowwidth": 1
          },
          "autotypenumbers": "strict",
          "coloraxis": {
           "colorbar": {
            "outlinewidth": 0,
            "ticks": ""
           }
          },
          "colorscale": {
           "diverging": [
            [
             0,
             "#8e0152"
            ],
            [
             0.1,
             "#c51b7d"
            ],
            [
             0.2,
             "#de77ae"
            ],
            [
             0.3,
             "#f1b6da"
            ],
            [
             0.4,
             "#fde0ef"
            ],
            [
             0.5,
             "#f7f7f7"
            ],
            [
             0.6,
             "#e6f5d0"
            ],
            [
             0.7,
             "#b8e186"
            ],
            [
             0.8,
             "#7fbc41"
            ],
            [
             0.9,
             "#4d9221"
            ],
            [
             1,
             "#276419"
            ]
           ],
           "sequential": [
            [
             0,
             "#0d0887"
            ],
            [
             0.1111111111111111,
             "#46039f"
            ],
            [
             0.2222222222222222,
             "#7201a8"
            ],
            [
             0.3333333333333333,
             "#9c179e"
            ],
            [
             0.4444444444444444,
             "#bd3786"
            ],
            [
             0.5555555555555556,
             "#d8576b"
            ],
            [
             0.6666666666666666,
             "#ed7953"
            ],
            [
             0.7777777777777778,
             "#fb9f3a"
            ],
            [
             0.8888888888888888,
             "#fdca26"
            ],
            [
             1,
             "#f0f921"
            ]
           ],
           "sequentialminus": [
            [
             0,
             "#0d0887"
            ],
            [
             0.1111111111111111,
             "#46039f"
            ],
            [
             0.2222222222222222,
             "#7201a8"
            ],
            [
             0.3333333333333333,
             "#9c179e"
            ],
            [
             0.4444444444444444,
             "#bd3786"
            ],
            [
             0.5555555555555556,
             "#d8576b"
            ],
            [
             0.6666666666666666,
             "#ed7953"
            ],
            [
             0.7777777777777778,
             "#fb9f3a"
            ],
            [
             0.8888888888888888,
             "#fdca26"
            ],
            [
             1,
             "#f0f921"
            ]
           ]
          },
          "colorway": [
           "#636efa",
           "#EF553B",
           "#00cc96",
           "#ab63fa",
           "#FFA15A",
           "#19d3f3",
           "#FF6692",
           "#B6E880",
           "#FF97FF",
           "#FECB52"
          ],
          "font": {
           "color": "#2a3f5f"
          },
          "geo": {
           "bgcolor": "white",
           "lakecolor": "white",
           "landcolor": "#E5ECF6",
           "showlakes": true,
           "showland": true,
           "subunitcolor": "white"
          },
          "hoverlabel": {
           "align": "left"
          },
          "hovermode": "closest",
          "mapbox": {
           "style": "light"
          },
          "paper_bgcolor": "white",
          "plot_bgcolor": "#E5ECF6",
          "polar": {
           "angularaxis": {
            "gridcolor": "white",
            "linecolor": "white",
            "ticks": ""
           },
           "bgcolor": "#E5ECF6",
           "radialaxis": {
            "gridcolor": "white",
            "linecolor": "white",
            "ticks": ""
           }
          },
          "scene": {
           "xaxis": {
            "backgroundcolor": "#E5ECF6",
            "gridcolor": "white",
            "gridwidth": 2,
            "linecolor": "white",
            "showbackground": true,
            "ticks": "",
            "zerolinecolor": "white"
           },
           "yaxis": {
            "backgroundcolor": "#E5ECF6",
            "gridcolor": "white",
            "gridwidth": 2,
            "linecolor": "white",
            "showbackground": true,
            "ticks": "",
            "zerolinecolor": "white"
           },
           "zaxis": {
            "backgroundcolor": "#E5ECF6",
            "gridcolor": "white",
            "gridwidth": 2,
            "linecolor": "white",
            "showbackground": true,
            "ticks": "",
            "zerolinecolor": "white"
           }
          },
          "shapedefaults": {
           "line": {
            "color": "#2a3f5f"
           }
          },
          "ternary": {
           "aaxis": {
            "gridcolor": "white",
            "linecolor": "white",
            "ticks": ""
           },
           "baxis": {
            "gridcolor": "white",
            "linecolor": "white",
            "ticks": ""
           },
           "bgcolor": "#E5ECF6",
           "caxis": {
            "gridcolor": "white",
            "linecolor": "white",
            "ticks": ""
           }
          },
          "title": {
           "x": 0.05
          },
          "xaxis": {
           "automargin": true,
           "gridcolor": "white",
           "linecolor": "white",
           "ticks": "",
           "title": {
            "standoff": 15
           },
           "zerolinecolor": "white",
           "zerolinewidth": 2
          },
          "yaxis": {
           "automargin": true,
           "gridcolor": "white",
           "linecolor": "white",
           "ticks": "",
           "title": {
            "standoff": 15
           },
           "zerolinecolor": "white",
           "zerolinewidth": 2
          }
         }
        }
       }
      },
      "text/html": [
       "<div>                            <div id=\"6b468fb5-36e3-4a66-a2b3-5e9be406a923\" class=\"plotly-graph-div\" style=\"height:525px; width:100%;\"></div>            <script type=\"text/javascript\">                require([\"plotly\"], function(Plotly) {                    window.PLOTLYENV=window.PLOTLYENV || {};                                    if (document.getElementById(\"6b468fb5-36e3-4a66-a2b3-5e9be406a923\")) {                    Plotly.newPlot(                        \"6b468fb5-36e3-4a66-a2b3-5e9be406a923\",                        [{\"box\":{\"visible\":true},\"meanline\":{\"visible\":true},\"name\":\"Network6_amp\",\"x\":[\"Network6_amp\",\"Network6_amp\",\"Network6_amp\",\"Network6_amp\",\"Network6_amp\",\"Network6_amp\",\"Network6_amp\",\"Network6_amp\",\"Network6_amp\",\"Network6_amp\",\"Network6_amp\",\"Network6_amp\",\"Network6_amp\",\"Network6_amp\",\"Network6_amp\",\"Network6_amp\",\"Network6_amp\",\"Network6_amp\",\"Network6_amp\",\"Network6_amp\",\"Network6_amp\",\"Network6_amp\",\"Network6_amp\",\"Network6_amp\",\"Network6_amp\",\"Network6_amp\",\"Network6_amp\",\"Network6_amp\",\"Network6_amp\",\"Network6_amp\",\"Network6_amp\",\"Network6_amp\",\"Network6_amp\",\"Network6_amp\",\"Network6_amp\",\"Network6_amp\",\"Network6_amp\",\"Network6_amp\",\"Network6_amp\",\"Network6_amp\",\"Network6_amp\",\"Network6_amp\",\"Network6_amp\",\"Network6_amp\",\"Network6_amp\",\"Network6_amp\",\"Network6_amp\",\"Network6_amp\",\"Network6_amp\",\"Network6_amp\",\"Network6_amp\",\"Network6_amp\",\"Network6_amp\",\"Network6_amp\",\"Network6_amp\",\"Network6_amp\",\"Network6_amp\",\"Network6_amp\",\"Network6_amp\"],\"y\":[0.3783783783783784,0.4729729729729729,0.6351351351351351,0.4594594594594595,0.3783783783783784,0.5945945945945946,0.6486486486486487,0.2837837837837837,0.3918918918918919,0.4594594594594595,0.3648648648648648,0.5,0.5405405405405406,0.5405405405405406,0.3783783783783784,0.4594594594594595,0.5540540540540541,0.5945945945945946,0.3918918918918919,0.2972972972972973,0.4864864864864865,0.3918918918918919,0.4594594594594595,0.4594594594594595,0.527027027027027,0.6351351351351351,0.2972972972972973,0.3918918918918919,0.3108108108108108,0.6756756756756757,0.5675675675675675,0.527027027027027,0.4729729729729729,0.4864864864864865,0.5405405405405406,0.2702702702702703,0.527027027027027,0.4459459459459459,0.4054054054054054,0.4459459459459459,0.3648648648648648,0.5405405405405406,0.5540540540540541,0.581081081081081,0.4324324324324324,0.4054054054054054,0.4729729729729729,0.4054054054054054,0.6486486486486487,0.5540540540540541,0.5135135135135135,0.4864864864864865,0.4729729729729729,0.6351351351351351,0.6081081081081081,0.6216216216216216,0.2702702702702703,0.5945945945945946,0.3918918918918919],\"type\":\"violin\"},{\"box\":{\"visible\":true},\"meanline\":{\"visible\":true},\"name\":\"Network6_cont\",\"x\":[\"Network6_cont\",\"Network6_cont\",\"Network6_cont\",\"Network6_cont\",\"Network6_cont\",\"Network6_cont\",\"Network6_cont\",\"Network6_cont\",\"Network6_cont\",\"Network6_cont\",\"Network6_cont\",\"Network6_cont\",\"Network6_cont\",\"Network6_cont\",\"Network6_cont\",\"Network6_cont\",\"Network6_cont\",\"Network6_cont\",\"Network6_cont\",\"Network6_cont\",\"Network6_cont\",\"Network6_cont\",\"Network6_cont\",\"Network6_cont\",\"Network6_cont\",\"Network6_cont\",\"Network6_cont\",\"Network6_cont\",\"Network6_cont\",\"Network6_cont\",\"Network6_cont\",\"Network6_cont\",\"Network6_cont\",\"Network6_cont\",\"Network6_cont\",\"Network6_cont\",\"Network6_cont\",\"Network6_cont\",\"Network6_cont\",\"Network6_cont\",\"Network6_cont\",\"Network6_cont\",\"Network6_cont\",\"Network6_cont\",\"Network6_cont\",\"Network6_cont\",\"Network6_cont\",\"Network6_cont\",\"Network6_cont\",\"Network6_cont\",\"Network6_cont\",\"Network6_cont\",\"Network6_cont\",\"Network6_cont\",\"Network6_cont\",\"Network6_cont\",\"Network6_cont\",\"Network6_cont\",\"Network6_cont\",\"Network6_cont\"],\"y\":[0.527027027027027,0.581081081081081,0.4189189189189189,0.4594594594594595,0.527027027027027,0.4054054054054054,0.6081081081081081,0.2567567567567567,0.581081081081081,0.7297297297297297,0.5405405405405406,0.4594594594594595,0.6351351351351351,0.527027027027027,0.6081081081081081,0.4324324324324324,0.5675675675675675,0.7432432432432432,0.3513513513513513,0.5405405405405406,0.2837837837837837,0.6621621621621622,0.5675675675675675,0.3648648648648648,0.5,0.5675675675675675,0.5405405405405406,0.3243243243243243,0.5540540540540541,0.5405405405405406,0.5405405405405406,0.581081081081081,0.4594594594594595,0.5540540540540541,0.5945945945945946,0.581081081081081,0.5675675675675675,0.5135135135135135,0.4729729729729729,0.5675675675675675,0.6351351351351351,0.5675675675675675,0.4729729729729729,0.4189189189189189,0.4324324324324324,0.4729729729729729,0.3648648648648648,0.4594594594594595,0.6216216216216216,0.3378378378378378,0.3108108108108108,0.4189189189189189,0.581081081081081,0.5675675675675675,0.527027027027027,0.7297297297297297,0.6486486486486487,0.7297297297297297,0.6216216216216216,0.6081081081081081],\"type\":\"violin\"},{\"box\":{\"visible\":true},\"meanline\":{\"visible\":true},\"name\":\"Network7_amp\",\"x\":[\"Network7_amp\",\"Network7_amp\",\"Network7_amp\",\"Network7_amp\",\"Network7_amp\",\"Network7_amp\",\"Network7_amp\",\"Network7_amp\",\"Network7_amp\",\"Network7_amp\",\"Network7_amp\",\"Network7_amp\",\"Network7_amp\",\"Network7_amp\",\"Network7_amp\",\"Network7_amp\",\"Network7_amp\",\"Network7_amp\",\"Network7_amp\",\"Network7_amp\",\"Network7_amp\",\"Network7_amp\",\"Network7_amp\",\"Network7_amp\",\"Network7_amp\",\"Network7_amp\",\"Network7_amp\",\"Network7_amp\",\"Network7_amp\",\"Network7_amp\",\"Network7_amp\",\"Network7_amp\",\"Network7_amp\",\"Network7_amp\",\"Network7_amp\",\"Network7_amp\",\"Network7_amp\",\"Network7_amp\",\"Network7_amp\",\"Network7_amp\",\"Network7_amp\",\"Network7_amp\",\"Network7_amp\",\"Network7_amp\",\"Network7_amp\",\"Network7_amp\",\"Network7_amp\",\"Network7_amp\",\"Network7_amp\",\"Network7_amp\",\"Network7_amp\",\"Network7_amp\",\"Network7_amp\",\"Network7_amp\",\"Network7_amp\",\"Network7_amp\",\"Network7_amp\",\"Network7_amp\",\"Network7_amp\",\"Network7_amp\"],\"y\":[0.3548387096774194,0.6451612903225806,0.5161290322580645,0.5161290322580645,0.4516129032258064,0.3548387096774194,0.5161290322580645,0.5806451612903226,0.4838709677419355,0.5161290322580645,0.4193548387096774,0.6774193548387096,0.5161290322580645,0.4838709677419355,0.5483870967741935,0.4838709677419355,0.3548387096774194,0.6129032258064516,0.4193548387096774,0.4193548387096774,0.3548387096774194,0.5806451612903226,0.6774193548387096,0.6129032258064516,0.5483870967741935,0.4838709677419355,0.4516129032258064,0.4838709677419355,0.4193548387096774,0.3870967741935484,0.4838709677419355,0.4516129032258064,0.5806451612903226,0.6129032258064516,0.6129032258064516,0.6129032258064516,0.6451612903225806,0.6451612903225806,0.3548387096774194,0.6451612903225806,0.5483870967741935,0.5161290322580645,0.5161290322580645,0.5161290322580645,0.6451612903225806,0.5483870967741935,0.4193548387096774,0.5161290322580645,0.4193548387096774,0.6774193548387096,0.6129032258064516,0.5161290322580645,0.4193548387096774,0.3548387096774194,0.5483870967741935,0.3548387096774194,0.4193548387096774,0.6129032258064516,0.4516129032258064,0.4838709677419355],\"type\":\"violin\"},{\"box\":{\"visible\":true},\"meanline\":{\"visible\":true},\"name\":\"Network7_cont\",\"x\":[\"Network7_cont\",\"Network7_cont\",\"Network7_cont\",\"Network7_cont\",\"Network7_cont\",\"Network7_cont\",\"Network7_cont\",\"Network7_cont\",\"Network7_cont\",\"Network7_cont\",\"Network7_cont\",\"Network7_cont\",\"Network7_cont\",\"Network7_cont\",\"Network7_cont\",\"Network7_cont\",\"Network7_cont\",\"Network7_cont\",\"Network7_cont\",\"Network7_cont\",\"Network7_cont\",\"Network7_cont\",\"Network7_cont\",\"Network7_cont\",\"Network7_cont\",\"Network7_cont\",\"Network7_cont\",\"Network7_cont\",\"Network7_cont\",\"Network7_cont\",\"Network7_cont\",\"Network7_cont\",\"Network7_cont\",\"Network7_cont\",\"Network7_cont\",\"Network7_cont\",\"Network7_cont\",\"Network7_cont\",\"Network7_cont\",\"Network7_cont\",\"Network7_cont\",\"Network7_cont\",\"Network7_cont\",\"Network7_cont\",\"Network7_cont\",\"Network7_cont\",\"Network7_cont\",\"Network7_cont\",\"Network7_cont\",\"Network7_cont\",\"Network7_cont\",\"Network7_cont\",\"Network7_cont\",\"Network7_cont\",\"Network7_cont\",\"Network7_cont\",\"Network7_cont\",\"Network7_cont\",\"Network7_cont\",\"Network7_cont\"],\"y\":[0.5806451612903226,0.6451612903225806,0.5806451612903226,0.3870967741935484,0.6451612903225806,0.5806451612903226,0.5161290322580645,0.5161290322580645,0.5161290322580645,0.5161290322580645,0.4838709677419355,0.5161290322580645,0.5483870967741935,0.5483870967741935,0.4193548387096774,0.6129032258064516,0.5483870967741935,0.4193548387096774,0.5161290322580645,0.6129032258064516,0.5161290322580645,0.4516129032258064,0.6129032258064516,0.4838709677419355,0.5483870967741935,0.6451612903225806,0.6129032258064516,0.5161290322580645,0.4516129032258064,0.5483870967741935,0.6774193548387096,0.5806451612903226,0.4838709677419355,0.5483870967741935,0.4193548387096774,0.6451612903225806,0.4193548387096774,0.5806451612903226,0.4516129032258064,0.5806451612903226,0.5806451612903226,0.5806451612903226,0.5161290322580645,0.4193548387096774,0.4516129032258064,0.5806451612903226,0.5806451612903226,0.4516129032258064,0.5161290322580645,0.6451612903225806,0.3548387096774194,0.5806451612903226,0.3225806451612903,0.5161290322580645,0.5483870967741935,0.6451612903225806,0.5806451612903226,0.3870967741935484,0.5161290322580645,0.6451612903225806],\"type\":\"violin\"}],                        {\"template\":{\"data\":{\"histogram2dcontour\":[{\"type\":\"histogram2dcontour\",\"colorbar\":{\"outlinewidth\":0,\"ticks\":\"\"},\"colorscale\":[[0.0,\"#0d0887\"],[0.1111111111111111,\"#46039f\"],[0.2222222222222222,\"#7201a8\"],[0.3333333333333333,\"#9c179e\"],[0.4444444444444444,\"#bd3786\"],[0.5555555555555556,\"#d8576b\"],[0.6666666666666666,\"#ed7953\"],[0.7777777777777778,\"#fb9f3a\"],[0.8888888888888888,\"#fdca26\"],[1.0,\"#f0f921\"]]}],\"choropleth\":[{\"type\":\"choropleth\",\"colorbar\":{\"outlinewidth\":0,\"ticks\":\"\"}}],\"histogram2d\":[{\"type\":\"histogram2d\",\"colorbar\":{\"outlinewidth\":0,\"ticks\":\"\"},\"colorscale\":[[0.0,\"#0d0887\"],[0.1111111111111111,\"#46039f\"],[0.2222222222222222,\"#7201a8\"],[0.3333333333333333,\"#9c179e\"],[0.4444444444444444,\"#bd3786\"],[0.5555555555555556,\"#d8576b\"],[0.6666666666666666,\"#ed7953\"],[0.7777777777777778,\"#fb9f3a\"],[0.8888888888888888,\"#fdca26\"],[1.0,\"#f0f921\"]]}],\"heatmap\":[{\"type\":\"heatmap\",\"colorbar\":{\"outlinewidth\":0,\"ticks\":\"\"},\"colorscale\":[[0.0,\"#0d0887\"],[0.1111111111111111,\"#46039f\"],[0.2222222222222222,\"#7201a8\"],[0.3333333333333333,\"#9c179e\"],[0.4444444444444444,\"#bd3786\"],[0.5555555555555556,\"#d8576b\"],[0.6666666666666666,\"#ed7953\"],[0.7777777777777778,\"#fb9f3a\"],[0.8888888888888888,\"#fdca26\"],[1.0,\"#f0f921\"]]}],\"heatmapgl\":[{\"type\":\"heatmapgl\",\"colorbar\":{\"outlinewidth\":0,\"ticks\":\"\"},\"colorscale\":[[0.0,\"#0d0887\"],[0.1111111111111111,\"#46039f\"],[0.2222222222222222,\"#7201a8\"],[0.3333333333333333,\"#9c179e\"],[0.4444444444444444,\"#bd3786\"],[0.5555555555555556,\"#d8576b\"],[0.6666666666666666,\"#ed7953\"],[0.7777777777777778,\"#fb9f3a\"],[0.8888888888888888,\"#fdca26\"],[1.0,\"#f0f921\"]]}],\"contourcarpet\":[{\"type\":\"contourcarpet\",\"colorbar\":{\"outlinewidth\":0,\"ticks\":\"\"}}],\"contour\":[{\"type\":\"contour\",\"colorbar\":{\"outlinewidth\":0,\"ticks\":\"\"},\"colorscale\":[[0.0,\"#0d0887\"],[0.1111111111111111,\"#46039f\"],[0.2222222222222222,\"#7201a8\"],[0.3333333333333333,\"#9c179e\"],[0.4444444444444444,\"#bd3786\"],[0.5555555555555556,\"#d8576b\"],[0.6666666666666666,\"#ed7953\"],[0.7777777777777778,\"#fb9f3a\"],[0.8888888888888888,\"#fdca26\"],[1.0,\"#f0f921\"]]}],\"surface\":[{\"type\":\"surface\",\"colorbar\":{\"outlinewidth\":0,\"ticks\":\"\"},\"colorscale\":[[0.0,\"#0d0887\"],[0.1111111111111111,\"#46039f\"],[0.2222222222222222,\"#7201a8\"],[0.3333333333333333,\"#9c179e\"],[0.4444444444444444,\"#bd3786\"],[0.5555555555555556,\"#d8576b\"],[0.6666666666666666,\"#ed7953\"],[0.7777777777777778,\"#fb9f3a\"],[0.8888888888888888,\"#fdca26\"],[1.0,\"#f0f921\"]]}],\"mesh3d\":[{\"type\":\"mesh3d\",\"colorbar\":{\"outlinewidth\":0,\"ticks\":\"\"}}],\"scatter\":[{\"fillpattern\":{\"fillmode\":\"overlay\",\"size\":10,\"solidity\":0.2},\"type\":\"scatter\"}],\"parcoords\":[{\"type\":\"parcoords\",\"line\":{\"colorbar\":{\"outlinewidth\":0,\"ticks\":\"\"}}}],\"scatterpolargl\":[{\"type\":\"scatterpolargl\",\"marker\":{\"colorbar\":{\"outlinewidth\":0,\"ticks\":\"\"}}}],\"bar\":[{\"error_x\":{\"color\":\"#2a3f5f\"},\"error_y\":{\"color\":\"#2a3f5f\"},\"marker\":{\"line\":{\"color\":\"#E5ECF6\",\"width\":0.5},\"pattern\":{\"fillmode\":\"overlay\",\"size\":10,\"solidity\":0.2}},\"type\":\"bar\"}],\"scattergeo\":[{\"type\":\"scattergeo\",\"marker\":{\"colorbar\":{\"outlinewidth\":0,\"ticks\":\"\"}}}],\"scatterpolar\":[{\"type\":\"scatterpolar\",\"marker\":{\"colorbar\":{\"outlinewidth\":0,\"ticks\":\"\"}}}],\"histogram\":[{\"marker\":{\"pattern\":{\"fillmode\":\"overlay\",\"size\":10,\"solidity\":0.2}},\"type\":\"histogram\"}],\"scattergl\":[{\"type\":\"scattergl\",\"marker\":{\"colorbar\":{\"outlinewidth\":0,\"ticks\":\"\"}}}],\"scatter3d\":[{\"type\":\"scatter3d\",\"line\":{\"colorbar\":{\"outlinewidth\":0,\"ticks\":\"\"}},\"marker\":{\"colorbar\":{\"outlinewidth\":0,\"ticks\":\"\"}}}],\"scattermapbox\":[{\"type\":\"scattermapbox\",\"marker\":{\"colorbar\":{\"outlinewidth\":0,\"ticks\":\"\"}}}],\"scatterternary\":[{\"type\":\"scatterternary\",\"marker\":{\"colorbar\":{\"outlinewidth\":0,\"ticks\":\"\"}}}],\"scattercarpet\":[{\"type\":\"scattercarpet\",\"marker\":{\"colorbar\":{\"outlinewidth\":0,\"ticks\":\"\"}}}],\"carpet\":[{\"aaxis\":{\"endlinecolor\":\"#2a3f5f\",\"gridcolor\":\"white\",\"linecolor\":\"white\",\"minorgridcolor\":\"white\",\"startlinecolor\":\"#2a3f5f\"},\"baxis\":{\"endlinecolor\":\"#2a3f5f\",\"gridcolor\":\"white\",\"linecolor\":\"white\",\"minorgridcolor\":\"white\",\"startlinecolor\":\"#2a3f5f\"},\"type\":\"carpet\"}],\"table\":[{\"cells\":{\"fill\":{\"color\":\"#EBF0F8\"},\"line\":{\"color\":\"white\"}},\"header\":{\"fill\":{\"color\":\"#C8D4E3\"},\"line\":{\"color\":\"white\"}},\"type\":\"table\"}],\"barpolar\":[{\"marker\":{\"line\":{\"color\":\"#E5ECF6\",\"width\":0.5},\"pattern\":{\"fillmode\":\"overlay\",\"size\":10,\"solidity\":0.2}},\"type\":\"barpolar\"}],\"pie\":[{\"automargin\":true,\"type\":\"pie\"}]},\"layout\":{\"autotypenumbers\":\"strict\",\"colorway\":[\"#636efa\",\"#EF553B\",\"#00cc96\",\"#ab63fa\",\"#FFA15A\",\"#19d3f3\",\"#FF6692\",\"#B6E880\",\"#FF97FF\",\"#FECB52\"],\"font\":{\"color\":\"#2a3f5f\"},\"hovermode\":\"closest\",\"hoverlabel\":{\"align\":\"left\"},\"paper_bgcolor\":\"white\",\"plot_bgcolor\":\"#E5ECF6\",\"polar\":{\"bgcolor\":\"#E5ECF6\",\"angularaxis\":{\"gridcolor\":\"white\",\"linecolor\":\"white\",\"ticks\":\"\"},\"radialaxis\":{\"gridcolor\":\"white\",\"linecolor\":\"white\",\"ticks\":\"\"}},\"ternary\":{\"bgcolor\":\"#E5ECF6\",\"aaxis\":{\"gridcolor\":\"white\",\"linecolor\":\"white\",\"ticks\":\"\"},\"baxis\":{\"gridcolor\":\"white\",\"linecolor\":\"white\",\"ticks\":\"\"},\"caxis\":{\"gridcolor\":\"white\",\"linecolor\":\"white\",\"ticks\":\"\"}},\"coloraxis\":{\"colorbar\":{\"outlinewidth\":0,\"ticks\":\"\"}},\"colorscale\":{\"sequential\":[[0.0,\"#0d0887\"],[0.1111111111111111,\"#46039f\"],[0.2222222222222222,\"#7201a8\"],[0.3333333333333333,\"#9c179e\"],[0.4444444444444444,\"#bd3786\"],[0.5555555555555556,\"#d8576b\"],[0.6666666666666666,\"#ed7953\"],[0.7777777777777778,\"#fb9f3a\"],[0.8888888888888888,\"#fdca26\"],[1.0,\"#f0f921\"]],\"sequentialminus\":[[0.0,\"#0d0887\"],[0.1111111111111111,\"#46039f\"],[0.2222222222222222,\"#7201a8\"],[0.3333333333333333,\"#9c179e\"],[0.4444444444444444,\"#bd3786\"],[0.5555555555555556,\"#d8576b\"],[0.6666666666666666,\"#ed7953\"],[0.7777777777777778,\"#fb9f3a\"],[0.8888888888888888,\"#fdca26\"],[1.0,\"#f0f921\"]],\"diverging\":[[0,\"#8e0152\"],[0.1,\"#c51b7d\"],[0.2,\"#de77ae\"],[0.3,\"#f1b6da\"],[0.4,\"#fde0ef\"],[0.5,\"#f7f7f7\"],[0.6,\"#e6f5d0\"],[0.7,\"#b8e186\"],[0.8,\"#7fbc41\"],[0.9,\"#4d9221\"],[1,\"#276419\"]]},\"xaxis\":{\"gridcolor\":\"white\",\"linecolor\":\"white\",\"ticks\":\"\",\"title\":{\"standoff\":15},\"zerolinecolor\":\"white\",\"automargin\":true,\"zerolinewidth\":2},\"yaxis\":{\"gridcolor\":\"white\",\"linecolor\":\"white\",\"ticks\":\"\",\"title\":{\"standoff\":15},\"zerolinecolor\":\"white\",\"automargin\":true,\"zerolinewidth\":2},\"scene\":{\"xaxis\":{\"backgroundcolor\":\"#E5ECF6\",\"gridcolor\":\"white\",\"linecolor\":\"white\",\"showbackground\":true,\"ticks\":\"\",\"zerolinecolor\":\"white\",\"gridwidth\":2},\"yaxis\":{\"backgroundcolor\":\"#E5ECF6\",\"gridcolor\":\"white\",\"linecolor\":\"white\",\"showbackground\":true,\"ticks\":\"\",\"zerolinecolor\":\"white\",\"gridwidth\":2},\"zaxis\":{\"backgroundcolor\":\"#E5ECF6\",\"gridcolor\":\"white\",\"linecolor\":\"white\",\"showbackground\":true,\"ticks\":\"\",\"zerolinecolor\":\"white\",\"gridwidth\":2}},\"shapedefaults\":{\"line\":{\"color\":\"#2a3f5f\"}},\"annotationdefaults\":{\"arrowcolor\":\"#2a3f5f\",\"arrowhead\":0,\"arrowwidth\":1},\"geo\":{\"bgcolor\":\"white\",\"landcolor\":\"#E5ECF6\",\"subunitcolor\":\"white\",\"showland\":true,\"showlakes\":true,\"lakecolor\":\"white\"},\"title\":{\"x\":0.05},\"mapbox\":{\"style\":\"light\"}}}},                        {\"responsive\": true}                    ).then(function(){\n",
       "                            \n",
       "var gd = document.getElementById('6b468fb5-36e3-4a66-a2b3-5e9be406a923');\n",
       "var x = new MutationObserver(function (mutations, observer) {{\n",
       "        var display = window.getComputedStyle(gd).display;\n",
       "        if (!display || display === 'none') {{\n",
       "            console.log([gd, 'removed!']);\n",
       "            Plotly.purge(gd);\n",
       "            observer.disconnect();\n",
       "        }}\n",
       "}});\n",
       "\n",
       "// Listen for the removal of the full notebook cells\n",
       "var notebookContainer = gd.closest('#notebook-container');\n",
       "if (notebookContainer) {{\n",
       "    x.observe(notebookContainer, {childList: true});\n",
       "}}\n",
       "\n",
       "// Listen for the clearing of the current output cell\n",
       "var outputEl = gd.closest('.output');\n",
       "if (outputEl) {{\n",
       "    x.observe(outputEl, {childList: true});\n",
       "}}\n",
       "\n",
       "                        })                };                });            </script>        </div>"
      ]
     },
     "metadata": {},
     "output_type": "display_data"
    },
    {
     "data": {
      "application/vnd.plotly.v1+json": {
       "config": {
        "plotlyServerURL": "https://plot.ly"
       },
       "data": [
        {
         "box": {
          "visible": true
         },
         "meanline": {
          "visible": true
         },
         "name": "Network8_amp_amp",
         "type": "violin",
         "x": [
          "Network8_amp_amp",
          "Network8_amp_amp",
          "Network8_amp_amp",
          "Network8_amp_amp",
          "Network8_amp_amp",
          "Network8_amp_amp",
          "Network8_amp_amp",
          "Network8_amp_amp",
          "Network8_amp_amp",
          "Network8_amp_amp",
          "Network8_amp_amp",
          "Network8_amp_amp",
          "Network8_amp_amp",
          "Network8_amp_amp",
          "Network8_amp_amp",
          "Network8_amp_amp",
          "Network8_amp_amp",
          "Network8_amp_amp",
          "Network8_amp_amp",
          "Network8_amp_amp",
          "Network8_amp_amp",
          "Network8_amp_amp",
          "Network8_amp_amp",
          "Network8_amp_amp",
          "Network8_amp_amp",
          "Network8_amp_amp",
          "Network8_amp_amp",
          "Network8_amp_amp",
          "Network8_amp_amp",
          "Network8_amp_amp",
          "Network8_amp_amp",
          "Network8_amp_amp",
          "Network8_amp_amp",
          "Network8_amp_amp",
          "Network8_amp_amp",
          "Network8_amp_amp",
          "Network8_amp_amp",
          "Network8_amp_amp",
          "Network8_amp_amp",
          "Network8_amp_amp",
          "Network8_amp_amp",
          "Network8_amp_amp",
          "Network8_amp_amp",
          "Network8_amp_amp",
          "Network8_amp_amp",
          "Network8_amp_amp",
          "Network8_amp_amp",
          "Network8_amp_amp",
          "Network8_amp_amp",
          "Network8_amp_amp",
          "Network8_amp_amp",
          "Network8_amp_amp",
          "Network8_amp_amp",
          "Network8_amp_amp",
          "Network8_amp_amp",
          "Network8_amp_amp",
          "Network8_amp_amp",
          "Network8_amp_amp",
          "Network8_amp_amp",
          "Network8_amp_amp"
         ],
         "y": [
          0.4141414141414141,
          0.5757575757575758,
          0.494949494949495,
          0.5454545454545454,
          0.4545454545454545,
          0.5151515151515151,
          0.5252525252525253,
          0.5757575757575758,
          0.4343434343434343,
          0.5353535353535354,
          0.5050505050505051,
          0.5858585858585859,
          0.5757575757575758,
          0.5858585858585859,
          0.494949494949495,
          0.5858585858585859,
          0.5757575757575758,
          0.4444444444444444,
          0.5454545454545454,
          0.4646464646464646,
          0.4141414141414141,
          0.5252525252525253,
          0.5151515151515151,
          0.5757575757575758,
          0.4242424242424242,
          0.4747474747474747,
          0.5151515151515151,
          0.5959595959595959,
          0.4545454545454545,
          0.6363636363636364,
          0.5454545454545454,
          0.3434343434343434,
          0.5959595959595959,
          0.494949494949495,
          0.5656565656565656,
          0.4848484848484848,
          0.6464646464646465,
          0.4747474747474747,
          0.5353535353535354,
          0.5656565656565656,
          0.494949494949495,
          0.4444444444444444,
          0.3939393939393939,
          0.6161616161616161,
          0.5252525252525253,
          0.4646464646464646,
          0.4242424242424242,
          0.4343434343434343,
          0.3838383838383838,
          0.5151515151515151,
          0.5656565656565656,
          0.5454545454545454,
          0.4343434343434343,
          0.5757575757575758,
          0.6262626262626263,
          0.5454545454545454,
          0.4848484848484848,
          0.5858585858585859,
          0.4343434343434343,
          0.5050505050505051
         ]
        },
        {
         "box": {
          "visible": true
         },
         "meanline": {
          "visible": true
         },
         "name": "Network8_amp_cont",
         "type": "violin",
         "x": [
          "Network8_amp_cont",
          "Network8_amp_cont",
          "Network8_amp_cont",
          "Network8_amp_cont",
          "Network8_amp_cont",
          "Network8_amp_cont",
          "Network8_amp_cont",
          "Network8_amp_cont",
          "Network8_amp_cont",
          "Network8_amp_cont",
          "Network8_amp_cont",
          "Network8_amp_cont",
          "Network8_amp_cont",
          "Network8_amp_cont",
          "Network8_amp_cont",
          "Network8_amp_cont",
          "Network8_amp_cont",
          "Network8_amp_cont",
          "Network8_amp_cont",
          "Network8_amp_cont",
          "Network8_amp_cont",
          "Network8_amp_cont",
          "Network8_amp_cont",
          "Network8_amp_cont",
          "Network8_amp_cont",
          "Network8_amp_cont",
          "Network8_amp_cont",
          "Network8_amp_cont",
          "Network8_amp_cont",
          "Network8_amp_cont",
          "Network8_amp_cont",
          "Network8_amp_cont",
          "Network8_amp_cont",
          "Network8_amp_cont",
          "Network8_amp_cont",
          "Network8_amp_cont",
          "Network8_amp_cont",
          "Network8_amp_cont",
          "Network8_amp_cont",
          "Network8_amp_cont",
          "Network8_amp_cont",
          "Network8_amp_cont",
          "Network8_amp_cont",
          "Network8_amp_cont",
          "Network8_amp_cont",
          "Network8_amp_cont",
          "Network8_amp_cont",
          "Network8_amp_cont",
          "Network8_amp_cont",
          "Network8_amp_cont",
          "Network8_amp_cont",
          "Network8_amp_cont",
          "Network8_amp_cont",
          "Network8_amp_cont",
          "Network8_amp_cont",
          "Network8_amp_cont",
          "Network8_amp_cont",
          "Network8_amp_cont",
          "Network8_amp_cont",
          "Network8_amp_cont"
         ],
         "y": [
          0.5858585858585859,
          0.4141414141414141,
          0.4646464646464646,
          0.4343434343434343,
          0.4848484848484848,
          0.5555555555555556,
          0.4545454545454545,
          0.6262626262626263,
          0.5454545454545454,
          0.4848484848484848,
          0.5353535353535354,
          0.4343434343434343,
          0.4444444444444444,
          0.5353535353535354,
          0.5252525252525253,
          0.5252525252525253,
          0.5454545454545454,
          0.494949494949495,
          0.4545454545454545,
          0.5252525252525253,
          0.4545454545454545,
          0.4141414141414141,
          0.4545454545454545,
          0.5151515151515151,
          0.4545454545454545,
          0.5151515151515151,
          0.5959595959595959,
          0.6161616161616161,
          0.5454545454545454,
          0.5656565656565656,
          0.5151515151515151,
          0.494949494949495,
          0.4242424242424242,
          0.494949494949495,
          0.4848484848484848,
          0.4242424242424242,
          0.5353535353535354,
          0.5656565656565656,
          0.5050505050505051,
          0.494949494949495,
          0.4545454545454545,
          0.5050505050505051,
          0.5050505050505051,
          0.6060606060606061,
          0.3737373737373737,
          0.5555555555555556,
          0.5454545454545454,
          0.5050505050505051,
          0.4747474747474747,
          0.4747474747474747,
          0.5151515151515151,
          0.4848484848484848,
          0.5050505050505051,
          0.4848484848484848,
          0.5757575757575758,
          0.5656565656565656,
          0.3737373737373737,
          0.5757575757575758,
          0.5151515151515151,
          0.4848484848484848
         ]
        },
        {
         "box": {
          "visible": true
         },
         "meanline": {
          "visible": true
         },
         "name": "Network8_cont_amp",
         "type": "violin",
         "x": [
          "Network8_cont_amp",
          "Network8_cont_amp",
          "Network8_cont_amp",
          "Network8_cont_amp",
          "Network8_cont_amp",
          "Network8_cont_amp",
          "Network8_cont_amp",
          "Network8_cont_amp",
          "Network8_cont_amp",
          "Network8_cont_amp",
          "Network8_cont_amp",
          "Network8_cont_amp",
          "Network8_cont_amp",
          "Network8_cont_amp",
          "Network8_cont_amp",
          "Network8_cont_amp",
          "Network8_cont_amp",
          "Network8_cont_amp",
          "Network8_cont_amp",
          "Network8_cont_amp",
          "Network8_cont_amp",
          "Network8_cont_amp",
          "Network8_cont_amp",
          "Network8_cont_amp",
          "Network8_cont_amp",
          "Network8_cont_amp",
          "Network8_cont_amp",
          "Network8_cont_amp",
          "Network8_cont_amp",
          "Network8_cont_amp",
          "Network8_cont_amp",
          "Network8_cont_amp",
          "Network8_cont_amp",
          "Network8_cont_amp",
          "Network8_cont_amp",
          "Network8_cont_amp",
          "Network8_cont_amp",
          "Network8_cont_amp",
          "Network8_cont_amp",
          "Network8_cont_amp",
          "Network8_cont_amp",
          "Network8_cont_amp",
          "Network8_cont_amp",
          "Network8_cont_amp",
          "Network8_cont_amp",
          "Network8_cont_amp",
          "Network8_cont_amp",
          "Network8_cont_amp",
          "Network8_cont_amp",
          "Network8_cont_amp",
          "Network8_cont_amp",
          "Network8_cont_amp",
          "Network8_cont_amp",
          "Network8_cont_amp",
          "Network8_cont_amp",
          "Network8_cont_amp",
          "Network8_cont_amp",
          "Network8_cont_amp",
          "Network8_cont_amp",
          "Network8_cont_amp"
         ],
         "y": [
          0.4444444444444444,
          0.5959595959595959,
          0.5959595959595959,
          0.5858585858585859,
          0.6464646464646465,
          0.5959595959595959,
          0.6262626262626263,
          0.5555555555555556,
          0.6060606060606061,
          0.4747474747474747,
          0.4848484848484848,
          0.5858585858585859,
          0.5555555555555556,
          0.5959595959595959,
          0.4848484848484848,
          0.5454545454545454,
          0.6363636363636364,
          0.6565656565656566,
          0.5656565656565656,
          0.5656565656565656,
          0.4646464646464646,
          0.5454545454545454,
          0.5454545454545454,
          0.5050505050505051,
          0.494949494949495,
          0.4848484848484848,
          0.5454545454545454,
          0.5858585858585859,
          0.5858585858585859,
          0.5656565656565656,
          0.494949494949495,
          0.5959595959595959,
          0.5050505050505051,
          0.5151515151515151,
          0.4848484848484848,
          0.5959595959595959,
          0.4848484848484848,
          0.4747474747474747,
          0.5555555555555556,
          0.4646464646464646,
          0.5050505050505051,
          0.5050505050505051,
          0.5555555555555556,
          0.5252525252525253,
          0.494949494949495,
          0.5959595959595959,
          0.5555555555555556,
          0.4545454545454545,
          0.494949494949495,
          0.4545454545454545,
          0.5555555555555556,
          0.5858585858585859,
          0.5858585858585859,
          0.494949494949495,
          0.5353535353535354,
          0.5656565656565656,
          0.5656565656565656,
          0.4646464646464646,
          0.5656565656565656,
          0.6060606060606061
         ]
        },
        {
         "box": {
          "visible": true
         },
         "meanline": {
          "visible": true
         },
         "name": "Network9_amp_amp",
         "type": "violin",
         "x": [
          "Network9_amp_amp",
          "Network9_amp_amp",
          "Network9_amp_amp",
          "Network9_amp_amp",
          "Network9_amp_amp",
          "Network9_amp_amp",
          "Network9_amp_amp",
          "Network9_amp_amp",
          "Network9_amp_amp",
          "Network9_amp_amp",
          "Network9_amp_amp",
          "Network9_amp_amp",
          "Network9_amp_amp",
          "Network9_amp_amp",
          "Network9_amp_amp",
          "Network9_amp_amp",
          "Network9_amp_amp",
          "Network9_amp_amp",
          "Network9_amp_amp",
          "Network9_amp_amp",
          "Network9_amp_amp",
          "Network9_amp_amp",
          "Network9_amp_amp",
          "Network9_amp_amp",
          "Network9_amp_amp",
          "Network9_amp_amp",
          "Network9_amp_amp",
          "Network9_amp_amp",
          "Network9_amp_amp",
          "Network9_amp_amp",
          "Network9_amp_amp",
          "Network9_amp_amp",
          "Network9_amp_amp",
          "Network9_amp_amp",
          "Network9_amp_amp",
          "Network9_amp_amp",
          "Network9_amp_amp",
          "Network9_amp_amp",
          "Network9_amp_amp",
          "Network9_amp_amp",
          "Network9_amp_amp",
          "Network9_amp_amp",
          "Network9_amp_amp",
          "Network9_amp_amp",
          "Network9_amp_amp",
          "Network9_amp_amp",
          "Network9_amp_amp",
          "Network9_amp_amp",
          "Network9_amp_amp",
          "Network9_amp_amp",
          "Network9_amp_amp",
          "Network9_amp_amp",
          "Network9_amp_amp",
          "Network9_amp_amp",
          "Network9_amp_amp",
          "Network9_amp_amp",
          "Network9_amp_amp",
          "Network9_amp_amp",
          "Network9_amp_amp",
          "Network9_amp_amp"
         ],
         "y": [
          0.4491525423728814,
          0.5254237288135594,
          0.4152542372881356,
          0.423728813559322,
          0.5254237288135594,
          0.5,
          0.4067796610169492,
          0.4406779661016949,
          0.5,
          0.4745762711864407,
          0.5,
          0.5847457627118644,
          0.5169491525423728,
          0.5169491525423728,
          0.4915254237288136,
          0.4576271186440678,
          0.5,
          0.5169491525423728,
          0.4661016949152542,
          0.5,
          0.5508474576271186,
          0.4661016949152542,
          0.559322033898305,
          0.5254237288135594,
          0.4067796610169492,
          0.5254237288135594,
          0.4152542372881356,
          0.4661016949152542,
          0.4576271186440678,
          0.4322033898305085,
          0.4152542372881356,
          0.5508474576271186,
          0.4830508474576271,
          0.5508474576271186,
          0.423728813559322,
          0.5338983050847458,
          0.5254237288135594,
          0.423728813559322,
          0.5677966101694916,
          0.5254237288135594,
          0.5254237288135594,
          0.5254237288135594,
          0.576271186440678,
          0.5,
          0.4745762711864407,
          0.4491525423728814,
          0.5932203389830508,
          0.5,
          0.5,
          0.5,
          0.4322033898305085,
          0.5254237288135594,
          0.4576271186440678,
          0.4576271186440678,
          0.4915254237288136,
          0.576271186440678,
          0.5084745762711864,
          0.6271186440677966,
          0.5084745762711864,
          0.4491525423728814
         ]
        }
       ],
       "layout": {
        "template": {
         "data": {
          "bar": [
           {
            "error_x": {
             "color": "#2a3f5f"
            },
            "error_y": {
             "color": "#2a3f5f"
            },
            "marker": {
             "line": {
              "color": "#E5ECF6",
              "width": 0.5
             },
             "pattern": {
              "fillmode": "overlay",
              "size": 10,
              "solidity": 0.2
             }
            },
            "type": "bar"
           }
          ],
          "barpolar": [
           {
            "marker": {
             "line": {
              "color": "#E5ECF6",
              "width": 0.5
             },
             "pattern": {
              "fillmode": "overlay",
              "size": 10,
              "solidity": 0.2
             }
            },
            "type": "barpolar"
           }
          ],
          "carpet": [
           {
            "aaxis": {
             "endlinecolor": "#2a3f5f",
             "gridcolor": "white",
             "linecolor": "white",
             "minorgridcolor": "white",
             "startlinecolor": "#2a3f5f"
            },
            "baxis": {
             "endlinecolor": "#2a3f5f",
             "gridcolor": "white",
             "linecolor": "white",
             "minorgridcolor": "white",
             "startlinecolor": "#2a3f5f"
            },
            "type": "carpet"
           }
          ],
          "choropleth": [
           {
            "colorbar": {
             "outlinewidth": 0,
             "ticks": ""
            },
            "type": "choropleth"
           }
          ],
          "contour": [
           {
            "colorbar": {
             "outlinewidth": 0,
             "ticks": ""
            },
            "colorscale": [
             [
              0,
              "#0d0887"
             ],
             [
              0.1111111111111111,
              "#46039f"
             ],
             [
              0.2222222222222222,
              "#7201a8"
             ],
             [
              0.3333333333333333,
              "#9c179e"
             ],
             [
              0.4444444444444444,
              "#bd3786"
             ],
             [
              0.5555555555555556,
              "#d8576b"
             ],
             [
              0.6666666666666666,
              "#ed7953"
             ],
             [
              0.7777777777777778,
              "#fb9f3a"
             ],
             [
              0.8888888888888888,
              "#fdca26"
             ],
             [
              1,
              "#f0f921"
             ]
            ],
            "type": "contour"
           }
          ],
          "contourcarpet": [
           {
            "colorbar": {
             "outlinewidth": 0,
             "ticks": ""
            },
            "type": "contourcarpet"
           }
          ],
          "heatmap": [
           {
            "colorbar": {
             "outlinewidth": 0,
             "ticks": ""
            },
            "colorscale": [
             [
              0,
              "#0d0887"
             ],
             [
              0.1111111111111111,
              "#46039f"
             ],
             [
              0.2222222222222222,
              "#7201a8"
             ],
             [
              0.3333333333333333,
              "#9c179e"
             ],
             [
              0.4444444444444444,
              "#bd3786"
             ],
             [
              0.5555555555555556,
              "#d8576b"
             ],
             [
              0.6666666666666666,
              "#ed7953"
             ],
             [
              0.7777777777777778,
              "#fb9f3a"
             ],
             [
              0.8888888888888888,
              "#fdca26"
             ],
             [
              1,
              "#f0f921"
             ]
            ],
            "type": "heatmap"
           }
          ],
          "heatmapgl": [
           {
            "colorbar": {
             "outlinewidth": 0,
             "ticks": ""
            },
            "colorscale": [
             [
              0,
              "#0d0887"
             ],
             [
              0.1111111111111111,
              "#46039f"
             ],
             [
              0.2222222222222222,
              "#7201a8"
             ],
             [
              0.3333333333333333,
              "#9c179e"
             ],
             [
              0.4444444444444444,
              "#bd3786"
             ],
             [
              0.5555555555555556,
              "#d8576b"
             ],
             [
              0.6666666666666666,
              "#ed7953"
             ],
             [
              0.7777777777777778,
              "#fb9f3a"
             ],
             [
              0.8888888888888888,
              "#fdca26"
             ],
             [
              1,
              "#f0f921"
             ]
            ],
            "type": "heatmapgl"
           }
          ],
          "histogram": [
           {
            "marker": {
             "pattern": {
              "fillmode": "overlay",
              "size": 10,
              "solidity": 0.2
             }
            },
            "type": "histogram"
           }
          ],
          "histogram2d": [
           {
            "colorbar": {
             "outlinewidth": 0,
             "ticks": ""
            },
            "colorscale": [
             [
              0,
              "#0d0887"
             ],
             [
              0.1111111111111111,
              "#46039f"
             ],
             [
              0.2222222222222222,
              "#7201a8"
             ],
             [
              0.3333333333333333,
              "#9c179e"
             ],
             [
              0.4444444444444444,
              "#bd3786"
             ],
             [
              0.5555555555555556,
              "#d8576b"
             ],
             [
              0.6666666666666666,
              "#ed7953"
             ],
             [
              0.7777777777777778,
              "#fb9f3a"
             ],
             [
              0.8888888888888888,
              "#fdca26"
             ],
             [
              1,
              "#f0f921"
             ]
            ],
            "type": "histogram2d"
           }
          ],
          "histogram2dcontour": [
           {
            "colorbar": {
             "outlinewidth": 0,
             "ticks": ""
            },
            "colorscale": [
             [
              0,
              "#0d0887"
             ],
             [
              0.1111111111111111,
              "#46039f"
             ],
             [
              0.2222222222222222,
              "#7201a8"
             ],
             [
              0.3333333333333333,
              "#9c179e"
             ],
             [
              0.4444444444444444,
              "#bd3786"
             ],
             [
              0.5555555555555556,
              "#d8576b"
             ],
             [
              0.6666666666666666,
              "#ed7953"
             ],
             [
              0.7777777777777778,
              "#fb9f3a"
             ],
             [
              0.8888888888888888,
              "#fdca26"
             ],
             [
              1,
              "#f0f921"
             ]
            ],
            "type": "histogram2dcontour"
           }
          ],
          "mesh3d": [
           {
            "colorbar": {
             "outlinewidth": 0,
             "ticks": ""
            },
            "type": "mesh3d"
           }
          ],
          "parcoords": [
           {
            "line": {
             "colorbar": {
              "outlinewidth": 0,
              "ticks": ""
             }
            },
            "type": "parcoords"
           }
          ],
          "pie": [
           {
            "automargin": true,
            "type": "pie"
           }
          ],
          "scatter": [
           {
            "fillpattern": {
             "fillmode": "overlay",
             "size": 10,
             "solidity": 0.2
            },
            "type": "scatter"
           }
          ],
          "scatter3d": [
           {
            "line": {
             "colorbar": {
              "outlinewidth": 0,
              "ticks": ""
             }
            },
            "marker": {
             "colorbar": {
              "outlinewidth": 0,
              "ticks": ""
             }
            },
            "type": "scatter3d"
           }
          ],
          "scattercarpet": [
           {
            "marker": {
             "colorbar": {
              "outlinewidth": 0,
              "ticks": ""
             }
            },
            "type": "scattercarpet"
           }
          ],
          "scattergeo": [
           {
            "marker": {
             "colorbar": {
              "outlinewidth": 0,
              "ticks": ""
             }
            },
            "type": "scattergeo"
           }
          ],
          "scattergl": [
           {
            "marker": {
             "colorbar": {
              "outlinewidth": 0,
              "ticks": ""
             }
            },
            "type": "scattergl"
           }
          ],
          "scattermapbox": [
           {
            "marker": {
             "colorbar": {
              "outlinewidth": 0,
              "ticks": ""
             }
            },
            "type": "scattermapbox"
           }
          ],
          "scatterpolar": [
           {
            "marker": {
             "colorbar": {
              "outlinewidth": 0,
              "ticks": ""
             }
            },
            "type": "scatterpolar"
           }
          ],
          "scatterpolargl": [
           {
            "marker": {
             "colorbar": {
              "outlinewidth": 0,
              "ticks": ""
             }
            },
            "type": "scatterpolargl"
           }
          ],
          "scatterternary": [
           {
            "marker": {
             "colorbar": {
              "outlinewidth": 0,
              "ticks": ""
             }
            },
            "type": "scatterternary"
           }
          ],
          "surface": [
           {
            "colorbar": {
             "outlinewidth": 0,
             "ticks": ""
            },
            "colorscale": [
             [
              0,
              "#0d0887"
             ],
             [
              0.1111111111111111,
              "#46039f"
             ],
             [
              0.2222222222222222,
              "#7201a8"
             ],
             [
              0.3333333333333333,
              "#9c179e"
             ],
             [
              0.4444444444444444,
              "#bd3786"
             ],
             [
              0.5555555555555556,
              "#d8576b"
             ],
             [
              0.6666666666666666,
              "#ed7953"
             ],
             [
              0.7777777777777778,
              "#fb9f3a"
             ],
             [
              0.8888888888888888,
              "#fdca26"
             ],
             [
              1,
              "#f0f921"
             ]
            ],
            "type": "surface"
           }
          ],
          "table": [
           {
            "cells": {
             "fill": {
              "color": "#EBF0F8"
             },
             "line": {
              "color": "white"
             }
            },
            "header": {
             "fill": {
              "color": "#C8D4E3"
             },
             "line": {
              "color": "white"
             }
            },
            "type": "table"
           }
          ]
         },
         "layout": {
          "annotationdefaults": {
           "arrowcolor": "#2a3f5f",
           "arrowhead": 0,
           "arrowwidth": 1
          },
          "autotypenumbers": "strict",
          "coloraxis": {
           "colorbar": {
            "outlinewidth": 0,
            "ticks": ""
           }
          },
          "colorscale": {
           "diverging": [
            [
             0,
             "#8e0152"
            ],
            [
             0.1,
             "#c51b7d"
            ],
            [
             0.2,
             "#de77ae"
            ],
            [
             0.3,
             "#f1b6da"
            ],
            [
             0.4,
             "#fde0ef"
            ],
            [
             0.5,
             "#f7f7f7"
            ],
            [
             0.6,
             "#e6f5d0"
            ],
            [
             0.7,
             "#b8e186"
            ],
            [
             0.8,
             "#7fbc41"
            ],
            [
             0.9,
             "#4d9221"
            ],
            [
             1,
             "#276419"
            ]
           ],
           "sequential": [
            [
             0,
             "#0d0887"
            ],
            [
             0.1111111111111111,
             "#46039f"
            ],
            [
             0.2222222222222222,
             "#7201a8"
            ],
            [
             0.3333333333333333,
             "#9c179e"
            ],
            [
             0.4444444444444444,
             "#bd3786"
            ],
            [
             0.5555555555555556,
             "#d8576b"
            ],
            [
             0.6666666666666666,
             "#ed7953"
            ],
            [
             0.7777777777777778,
             "#fb9f3a"
            ],
            [
             0.8888888888888888,
             "#fdca26"
            ],
            [
             1,
             "#f0f921"
            ]
           ],
           "sequentialminus": [
            [
             0,
             "#0d0887"
            ],
            [
             0.1111111111111111,
             "#46039f"
            ],
            [
             0.2222222222222222,
             "#7201a8"
            ],
            [
             0.3333333333333333,
             "#9c179e"
            ],
            [
             0.4444444444444444,
             "#bd3786"
            ],
            [
             0.5555555555555556,
             "#d8576b"
            ],
            [
             0.6666666666666666,
             "#ed7953"
            ],
            [
             0.7777777777777778,
             "#fb9f3a"
            ],
            [
             0.8888888888888888,
             "#fdca26"
            ],
            [
             1,
             "#f0f921"
            ]
           ]
          },
          "colorway": [
           "#636efa",
           "#EF553B",
           "#00cc96",
           "#ab63fa",
           "#FFA15A",
           "#19d3f3",
           "#FF6692",
           "#B6E880",
           "#FF97FF",
           "#FECB52"
          ],
          "font": {
           "color": "#2a3f5f"
          },
          "geo": {
           "bgcolor": "white",
           "lakecolor": "white",
           "landcolor": "#E5ECF6",
           "showlakes": true,
           "showland": true,
           "subunitcolor": "white"
          },
          "hoverlabel": {
           "align": "left"
          },
          "hovermode": "closest",
          "mapbox": {
           "style": "light"
          },
          "paper_bgcolor": "white",
          "plot_bgcolor": "#E5ECF6",
          "polar": {
           "angularaxis": {
            "gridcolor": "white",
            "linecolor": "white",
            "ticks": ""
           },
           "bgcolor": "#E5ECF6",
           "radialaxis": {
            "gridcolor": "white",
            "linecolor": "white",
            "ticks": ""
           }
          },
          "scene": {
           "xaxis": {
            "backgroundcolor": "#E5ECF6",
            "gridcolor": "white",
            "gridwidth": 2,
            "linecolor": "white",
            "showbackground": true,
            "ticks": "",
            "zerolinecolor": "white"
           },
           "yaxis": {
            "backgroundcolor": "#E5ECF6",
            "gridcolor": "white",
            "gridwidth": 2,
            "linecolor": "white",
            "showbackground": true,
            "ticks": "",
            "zerolinecolor": "white"
           },
           "zaxis": {
            "backgroundcolor": "#E5ECF6",
            "gridcolor": "white",
            "gridwidth": 2,
            "linecolor": "white",
            "showbackground": true,
            "ticks": "",
            "zerolinecolor": "white"
           }
          },
          "shapedefaults": {
           "line": {
            "color": "#2a3f5f"
           }
          },
          "ternary": {
           "aaxis": {
            "gridcolor": "white",
            "linecolor": "white",
            "ticks": ""
           },
           "baxis": {
            "gridcolor": "white",
            "linecolor": "white",
            "ticks": ""
           },
           "bgcolor": "#E5ECF6",
           "caxis": {
            "gridcolor": "white",
            "linecolor": "white",
            "ticks": ""
           }
          },
          "title": {
           "x": 0.05
          },
          "xaxis": {
           "automargin": true,
           "gridcolor": "white",
           "linecolor": "white",
           "ticks": "",
           "title": {
            "standoff": 15
           },
           "zerolinecolor": "white",
           "zerolinewidth": 2
          },
          "yaxis": {
           "automargin": true,
           "gridcolor": "white",
           "linecolor": "white",
           "ticks": "",
           "title": {
            "standoff": 15
           },
           "zerolinecolor": "white",
           "zerolinewidth": 2
          }
         }
        }
       }
      },
      "text/html": [
       "<div>                            <div id=\"f1694195-3867-42f6-81d4-c17c00af34c2\" class=\"plotly-graph-div\" style=\"height:525px; width:100%;\"></div>            <script type=\"text/javascript\">                require([\"plotly\"], function(Plotly) {                    window.PLOTLYENV=window.PLOTLYENV || {};                                    if (document.getElementById(\"f1694195-3867-42f6-81d4-c17c00af34c2\")) {                    Plotly.newPlot(                        \"f1694195-3867-42f6-81d4-c17c00af34c2\",                        [{\"box\":{\"visible\":true},\"meanline\":{\"visible\":true},\"name\":\"Network8_amp_amp\",\"x\":[\"Network8_amp_amp\",\"Network8_amp_amp\",\"Network8_amp_amp\",\"Network8_amp_amp\",\"Network8_amp_amp\",\"Network8_amp_amp\",\"Network8_amp_amp\",\"Network8_amp_amp\",\"Network8_amp_amp\",\"Network8_amp_amp\",\"Network8_amp_amp\",\"Network8_amp_amp\",\"Network8_amp_amp\",\"Network8_amp_amp\",\"Network8_amp_amp\",\"Network8_amp_amp\",\"Network8_amp_amp\",\"Network8_amp_amp\",\"Network8_amp_amp\",\"Network8_amp_amp\",\"Network8_amp_amp\",\"Network8_amp_amp\",\"Network8_amp_amp\",\"Network8_amp_amp\",\"Network8_amp_amp\",\"Network8_amp_amp\",\"Network8_amp_amp\",\"Network8_amp_amp\",\"Network8_amp_amp\",\"Network8_amp_amp\",\"Network8_amp_amp\",\"Network8_amp_amp\",\"Network8_amp_amp\",\"Network8_amp_amp\",\"Network8_amp_amp\",\"Network8_amp_amp\",\"Network8_amp_amp\",\"Network8_amp_amp\",\"Network8_amp_amp\",\"Network8_amp_amp\",\"Network8_amp_amp\",\"Network8_amp_amp\",\"Network8_amp_amp\",\"Network8_amp_amp\",\"Network8_amp_amp\",\"Network8_amp_amp\",\"Network8_amp_amp\",\"Network8_amp_amp\",\"Network8_amp_amp\",\"Network8_amp_amp\",\"Network8_amp_amp\",\"Network8_amp_amp\",\"Network8_amp_amp\",\"Network8_amp_amp\",\"Network8_amp_amp\",\"Network8_amp_amp\",\"Network8_amp_amp\",\"Network8_amp_amp\",\"Network8_amp_amp\",\"Network8_amp_amp\"],\"y\":[0.4141414141414141,0.5757575757575758,0.494949494949495,0.5454545454545454,0.4545454545454545,0.5151515151515151,0.5252525252525253,0.5757575757575758,0.4343434343434343,0.5353535353535354,0.5050505050505051,0.5858585858585859,0.5757575757575758,0.5858585858585859,0.494949494949495,0.5858585858585859,0.5757575757575758,0.4444444444444444,0.5454545454545454,0.4646464646464646,0.4141414141414141,0.5252525252525253,0.5151515151515151,0.5757575757575758,0.4242424242424242,0.4747474747474747,0.5151515151515151,0.5959595959595959,0.4545454545454545,0.6363636363636364,0.5454545454545454,0.3434343434343434,0.5959595959595959,0.494949494949495,0.5656565656565656,0.4848484848484848,0.6464646464646465,0.4747474747474747,0.5353535353535354,0.5656565656565656,0.494949494949495,0.4444444444444444,0.3939393939393939,0.6161616161616161,0.5252525252525253,0.4646464646464646,0.4242424242424242,0.4343434343434343,0.3838383838383838,0.5151515151515151,0.5656565656565656,0.5454545454545454,0.4343434343434343,0.5757575757575758,0.6262626262626263,0.5454545454545454,0.4848484848484848,0.5858585858585859,0.4343434343434343,0.5050505050505051],\"type\":\"violin\"},{\"box\":{\"visible\":true},\"meanline\":{\"visible\":true},\"name\":\"Network8_amp_cont\",\"x\":[\"Network8_amp_cont\",\"Network8_amp_cont\",\"Network8_amp_cont\",\"Network8_amp_cont\",\"Network8_amp_cont\",\"Network8_amp_cont\",\"Network8_amp_cont\",\"Network8_amp_cont\",\"Network8_amp_cont\",\"Network8_amp_cont\",\"Network8_amp_cont\",\"Network8_amp_cont\",\"Network8_amp_cont\",\"Network8_amp_cont\",\"Network8_amp_cont\",\"Network8_amp_cont\",\"Network8_amp_cont\",\"Network8_amp_cont\",\"Network8_amp_cont\",\"Network8_amp_cont\",\"Network8_amp_cont\",\"Network8_amp_cont\",\"Network8_amp_cont\",\"Network8_amp_cont\",\"Network8_amp_cont\",\"Network8_amp_cont\",\"Network8_amp_cont\",\"Network8_amp_cont\",\"Network8_amp_cont\",\"Network8_amp_cont\",\"Network8_amp_cont\",\"Network8_amp_cont\",\"Network8_amp_cont\",\"Network8_amp_cont\",\"Network8_amp_cont\",\"Network8_amp_cont\",\"Network8_amp_cont\",\"Network8_amp_cont\",\"Network8_amp_cont\",\"Network8_amp_cont\",\"Network8_amp_cont\",\"Network8_amp_cont\",\"Network8_amp_cont\",\"Network8_amp_cont\",\"Network8_amp_cont\",\"Network8_amp_cont\",\"Network8_amp_cont\",\"Network8_amp_cont\",\"Network8_amp_cont\",\"Network8_amp_cont\",\"Network8_amp_cont\",\"Network8_amp_cont\",\"Network8_amp_cont\",\"Network8_amp_cont\",\"Network8_amp_cont\",\"Network8_amp_cont\",\"Network8_amp_cont\",\"Network8_amp_cont\",\"Network8_amp_cont\",\"Network8_amp_cont\"],\"y\":[0.5858585858585859,0.4141414141414141,0.4646464646464646,0.4343434343434343,0.4848484848484848,0.5555555555555556,0.4545454545454545,0.6262626262626263,0.5454545454545454,0.4848484848484848,0.5353535353535354,0.4343434343434343,0.4444444444444444,0.5353535353535354,0.5252525252525253,0.5252525252525253,0.5454545454545454,0.494949494949495,0.4545454545454545,0.5252525252525253,0.4545454545454545,0.4141414141414141,0.4545454545454545,0.5151515151515151,0.4545454545454545,0.5151515151515151,0.5959595959595959,0.6161616161616161,0.5454545454545454,0.5656565656565656,0.5151515151515151,0.494949494949495,0.4242424242424242,0.494949494949495,0.4848484848484848,0.4242424242424242,0.5353535353535354,0.5656565656565656,0.5050505050505051,0.494949494949495,0.4545454545454545,0.5050505050505051,0.5050505050505051,0.6060606060606061,0.3737373737373737,0.5555555555555556,0.5454545454545454,0.5050505050505051,0.4747474747474747,0.4747474747474747,0.5151515151515151,0.4848484848484848,0.5050505050505051,0.4848484848484848,0.5757575757575758,0.5656565656565656,0.3737373737373737,0.5757575757575758,0.5151515151515151,0.4848484848484848],\"type\":\"violin\"},{\"box\":{\"visible\":true},\"meanline\":{\"visible\":true},\"name\":\"Network8_cont_amp\",\"x\":[\"Network8_cont_amp\",\"Network8_cont_amp\",\"Network8_cont_amp\",\"Network8_cont_amp\",\"Network8_cont_amp\",\"Network8_cont_amp\",\"Network8_cont_amp\",\"Network8_cont_amp\",\"Network8_cont_amp\",\"Network8_cont_amp\",\"Network8_cont_amp\",\"Network8_cont_amp\",\"Network8_cont_amp\",\"Network8_cont_amp\",\"Network8_cont_amp\",\"Network8_cont_amp\",\"Network8_cont_amp\",\"Network8_cont_amp\",\"Network8_cont_amp\",\"Network8_cont_amp\",\"Network8_cont_amp\",\"Network8_cont_amp\",\"Network8_cont_amp\",\"Network8_cont_amp\",\"Network8_cont_amp\",\"Network8_cont_amp\",\"Network8_cont_amp\",\"Network8_cont_amp\",\"Network8_cont_amp\",\"Network8_cont_amp\",\"Network8_cont_amp\",\"Network8_cont_amp\",\"Network8_cont_amp\",\"Network8_cont_amp\",\"Network8_cont_amp\",\"Network8_cont_amp\",\"Network8_cont_amp\",\"Network8_cont_amp\",\"Network8_cont_amp\",\"Network8_cont_amp\",\"Network8_cont_amp\",\"Network8_cont_amp\",\"Network8_cont_amp\",\"Network8_cont_amp\",\"Network8_cont_amp\",\"Network8_cont_amp\",\"Network8_cont_amp\",\"Network8_cont_amp\",\"Network8_cont_amp\",\"Network8_cont_amp\",\"Network8_cont_amp\",\"Network8_cont_amp\",\"Network8_cont_amp\",\"Network8_cont_amp\",\"Network8_cont_amp\",\"Network8_cont_amp\",\"Network8_cont_amp\",\"Network8_cont_amp\",\"Network8_cont_amp\",\"Network8_cont_amp\"],\"y\":[0.4444444444444444,0.5959595959595959,0.5959595959595959,0.5858585858585859,0.6464646464646465,0.5959595959595959,0.6262626262626263,0.5555555555555556,0.6060606060606061,0.4747474747474747,0.4848484848484848,0.5858585858585859,0.5555555555555556,0.5959595959595959,0.4848484848484848,0.5454545454545454,0.6363636363636364,0.6565656565656566,0.5656565656565656,0.5656565656565656,0.4646464646464646,0.5454545454545454,0.5454545454545454,0.5050505050505051,0.494949494949495,0.4848484848484848,0.5454545454545454,0.5858585858585859,0.5858585858585859,0.5656565656565656,0.494949494949495,0.5959595959595959,0.5050505050505051,0.5151515151515151,0.4848484848484848,0.5959595959595959,0.4848484848484848,0.4747474747474747,0.5555555555555556,0.4646464646464646,0.5050505050505051,0.5050505050505051,0.5555555555555556,0.5252525252525253,0.494949494949495,0.5959595959595959,0.5555555555555556,0.4545454545454545,0.494949494949495,0.4545454545454545,0.5555555555555556,0.5858585858585859,0.5858585858585859,0.494949494949495,0.5353535353535354,0.5656565656565656,0.5656565656565656,0.4646464646464646,0.5656565656565656,0.6060606060606061],\"type\":\"violin\"},{\"box\":{\"visible\":true},\"meanline\":{\"visible\":true},\"name\":\"Network9_amp_amp\",\"x\":[\"Network9_amp_amp\",\"Network9_amp_amp\",\"Network9_amp_amp\",\"Network9_amp_amp\",\"Network9_amp_amp\",\"Network9_amp_amp\",\"Network9_amp_amp\",\"Network9_amp_amp\",\"Network9_amp_amp\",\"Network9_amp_amp\",\"Network9_amp_amp\",\"Network9_amp_amp\",\"Network9_amp_amp\",\"Network9_amp_amp\",\"Network9_amp_amp\",\"Network9_amp_amp\",\"Network9_amp_amp\",\"Network9_amp_amp\",\"Network9_amp_amp\",\"Network9_amp_amp\",\"Network9_amp_amp\",\"Network9_amp_amp\",\"Network9_amp_amp\",\"Network9_amp_amp\",\"Network9_amp_amp\",\"Network9_amp_amp\",\"Network9_amp_amp\",\"Network9_amp_amp\",\"Network9_amp_amp\",\"Network9_amp_amp\",\"Network9_amp_amp\",\"Network9_amp_amp\",\"Network9_amp_amp\",\"Network9_amp_amp\",\"Network9_amp_amp\",\"Network9_amp_amp\",\"Network9_amp_amp\",\"Network9_amp_amp\",\"Network9_amp_amp\",\"Network9_amp_amp\",\"Network9_amp_amp\",\"Network9_amp_amp\",\"Network9_amp_amp\",\"Network9_amp_amp\",\"Network9_amp_amp\",\"Network9_amp_amp\",\"Network9_amp_amp\",\"Network9_amp_amp\",\"Network9_amp_amp\",\"Network9_amp_amp\",\"Network9_amp_amp\",\"Network9_amp_amp\",\"Network9_amp_amp\",\"Network9_amp_amp\",\"Network9_amp_amp\",\"Network9_amp_amp\",\"Network9_amp_amp\",\"Network9_amp_amp\",\"Network9_amp_amp\",\"Network9_amp_amp\"],\"y\":[0.4491525423728814,0.5254237288135594,0.4152542372881356,0.423728813559322,0.5254237288135594,0.5,0.4067796610169492,0.4406779661016949,0.5,0.4745762711864407,0.5,0.5847457627118644,0.5169491525423728,0.5169491525423728,0.4915254237288136,0.4576271186440678,0.5,0.5169491525423728,0.4661016949152542,0.5,0.5508474576271186,0.4661016949152542,0.559322033898305,0.5254237288135594,0.4067796610169492,0.5254237288135594,0.4152542372881356,0.4661016949152542,0.4576271186440678,0.4322033898305085,0.4152542372881356,0.5508474576271186,0.4830508474576271,0.5508474576271186,0.423728813559322,0.5338983050847458,0.5254237288135594,0.423728813559322,0.5677966101694916,0.5254237288135594,0.5254237288135594,0.5254237288135594,0.576271186440678,0.5,0.4745762711864407,0.4491525423728814,0.5932203389830508,0.5,0.5,0.5,0.4322033898305085,0.5254237288135594,0.4576271186440678,0.4576271186440678,0.4915254237288136,0.576271186440678,0.5084745762711864,0.6271186440677966,0.5084745762711864,0.4491525423728814],\"type\":\"violin\"}],                        {\"template\":{\"data\":{\"histogram2dcontour\":[{\"type\":\"histogram2dcontour\",\"colorbar\":{\"outlinewidth\":0,\"ticks\":\"\"},\"colorscale\":[[0.0,\"#0d0887\"],[0.1111111111111111,\"#46039f\"],[0.2222222222222222,\"#7201a8\"],[0.3333333333333333,\"#9c179e\"],[0.4444444444444444,\"#bd3786\"],[0.5555555555555556,\"#d8576b\"],[0.6666666666666666,\"#ed7953\"],[0.7777777777777778,\"#fb9f3a\"],[0.8888888888888888,\"#fdca26\"],[1.0,\"#f0f921\"]]}],\"choropleth\":[{\"type\":\"choropleth\",\"colorbar\":{\"outlinewidth\":0,\"ticks\":\"\"}}],\"histogram2d\":[{\"type\":\"histogram2d\",\"colorbar\":{\"outlinewidth\":0,\"ticks\":\"\"},\"colorscale\":[[0.0,\"#0d0887\"],[0.1111111111111111,\"#46039f\"],[0.2222222222222222,\"#7201a8\"],[0.3333333333333333,\"#9c179e\"],[0.4444444444444444,\"#bd3786\"],[0.5555555555555556,\"#d8576b\"],[0.6666666666666666,\"#ed7953\"],[0.7777777777777778,\"#fb9f3a\"],[0.8888888888888888,\"#fdca26\"],[1.0,\"#f0f921\"]]}],\"heatmap\":[{\"type\":\"heatmap\",\"colorbar\":{\"outlinewidth\":0,\"ticks\":\"\"},\"colorscale\":[[0.0,\"#0d0887\"],[0.1111111111111111,\"#46039f\"],[0.2222222222222222,\"#7201a8\"],[0.3333333333333333,\"#9c179e\"],[0.4444444444444444,\"#bd3786\"],[0.5555555555555556,\"#d8576b\"],[0.6666666666666666,\"#ed7953\"],[0.7777777777777778,\"#fb9f3a\"],[0.8888888888888888,\"#fdca26\"],[1.0,\"#f0f921\"]]}],\"heatmapgl\":[{\"type\":\"heatmapgl\",\"colorbar\":{\"outlinewidth\":0,\"ticks\":\"\"},\"colorscale\":[[0.0,\"#0d0887\"],[0.1111111111111111,\"#46039f\"],[0.2222222222222222,\"#7201a8\"],[0.3333333333333333,\"#9c179e\"],[0.4444444444444444,\"#bd3786\"],[0.5555555555555556,\"#d8576b\"],[0.6666666666666666,\"#ed7953\"],[0.7777777777777778,\"#fb9f3a\"],[0.8888888888888888,\"#fdca26\"],[1.0,\"#f0f921\"]]}],\"contourcarpet\":[{\"type\":\"contourcarpet\",\"colorbar\":{\"outlinewidth\":0,\"ticks\":\"\"}}],\"contour\":[{\"type\":\"contour\",\"colorbar\":{\"outlinewidth\":0,\"ticks\":\"\"},\"colorscale\":[[0.0,\"#0d0887\"],[0.1111111111111111,\"#46039f\"],[0.2222222222222222,\"#7201a8\"],[0.3333333333333333,\"#9c179e\"],[0.4444444444444444,\"#bd3786\"],[0.5555555555555556,\"#d8576b\"],[0.6666666666666666,\"#ed7953\"],[0.7777777777777778,\"#fb9f3a\"],[0.8888888888888888,\"#fdca26\"],[1.0,\"#f0f921\"]]}],\"surface\":[{\"type\":\"surface\",\"colorbar\":{\"outlinewidth\":0,\"ticks\":\"\"},\"colorscale\":[[0.0,\"#0d0887\"],[0.1111111111111111,\"#46039f\"],[0.2222222222222222,\"#7201a8\"],[0.3333333333333333,\"#9c179e\"],[0.4444444444444444,\"#bd3786\"],[0.5555555555555556,\"#d8576b\"],[0.6666666666666666,\"#ed7953\"],[0.7777777777777778,\"#fb9f3a\"],[0.8888888888888888,\"#fdca26\"],[1.0,\"#f0f921\"]]}],\"mesh3d\":[{\"type\":\"mesh3d\",\"colorbar\":{\"outlinewidth\":0,\"ticks\":\"\"}}],\"scatter\":[{\"fillpattern\":{\"fillmode\":\"overlay\",\"size\":10,\"solidity\":0.2},\"type\":\"scatter\"}],\"parcoords\":[{\"type\":\"parcoords\",\"line\":{\"colorbar\":{\"outlinewidth\":0,\"ticks\":\"\"}}}],\"scatterpolargl\":[{\"type\":\"scatterpolargl\",\"marker\":{\"colorbar\":{\"outlinewidth\":0,\"ticks\":\"\"}}}],\"bar\":[{\"error_x\":{\"color\":\"#2a3f5f\"},\"error_y\":{\"color\":\"#2a3f5f\"},\"marker\":{\"line\":{\"color\":\"#E5ECF6\",\"width\":0.5},\"pattern\":{\"fillmode\":\"overlay\",\"size\":10,\"solidity\":0.2}},\"type\":\"bar\"}],\"scattergeo\":[{\"type\":\"scattergeo\",\"marker\":{\"colorbar\":{\"outlinewidth\":0,\"ticks\":\"\"}}}],\"scatterpolar\":[{\"type\":\"scatterpolar\",\"marker\":{\"colorbar\":{\"outlinewidth\":0,\"ticks\":\"\"}}}],\"histogram\":[{\"marker\":{\"pattern\":{\"fillmode\":\"overlay\",\"size\":10,\"solidity\":0.2}},\"type\":\"histogram\"}],\"scattergl\":[{\"type\":\"scattergl\",\"marker\":{\"colorbar\":{\"outlinewidth\":0,\"ticks\":\"\"}}}],\"scatter3d\":[{\"type\":\"scatter3d\",\"line\":{\"colorbar\":{\"outlinewidth\":0,\"ticks\":\"\"}},\"marker\":{\"colorbar\":{\"outlinewidth\":0,\"ticks\":\"\"}}}],\"scattermapbox\":[{\"type\":\"scattermapbox\",\"marker\":{\"colorbar\":{\"outlinewidth\":0,\"ticks\":\"\"}}}],\"scatterternary\":[{\"type\":\"scatterternary\",\"marker\":{\"colorbar\":{\"outlinewidth\":0,\"ticks\":\"\"}}}],\"scattercarpet\":[{\"type\":\"scattercarpet\",\"marker\":{\"colorbar\":{\"outlinewidth\":0,\"ticks\":\"\"}}}],\"carpet\":[{\"aaxis\":{\"endlinecolor\":\"#2a3f5f\",\"gridcolor\":\"white\",\"linecolor\":\"white\",\"minorgridcolor\":\"white\",\"startlinecolor\":\"#2a3f5f\"},\"baxis\":{\"endlinecolor\":\"#2a3f5f\",\"gridcolor\":\"white\",\"linecolor\":\"white\",\"minorgridcolor\":\"white\",\"startlinecolor\":\"#2a3f5f\"},\"type\":\"carpet\"}],\"table\":[{\"cells\":{\"fill\":{\"color\":\"#EBF0F8\"},\"line\":{\"color\":\"white\"}},\"header\":{\"fill\":{\"color\":\"#C8D4E3\"},\"line\":{\"color\":\"white\"}},\"type\":\"table\"}],\"barpolar\":[{\"marker\":{\"line\":{\"color\":\"#E5ECF6\",\"width\":0.5},\"pattern\":{\"fillmode\":\"overlay\",\"size\":10,\"solidity\":0.2}},\"type\":\"barpolar\"}],\"pie\":[{\"automargin\":true,\"type\":\"pie\"}]},\"layout\":{\"autotypenumbers\":\"strict\",\"colorway\":[\"#636efa\",\"#EF553B\",\"#00cc96\",\"#ab63fa\",\"#FFA15A\",\"#19d3f3\",\"#FF6692\",\"#B6E880\",\"#FF97FF\",\"#FECB52\"],\"font\":{\"color\":\"#2a3f5f\"},\"hovermode\":\"closest\",\"hoverlabel\":{\"align\":\"left\"},\"paper_bgcolor\":\"white\",\"plot_bgcolor\":\"#E5ECF6\",\"polar\":{\"bgcolor\":\"#E5ECF6\",\"angularaxis\":{\"gridcolor\":\"white\",\"linecolor\":\"white\",\"ticks\":\"\"},\"radialaxis\":{\"gridcolor\":\"white\",\"linecolor\":\"white\",\"ticks\":\"\"}},\"ternary\":{\"bgcolor\":\"#E5ECF6\",\"aaxis\":{\"gridcolor\":\"white\",\"linecolor\":\"white\",\"ticks\":\"\"},\"baxis\":{\"gridcolor\":\"white\",\"linecolor\":\"white\",\"ticks\":\"\"},\"caxis\":{\"gridcolor\":\"white\",\"linecolor\":\"white\",\"ticks\":\"\"}},\"coloraxis\":{\"colorbar\":{\"outlinewidth\":0,\"ticks\":\"\"}},\"colorscale\":{\"sequential\":[[0.0,\"#0d0887\"],[0.1111111111111111,\"#46039f\"],[0.2222222222222222,\"#7201a8\"],[0.3333333333333333,\"#9c179e\"],[0.4444444444444444,\"#bd3786\"],[0.5555555555555556,\"#d8576b\"],[0.6666666666666666,\"#ed7953\"],[0.7777777777777778,\"#fb9f3a\"],[0.8888888888888888,\"#fdca26\"],[1.0,\"#f0f921\"]],\"sequentialminus\":[[0.0,\"#0d0887\"],[0.1111111111111111,\"#46039f\"],[0.2222222222222222,\"#7201a8\"],[0.3333333333333333,\"#9c179e\"],[0.4444444444444444,\"#bd3786\"],[0.5555555555555556,\"#d8576b\"],[0.6666666666666666,\"#ed7953\"],[0.7777777777777778,\"#fb9f3a\"],[0.8888888888888888,\"#fdca26\"],[1.0,\"#f0f921\"]],\"diverging\":[[0,\"#8e0152\"],[0.1,\"#c51b7d\"],[0.2,\"#de77ae\"],[0.3,\"#f1b6da\"],[0.4,\"#fde0ef\"],[0.5,\"#f7f7f7\"],[0.6,\"#e6f5d0\"],[0.7,\"#b8e186\"],[0.8,\"#7fbc41\"],[0.9,\"#4d9221\"],[1,\"#276419\"]]},\"xaxis\":{\"gridcolor\":\"white\",\"linecolor\":\"white\",\"ticks\":\"\",\"title\":{\"standoff\":15},\"zerolinecolor\":\"white\",\"automargin\":true,\"zerolinewidth\":2},\"yaxis\":{\"gridcolor\":\"white\",\"linecolor\":\"white\",\"ticks\":\"\",\"title\":{\"standoff\":15},\"zerolinecolor\":\"white\",\"automargin\":true,\"zerolinewidth\":2},\"scene\":{\"xaxis\":{\"backgroundcolor\":\"#E5ECF6\",\"gridcolor\":\"white\",\"linecolor\":\"white\",\"showbackground\":true,\"ticks\":\"\",\"zerolinecolor\":\"white\",\"gridwidth\":2},\"yaxis\":{\"backgroundcolor\":\"#E5ECF6\",\"gridcolor\":\"white\",\"linecolor\":\"white\",\"showbackground\":true,\"ticks\":\"\",\"zerolinecolor\":\"white\",\"gridwidth\":2},\"zaxis\":{\"backgroundcolor\":\"#E5ECF6\",\"gridcolor\":\"white\",\"linecolor\":\"white\",\"showbackground\":true,\"ticks\":\"\",\"zerolinecolor\":\"white\",\"gridwidth\":2}},\"shapedefaults\":{\"line\":{\"color\":\"#2a3f5f\"}},\"annotationdefaults\":{\"arrowcolor\":\"#2a3f5f\",\"arrowhead\":0,\"arrowwidth\":1},\"geo\":{\"bgcolor\":\"white\",\"landcolor\":\"#E5ECF6\",\"subunitcolor\":\"white\",\"showland\":true,\"showlakes\":true,\"lakecolor\":\"white\"},\"title\":{\"x\":0.05},\"mapbox\":{\"style\":\"light\"}}}},                        {\"responsive\": true}                    ).then(function(){\n",
       "                            \n",
       "var gd = document.getElementById('f1694195-3867-42f6-81d4-c17c00af34c2');\n",
       "var x = new MutationObserver(function (mutations, observer) {{\n",
       "        var display = window.getComputedStyle(gd).display;\n",
       "        if (!display || display === 'none') {{\n",
       "            console.log([gd, 'removed!']);\n",
       "            Plotly.purge(gd);\n",
       "            observer.disconnect();\n",
       "        }}\n",
       "}});\n",
       "\n",
       "// Listen for the removal of the full notebook cells\n",
       "var notebookContainer = gd.closest('#notebook-container');\n",
       "if (notebookContainer) {{\n",
       "    x.observe(notebookContainer, {childList: true});\n",
       "}}\n",
       "\n",
       "// Listen for the clearing of the current output cell\n",
       "var outputEl = gd.closest('.output');\n",
       "if (outputEl) {{\n",
       "    x.observe(outputEl, {childList: true});\n",
       "}}\n",
       "\n",
       "                        })                };                });            </script>        </div>"
      ]
     },
     "metadata": {},
     "output_type": "display_data"
    },
    {
     "data": {
      "application/vnd.plotly.v1+json": {
       "config": {
        "plotlyServerURL": "https://plot.ly"
       },
       "data": [
        {
         "box": {
          "visible": true
         },
         "meanline": {
          "visible": true
         },
         "name": "Network9_amp_cont",
         "type": "violin",
         "x": [
          "Network9_amp_cont",
          "Network9_amp_cont",
          "Network9_amp_cont",
          "Network9_amp_cont",
          "Network9_amp_cont",
          "Network9_amp_cont",
          "Network9_amp_cont",
          "Network9_amp_cont",
          "Network9_amp_cont",
          "Network9_amp_cont",
          "Network9_amp_cont",
          "Network9_amp_cont",
          "Network9_amp_cont",
          "Network9_amp_cont",
          "Network9_amp_cont",
          "Network9_amp_cont",
          "Network9_amp_cont",
          "Network9_amp_cont",
          "Network9_amp_cont",
          "Network9_amp_cont",
          "Network9_amp_cont",
          "Network9_amp_cont",
          "Network9_amp_cont",
          "Network9_amp_cont",
          "Network9_amp_cont",
          "Network9_amp_cont",
          "Network9_amp_cont",
          "Network9_amp_cont",
          "Network9_amp_cont",
          "Network9_amp_cont",
          "Network9_amp_cont",
          "Network9_amp_cont",
          "Network9_amp_cont",
          "Network9_amp_cont",
          "Network9_amp_cont",
          "Network9_amp_cont",
          "Network9_amp_cont",
          "Network9_amp_cont",
          "Network9_amp_cont",
          "Network9_amp_cont",
          "Network9_amp_cont",
          "Network9_amp_cont",
          "Network9_amp_cont",
          "Network9_amp_cont",
          "Network9_amp_cont",
          "Network9_amp_cont",
          "Network9_amp_cont",
          "Network9_amp_cont",
          "Network9_amp_cont",
          "Network9_amp_cont",
          "Network9_amp_cont",
          "Network9_amp_cont",
          "Network9_amp_cont",
          "Network9_amp_cont",
          "Network9_amp_cont",
          "Network9_amp_cont",
          "Network9_amp_cont",
          "Network9_amp_cont",
          "Network9_amp_cont",
          "Network9_amp_cont"
         ],
         "y": [
          0.559322033898305,
          0.4322033898305085,
          0.4406779661016949,
          0.4830508474576271,
          0.4406779661016949,
          0.4491525423728814,
          0.5254237288135594,
          0.576271186440678,
          0.4322033898305085,
          0.576271186440678,
          0.4067796610169492,
          0.3983050847457627,
          0.5677966101694916,
          0.4915254237288136,
          0.4830508474576271,
          0.5084745762711864,
          0.3813559322033898,
          0.5084745762711864,
          0.5169491525423728,
          0.4830508474576271,
          0.4491525423728814,
          0.4322033898305085,
          0.4322033898305085,
          0.5084745762711864,
          0.4067796610169492,
          0.5338983050847458,
          0.4661016949152542,
          0.4830508474576271,
          0.5423728813559322,
          0.4661016949152542,
          0.5084745762711864,
          0.559322033898305,
          0.5338983050847458,
          0.4491525423728814,
          0.5169491525423728,
          0.5254237288135594,
          0.5084745762711864,
          0.4915254237288136,
          0.5169491525423728,
          0.4491525423728814,
          0.4830508474576271,
          0.5084745762711864,
          0.4745762711864407,
          0.4406779661016949,
          0.559322033898305,
          0.4915254237288136,
          0.4745762711864407,
          0.4576271186440678,
          0.4745762711864407,
          0.4067796610169492,
          0.5423728813559322,
          0.4067796610169492,
          0.5338983050847458,
          0.4915254237288136,
          0.559322033898305,
          0.5169491525423728,
          0.4576271186440678,
          0.4491525423728814,
          0.4830508474576271,
          0.4491525423728814
         ]
        },
        {
         "box": {
          "visible": true
         },
         "meanline": {
          "visible": true
         },
         "name": "Network9_cont_amp",
         "type": "violin",
         "x": [
          "Network9_cont_amp",
          "Network9_cont_amp",
          "Network9_cont_amp",
          "Network9_cont_amp",
          "Network9_cont_amp",
          "Network9_cont_amp",
          "Network9_cont_amp",
          "Network9_cont_amp",
          "Network9_cont_amp",
          "Network9_cont_amp",
          "Network9_cont_amp",
          "Network9_cont_amp",
          "Network9_cont_amp",
          "Network9_cont_amp",
          "Network9_cont_amp",
          "Network9_cont_amp",
          "Network9_cont_amp",
          "Network9_cont_amp",
          "Network9_cont_amp",
          "Network9_cont_amp",
          "Network9_cont_amp",
          "Network9_cont_amp",
          "Network9_cont_amp",
          "Network9_cont_amp",
          "Network9_cont_amp",
          "Network9_cont_amp",
          "Network9_cont_amp",
          "Network9_cont_amp",
          "Network9_cont_amp",
          "Network9_cont_amp",
          "Network9_cont_amp",
          "Network9_cont_amp",
          "Network9_cont_amp",
          "Network9_cont_amp",
          "Network9_cont_amp",
          "Network9_cont_amp",
          "Network9_cont_amp",
          "Network9_cont_amp",
          "Network9_cont_amp",
          "Network9_cont_amp",
          "Network9_cont_amp",
          "Network9_cont_amp",
          "Network9_cont_amp",
          "Network9_cont_amp",
          "Network9_cont_amp",
          "Network9_cont_amp",
          "Network9_cont_amp",
          "Network9_cont_amp",
          "Network9_cont_amp",
          "Network9_cont_amp",
          "Network9_cont_amp",
          "Network9_cont_amp",
          "Network9_cont_amp",
          "Network9_cont_amp",
          "Network9_cont_amp",
          "Network9_cont_amp",
          "Network9_cont_amp",
          "Network9_cont_amp",
          "Network9_cont_amp",
          "Network9_cont_amp"
         ],
         "y": [
          0.4661016949152542,
          0.4830508474576271,
          0.5169491525423728,
          0.5338983050847458,
          0.4915254237288136,
          0.5169491525423728,
          0.4830508474576271,
          0.4067796610169492,
          0.4745762711864407,
          0.4745762711864407,
          0.4915254237288136,
          0.4661016949152542,
          0.5508474576271186,
          0.4661016949152542,
          0.4661016949152542,
          0.5932203389830508,
          0.5508474576271186,
          0.5,
          0.5254237288135594,
          0.423728813559322,
          0.4830508474576271,
          0.4576271186440678,
          0.5508474576271186,
          0.5847457627118644,
          0.4661016949152542,
          0.3983050847457627,
          0.4406779661016949,
          0.5084745762711864,
          0.4745762711864407,
          0.576271186440678,
          0.4745762711864407,
          0.4067796610169492,
          0.4915254237288136,
          0.5,
          0.4322033898305085,
          0.4745762711864407,
          0.4406779661016949,
          0.4830508474576271,
          0.4661016949152542,
          0.5338983050847458,
          0.4830508474576271,
          0.4830508474576271,
          0.4152542372881356,
          0.4406779661016949,
          0.5,
          0.4661016949152542,
          0.4830508474576271,
          0.4830508474576271,
          0.4830508474576271,
          0.4491525423728814,
          0.4661016949152542,
          0.5,
          0.5338983050847458,
          0.4830508474576271,
          0.5084745762711864,
          0.4152542372881356,
          0.5,
          0.5423728813559322,
          0.4745762711864407,
          0.5847457627118644
         ]
        },
        {
         "box": {
          "visible": true
         },
         "meanline": {
          "visible": true
         },
         "name": "Barley",
         "type": "violin",
         "x": [
          "Barley",
          "Barley",
          "Barley",
          "Barley",
          "Barley",
          "Barley",
          "Barley",
          "Barley",
          "Barley",
          "Barley",
          "Barley",
          "Barley",
          "Barley",
          "Barley",
          "Barley",
          "Barley",
          "Barley",
          "Barley",
          "Barley",
          "Barley",
          "Barley",
          "Barley",
          "Barley",
          "Barley",
          "Barley",
          "Barley",
          "Barley",
          "Barley",
          "Barley",
          "Barley"
         ],
         "y": [
          0.4178601516427969,
          0.4111204717775906,
          0.4296545914069081,
          0.4288121314237573,
          0.4414490311710193,
          0.409435551811289,
          0.4245998315080033,
          0.4237573715248525,
          0.4296545914069081,
          0.4102780117944398,
          0.4229149115417017,
          0.4102780117944398,
          0.4229149115417017,
          0.4330244313395113,
          0.4313395113732097,
          0.4111204717775906,
          0.4296545914069081,
          0.4178601516427969,
          0.4229149115417017,
          0.4170176916596461,
          0.4229149115417017,
          0.4195450716090985,
          0.4178601516427969,
          0.4203875315922493,
          0.4229149115417017,
          0.4203875315922493,
          0.4187026116259477,
          0.4220724515585509,
          0.4187026116259477,
          0.4271272114574557
         ]
        },
        {
         "box": {
          "visible": true
         },
         "meanline": {
          "visible": true
         },
         "name": "dream4",
         "type": "violin",
         "x": [
          "dream4",
          "dream4",
          "dream4",
          "dream4"
         ],
         "y": [
          0.4096470588235294,
          0.480322586325298,
          0.4412574450395933,
          0.5155429844547235
         ]
        }
       ],
       "layout": {
        "template": {
         "data": {
          "bar": [
           {
            "error_x": {
             "color": "#2a3f5f"
            },
            "error_y": {
             "color": "#2a3f5f"
            },
            "marker": {
             "line": {
              "color": "#E5ECF6",
              "width": 0.5
             },
             "pattern": {
              "fillmode": "overlay",
              "size": 10,
              "solidity": 0.2
             }
            },
            "type": "bar"
           }
          ],
          "barpolar": [
           {
            "marker": {
             "line": {
              "color": "#E5ECF6",
              "width": 0.5
             },
             "pattern": {
              "fillmode": "overlay",
              "size": 10,
              "solidity": 0.2
             }
            },
            "type": "barpolar"
           }
          ],
          "carpet": [
           {
            "aaxis": {
             "endlinecolor": "#2a3f5f",
             "gridcolor": "white",
             "linecolor": "white",
             "minorgridcolor": "white",
             "startlinecolor": "#2a3f5f"
            },
            "baxis": {
             "endlinecolor": "#2a3f5f",
             "gridcolor": "white",
             "linecolor": "white",
             "minorgridcolor": "white",
             "startlinecolor": "#2a3f5f"
            },
            "type": "carpet"
           }
          ],
          "choropleth": [
           {
            "colorbar": {
             "outlinewidth": 0,
             "ticks": ""
            },
            "type": "choropleth"
           }
          ],
          "contour": [
           {
            "colorbar": {
             "outlinewidth": 0,
             "ticks": ""
            },
            "colorscale": [
             [
              0,
              "#0d0887"
             ],
             [
              0.1111111111111111,
              "#46039f"
             ],
             [
              0.2222222222222222,
              "#7201a8"
             ],
             [
              0.3333333333333333,
              "#9c179e"
             ],
             [
              0.4444444444444444,
              "#bd3786"
             ],
             [
              0.5555555555555556,
              "#d8576b"
             ],
             [
              0.6666666666666666,
              "#ed7953"
             ],
             [
              0.7777777777777778,
              "#fb9f3a"
             ],
             [
              0.8888888888888888,
              "#fdca26"
             ],
             [
              1,
              "#f0f921"
             ]
            ],
            "type": "contour"
           }
          ],
          "contourcarpet": [
           {
            "colorbar": {
             "outlinewidth": 0,
             "ticks": ""
            },
            "type": "contourcarpet"
           }
          ],
          "heatmap": [
           {
            "colorbar": {
             "outlinewidth": 0,
             "ticks": ""
            },
            "colorscale": [
             [
              0,
              "#0d0887"
             ],
             [
              0.1111111111111111,
              "#46039f"
             ],
             [
              0.2222222222222222,
              "#7201a8"
             ],
             [
              0.3333333333333333,
              "#9c179e"
             ],
             [
              0.4444444444444444,
              "#bd3786"
             ],
             [
              0.5555555555555556,
              "#d8576b"
             ],
             [
              0.6666666666666666,
              "#ed7953"
             ],
             [
              0.7777777777777778,
              "#fb9f3a"
             ],
             [
              0.8888888888888888,
              "#fdca26"
             ],
             [
              1,
              "#f0f921"
             ]
            ],
            "type": "heatmap"
           }
          ],
          "heatmapgl": [
           {
            "colorbar": {
             "outlinewidth": 0,
             "ticks": ""
            },
            "colorscale": [
             [
              0,
              "#0d0887"
             ],
             [
              0.1111111111111111,
              "#46039f"
             ],
             [
              0.2222222222222222,
              "#7201a8"
             ],
             [
              0.3333333333333333,
              "#9c179e"
             ],
             [
              0.4444444444444444,
              "#bd3786"
             ],
             [
              0.5555555555555556,
              "#d8576b"
             ],
             [
              0.6666666666666666,
              "#ed7953"
             ],
             [
              0.7777777777777778,
              "#fb9f3a"
             ],
             [
              0.8888888888888888,
              "#fdca26"
             ],
             [
              1,
              "#f0f921"
             ]
            ],
            "type": "heatmapgl"
           }
          ],
          "histogram": [
           {
            "marker": {
             "pattern": {
              "fillmode": "overlay",
              "size": 10,
              "solidity": 0.2
             }
            },
            "type": "histogram"
           }
          ],
          "histogram2d": [
           {
            "colorbar": {
             "outlinewidth": 0,
             "ticks": ""
            },
            "colorscale": [
             [
              0,
              "#0d0887"
             ],
             [
              0.1111111111111111,
              "#46039f"
             ],
             [
              0.2222222222222222,
              "#7201a8"
             ],
             [
              0.3333333333333333,
              "#9c179e"
             ],
             [
              0.4444444444444444,
              "#bd3786"
             ],
             [
              0.5555555555555556,
              "#d8576b"
             ],
             [
              0.6666666666666666,
              "#ed7953"
             ],
             [
              0.7777777777777778,
              "#fb9f3a"
             ],
             [
              0.8888888888888888,
              "#fdca26"
             ],
             [
              1,
              "#f0f921"
             ]
            ],
            "type": "histogram2d"
           }
          ],
          "histogram2dcontour": [
           {
            "colorbar": {
             "outlinewidth": 0,
             "ticks": ""
            },
            "colorscale": [
             [
              0,
              "#0d0887"
             ],
             [
              0.1111111111111111,
              "#46039f"
             ],
             [
              0.2222222222222222,
              "#7201a8"
             ],
             [
              0.3333333333333333,
              "#9c179e"
             ],
             [
              0.4444444444444444,
              "#bd3786"
             ],
             [
              0.5555555555555556,
              "#d8576b"
             ],
             [
              0.6666666666666666,
              "#ed7953"
             ],
             [
              0.7777777777777778,
              "#fb9f3a"
             ],
             [
              0.8888888888888888,
              "#fdca26"
             ],
             [
              1,
              "#f0f921"
             ]
            ],
            "type": "histogram2dcontour"
           }
          ],
          "mesh3d": [
           {
            "colorbar": {
             "outlinewidth": 0,
             "ticks": ""
            },
            "type": "mesh3d"
           }
          ],
          "parcoords": [
           {
            "line": {
             "colorbar": {
              "outlinewidth": 0,
              "ticks": ""
             }
            },
            "type": "parcoords"
           }
          ],
          "pie": [
           {
            "automargin": true,
            "type": "pie"
           }
          ],
          "scatter": [
           {
            "fillpattern": {
             "fillmode": "overlay",
             "size": 10,
             "solidity": 0.2
            },
            "type": "scatter"
           }
          ],
          "scatter3d": [
           {
            "line": {
             "colorbar": {
              "outlinewidth": 0,
              "ticks": ""
             }
            },
            "marker": {
             "colorbar": {
              "outlinewidth": 0,
              "ticks": ""
             }
            },
            "type": "scatter3d"
           }
          ],
          "scattercarpet": [
           {
            "marker": {
             "colorbar": {
              "outlinewidth": 0,
              "ticks": ""
             }
            },
            "type": "scattercarpet"
           }
          ],
          "scattergeo": [
           {
            "marker": {
             "colorbar": {
              "outlinewidth": 0,
              "ticks": ""
             }
            },
            "type": "scattergeo"
           }
          ],
          "scattergl": [
           {
            "marker": {
             "colorbar": {
              "outlinewidth": 0,
              "ticks": ""
             }
            },
            "type": "scattergl"
           }
          ],
          "scattermapbox": [
           {
            "marker": {
             "colorbar": {
              "outlinewidth": 0,
              "ticks": ""
             }
            },
            "type": "scattermapbox"
           }
          ],
          "scatterpolar": [
           {
            "marker": {
             "colorbar": {
              "outlinewidth": 0,
              "ticks": ""
             }
            },
            "type": "scatterpolar"
           }
          ],
          "scatterpolargl": [
           {
            "marker": {
             "colorbar": {
              "outlinewidth": 0,
              "ticks": ""
             }
            },
            "type": "scatterpolargl"
           }
          ],
          "scatterternary": [
           {
            "marker": {
             "colorbar": {
              "outlinewidth": 0,
              "ticks": ""
             }
            },
            "type": "scatterternary"
           }
          ],
          "surface": [
           {
            "colorbar": {
             "outlinewidth": 0,
             "ticks": ""
            },
            "colorscale": [
             [
              0,
              "#0d0887"
             ],
             [
              0.1111111111111111,
              "#46039f"
             ],
             [
              0.2222222222222222,
              "#7201a8"
             ],
             [
              0.3333333333333333,
              "#9c179e"
             ],
             [
              0.4444444444444444,
              "#bd3786"
             ],
             [
              0.5555555555555556,
              "#d8576b"
             ],
             [
              0.6666666666666666,
              "#ed7953"
             ],
             [
              0.7777777777777778,
              "#fb9f3a"
             ],
             [
              0.8888888888888888,
              "#fdca26"
             ],
             [
              1,
              "#f0f921"
             ]
            ],
            "type": "surface"
           }
          ],
          "table": [
           {
            "cells": {
             "fill": {
              "color": "#EBF0F8"
             },
             "line": {
              "color": "white"
             }
            },
            "header": {
             "fill": {
              "color": "#C8D4E3"
             },
             "line": {
              "color": "white"
             }
            },
            "type": "table"
           }
          ]
         },
         "layout": {
          "annotationdefaults": {
           "arrowcolor": "#2a3f5f",
           "arrowhead": 0,
           "arrowwidth": 1
          },
          "autotypenumbers": "strict",
          "coloraxis": {
           "colorbar": {
            "outlinewidth": 0,
            "ticks": ""
           }
          },
          "colorscale": {
           "diverging": [
            [
             0,
             "#8e0152"
            ],
            [
             0.1,
             "#c51b7d"
            ],
            [
             0.2,
             "#de77ae"
            ],
            [
             0.3,
             "#f1b6da"
            ],
            [
             0.4,
             "#fde0ef"
            ],
            [
             0.5,
             "#f7f7f7"
            ],
            [
             0.6,
             "#e6f5d0"
            ],
            [
             0.7,
             "#b8e186"
            ],
            [
             0.8,
             "#7fbc41"
            ],
            [
             0.9,
             "#4d9221"
            ],
            [
             1,
             "#276419"
            ]
           ],
           "sequential": [
            [
             0,
             "#0d0887"
            ],
            [
             0.1111111111111111,
             "#46039f"
            ],
            [
             0.2222222222222222,
             "#7201a8"
            ],
            [
             0.3333333333333333,
             "#9c179e"
            ],
            [
             0.4444444444444444,
             "#bd3786"
            ],
            [
             0.5555555555555556,
             "#d8576b"
            ],
            [
             0.6666666666666666,
             "#ed7953"
            ],
            [
             0.7777777777777778,
             "#fb9f3a"
            ],
            [
             0.8888888888888888,
             "#fdca26"
            ],
            [
             1,
             "#f0f921"
            ]
           ],
           "sequentialminus": [
            [
             0,
             "#0d0887"
            ],
            [
             0.1111111111111111,
             "#46039f"
            ],
            [
             0.2222222222222222,
             "#7201a8"
            ],
            [
             0.3333333333333333,
             "#9c179e"
            ],
            [
             0.4444444444444444,
             "#bd3786"
            ],
            [
             0.5555555555555556,
             "#d8576b"
            ],
            [
             0.6666666666666666,
             "#ed7953"
            ],
            [
             0.7777777777777778,
             "#fb9f3a"
            ],
            [
             0.8888888888888888,
             "#fdca26"
            ],
            [
             1,
             "#f0f921"
            ]
           ]
          },
          "colorway": [
           "#636efa",
           "#EF553B",
           "#00cc96",
           "#ab63fa",
           "#FFA15A",
           "#19d3f3",
           "#FF6692",
           "#B6E880",
           "#FF97FF",
           "#FECB52"
          ],
          "font": {
           "color": "#2a3f5f"
          },
          "geo": {
           "bgcolor": "white",
           "lakecolor": "white",
           "landcolor": "#E5ECF6",
           "showlakes": true,
           "showland": true,
           "subunitcolor": "white"
          },
          "hoverlabel": {
           "align": "left"
          },
          "hovermode": "closest",
          "mapbox": {
           "style": "light"
          },
          "paper_bgcolor": "white",
          "plot_bgcolor": "#E5ECF6",
          "polar": {
           "angularaxis": {
            "gridcolor": "white",
            "linecolor": "white",
            "ticks": ""
           },
           "bgcolor": "#E5ECF6",
           "radialaxis": {
            "gridcolor": "white",
            "linecolor": "white",
            "ticks": ""
           }
          },
          "scene": {
           "xaxis": {
            "backgroundcolor": "#E5ECF6",
            "gridcolor": "white",
            "gridwidth": 2,
            "linecolor": "white",
            "showbackground": true,
            "ticks": "",
            "zerolinecolor": "white"
           },
           "yaxis": {
            "backgroundcolor": "#E5ECF6",
            "gridcolor": "white",
            "gridwidth": 2,
            "linecolor": "white",
            "showbackground": true,
            "ticks": "",
            "zerolinecolor": "white"
           },
           "zaxis": {
            "backgroundcolor": "#E5ECF6",
            "gridcolor": "white",
            "gridwidth": 2,
            "linecolor": "white",
            "showbackground": true,
            "ticks": "",
            "zerolinecolor": "white"
           }
          },
          "shapedefaults": {
           "line": {
            "color": "#2a3f5f"
           }
          },
          "ternary": {
           "aaxis": {
            "gridcolor": "white",
            "linecolor": "white",
            "ticks": ""
           },
           "baxis": {
            "gridcolor": "white",
            "linecolor": "white",
            "ticks": ""
           },
           "bgcolor": "#E5ECF6",
           "caxis": {
            "gridcolor": "white",
            "linecolor": "white",
            "ticks": ""
           }
          },
          "title": {
           "x": 0.05
          },
          "xaxis": {
           "automargin": true,
           "gridcolor": "white",
           "linecolor": "white",
           "ticks": "",
           "title": {
            "standoff": 15
           },
           "zerolinecolor": "white",
           "zerolinewidth": 2
          },
          "yaxis": {
           "automargin": true,
           "gridcolor": "white",
           "linecolor": "white",
           "ticks": "",
           "title": {
            "standoff": 15
           },
           "zerolinecolor": "white",
           "zerolinewidth": 2
          }
         }
        }
       }
      },
      "text/html": [
       "<div>                            <div id=\"c0769d34-5c39-4545-b387-bf1371779eee\" class=\"plotly-graph-div\" style=\"height:525px; width:100%;\"></div>            <script type=\"text/javascript\">                require([\"plotly\"], function(Plotly) {                    window.PLOTLYENV=window.PLOTLYENV || {};                                    if (document.getElementById(\"c0769d34-5c39-4545-b387-bf1371779eee\")) {                    Plotly.newPlot(                        \"c0769d34-5c39-4545-b387-bf1371779eee\",                        [{\"box\":{\"visible\":true},\"meanline\":{\"visible\":true},\"name\":\"Network9_amp_cont\",\"x\":[\"Network9_amp_cont\",\"Network9_amp_cont\",\"Network9_amp_cont\",\"Network9_amp_cont\",\"Network9_amp_cont\",\"Network9_amp_cont\",\"Network9_amp_cont\",\"Network9_amp_cont\",\"Network9_amp_cont\",\"Network9_amp_cont\",\"Network9_amp_cont\",\"Network9_amp_cont\",\"Network9_amp_cont\",\"Network9_amp_cont\",\"Network9_amp_cont\",\"Network9_amp_cont\",\"Network9_amp_cont\",\"Network9_amp_cont\",\"Network9_amp_cont\",\"Network9_amp_cont\",\"Network9_amp_cont\",\"Network9_amp_cont\",\"Network9_amp_cont\",\"Network9_amp_cont\",\"Network9_amp_cont\",\"Network9_amp_cont\",\"Network9_amp_cont\",\"Network9_amp_cont\",\"Network9_amp_cont\",\"Network9_amp_cont\",\"Network9_amp_cont\",\"Network9_amp_cont\",\"Network9_amp_cont\",\"Network9_amp_cont\",\"Network9_amp_cont\",\"Network9_amp_cont\",\"Network9_amp_cont\",\"Network9_amp_cont\",\"Network9_amp_cont\",\"Network9_amp_cont\",\"Network9_amp_cont\",\"Network9_amp_cont\",\"Network9_amp_cont\",\"Network9_amp_cont\",\"Network9_amp_cont\",\"Network9_amp_cont\",\"Network9_amp_cont\",\"Network9_amp_cont\",\"Network9_amp_cont\",\"Network9_amp_cont\",\"Network9_amp_cont\",\"Network9_amp_cont\",\"Network9_amp_cont\",\"Network9_amp_cont\",\"Network9_amp_cont\",\"Network9_amp_cont\",\"Network9_amp_cont\",\"Network9_amp_cont\",\"Network9_amp_cont\",\"Network9_amp_cont\"],\"y\":[0.559322033898305,0.4322033898305085,0.4406779661016949,0.4830508474576271,0.4406779661016949,0.4491525423728814,0.5254237288135594,0.576271186440678,0.4322033898305085,0.576271186440678,0.4067796610169492,0.3983050847457627,0.5677966101694916,0.4915254237288136,0.4830508474576271,0.5084745762711864,0.3813559322033898,0.5084745762711864,0.5169491525423728,0.4830508474576271,0.4491525423728814,0.4322033898305085,0.4322033898305085,0.5084745762711864,0.4067796610169492,0.5338983050847458,0.4661016949152542,0.4830508474576271,0.5423728813559322,0.4661016949152542,0.5084745762711864,0.559322033898305,0.5338983050847458,0.4491525423728814,0.5169491525423728,0.5254237288135594,0.5084745762711864,0.4915254237288136,0.5169491525423728,0.4491525423728814,0.4830508474576271,0.5084745762711864,0.4745762711864407,0.4406779661016949,0.559322033898305,0.4915254237288136,0.4745762711864407,0.4576271186440678,0.4745762711864407,0.4067796610169492,0.5423728813559322,0.4067796610169492,0.5338983050847458,0.4915254237288136,0.559322033898305,0.5169491525423728,0.4576271186440678,0.4491525423728814,0.4830508474576271,0.4491525423728814],\"type\":\"violin\"},{\"box\":{\"visible\":true},\"meanline\":{\"visible\":true},\"name\":\"Network9_cont_amp\",\"x\":[\"Network9_cont_amp\",\"Network9_cont_amp\",\"Network9_cont_amp\",\"Network9_cont_amp\",\"Network9_cont_amp\",\"Network9_cont_amp\",\"Network9_cont_amp\",\"Network9_cont_amp\",\"Network9_cont_amp\",\"Network9_cont_amp\",\"Network9_cont_amp\",\"Network9_cont_amp\",\"Network9_cont_amp\",\"Network9_cont_amp\",\"Network9_cont_amp\",\"Network9_cont_amp\",\"Network9_cont_amp\",\"Network9_cont_amp\",\"Network9_cont_amp\",\"Network9_cont_amp\",\"Network9_cont_amp\",\"Network9_cont_amp\",\"Network9_cont_amp\",\"Network9_cont_amp\",\"Network9_cont_amp\",\"Network9_cont_amp\",\"Network9_cont_amp\",\"Network9_cont_amp\",\"Network9_cont_amp\",\"Network9_cont_amp\",\"Network9_cont_amp\",\"Network9_cont_amp\",\"Network9_cont_amp\",\"Network9_cont_amp\",\"Network9_cont_amp\",\"Network9_cont_amp\",\"Network9_cont_amp\",\"Network9_cont_amp\",\"Network9_cont_amp\",\"Network9_cont_amp\",\"Network9_cont_amp\",\"Network9_cont_amp\",\"Network9_cont_amp\",\"Network9_cont_amp\",\"Network9_cont_amp\",\"Network9_cont_amp\",\"Network9_cont_amp\",\"Network9_cont_amp\",\"Network9_cont_amp\",\"Network9_cont_amp\",\"Network9_cont_amp\",\"Network9_cont_amp\",\"Network9_cont_amp\",\"Network9_cont_amp\",\"Network9_cont_amp\",\"Network9_cont_amp\",\"Network9_cont_amp\",\"Network9_cont_amp\",\"Network9_cont_amp\",\"Network9_cont_amp\"],\"y\":[0.4661016949152542,0.4830508474576271,0.5169491525423728,0.5338983050847458,0.4915254237288136,0.5169491525423728,0.4830508474576271,0.4067796610169492,0.4745762711864407,0.4745762711864407,0.4915254237288136,0.4661016949152542,0.5508474576271186,0.4661016949152542,0.4661016949152542,0.5932203389830508,0.5508474576271186,0.5,0.5254237288135594,0.423728813559322,0.4830508474576271,0.4576271186440678,0.5508474576271186,0.5847457627118644,0.4661016949152542,0.3983050847457627,0.4406779661016949,0.5084745762711864,0.4745762711864407,0.576271186440678,0.4745762711864407,0.4067796610169492,0.4915254237288136,0.5,0.4322033898305085,0.4745762711864407,0.4406779661016949,0.4830508474576271,0.4661016949152542,0.5338983050847458,0.4830508474576271,0.4830508474576271,0.4152542372881356,0.4406779661016949,0.5,0.4661016949152542,0.4830508474576271,0.4830508474576271,0.4830508474576271,0.4491525423728814,0.4661016949152542,0.5,0.5338983050847458,0.4830508474576271,0.5084745762711864,0.4152542372881356,0.5,0.5423728813559322,0.4745762711864407,0.5847457627118644],\"type\":\"violin\"},{\"box\":{\"visible\":true},\"meanline\":{\"visible\":true},\"name\":\"Barley\",\"x\":[\"Barley\",\"Barley\",\"Barley\",\"Barley\",\"Barley\",\"Barley\",\"Barley\",\"Barley\",\"Barley\",\"Barley\",\"Barley\",\"Barley\",\"Barley\",\"Barley\",\"Barley\",\"Barley\",\"Barley\",\"Barley\",\"Barley\",\"Barley\",\"Barley\",\"Barley\",\"Barley\",\"Barley\",\"Barley\",\"Barley\",\"Barley\",\"Barley\",\"Barley\",\"Barley\"],\"y\":[0.4178601516427969,0.4111204717775906,0.4296545914069081,0.4288121314237573,0.4414490311710193,0.409435551811289,0.4245998315080033,0.4237573715248525,0.4296545914069081,0.4102780117944398,0.4229149115417017,0.4102780117944398,0.4229149115417017,0.4330244313395113,0.4313395113732097,0.4111204717775906,0.4296545914069081,0.4178601516427969,0.4229149115417017,0.4170176916596461,0.4229149115417017,0.4195450716090985,0.4178601516427969,0.4203875315922493,0.4229149115417017,0.4203875315922493,0.4187026116259477,0.4220724515585509,0.4187026116259477,0.4271272114574557],\"type\":\"violin\"},{\"box\":{\"visible\":true},\"meanline\":{\"visible\":true},\"name\":\"dream4\",\"x\":[\"dream4\",\"dream4\",\"dream4\",\"dream4\"],\"y\":[0.4096470588235294,0.480322586325298,0.4412574450395933,0.5155429844547235],\"type\":\"violin\"}],                        {\"template\":{\"data\":{\"histogram2dcontour\":[{\"type\":\"histogram2dcontour\",\"colorbar\":{\"outlinewidth\":0,\"ticks\":\"\"},\"colorscale\":[[0.0,\"#0d0887\"],[0.1111111111111111,\"#46039f\"],[0.2222222222222222,\"#7201a8\"],[0.3333333333333333,\"#9c179e\"],[0.4444444444444444,\"#bd3786\"],[0.5555555555555556,\"#d8576b\"],[0.6666666666666666,\"#ed7953\"],[0.7777777777777778,\"#fb9f3a\"],[0.8888888888888888,\"#fdca26\"],[1.0,\"#f0f921\"]]}],\"choropleth\":[{\"type\":\"choropleth\",\"colorbar\":{\"outlinewidth\":0,\"ticks\":\"\"}}],\"histogram2d\":[{\"type\":\"histogram2d\",\"colorbar\":{\"outlinewidth\":0,\"ticks\":\"\"},\"colorscale\":[[0.0,\"#0d0887\"],[0.1111111111111111,\"#46039f\"],[0.2222222222222222,\"#7201a8\"],[0.3333333333333333,\"#9c179e\"],[0.4444444444444444,\"#bd3786\"],[0.5555555555555556,\"#d8576b\"],[0.6666666666666666,\"#ed7953\"],[0.7777777777777778,\"#fb9f3a\"],[0.8888888888888888,\"#fdca26\"],[1.0,\"#f0f921\"]]}],\"heatmap\":[{\"type\":\"heatmap\",\"colorbar\":{\"outlinewidth\":0,\"ticks\":\"\"},\"colorscale\":[[0.0,\"#0d0887\"],[0.1111111111111111,\"#46039f\"],[0.2222222222222222,\"#7201a8\"],[0.3333333333333333,\"#9c179e\"],[0.4444444444444444,\"#bd3786\"],[0.5555555555555556,\"#d8576b\"],[0.6666666666666666,\"#ed7953\"],[0.7777777777777778,\"#fb9f3a\"],[0.8888888888888888,\"#fdca26\"],[1.0,\"#f0f921\"]]}],\"heatmapgl\":[{\"type\":\"heatmapgl\",\"colorbar\":{\"outlinewidth\":0,\"ticks\":\"\"},\"colorscale\":[[0.0,\"#0d0887\"],[0.1111111111111111,\"#46039f\"],[0.2222222222222222,\"#7201a8\"],[0.3333333333333333,\"#9c179e\"],[0.4444444444444444,\"#bd3786\"],[0.5555555555555556,\"#d8576b\"],[0.6666666666666666,\"#ed7953\"],[0.7777777777777778,\"#fb9f3a\"],[0.8888888888888888,\"#fdca26\"],[1.0,\"#f0f921\"]]}],\"contourcarpet\":[{\"type\":\"contourcarpet\",\"colorbar\":{\"outlinewidth\":0,\"ticks\":\"\"}}],\"contour\":[{\"type\":\"contour\",\"colorbar\":{\"outlinewidth\":0,\"ticks\":\"\"},\"colorscale\":[[0.0,\"#0d0887\"],[0.1111111111111111,\"#46039f\"],[0.2222222222222222,\"#7201a8\"],[0.3333333333333333,\"#9c179e\"],[0.4444444444444444,\"#bd3786\"],[0.5555555555555556,\"#d8576b\"],[0.6666666666666666,\"#ed7953\"],[0.7777777777777778,\"#fb9f3a\"],[0.8888888888888888,\"#fdca26\"],[1.0,\"#f0f921\"]]}],\"surface\":[{\"type\":\"surface\",\"colorbar\":{\"outlinewidth\":0,\"ticks\":\"\"},\"colorscale\":[[0.0,\"#0d0887\"],[0.1111111111111111,\"#46039f\"],[0.2222222222222222,\"#7201a8\"],[0.3333333333333333,\"#9c179e\"],[0.4444444444444444,\"#bd3786\"],[0.5555555555555556,\"#d8576b\"],[0.6666666666666666,\"#ed7953\"],[0.7777777777777778,\"#fb9f3a\"],[0.8888888888888888,\"#fdca26\"],[1.0,\"#f0f921\"]]}],\"mesh3d\":[{\"type\":\"mesh3d\",\"colorbar\":{\"outlinewidth\":0,\"ticks\":\"\"}}],\"scatter\":[{\"fillpattern\":{\"fillmode\":\"overlay\",\"size\":10,\"solidity\":0.2},\"type\":\"scatter\"}],\"parcoords\":[{\"type\":\"parcoords\",\"line\":{\"colorbar\":{\"outlinewidth\":0,\"ticks\":\"\"}}}],\"scatterpolargl\":[{\"type\":\"scatterpolargl\",\"marker\":{\"colorbar\":{\"outlinewidth\":0,\"ticks\":\"\"}}}],\"bar\":[{\"error_x\":{\"color\":\"#2a3f5f\"},\"error_y\":{\"color\":\"#2a3f5f\"},\"marker\":{\"line\":{\"color\":\"#E5ECF6\",\"width\":0.5},\"pattern\":{\"fillmode\":\"overlay\",\"size\":10,\"solidity\":0.2}},\"type\":\"bar\"}],\"scattergeo\":[{\"type\":\"scattergeo\",\"marker\":{\"colorbar\":{\"outlinewidth\":0,\"ticks\":\"\"}}}],\"scatterpolar\":[{\"type\":\"scatterpolar\",\"marker\":{\"colorbar\":{\"outlinewidth\":0,\"ticks\":\"\"}}}],\"histogram\":[{\"marker\":{\"pattern\":{\"fillmode\":\"overlay\",\"size\":10,\"solidity\":0.2}},\"type\":\"histogram\"}],\"scattergl\":[{\"type\":\"scattergl\",\"marker\":{\"colorbar\":{\"outlinewidth\":0,\"ticks\":\"\"}}}],\"scatter3d\":[{\"type\":\"scatter3d\",\"line\":{\"colorbar\":{\"outlinewidth\":0,\"ticks\":\"\"}},\"marker\":{\"colorbar\":{\"outlinewidth\":0,\"ticks\":\"\"}}}],\"scattermapbox\":[{\"type\":\"scattermapbox\",\"marker\":{\"colorbar\":{\"outlinewidth\":0,\"ticks\":\"\"}}}],\"scatterternary\":[{\"type\":\"scatterternary\",\"marker\":{\"colorbar\":{\"outlinewidth\":0,\"ticks\":\"\"}}}],\"scattercarpet\":[{\"type\":\"scattercarpet\",\"marker\":{\"colorbar\":{\"outlinewidth\":0,\"ticks\":\"\"}}}],\"carpet\":[{\"aaxis\":{\"endlinecolor\":\"#2a3f5f\",\"gridcolor\":\"white\",\"linecolor\":\"white\",\"minorgridcolor\":\"white\",\"startlinecolor\":\"#2a3f5f\"},\"baxis\":{\"endlinecolor\":\"#2a3f5f\",\"gridcolor\":\"white\",\"linecolor\":\"white\",\"minorgridcolor\":\"white\",\"startlinecolor\":\"#2a3f5f\"},\"type\":\"carpet\"}],\"table\":[{\"cells\":{\"fill\":{\"color\":\"#EBF0F8\"},\"line\":{\"color\":\"white\"}},\"header\":{\"fill\":{\"color\":\"#C8D4E3\"},\"line\":{\"color\":\"white\"}},\"type\":\"table\"}],\"barpolar\":[{\"marker\":{\"line\":{\"color\":\"#E5ECF6\",\"width\":0.5},\"pattern\":{\"fillmode\":\"overlay\",\"size\":10,\"solidity\":0.2}},\"type\":\"barpolar\"}],\"pie\":[{\"automargin\":true,\"type\":\"pie\"}]},\"layout\":{\"autotypenumbers\":\"strict\",\"colorway\":[\"#636efa\",\"#EF553B\",\"#00cc96\",\"#ab63fa\",\"#FFA15A\",\"#19d3f3\",\"#FF6692\",\"#B6E880\",\"#FF97FF\",\"#FECB52\"],\"font\":{\"color\":\"#2a3f5f\"},\"hovermode\":\"closest\",\"hoverlabel\":{\"align\":\"left\"},\"paper_bgcolor\":\"white\",\"plot_bgcolor\":\"#E5ECF6\",\"polar\":{\"bgcolor\":\"#E5ECF6\",\"angularaxis\":{\"gridcolor\":\"white\",\"linecolor\":\"white\",\"ticks\":\"\"},\"radialaxis\":{\"gridcolor\":\"white\",\"linecolor\":\"white\",\"ticks\":\"\"}},\"ternary\":{\"bgcolor\":\"#E5ECF6\",\"aaxis\":{\"gridcolor\":\"white\",\"linecolor\":\"white\",\"ticks\":\"\"},\"baxis\":{\"gridcolor\":\"white\",\"linecolor\":\"white\",\"ticks\":\"\"},\"caxis\":{\"gridcolor\":\"white\",\"linecolor\":\"white\",\"ticks\":\"\"}},\"coloraxis\":{\"colorbar\":{\"outlinewidth\":0,\"ticks\":\"\"}},\"colorscale\":{\"sequential\":[[0.0,\"#0d0887\"],[0.1111111111111111,\"#46039f\"],[0.2222222222222222,\"#7201a8\"],[0.3333333333333333,\"#9c179e\"],[0.4444444444444444,\"#bd3786\"],[0.5555555555555556,\"#d8576b\"],[0.6666666666666666,\"#ed7953\"],[0.7777777777777778,\"#fb9f3a\"],[0.8888888888888888,\"#fdca26\"],[1.0,\"#f0f921\"]],\"sequentialminus\":[[0.0,\"#0d0887\"],[0.1111111111111111,\"#46039f\"],[0.2222222222222222,\"#7201a8\"],[0.3333333333333333,\"#9c179e\"],[0.4444444444444444,\"#bd3786\"],[0.5555555555555556,\"#d8576b\"],[0.6666666666666666,\"#ed7953\"],[0.7777777777777778,\"#fb9f3a\"],[0.8888888888888888,\"#fdca26\"],[1.0,\"#f0f921\"]],\"diverging\":[[0,\"#8e0152\"],[0.1,\"#c51b7d\"],[0.2,\"#de77ae\"],[0.3,\"#f1b6da\"],[0.4,\"#fde0ef\"],[0.5,\"#f7f7f7\"],[0.6,\"#e6f5d0\"],[0.7,\"#b8e186\"],[0.8,\"#7fbc41\"],[0.9,\"#4d9221\"],[1,\"#276419\"]]},\"xaxis\":{\"gridcolor\":\"white\",\"linecolor\":\"white\",\"ticks\":\"\",\"title\":{\"standoff\":15},\"zerolinecolor\":\"white\",\"automargin\":true,\"zerolinewidth\":2},\"yaxis\":{\"gridcolor\":\"white\",\"linecolor\":\"white\",\"ticks\":\"\",\"title\":{\"standoff\":15},\"zerolinecolor\":\"white\",\"automargin\":true,\"zerolinewidth\":2},\"scene\":{\"xaxis\":{\"backgroundcolor\":\"#E5ECF6\",\"gridcolor\":\"white\",\"linecolor\":\"white\",\"showbackground\":true,\"ticks\":\"\",\"zerolinecolor\":\"white\",\"gridwidth\":2},\"yaxis\":{\"backgroundcolor\":\"#E5ECF6\",\"gridcolor\":\"white\",\"linecolor\":\"white\",\"showbackground\":true,\"ticks\":\"\",\"zerolinecolor\":\"white\",\"gridwidth\":2},\"zaxis\":{\"backgroundcolor\":\"#E5ECF6\",\"gridcolor\":\"white\",\"linecolor\":\"white\",\"showbackground\":true,\"ticks\":\"\",\"zerolinecolor\":\"white\",\"gridwidth\":2}},\"shapedefaults\":{\"line\":{\"color\":\"#2a3f5f\"}},\"annotationdefaults\":{\"arrowcolor\":\"#2a3f5f\",\"arrowhead\":0,\"arrowwidth\":1},\"geo\":{\"bgcolor\":\"white\",\"landcolor\":\"#E5ECF6\",\"subunitcolor\":\"white\",\"showland\":true,\"showlakes\":true,\"lakecolor\":\"white\"},\"title\":{\"x\":0.05},\"mapbox\":{\"style\":\"light\"}}}},                        {\"responsive\": true}                    ).then(function(){\n",
       "                            \n",
       "var gd = document.getElementById('c0769d34-5c39-4545-b387-bf1371779eee');\n",
       "var x = new MutationObserver(function (mutations, observer) {{\n",
       "        var display = window.getComputedStyle(gd).display;\n",
       "        if (!display || display === 'none') {{\n",
       "            console.log([gd, 'removed!']);\n",
       "            Plotly.purge(gd);\n",
       "            observer.disconnect();\n",
       "        }}\n",
       "}});\n",
       "\n",
       "// Listen for the removal of the full notebook cells\n",
       "var notebookContainer = gd.closest('#notebook-container');\n",
       "if (notebookContainer) {{\n",
       "    x.observe(notebookContainer, {childList: true});\n",
       "}}\n",
       "\n",
       "// Listen for the clearing of the current output cell\n",
       "var outputEl = gd.closest('.output');\n",
       "if (outputEl) {{\n",
       "    x.observe(outputEl, {childList: true});\n",
       "}}\n",
       "\n",
       "                        })                };                });            </script>        </div>"
      ]
     },
     "metadata": {},
     "output_type": "display_data"
    },
    {
     "data": {
      "application/vnd.plotly.v1+json": {
       "config": {
        "plotlyServerURL": "https://plot.ly"
       },
       "data": [
        {
         "box": {
          "visible": true
         },
         "meanline": {
          "visible": true
         },
         "name": "Gene",
         "type": "violin",
         "x": [
          "Gene",
          "Gene",
          "Gene",
          "Gene",
          "Gene",
          "Gene",
          "Gene",
          "Gene",
          "Gene",
          "Gene",
          "Gene",
          "Gene",
          "Gene",
          "Gene",
          "Gene",
          "Gene",
          "Gene",
          "Gene",
          "Gene",
          "Gene",
          "Gene",
          "Gene",
          "Gene",
          "Gene",
          "Gene",
          "Gene",
          "Gene",
          "Gene",
          "Gene",
          "Gene"
         ],
         "y": [
          0.2184791104163706,
          0.2198268971152479,
          0.2158723532755435,
          0.2150241580218843,
          0.2167960423475913,
          0.2150419212732698,
          0.212923653545545,
          0.2190142283643598,
          0.2120576950405002,
          0.2112983160437686,
          0.213931718061674,
          0.214417987068353,
          0.2183303431860167,
          0.2137896120505897,
          0.2127127149353417,
          0.2172512256643456,
          0.213329987920989,
          0.2093843257069774,
          0.2110118836151769,
          0.2092977298564729,
          0.2126971720903794,
          0.2106366349296575,
          0.2129414167969305,
          0.2136963549808156,
          0.2097662356117663,
          0.2142248117095353,
          0.2106277533039647,
          0.209171166690351,
          0.2127282577803041,
          0.2123552295012079
         ]
        },
        {
         "box": {
          "visible": true
         },
         "meanline": {
          "visible": true
         },
         "name": "link",
         "type": "violin",
         "x": [
          "link",
          "link",
          "link",
          "link",
          "link",
          "link",
          "link",
          "link",
          "link",
          "link",
          "link",
          "link",
          "link",
          "link",
          "link",
          "link",
          "link",
          "link",
          "link",
          "link",
          "link",
          "link",
          "link",
          "link",
          "link",
          "link",
          "link",
          "link",
          "link",
          "link"
         ],
         "y": [
          0.2266895832054508,
          0.2601436375913081,
          0.287981093855503,
          0.2732797250015346,
          0.2926462463937143,
          0.2840218525566264,
          0.2982935363083911,
          0.303664600085937,
          0.2877662513044012,
          0.2775151924375422,
          0.2740470198268983,
          0.2699650113559634,
          0.3003191946473513,
          0.2774538088515131,
          0.3097108833098029,
          0.2783438708489349,
          0.3045853538763735,
          0.2945491375606163,
          0.3047081210484316,
          0.2555398686391259,
          0.2951629734209072,
          0.2797250015345896,
          0.2776072678165858,
          0.3037873672579952,
          0.2901909029525505,
          0.2860475108955865,
          0.2894542999202013,
          0.2870603400650666,
          0.291510650052176,
          0.299183598305813
         ]
        },
        {
         "box": {
          "visible": true
         },
         "meanline": {
          "visible": true
         },
         "name": "mildew",
         "type": "violin",
         "x": [
          "mildew",
          "mildew",
          "mildew",
          "mildew",
          "mildew",
          "mildew",
          "mildew",
          "mildew",
          "mildew",
          "mildew",
          "mildew",
          "mildew",
          "mildew",
          "mildew",
          "mildew",
          "mildew",
          "mildew",
          "mildew",
          "mildew",
          "mildew",
          "mildew",
          "mildew",
          "mildew",
          "mildew",
          "mildew",
          "mildew",
          "mildew",
          "mildew",
          "mildew",
          "mildew"
         ],
         "y": [
          0.771255060728745,
          0.7591093117408907,
          0.7651821862348178,
          0.7651821862348178,
          0.757085020242915,
          0.7611336032388664,
          0.7591093117408907,
          0.7611336032388664,
          0.7631578947368421,
          0.7611336032388664,
          0.757085020242915,
          0.7591093117408907,
          0.7611336032388664,
          0.7672064777327935,
          0.7611336032388664,
          0.7631578947368421,
          0.7611336032388664,
          0.7611336032388664,
          0.7611336032388664,
          0.7692307692307693,
          0.7591093117408907,
          0.7591093117408907,
          0.7611336032388664,
          0.7591093117408907,
          0.7611336032388664,
          0.7631578947368421,
          0.7611336032388664,
          0.7611336032388664,
          0.7591093117408907,
          0.7611336032388664
         ]
        },
        {
         "box": {
          "visible": true
         },
         "meanline": {
          "visible": true
         },
         "name": "munin1",
         "type": "violin",
         "x": [
          "munin1",
          "munin1",
          "munin1",
          "munin1",
          "munin1",
          "munin1",
          "munin1",
          "munin1",
          "munin1",
          "munin1",
          "munin1",
          "munin1",
          "munin1",
          "munin1",
          "munin1",
          "munin1",
          "munin1",
          "munin1",
          "munin1",
          "munin1",
          "munin1",
          "munin1",
          "munin1",
          "munin1",
          "munin1",
          "munin1",
          "munin1",
          "munin1",
          "munin1",
          "munin1"
         ],
         "y": [
          0.7446105702364395,
          0.7437413073713491,
          0.7460013908205841,
          0.7380041724617524,
          0.7475660639777468,
          0.7397426981919333,
          0.7381780250347705,
          0.7494784422809457,
          0.7506954102920723,
          0.7418289290681502,
          0.7461752433936022,
          0.7466968011126565,
          0.7437413073713491,
          0.7453059805285118,
          0.7465229485396384,
          0.747913769123783,
          0.7400904033379694,
          0.7380041724617524,
          0.7433936022253129,
          0.7402642559109874,
          0.7456536856745479,
          0.7442628650904033,
          0.7447844228094576,
          0.7449582753824756,
          0.7439151599443672,
          0.7411335187760779,
          0.7442628650904033,
          0.741481223922114,
          0.7425243393602226,
          0.7432197496522949
         ]
        }
       ],
       "layout": {
        "template": {
         "data": {
          "bar": [
           {
            "error_x": {
             "color": "#2a3f5f"
            },
            "error_y": {
             "color": "#2a3f5f"
            },
            "marker": {
             "line": {
              "color": "#E5ECF6",
              "width": 0.5
             },
             "pattern": {
              "fillmode": "overlay",
              "size": 10,
              "solidity": 0.2
             }
            },
            "type": "bar"
           }
          ],
          "barpolar": [
           {
            "marker": {
             "line": {
              "color": "#E5ECF6",
              "width": 0.5
             },
             "pattern": {
              "fillmode": "overlay",
              "size": 10,
              "solidity": 0.2
             }
            },
            "type": "barpolar"
           }
          ],
          "carpet": [
           {
            "aaxis": {
             "endlinecolor": "#2a3f5f",
             "gridcolor": "white",
             "linecolor": "white",
             "minorgridcolor": "white",
             "startlinecolor": "#2a3f5f"
            },
            "baxis": {
             "endlinecolor": "#2a3f5f",
             "gridcolor": "white",
             "linecolor": "white",
             "minorgridcolor": "white",
             "startlinecolor": "#2a3f5f"
            },
            "type": "carpet"
           }
          ],
          "choropleth": [
           {
            "colorbar": {
             "outlinewidth": 0,
             "ticks": ""
            },
            "type": "choropleth"
           }
          ],
          "contour": [
           {
            "colorbar": {
             "outlinewidth": 0,
             "ticks": ""
            },
            "colorscale": [
             [
              0,
              "#0d0887"
             ],
             [
              0.1111111111111111,
              "#46039f"
             ],
             [
              0.2222222222222222,
              "#7201a8"
             ],
             [
              0.3333333333333333,
              "#9c179e"
             ],
             [
              0.4444444444444444,
              "#bd3786"
             ],
             [
              0.5555555555555556,
              "#d8576b"
             ],
             [
              0.6666666666666666,
              "#ed7953"
             ],
             [
              0.7777777777777778,
              "#fb9f3a"
             ],
             [
              0.8888888888888888,
              "#fdca26"
             ],
             [
              1,
              "#f0f921"
             ]
            ],
            "type": "contour"
           }
          ],
          "contourcarpet": [
           {
            "colorbar": {
             "outlinewidth": 0,
             "ticks": ""
            },
            "type": "contourcarpet"
           }
          ],
          "heatmap": [
           {
            "colorbar": {
             "outlinewidth": 0,
             "ticks": ""
            },
            "colorscale": [
             [
              0,
              "#0d0887"
             ],
             [
              0.1111111111111111,
              "#46039f"
             ],
             [
              0.2222222222222222,
              "#7201a8"
             ],
             [
              0.3333333333333333,
              "#9c179e"
             ],
             [
              0.4444444444444444,
              "#bd3786"
             ],
             [
              0.5555555555555556,
              "#d8576b"
             ],
             [
              0.6666666666666666,
              "#ed7953"
             ],
             [
              0.7777777777777778,
              "#fb9f3a"
             ],
             [
              0.8888888888888888,
              "#fdca26"
             ],
             [
              1,
              "#f0f921"
             ]
            ],
            "type": "heatmap"
           }
          ],
          "heatmapgl": [
           {
            "colorbar": {
             "outlinewidth": 0,
             "ticks": ""
            },
            "colorscale": [
             [
              0,
              "#0d0887"
             ],
             [
              0.1111111111111111,
              "#46039f"
             ],
             [
              0.2222222222222222,
              "#7201a8"
             ],
             [
              0.3333333333333333,
              "#9c179e"
             ],
             [
              0.4444444444444444,
              "#bd3786"
             ],
             [
              0.5555555555555556,
              "#d8576b"
             ],
             [
              0.6666666666666666,
              "#ed7953"
             ],
             [
              0.7777777777777778,
              "#fb9f3a"
             ],
             [
              0.8888888888888888,
              "#fdca26"
             ],
             [
              1,
              "#f0f921"
             ]
            ],
            "type": "heatmapgl"
           }
          ],
          "histogram": [
           {
            "marker": {
             "pattern": {
              "fillmode": "overlay",
              "size": 10,
              "solidity": 0.2
             }
            },
            "type": "histogram"
           }
          ],
          "histogram2d": [
           {
            "colorbar": {
             "outlinewidth": 0,
             "ticks": ""
            },
            "colorscale": [
             [
              0,
              "#0d0887"
             ],
             [
              0.1111111111111111,
              "#46039f"
             ],
             [
              0.2222222222222222,
              "#7201a8"
             ],
             [
              0.3333333333333333,
              "#9c179e"
             ],
             [
              0.4444444444444444,
              "#bd3786"
             ],
             [
              0.5555555555555556,
              "#d8576b"
             ],
             [
              0.6666666666666666,
              "#ed7953"
             ],
             [
              0.7777777777777778,
              "#fb9f3a"
             ],
             [
              0.8888888888888888,
              "#fdca26"
             ],
             [
              1,
              "#f0f921"
             ]
            ],
            "type": "histogram2d"
           }
          ],
          "histogram2dcontour": [
           {
            "colorbar": {
             "outlinewidth": 0,
             "ticks": ""
            },
            "colorscale": [
             [
              0,
              "#0d0887"
             ],
             [
              0.1111111111111111,
              "#46039f"
             ],
             [
              0.2222222222222222,
              "#7201a8"
             ],
             [
              0.3333333333333333,
              "#9c179e"
             ],
             [
              0.4444444444444444,
              "#bd3786"
             ],
             [
              0.5555555555555556,
              "#d8576b"
             ],
             [
              0.6666666666666666,
              "#ed7953"
             ],
             [
              0.7777777777777778,
              "#fb9f3a"
             ],
             [
              0.8888888888888888,
              "#fdca26"
             ],
             [
              1,
              "#f0f921"
             ]
            ],
            "type": "histogram2dcontour"
           }
          ],
          "mesh3d": [
           {
            "colorbar": {
             "outlinewidth": 0,
             "ticks": ""
            },
            "type": "mesh3d"
           }
          ],
          "parcoords": [
           {
            "line": {
             "colorbar": {
              "outlinewidth": 0,
              "ticks": ""
             }
            },
            "type": "parcoords"
           }
          ],
          "pie": [
           {
            "automargin": true,
            "type": "pie"
           }
          ],
          "scatter": [
           {
            "fillpattern": {
             "fillmode": "overlay",
             "size": 10,
             "solidity": 0.2
            },
            "type": "scatter"
           }
          ],
          "scatter3d": [
           {
            "line": {
             "colorbar": {
              "outlinewidth": 0,
              "ticks": ""
             }
            },
            "marker": {
             "colorbar": {
              "outlinewidth": 0,
              "ticks": ""
             }
            },
            "type": "scatter3d"
           }
          ],
          "scattercarpet": [
           {
            "marker": {
             "colorbar": {
              "outlinewidth": 0,
              "ticks": ""
             }
            },
            "type": "scattercarpet"
           }
          ],
          "scattergeo": [
           {
            "marker": {
             "colorbar": {
              "outlinewidth": 0,
              "ticks": ""
             }
            },
            "type": "scattergeo"
           }
          ],
          "scattergl": [
           {
            "marker": {
             "colorbar": {
              "outlinewidth": 0,
              "ticks": ""
             }
            },
            "type": "scattergl"
           }
          ],
          "scattermapbox": [
           {
            "marker": {
             "colorbar": {
              "outlinewidth": 0,
              "ticks": ""
             }
            },
            "type": "scattermapbox"
           }
          ],
          "scatterpolar": [
           {
            "marker": {
             "colorbar": {
              "outlinewidth": 0,
              "ticks": ""
             }
            },
            "type": "scatterpolar"
           }
          ],
          "scatterpolargl": [
           {
            "marker": {
             "colorbar": {
              "outlinewidth": 0,
              "ticks": ""
             }
            },
            "type": "scatterpolargl"
           }
          ],
          "scatterternary": [
           {
            "marker": {
             "colorbar": {
              "outlinewidth": 0,
              "ticks": ""
             }
            },
            "type": "scatterternary"
           }
          ],
          "surface": [
           {
            "colorbar": {
             "outlinewidth": 0,
             "ticks": ""
            },
            "colorscale": [
             [
              0,
              "#0d0887"
             ],
             [
              0.1111111111111111,
              "#46039f"
             ],
             [
              0.2222222222222222,
              "#7201a8"
             ],
             [
              0.3333333333333333,
              "#9c179e"
             ],
             [
              0.4444444444444444,
              "#bd3786"
             ],
             [
              0.5555555555555556,
              "#d8576b"
             ],
             [
              0.6666666666666666,
              "#ed7953"
             ],
             [
              0.7777777777777778,
              "#fb9f3a"
             ],
             [
              0.8888888888888888,
              "#fdca26"
             ],
             [
              1,
              "#f0f921"
             ]
            ],
            "type": "surface"
           }
          ],
          "table": [
           {
            "cells": {
             "fill": {
              "color": "#EBF0F8"
             },
             "line": {
              "color": "white"
             }
            },
            "header": {
             "fill": {
              "color": "#C8D4E3"
             },
             "line": {
              "color": "white"
             }
            },
            "type": "table"
           }
          ]
         },
         "layout": {
          "annotationdefaults": {
           "arrowcolor": "#2a3f5f",
           "arrowhead": 0,
           "arrowwidth": 1
          },
          "autotypenumbers": "strict",
          "coloraxis": {
           "colorbar": {
            "outlinewidth": 0,
            "ticks": ""
           }
          },
          "colorscale": {
           "diverging": [
            [
             0,
             "#8e0152"
            ],
            [
             0.1,
             "#c51b7d"
            ],
            [
             0.2,
             "#de77ae"
            ],
            [
             0.3,
             "#f1b6da"
            ],
            [
             0.4,
             "#fde0ef"
            ],
            [
             0.5,
             "#f7f7f7"
            ],
            [
             0.6,
             "#e6f5d0"
            ],
            [
             0.7,
             "#b8e186"
            ],
            [
             0.8,
             "#7fbc41"
            ],
            [
             0.9,
             "#4d9221"
            ],
            [
             1,
             "#276419"
            ]
           ],
           "sequential": [
            [
             0,
             "#0d0887"
            ],
            [
             0.1111111111111111,
             "#46039f"
            ],
            [
             0.2222222222222222,
             "#7201a8"
            ],
            [
             0.3333333333333333,
             "#9c179e"
            ],
            [
             0.4444444444444444,
             "#bd3786"
            ],
            [
             0.5555555555555556,
             "#d8576b"
            ],
            [
             0.6666666666666666,
             "#ed7953"
            ],
            [
             0.7777777777777778,
             "#fb9f3a"
            ],
            [
             0.8888888888888888,
             "#fdca26"
            ],
            [
             1,
             "#f0f921"
            ]
           ],
           "sequentialminus": [
            [
             0,
             "#0d0887"
            ],
            [
             0.1111111111111111,
             "#46039f"
            ],
            [
             0.2222222222222222,
             "#7201a8"
            ],
            [
             0.3333333333333333,
             "#9c179e"
            ],
            [
             0.4444444444444444,
             "#bd3786"
            ],
            [
             0.5555555555555556,
             "#d8576b"
            ],
            [
             0.6666666666666666,
             "#ed7953"
            ],
            [
             0.7777777777777778,
             "#fb9f3a"
            ],
            [
             0.8888888888888888,
             "#fdca26"
            ],
            [
             1,
             "#f0f921"
            ]
           ]
          },
          "colorway": [
           "#636efa",
           "#EF553B",
           "#00cc96",
           "#ab63fa",
           "#FFA15A",
           "#19d3f3",
           "#FF6692",
           "#B6E880",
           "#FF97FF",
           "#FECB52"
          ],
          "font": {
           "color": "#2a3f5f"
          },
          "geo": {
           "bgcolor": "white",
           "lakecolor": "white",
           "landcolor": "#E5ECF6",
           "showlakes": true,
           "showland": true,
           "subunitcolor": "white"
          },
          "hoverlabel": {
           "align": "left"
          },
          "hovermode": "closest",
          "mapbox": {
           "style": "light"
          },
          "paper_bgcolor": "white",
          "plot_bgcolor": "#E5ECF6",
          "polar": {
           "angularaxis": {
            "gridcolor": "white",
            "linecolor": "white",
            "ticks": ""
           },
           "bgcolor": "#E5ECF6",
           "radialaxis": {
            "gridcolor": "white",
            "linecolor": "white",
            "ticks": ""
           }
          },
          "scene": {
           "xaxis": {
            "backgroundcolor": "#E5ECF6",
            "gridcolor": "white",
            "gridwidth": 2,
            "linecolor": "white",
            "showbackground": true,
            "ticks": "",
            "zerolinecolor": "white"
           },
           "yaxis": {
            "backgroundcolor": "#E5ECF6",
            "gridcolor": "white",
            "gridwidth": 2,
            "linecolor": "white",
            "showbackground": true,
            "ticks": "",
            "zerolinecolor": "white"
           },
           "zaxis": {
            "backgroundcolor": "#E5ECF6",
            "gridcolor": "white",
            "gridwidth": 2,
            "linecolor": "white",
            "showbackground": true,
            "ticks": "",
            "zerolinecolor": "white"
           }
          },
          "shapedefaults": {
           "line": {
            "color": "#2a3f5f"
           }
          },
          "ternary": {
           "aaxis": {
            "gridcolor": "white",
            "linecolor": "white",
            "ticks": ""
           },
           "baxis": {
            "gridcolor": "white",
            "linecolor": "white",
            "ticks": ""
           },
           "bgcolor": "#E5ECF6",
           "caxis": {
            "gridcolor": "white",
            "linecolor": "white",
            "ticks": ""
           }
          },
          "title": {
           "x": 0.05
          },
          "xaxis": {
           "automargin": true,
           "gridcolor": "white",
           "linecolor": "white",
           "ticks": "",
           "title": {
            "standoff": 15
           },
           "zerolinecolor": "white",
           "zerolinewidth": 2
          },
          "yaxis": {
           "automargin": true,
           "gridcolor": "white",
           "linecolor": "white",
           "ticks": "",
           "title": {
            "standoff": 15
           },
           "zerolinecolor": "white",
           "zerolinewidth": 2
          }
         }
        }
       }
      },
      "text/html": [
       "<div>                            <div id=\"a5c80a6a-5680-43e2-8afb-8c407e4a55dc\" class=\"plotly-graph-div\" style=\"height:525px; width:100%;\"></div>            <script type=\"text/javascript\">                require([\"plotly\"], function(Plotly) {                    window.PLOTLYENV=window.PLOTLYENV || {};                                    if (document.getElementById(\"a5c80a6a-5680-43e2-8afb-8c407e4a55dc\")) {                    Plotly.newPlot(                        \"a5c80a6a-5680-43e2-8afb-8c407e4a55dc\",                        [{\"box\":{\"visible\":true},\"meanline\":{\"visible\":true},\"name\":\"Gene\",\"x\":[\"Gene\",\"Gene\",\"Gene\",\"Gene\",\"Gene\",\"Gene\",\"Gene\",\"Gene\",\"Gene\",\"Gene\",\"Gene\",\"Gene\",\"Gene\",\"Gene\",\"Gene\",\"Gene\",\"Gene\",\"Gene\",\"Gene\",\"Gene\",\"Gene\",\"Gene\",\"Gene\",\"Gene\",\"Gene\",\"Gene\",\"Gene\",\"Gene\",\"Gene\",\"Gene\"],\"y\":[0.2184791104163706,0.2198268971152479,0.2158723532755435,0.2150241580218843,0.2167960423475913,0.2150419212732698,0.212923653545545,0.2190142283643598,0.2120576950405002,0.2112983160437686,0.213931718061674,0.214417987068353,0.2183303431860167,0.2137896120505897,0.2127127149353417,0.2172512256643456,0.213329987920989,0.2093843257069774,0.2110118836151769,0.2092977298564729,0.2126971720903794,0.2106366349296575,0.2129414167969305,0.2136963549808156,0.2097662356117663,0.2142248117095353,0.2106277533039647,0.209171166690351,0.2127282577803041,0.2123552295012079],\"type\":\"violin\"},{\"box\":{\"visible\":true},\"meanline\":{\"visible\":true},\"name\":\"link\",\"x\":[\"link\",\"link\",\"link\",\"link\",\"link\",\"link\",\"link\",\"link\",\"link\",\"link\",\"link\",\"link\",\"link\",\"link\",\"link\",\"link\",\"link\",\"link\",\"link\",\"link\",\"link\",\"link\",\"link\",\"link\",\"link\",\"link\",\"link\",\"link\",\"link\",\"link\"],\"y\":[0.2266895832054508,0.2601436375913081,0.287981093855503,0.2732797250015346,0.2926462463937143,0.2840218525566264,0.2982935363083911,0.303664600085937,0.2877662513044012,0.2775151924375422,0.2740470198268983,0.2699650113559634,0.3003191946473513,0.2774538088515131,0.3097108833098029,0.2783438708489349,0.3045853538763735,0.2945491375606163,0.3047081210484316,0.2555398686391259,0.2951629734209072,0.2797250015345896,0.2776072678165858,0.3037873672579952,0.2901909029525505,0.2860475108955865,0.2894542999202013,0.2870603400650666,0.291510650052176,0.299183598305813],\"type\":\"violin\"},{\"box\":{\"visible\":true},\"meanline\":{\"visible\":true},\"name\":\"mildew\",\"x\":[\"mildew\",\"mildew\",\"mildew\",\"mildew\",\"mildew\",\"mildew\",\"mildew\",\"mildew\",\"mildew\",\"mildew\",\"mildew\",\"mildew\",\"mildew\",\"mildew\",\"mildew\",\"mildew\",\"mildew\",\"mildew\",\"mildew\",\"mildew\",\"mildew\",\"mildew\",\"mildew\",\"mildew\",\"mildew\",\"mildew\",\"mildew\",\"mildew\",\"mildew\",\"mildew\"],\"y\":[0.771255060728745,0.7591093117408907,0.7651821862348178,0.7651821862348178,0.757085020242915,0.7611336032388664,0.7591093117408907,0.7611336032388664,0.7631578947368421,0.7611336032388664,0.757085020242915,0.7591093117408907,0.7611336032388664,0.7672064777327935,0.7611336032388664,0.7631578947368421,0.7611336032388664,0.7611336032388664,0.7611336032388664,0.7692307692307693,0.7591093117408907,0.7591093117408907,0.7611336032388664,0.7591093117408907,0.7611336032388664,0.7631578947368421,0.7611336032388664,0.7611336032388664,0.7591093117408907,0.7611336032388664],\"type\":\"violin\"},{\"box\":{\"visible\":true},\"meanline\":{\"visible\":true},\"name\":\"munin1\",\"x\":[\"munin1\",\"munin1\",\"munin1\",\"munin1\",\"munin1\",\"munin1\",\"munin1\",\"munin1\",\"munin1\",\"munin1\",\"munin1\",\"munin1\",\"munin1\",\"munin1\",\"munin1\",\"munin1\",\"munin1\",\"munin1\",\"munin1\",\"munin1\",\"munin1\",\"munin1\",\"munin1\",\"munin1\",\"munin1\",\"munin1\",\"munin1\",\"munin1\",\"munin1\",\"munin1\"],\"y\":[0.7446105702364395,0.7437413073713491,0.7460013908205841,0.7380041724617524,0.7475660639777468,0.7397426981919333,0.7381780250347705,0.7494784422809457,0.7506954102920723,0.7418289290681502,0.7461752433936022,0.7466968011126565,0.7437413073713491,0.7453059805285118,0.7465229485396384,0.747913769123783,0.7400904033379694,0.7380041724617524,0.7433936022253129,0.7402642559109874,0.7456536856745479,0.7442628650904033,0.7447844228094576,0.7449582753824756,0.7439151599443672,0.7411335187760779,0.7442628650904033,0.741481223922114,0.7425243393602226,0.7432197496522949],\"type\":\"violin\"}],                        {\"template\":{\"data\":{\"histogram2dcontour\":[{\"type\":\"histogram2dcontour\",\"colorbar\":{\"outlinewidth\":0,\"ticks\":\"\"},\"colorscale\":[[0.0,\"#0d0887\"],[0.1111111111111111,\"#46039f\"],[0.2222222222222222,\"#7201a8\"],[0.3333333333333333,\"#9c179e\"],[0.4444444444444444,\"#bd3786\"],[0.5555555555555556,\"#d8576b\"],[0.6666666666666666,\"#ed7953\"],[0.7777777777777778,\"#fb9f3a\"],[0.8888888888888888,\"#fdca26\"],[1.0,\"#f0f921\"]]}],\"choropleth\":[{\"type\":\"choropleth\",\"colorbar\":{\"outlinewidth\":0,\"ticks\":\"\"}}],\"histogram2d\":[{\"type\":\"histogram2d\",\"colorbar\":{\"outlinewidth\":0,\"ticks\":\"\"},\"colorscale\":[[0.0,\"#0d0887\"],[0.1111111111111111,\"#46039f\"],[0.2222222222222222,\"#7201a8\"],[0.3333333333333333,\"#9c179e\"],[0.4444444444444444,\"#bd3786\"],[0.5555555555555556,\"#d8576b\"],[0.6666666666666666,\"#ed7953\"],[0.7777777777777778,\"#fb9f3a\"],[0.8888888888888888,\"#fdca26\"],[1.0,\"#f0f921\"]]}],\"heatmap\":[{\"type\":\"heatmap\",\"colorbar\":{\"outlinewidth\":0,\"ticks\":\"\"},\"colorscale\":[[0.0,\"#0d0887\"],[0.1111111111111111,\"#46039f\"],[0.2222222222222222,\"#7201a8\"],[0.3333333333333333,\"#9c179e\"],[0.4444444444444444,\"#bd3786\"],[0.5555555555555556,\"#d8576b\"],[0.6666666666666666,\"#ed7953\"],[0.7777777777777778,\"#fb9f3a\"],[0.8888888888888888,\"#fdca26\"],[1.0,\"#f0f921\"]]}],\"heatmapgl\":[{\"type\":\"heatmapgl\",\"colorbar\":{\"outlinewidth\":0,\"ticks\":\"\"},\"colorscale\":[[0.0,\"#0d0887\"],[0.1111111111111111,\"#46039f\"],[0.2222222222222222,\"#7201a8\"],[0.3333333333333333,\"#9c179e\"],[0.4444444444444444,\"#bd3786\"],[0.5555555555555556,\"#d8576b\"],[0.6666666666666666,\"#ed7953\"],[0.7777777777777778,\"#fb9f3a\"],[0.8888888888888888,\"#fdca26\"],[1.0,\"#f0f921\"]]}],\"contourcarpet\":[{\"type\":\"contourcarpet\",\"colorbar\":{\"outlinewidth\":0,\"ticks\":\"\"}}],\"contour\":[{\"type\":\"contour\",\"colorbar\":{\"outlinewidth\":0,\"ticks\":\"\"},\"colorscale\":[[0.0,\"#0d0887\"],[0.1111111111111111,\"#46039f\"],[0.2222222222222222,\"#7201a8\"],[0.3333333333333333,\"#9c179e\"],[0.4444444444444444,\"#bd3786\"],[0.5555555555555556,\"#d8576b\"],[0.6666666666666666,\"#ed7953\"],[0.7777777777777778,\"#fb9f3a\"],[0.8888888888888888,\"#fdca26\"],[1.0,\"#f0f921\"]]}],\"surface\":[{\"type\":\"surface\",\"colorbar\":{\"outlinewidth\":0,\"ticks\":\"\"},\"colorscale\":[[0.0,\"#0d0887\"],[0.1111111111111111,\"#46039f\"],[0.2222222222222222,\"#7201a8\"],[0.3333333333333333,\"#9c179e\"],[0.4444444444444444,\"#bd3786\"],[0.5555555555555556,\"#d8576b\"],[0.6666666666666666,\"#ed7953\"],[0.7777777777777778,\"#fb9f3a\"],[0.8888888888888888,\"#fdca26\"],[1.0,\"#f0f921\"]]}],\"mesh3d\":[{\"type\":\"mesh3d\",\"colorbar\":{\"outlinewidth\":0,\"ticks\":\"\"}}],\"scatter\":[{\"fillpattern\":{\"fillmode\":\"overlay\",\"size\":10,\"solidity\":0.2},\"type\":\"scatter\"}],\"parcoords\":[{\"type\":\"parcoords\",\"line\":{\"colorbar\":{\"outlinewidth\":0,\"ticks\":\"\"}}}],\"scatterpolargl\":[{\"type\":\"scatterpolargl\",\"marker\":{\"colorbar\":{\"outlinewidth\":0,\"ticks\":\"\"}}}],\"bar\":[{\"error_x\":{\"color\":\"#2a3f5f\"},\"error_y\":{\"color\":\"#2a3f5f\"},\"marker\":{\"line\":{\"color\":\"#E5ECF6\",\"width\":0.5},\"pattern\":{\"fillmode\":\"overlay\",\"size\":10,\"solidity\":0.2}},\"type\":\"bar\"}],\"scattergeo\":[{\"type\":\"scattergeo\",\"marker\":{\"colorbar\":{\"outlinewidth\":0,\"ticks\":\"\"}}}],\"scatterpolar\":[{\"type\":\"scatterpolar\",\"marker\":{\"colorbar\":{\"outlinewidth\":0,\"ticks\":\"\"}}}],\"histogram\":[{\"marker\":{\"pattern\":{\"fillmode\":\"overlay\",\"size\":10,\"solidity\":0.2}},\"type\":\"histogram\"}],\"scattergl\":[{\"type\":\"scattergl\",\"marker\":{\"colorbar\":{\"outlinewidth\":0,\"ticks\":\"\"}}}],\"scatter3d\":[{\"type\":\"scatter3d\",\"line\":{\"colorbar\":{\"outlinewidth\":0,\"ticks\":\"\"}},\"marker\":{\"colorbar\":{\"outlinewidth\":0,\"ticks\":\"\"}}}],\"scattermapbox\":[{\"type\":\"scattermapbox\",\"marker\":{\"colorbar\":{\"outlinewidth\":0,\"ticks\":\"\"}}}],\"scatterternary\":[{\"type\":\"scatterternary\",\"marker\":{\"colorbar\":{\"outlinewidth\":0,\"ticks\":\"\"}}}],\"scattercarpet\":[{\"type\":\"scattercarpet\",\"marker\":{\"colorbar\":{\"outlinewidth\":0,\"ticks\":\"\"}}}],\"carpet\":[{\"aaxis\":{\"endlinecolor\":\"#2a3f5f\",\"gridcolor\":\"white\",\"linecolor\":\"white\",\"minorgridcolor\":\"white\",\"startlinecolor\":\"#2a3f5f\"},\"baxis\":{\"endlinecolor\":\"#2a3f5f\",\"gridcolor\":\"white\",\"linecolor\":\"white\",\"minorgridcolor\":\"white\",\"startlinecolor\":\"#2a3f5f\"},\"type\":\"carpet\"}],\"table\":[{\"cells\":{\"fill\":{\"color\":\"#EBF0F8\"},\"line\":{\"color\":\"white\"}},\"header\":{\"fill\":{\"color\":\"#C8D4E3\"},\"line\":{\"color\":\"white\"}},\"type\":\"table\"}],\"barpolar\":[{\"marker\":{\"line\":{\"color\":\"#E5ECF6\",\"width\":0.5},\"pattern\":{\"fillmode\":\"overlay\",\"size\":10,\"solidity\":0.2}},\"type\":\"barpolar\"}],\"pie\":[{\"automargin\":true,\"type\":\"pie\"}]},\"layout\":{\"autotypenumbers\":\"strict\",\"colorway\":[\"#636efa\",\"#EF553B\",\"#00cc96\",\"#ab63fa\",\"#FFA15A\",\"#19d3f3\",\"#FF6692\",\"#B6E880\",\"#FF97FF\",\"#FECB52\"],\"font\":{\"color\":\"#2a3f5f\"},\"hovermode\":\"closest\",\"hoverlabel\":{\"align\":\"left\"},\"paper_bgcolor\":\"white\",\"plot_bgcolor\":\"#E5ECF6\",\"polar\":{\"bgcolor\":\"#E5ECF6\",\"angularaxis\":{\"gridcolor\":\"white\",\"linecolor\":\"white\",\"ticks\":\"\"},\"radialaxis\":{\"gridcolor\":\"white\",\"linecolor\":\"white\",\"ticks\":\"\"}},\"ternary\":{\"bgcolor\":\"#E5ECF6\",\"aaxis\":{\"gridcolor\":\"white\",\"linecolor\":\"white\",\"ticks\":\"\"},\"baxis\":{\"gridcolor\":\"white\",\"linecolor\":\"white\",\"ticks\":\"\"},\"caxis\":{\"gridcolor\":\"white\",\"linecolor\":\"white\",\"ticks\":\"\"}},\"coloraxis\":{\"colorbar\":{\"outlinewidth\":0,\"ticks\":\"\"}},\"colorscale\":{\"sequential\":[[0.0,\"#0d0887\"],[0.1111111111111111,\"#46039f\"],[0.2222222222222222,\"#7201a8\"],[0.3333333333333333,\"#9c179e\"],[0.4444444444444444,\"#bd3786\"],[0.5555555555555556,\"#d8576b\"],[0.6666666666666666,\"#ed7953\"],[0.7777777777777778,\"#fb9f3a\"],[0.8888888888888888,\"#fdca26\"],[1.0,\"#f0f921\"]],\"sequentialminus\":[[0.0,\"#0d0887\"],[0.1111111111111111,\"#46039f\"],[0.2222222222222222,\"#7201a8\"],[0.3333333333333333,\"#9c179e\"],[0.4444444444444444,\"#bd3786\"],[0.5555555555555556,\"#d8576b\"],[0.6666666666666666,\"#ed7953\"],[0.7777777777777778,\"#fb9f3a\"],[0.8888888888888888,\"#fdca26\"],[1.0,\"#f0f921\"]],\"diverging\":[[0,\"#8e0152\"],[0.1,\"#c51b7d\"],[0.2,\"#de77ae\"],[0.3,\"#f1b6da\"],[0.4,\"#fde0ef\"],[0.5,\"#f7f7f7\"],[0.6,\"#e6f5d0\"],[0.7,\"#b8e186\"],[0.8,\"#7fbc41\"],[0.9,\"#4d9221\"],[1,\"#276419\"]]},\"xaxis\":{\"gridcolor\":\"white\",\"linecolor\":\"white\",\"ticks\":\"\",\"title\":{\"standoff\":15},\"zerolinecolor\":\"white\",\"automargin\":true,\"zerolinewidth\":2},\"yaxis\":{\"gridcolor\":\"white\",\"linecolor\":\"white\",\"ticks\":\"\",\"title\":{\"standoff\":15},\"zerolinecolor\":\"white\",\"automargin\":true,\"zerolinewidth\":2},\"scene\":{\"xaxis\":{\"backgroundcolor\":\"#E5ECF6\",\"gridcolor\":\"white\",\"linecolor\":\"white\",\"showbackground\":true,\"ticks\":\"\",\"zerolinecolor\":\"white\",\"gridwidth\":2},\"yaxis\":{\"backgroundcolor\":\"#E5ECF6\",\"gridcolor\":\"white\",\"linecolor\":\"white\",\"showbackground\":true,\"ticks\":\"\",\"zerolinecolor\":\"white\",\"gridwidth\":2},\"zaxis\":{\"backgroundcolor\":\"#E5ECF6\",\"gridcolor\":\"white\",\"linecolor\":\"white\",\"showbackground\":true,\"ticks\":\"\",\"zerolinecolor\":\"white\",\"gridwidth\":2}},\"shapedefaults\":{\"line\":{\"color\":\"#2a3f5f\"}},\"annotationdefaults\":{\"arrowcolor\":\"#2a3f5f\",\"arrowhead\":0,\"arrowwidth\":1},\"geo\":{\"bgcolor\":\"white\",\"landcolor\":\"#E5ECF6\",\"subunitcolor\":\"white\",\"showland\":true,\"showlakes\":true,\"lakecolor\":\"white\"},\"title\":{\"x\":0.05},\"mapbox\":{\"style\":\"light\"}}}},                        {\"responsive\": true}                    ).then(function(){\n",
       "                            \n",
       "var gd = document.getElementById('a5c80a6a-5680-43e2-8afb-8c407e4a55dc');\n",
       "var x = new MutationObserver(function (mutations, observer) {{\n",
       "        var display = window.getComputedStyle(gd).display;\n",
       "        if (!display || display === 'none') {{\n",
       "            console.log([gd, 'removed!']);\n",
       "            Plotly.purge(gd);\n",
       "            observer.disconnect();\n",
       "        }}\n",
       "}});\n",
       "\n",
       "// Listen for the removal of the full notebook cells\n",
       "var notebookContainer = gd.closest('#notebook-container');\n",
       "if (notebookContainer) {{\n",
       "    x.observe(notebookContainer, {childList: true});\n",
       "}}\n",
       "\n",
       "// Listen for the clearing of the current output cell\n",
       "var outputEl = gd.closest('.output');\n",
       "if (outputEl) {{\n",
       "    x.observe(outputEl, {childList: true});\n",
       "}}\n",
       "\n",
       "                        })                };                });            </script>        </div>"
      ]
     },
     "metadata": {},
     "output_type": "display_data"
    },
    {
     "data": {
      "application/vnd.plotly.v1+json": {
       "config": {
        "plotlyServerURL": "https://plot.ly"
       },
       "data": [
        {
         "box": {
          "visible": true
         },
         "meanline": {
          "visible": true
         },
         "name": "pigs",
         "type": "violin",
         "x": [
          "pigs",
          "pigs",
          "pigs",
          "pigs",
          "pigs",
          "pigs",
          "pigs",
          "pigs",
          "pigs",
          "pigs",
          "pigs",
          "pigs",
          "pigs",
          "pigs",
          "pigs",
          "pigs",
          "pigs",
          "pigs",
          "pigs",
          "pigs",
          "pigs",
          "pigs",
          "pigs",
          "pigs",
          "pigs",
          "pigs",
          "pigs",
          "pigs",
          "pigs",
          "pigs"
         ],
         "y": [
          0.5412371134020618,
          0.5306823760432008,
          0.5677466863033873,
          0.6183112420225823,
          0.4823269513991163,
          0.5309278350515464,
          0.6011291114383898,
          0.5694648993618066,
          0.5287187039764359,
          0.5132547864506627,
          0.604074619538537,
          0.5427098674521355,
          0.5454099165439371,
          0.6180657830142366,
          0.5810014727540501,
          0.5792832596956309,
          0.5976926853215513,
          0.5473735886107021,
          0.529945999018164,
          0.4825724104074619,
          0.625920471281296,
          0.6251840942562592,
          0.539273441335297,
          0.6303387334315169,
          0.6497299950908199,
          0.5719194894452626,
          0.6406480117820325,
          0.5765832106038291,
          0.5640648011782032,
          0.5522827687776142
         ]
        }
       ],
       "layout": {
        "template": {
         "data": {
          "bar": [
           {
            "error_x": {
             "color": "#2a3f5f"
            },
            "error_y": {
             "color": "#2a3f5f"
            },
            "marker": {
             "line": {
              "color": "#E5ECF6",
              "width": 0.5
             },
             "pattern": {
              "fillmode": "overlay",
              "size": 10,
              "solidity": 0.2
             }
            },
            "type": "bar"
           }
          ],
          "barpolar": [
           {
            "marker": {
             "line": {
              "color": "#E5ECF6",
              "width": 0.5
             },
             "pattern": {
              "fillmode": "overlay",
              "size": 10,
              "solidity": 0.2
             }
            },
            "type": "barpolar"
           }
          ],
          "carpet": [
           {
            "aaxis": {
             "endlinecolor": "#2a3f5f",
             "gridcolor": "white",
             "linecolor": "white",
             "minorgridcolor": "white",
             "startlinecolor": "#2a3f5f"
            },
            "baxis": {
             "endlinecolor": "#2a3f5f",
             "gridcolor": "white",
             "linecolor": "white",
             "minorgridcolor": "white",
             "startlinecolor": "#2a3f5f"
            },
            "type": "carpet"
           }
          ],
          "choropleth": [
           {
            "colorbar": {
             "outlinewidth": 0,
             "ticks": ""
            },
            "type": "choropleth"
           }
          ],
          "contour": [
           {
            "colorbar": {
             "outlinewidth": 0,
             "ticks": ""
            },
            "colorscale": [
             [
              0,
              "#0d0887"
             ],
             [
              0.1111111111111111,
              "#46039f"
             ],
             [
              0.2222222222222222,
              "#7201a8"
             ],
             [
              0.3333333333333333,
              "#9c179e"
             ],
             [
              0.4444444444444444,
              "#bd3786"
             ],
             [
              0.5555555555555556,
              "#d8576b"
             ],
             [
              0.6666666666666666,
              "#ed7953"
             ],
             [
              0.7777777777777778,
              "#fb9f3a"
             ],
             [
              0.8888888888888888,
              "#fdca26"
             ],
             [
              1,
              "#f0f921"
             ]
            ],
            "type": "contour"
           }
          ],
          "contourcarpet": [
           {
            "colorbar": {
             "outlinewidth": 0,
             "ticks": ""
            },
            "type": "contourcarpet"
           }
          ],
          "heatmap": [
           {
            "colorbar": {
             "outlinewidth": 0,
             "ticks": ""
            },
            "colorscale": [
             [
              0,
              "#0d0887"
             ],
             [
              0.1111111111111111,
              "#46039f"
             ],
             [
              0.2222222222222222,
              "#7201a8"
             ],
             [
              0.3333333333333333,
              "#9c179e"
             ],
             [
              0.4444444444444444,
              "#bd3786"
             ],
             [
              0.5555555555555556,
              "#d8576b"
             ],
             [
              0.6666666666666666,
              "#ed7953"
             ],
             [
              0.7777777777777778,
              "#fb9f3a"
             ],
             [
              0.8888888888888888,
              "#fdca26"
             ],
             [
              1,
              "#f0f921"
             ]
            ],
            "type": "heatmap"
           }
          ],
          "heatmapgl": [
           {
            "colorbar": {
             "outlinewidth": 0,
             "ticks": ""
            },
            "colorscale": [
             [
              0,
              "#0d0887"
             ],
             [
              0.1111111111111111,
              "#46039f"
             ],
             [
              0.2222222222222222,
              "#7201a8"
             ],
             [
              0.3333333333333333,
              "#9c179e"
             ],
             [
              0.4444444444444444,
              "#bd3786"
             ],
             [
              0.5555555555555556,
              "#d8576b"
             ],
             [
              0.6666666666666666,
              "#ed7953"
             ],
             [
              0.7777777777777778,
              "#fb9f3a"
             ],
             [
              0.8888888888888888,
              "#fdca26"
             ],
             [
              1,
              "#f0f921"
             ]
            ],
            "type": "heatmapgl"
           }
          ],
          "histogram": [
           {
            "marker": {
             "pattern": {
              "fillmode": "overlay",
              "size": 10,
              "solidity": 0.2
             }
            },
            "type": "histogram"
           }
          ],
          "histogram2d": [
           {
            "colorbar": {
             "outlinewidth": 0,
             "ticks": ""
            },
            "colorscale": [
             [
              0,
              "#0d0887"
             ],
             [
              0.1111111111111111,
              "#46039f"
             ],
             [
              0.2222222222222222,
              "#7201a8"
             ],
             [
              0.3333333333333333,
              "#9c179e"
             ],
             [
              0.4444444444444444,
              "#bd3786"
             ],
             [
              0.5555555555555556,
              "#d8576b"
             ],
             [
              0.6666666666666666,
              "#ed7953"
             ],
             [
              0.7777777777777778,
              "#fb9f3a"
             ],
             [
              0.8888888888888888,
              "#fdca26"
             ],
             [
              1,
              "#f0f921"
             ]
            ],
            "type": "histogram2d"
           }
          ],
          "histogram2dcontour": [
           {
            "colorbar": {
             "outlinewidth": 0,
             "ticks": ""
            },
            "colorscale": [
             [
              0,
              "#0d0887"
             ],
             [
              0.1111111111111111,
              "#46039f"
             ],
             [
              0.2222222222222222,
              "#7201a8"
             ],
             [
              0.3333333333333333,
              "#9c179e"
             ],
             [
              0.4444444444444444,
              "#bd3786"
             ],
             [
              0.5555555555555556,
              "#d8576b"
             ],
             [
              0.6666666666666666,
              "#ed7953"
             ],
             [
              0.7777777777777778,
              "#fb9f3a"
             ],
             [
              0.8888888888888888,
              "#fdca26"
             ],
             [
              1,
              "#f0f921"
             ]
            ],
            "type": "histogram2dcontour"
           }
          ],
          "mesh3d": [
           {
            "colorbar": {
             "outlinewidth": 0,
             "ticks": ""
            },
            "type": "mesh3d"
           }
          ],
          "parcoords": [
           {
            "line": {
             "colorbar": {
              "outlinewidth": 0,
              "ticks": ""
             }
            },
            "type": "parcoords"
           }
          ],
          "pie": [
           {
            "automargin": true,
            "type": "pie"
           }
          ],
          "scatter": [
           {
            "fillpattern": {
             "fillmode": "overlay",
             "size": 10,
             "solidity": 0.2
            },
            "type": "scatter"
           }
          ],
          "scatter3d": [
           {
            "line": {
             "colorbar": {
              "outlinewidth": 0,
              "ticks": ""
             }
            },
            "marker": {
             "colorbar": {
              "outlinewidth": 0,
              "ticks": ""
             }
            },
            "type": "scatter3d"
           }
          ],
          "scattercarpet": [
           {
            "marker": {
             "colorbar": {
              "outlinewidth": 0,
              "ticks": ""
             }
            },
            "type": "scattercarpet"
           }
          ],
          "scattergeo": [
           {
            "marker": {
             "colorbar": {
              "outlinewidth": 0,
              "ticks": ""
             }
            },
            "type": "scattergeo"
           }
          ],
          "scattergl": [
           {
            "marker": {
             "colorbar": {
              "outlinewidth": 0,
              "ticks": ""
             }
            },
            "type": "scattergl"
           }
          ],
          "scattermapbox": [
           {
            "marker": {
             "colorbar": {
              "outlinewidth": 0,
              "ticks": ""
             }
            },
            "type": "scattermapbox"
           }
          ],
          "scatterpolar": [
           {
            "marker": {
             "colorbar": {
              "outlinewidth": 0,
              "ticks": ""
             }
            },
            "type": "scatterpolar"
           }
          ],
          "scatterpolargl": [
           {
            "marker": {
             "colorbar": {
              "outlinewidth": 0,
              "ticks": ""
             }
            },
            "type": "scatterpolargl"
           }
          ],
          "scatterternary": [
           {
            "marker": {
             "colorbar": {
              "outlinewidth": 0,
              "ticks": ""
             }
            },
            "type": "scatterternary"
           }
          ],
          "surface": [
           {
            "colorbar": {
             "outlinewidth": 0,
             "ticks": ""
            },
            "colorscale": [
             [
              0,
              "#0d0887"
             ],
             [
              0.1111111111111111,
              "#46039f"
             ],
             [
              0.2222222222222222,
              "#7201a8"
             ],
             [
              0.3333333333333333,
              "#9c179e"
             ],
             [
              0.4444444444444444,
              "#bd3786"
             ],
             [
              0.5555555555555556,
              "#d8576b"
             ],
             [
              0.6666666666666666,
              "#ed7953"
             ],
             [
              0.7777777777777778,
              "#fb9f3a"
             ],
             [
              0.8888888888888888,
              "#fdca26"
             ],
             [
              1,
              "#f0f921"
             ]
            ],
            "type": "surface"
           }
          ],
          "table": [
           {
            "cells": {
             "fill": {
              "color": "#EBF0F8"
             },
             "line": {
              "color": "white"
             }
            },
            "header": {
             "fill": {
              "color": "#C8D4E3"
             },
             "line": {
              "color": "white"
             }
            },
            "type": "table"
           }
          ]
         },
         "layout": {
          "annotationdefaults": {
           "arrowcolor": "#2a3f5f",
           "arrowhead": 0,
           "arrowwidth": 1
          },
          "autotypenumbers": "strict",
          "coloraxis": {
           "colorbar": {
            "outlinewidth": 0,
            "ticks": ""
           }
          },
          "colorscale": {
           "diverging": [
            [
             0,
             "#8e0152"
            ],
            [
             0.1,
             "#c51b7d"
            ],
            [
             0.2,
             "#de77ae"
            ],
            [
             0.3,
             "#f1b6da"
            ],
            [
             0.4,
             "#fde0ef"
            ],
            [
             0.5,
             "#f7f7f7"
            ],
            [
             0.6,
             "#e6f5d0"
            ],
            [
             0.7,
             "#b8e186"
            ],
            [
             0.8,
             "#7fbc41"
            ],
            [
             0.9,
             "#4d9221"
            ],
            [
             1,
             "#276419"
            ]
           ],
           "sequential": [
            [
             0,
             "#0d0887"
            ],
            [
             0.1111111111111111,
             "#46039f"
            ],
            [
             0.2222222222222222,
             "#7201a8"
            ],
            [
             0.3333333333333333,
             "#9c179e"
            ],
            [
             0.4444444444444444,
             "#bd3786"
            ],
            [
             0.5555555555555556,
             "#d8576b"
            ],
            [
             0.6666666666666666,
             "#ed7953"
            ],
            [
             0.7777777777777778,
             "#fb9f3a"
            ],
            [
             0.8888888888888888,
             "#fdca26"
            ],
            [
             1,
             "#f0f921"
            ]
           ],
           "sequentialminus": [
            [
             0,
             "#0d0887"
            ],
            [
             0.1111111111111111,
             "#46039f"
            ],
            [
             0.2222222222222222,
             "#7201a8"
            ],
            [
             0.3333333333333333,
             "#9c179e"
            ],
            [
             0.4444444444444444,
             "#bd3786"
            ],
            [
             0.5555555555555556,
             "#d8576b"
            ],
            [
             0.6666666666666666,
             "#ed7953"
            ],
            [
             0.7777777777777778,
             "#fb9f3a"
            ],
            [
             0.8888888888888888,
             "#fdca26"
            ],
            [
             1,
             "#f0f921"
            ]
           ]
          },
          "colorway": [
           "#636efa",
           "#EF553B",
           "#00cc96",
           "#ab63fa",
           "#FFA15A",
           "#19d3f3",
           "#FF6692",
           "#B6E880",
           "#FF97FF",
           "#FECB52"
          ],
          "font": {
           "color": "#2a3f5f"
          },
          "geo": {
           "bgcolor": "white",
           "lakecolor": "white",
           "landcolor": "#E5ECF6",
           "showlakes": true,
           "showland": true,
           "subunitcolor": "white"
          },
          "hoverlabel": {
           "align": "left"
          },
          "hovermode": "closest",
          "mapbox": {
           "style": "light"
          },
          "paper_bgcolor": "white",
          "plot_bgcolor": "#E5ECF6",
          "polar": {
           "angularaxis": {
            "gridcolor": "white",
            "linecolor": "white",
            "ticks": ""
           },
           "bgcolor": "#E5ECF6",
           "radialaxis": {
            "gridcolor": "white",
            "linecolor": "white",
            "ticks": ""
           }
          },
          "scene": {
           "xaxis": {
            "backgroundcolor": "#E5ECF6",
            "gridcolor": "white",
            "gridwidth": 2,
            "linecolor": "white",
            "showbackground": true,
            "ticks": "",
            "zerolinecolor": "white"
           },
           "yaxis": {
            "backgroundcolor": "#E5ECF6",
            "gridcolor": "white",
            "gridwidth": 2,
            "linecolor": "white",
            "showbackground": true,
            "ticks": "",
            "zerolinecolor": "white"
           },
           "zaxis": {
            "backgroundcolor": "#E5ECF6",
            "gridcolor": "white",
            "gridwidth": 2,
            "linecolor": "white",
            "showbackground": true,
            "ticks": "",
            "zerolinecolor": "white"
           }
          },
          "shapedefaults": {
           "line": {
            "color": "#2a3f5f"
           }
          },
          "ternary": {
           "aaxis": {
            "gridcolor": "white",
            "linecolor": "white",
            "ticks": ""
           },
           "baxis": {
            "gridcolor": "white",
            "linecolor": "white",
            "ticks": ""
           },
           "bgcolor": "#E5ECF6",
           "caxis": {
            "gridcolor": "white",
            "linecolor": "white",
            "ticks": ""
           }
          },
          "title": {
           "x": 0.05
          },
          "xaxis": {
           "automargin": true,
           "gridcolor": "white",
           "linecolor": "white",
           "ticks": "",
           "title": {
            "standoff": 15
           },
           "zerolinecolor": "white",
           "zerolinewidth": 2
          },
          "yaxis": {
           "automargin": true,
           "gridcolor": "white",
           "linecolor": "white",
           "ticks": "",
           "title": {
            "standoff": 15
           },
           "zerolinecolor": "white",
           "zerolinewidth": 2
          }
         }
        }
       }
      },
      "text/html": [
       "<div>                            <div id=\"c270f6cf-8dd8-4bd1-b63b-102f30bd72ef\" class=\"plotly-graph-div\" style=\"height:525px; width:100%;\"></div>            <script type=\"text/javascript\">                require([\"plotly\"], function(Plotly) {                    window.PLOTLYENV=window.PLOTLYENV || {};                                    if (document.getElementById(\"c270f6cf-8dd8-4bd1-b63b-102f30bd72ef\")) {                    Plotly.newPlot(                        \"c270f6cf-8dd8-4bd1-b63b-102f30bd72ef\",                        [{\"box\":{\"visible\":true},\"meanline\":{\"visible\":true},\"name\":\"pigs\",\"x\":[\"pigs\",\"pigs\",\"pigs\",\"pigs\",\"pigs\",\"pigs\",\"pigs\",\"pigs\",\"pigs\",\"pigs\",\"pigs\",\"pigs\",\"pigs\",\"pigs\",\"pigs\",\"pigs\",\"pigs\",\"pigs\",\"pigs\",\"pigs\",\"pigs\",\"pigs\",\"pigs\",\"pigs\",\"pigs\",\"pigs\",\"pigs\",\"pigs\",\"pigs\",\"pigs\"],\"y\":[0.5412371134020618,0.5306823760432008,0.5677466863033873,0.6183112420225823,0.4823269513991163,0.5309278350515464,0.6011291114383898,0.5694648993618066,0.5287187039764359,0.5132547864506627,0.604074619538537,0.5427098674521355,0.5454099165439371,0.6180657830142366,0.5810014727540501,0.5792832596956309,0.5976926853215513,0.5473735886107021,0.529945999018164,0.4825724104074619,0.625920471281296,0.6251840942562592,0.539273441335297,0.6303387334315169,0.6497299950908199,0.5719194894452626,0.6406480117820325,0.5765832106038291,0.5640648011782032,0.5522827687776142],\"type\":\"violin\"}],                        {\"template\":{\"data\":{\"histogram2dcontour\":[{\"type\":\"histogram2dcontour\",\"colorbar\":{\"outlinewidth\":0,\"ticks\":\"\"},\"colorscale\":[[0.0,\"#0d0887\"],[0.1111111111111111,\"#46039f\"],[0.2222222222222222,\"#7201a8\"],[0.3333333333333333,\"#9c179e\"],[0.4444444444444444,\"#bd3786\"],[0.5555555555555556,\"#d8576b\"],[0.6666666666666666,\"#ed7953\"],[0.7777777777777778,\"#fb9f3a\"],[0.8888888888888888,\"#fdca26\"],[1.0,\"#f0f921\"]]}],\"choropleth\":[{\"type\":\"choropleth\",\"colorbar\":{\"outlinewidth\":0,\"ticks\":\"\"}}],\"histogram2d\":[{\"type\":\"histogram2d\",\"colorbar\":{\"outlinewidth\":0,\"ticks\":\"\"},\"colorscale\":[[0.0,\"#0d0887\"],[0.1111111111111111,\"#46039f\"],[0.2222222222222222,\"#7201a8\"],[0.3333333333333333,\"#9c179e\"],[0.4444444444444444,\"#bd3786\"],[0.5555555555555556,\"#d8576b\"],[0.6666666666666666,\"#ed7953\"],[0.7777777777777778,\"#fb9f3a\"],[0.8888888888888888,\"#fdca26\"],[1.0,\"#f0f921\"]]}],\"heatmap\":[{\"type\":\"heatmap\",\"colorbar\":{\"outlinewidth\":0,\"ticks\":\"\"},\"colorscale\":[[0.0,\"#0d0887\"],[0.1111111111111111,\"#46039f\"],[0.2222222222222222,\"#7201a8\"],[0.3333333333333333,\"#9c179e\"],[0.4444444444444444,\"#bd3786\"],[0.5555555555555556,\"#d8576b\"],[0.6666666666666666,\"#ed7953\"],[0.7777777777777778,\"#fb9f3a\"],[0.8888888888888888,\"#fdca26\"],[1.0,\"#f0f921\"]]}],\"heatmapgl\":[{\"type\":\"heatmapgl\",\"colorbar\":{\"outlinewidth\":0,\"ticks\":\"\"},\"colorscale\":[[0.0,\"#0d0887\"],[0.1111111111111111,\"#46039f\"],[0.2222222222222222,\"#7201a8\"],[0.3333333333333333,\"#9c179e\"],[0.4444444444444444,\"#bd3786\"],[0.5555555555555556,\"#d8576b\"],[0.6666666666666666,\"#ed7953\"],[0.7777777777777778,\"#fb9f3a\"],[0.8888888888888888,\"#fdca26\"],[1.0,\"#f0f921\"]]}],\"contourcarpet\":[{\"type\":\"contourcarpet\",\"colorbar\":{\"outlinewidth\":0,\"ticks\":\"\"}}],\"contour\":[{\"type\":\"contour\",\"colorbar\":{\"outlinewidth\":0,\"ticks\":\"\"},\"colorscale\":[[0.0,\"#0d0887\"],[0.1111111111111111,\"#46039f\"],[0.2222222222222222,\"#7201a8\"],[0.3333333333333333,\"#9c179e\"],[0.4444444444444444,\"#bd3786\"],[0.5555555555555556,\"#d8576b\"],[0.6666666666666666,\"#ed7953\"],[0.7777777777777778,\"#fb9f3a\"],[0.8888888888888888,\"#fdca26\"],[1.0,\"#f0f921\"]]}],\"surface\":[{\"type\":\"surface\",\"colorbar\":{\"outlinewidth\":0,\"ticks\":\"\"},\"colorscale\":[[0.0,\"#0d0887\"],[0.1111111111111111,\"#46039f\"],[0.2222222222222222,\"#7201a8\"],[0.3333333333333333,\"#9c179e\"],[0.4444444444444444,\"#bd3786\"],[0.5555555555555556,\"#d8576b\"],[0.6666666666666666,\"#ed7953\"],[0.7777777777777778,\"#fb9f3a\"],[0.8888888888888888,\"#fdca26\"],[1.0,\"#f0f921\"]]}],\"mesh3d\":[{\"type\":\"mesh3d\",\"colorbar\":{\"outlinewidth\":0,\"ticks\":\"\"}}],\"scatter\":[{\"fillpattern\":{\"fillmode\":\"overlay\",\"size\":10,\"solidity\":0.2},\"type\":\"scatter\"}],\"parcoords\":[{\"type\":\"parcoords\",\"line\":{\"colorbar\":{\"outlinewidth\":0,\"ticks\":\"\"}}}],\"scatterpolargl\":[{\"type\":\"scatterpolargl\",\"marker\":{\"colorbar\":{\"outlinewidth\":0,\"ticks\":\"\"}}}],\"bar\":[{\"error_x\":{\"color\":\"#2a3f5f\"},\"error_y\":{\"color\":\"#2a3f5f\"},\"marker\":{\"line\":{\"color\":\"#E5ECF6\",\"width\":0.5},\"pattern\":{\"fillmode\":\"overlay\",\"size\":10,\"solidity\":0.2}},\"type\":\"bar\"}],\"scattergeo\":[{\"type\":\"scattergeo\",\"marker\":{\"colorbar\":{\"outlinewidth\":0,\"ticks\":\"\"}}}],\"scatterpolar\":[{\"type\":\"scatterpolar\",\"marker\":{\"colorbar\":{\"outlinewidth\":0,\"ticks\":\"\"}}}],\"histogram\":[{\"marker\":{\"pattern\":{\"fillmode\":\"overlay\",\"size\":10,\"solidity\":0.2}},\"type\":\"histogram\"}],\"scattergl\":[{\"type\":\"scattergl\",\"marker\":{\"colorbar\":{\"outlinewidth\":0,\"ticks\":\"\"}}}],\"scatter3d\":[{\"type\":\"scatter3d\",\"line\":{\"colorbar\":{\"outlinewidth\":0,\"ticks\":\"\"}},\"marker\":{\"colorbar\":{\"outlinewidth\":0,\"ticks\":\"\"}}}],\"scattermapbox\":[{\"type\":\"scattermapbox\",\"marker\":{\"colorbar\":{\"outlinewidth\":0,\"ticks\":\"\"}}}],\"scatterternary\":[{\"type\":\"scatterternary\",\"marker\":{\"colorbar\":{\"outlinewidth\":0,\"ticks\":\"\"}}}],\"scattercarpet\":[{\"type\":\"scattercarpet\",\"marker\":{\"colorbar\":{\"outlinewidth\":0,\"ticks\":\"\"}}}],\"carpet\":[{\"aaxis\":{\"endlinecolor\":\"#2a3f5f\",\"gridcolor\":\"white\",\"linecolor\":\"white\",\"minorgridcolor\":\"white\",\"startlinecolor\":\"#2a3f5f\"},\"baxis\":{\"endlinecolor\":\"#2a3f5f\",\"gridcolor\":\"white\",\"linecolor\":\"white\",\"minorgridcolor\":\"white\",\"startlinecolor\":\"#2a3f5f\"},\"type\":\"carpet\"}],\"table\":[{\"cells\":{\"fill\":{\"color\":\"#EBF0F8\"},\"line\":{\"color\":\"white\"}},\"header\":{\"fill\":{\"color\":\"#C8D4E3\"},\"line\":{\"color\":\"white\"}},\"type\":\"table\"}],\"barpolar\":[{\"marker\":{\"line\":{\"color\":\"#E5ECF6\",\"width\":0.5},\"pattern\":{\"fillmode\":\"overlay\",\"size\":10,\"solidity\":0.2}},\"type\":\"barpolar\"}],\"pie\":[{\"automargin\":true,\"type\":\"pie\"}]},\"layout\":{\"autotypenumbers\":\"strict\",\"colorway\":[\"#636efa\",\"#EF553B\",\"#00cc96\",\"#ab63fa\",\"#FFA15A\",\"#19d3f3\",\"#FF6692\",\"#B6E880\",\"#FF97FF\",\"#FECB52\"],\"font\":{\"color\":\"#2a3f5f\"},\"hovermode\":\"closest\",\"hoverlabel\":{\"align\":\"left\"},\"paper_bgcolor\":\"white\",\"plot_bgcolor\":\"#E5ECF6\",\"polar\":{\"bgcolor\":\"#E5ECF6\",\"angularaxis\":{\"gridcolor\":\"white\",\"linecolor\":\"white\",\"ticks\":\"\"},\"radialaxis\":{\"gridcolor\":\"white\",\"linecolor\":\"white\",\"ticks\":\"\"}},\"ternary\":{\"bgcolor\":\"#E5ECF6\",\"aaxis\":{\"gridcolor\":\"white\",\"linecolor\":\"white\",\"ticks\":\"\"},\"baxis\":{\"gridcolor\":\"white\",\"linecolor\":\"white\",\"ticks\":\"\"},\"caxis\":{\"gridcolor\":\"white\",\"linecolor\":\"white\",\"ticks\":\"\"}},\"coloraxis\":{\"colorbar\":{\"outlinewidth\":0,\"ticks\":\"\"}},\"colorscale\":{\"sequential\":[[0.0,\"#0d0887\"],[0.1111111111111111,\"#46039f\"],[0.2222222222222222,\"#7201a8\"],[0.3333333333333333,\"#9c179e\"],[0.4444444444444444,\"#bd3786\"],[0.5555555555555556,\"#d8576b\"],[0.6666666666666666,\"#ed7953\"],[0.7777777777777778,\"#fb9f3a\"],[0.8888888888888888,\"#fdca26\"],[1.0,\"#f0f921\"]],\"sequentialminus\":[[0.0,\"#0d0887\"],[0.1111111111111111,\"#46039f\"],[0.2222222222222222,\"#7201a8\"],[0.3333333333333333,\"#9c179e\"],[0.4444444444444444,\"#bd3786\"],[0.5555555555555556,\"#d8576b\"],[0.6666666666666666,\"#ed7953\"],[0.7777777777777778,\"#fb9f3a\"],[0.8888888888888888,\"#fdca26\"],[1.0,\"#f0f921\"]],\"diverging\":[[0,\"#8e0152\"],[0.1,\"#c51b7d\"],[0.2,\"#de77ae\"],[0.3,\"#f1b6da\"],[0.4,\"#fde0ef\"],[0.5,\"#f7f7f7\"],[0.6,\"#e6f5d0\"],[0.7,\"#b8e186\"],[0.8,\"#7fbc41\"],[0.9,\"#4d9221\"],[1,\"#276419\"]]},\"xaxis\":{\"gridcolor\":\"white\",\"linecolor\":\"white\",\"ticks\":\"\",\"title\":{\"standoff\":15},\"zerolinecolor\":\"white\",\"automargin\":true,\"zerolinewidth\":2},\"yaxis\":{\"gridcolor\":\"white\",\"linecolor\":\"white\",\"ticks\":\"\",\"title\":{\"standoff\":15},\"zerolinecolor\":\"white\",\"automargin\":true,\"zerolinewidth\":2},\"scene\":{\"xaxis\":{\"backgroundcolor\":\"#E5ECF6\",\"gridcolor\":\"white\",\"linecolor\":\"white\",\"showbackground\":true,\"ticks\":\"\",\"zerolinecolor\":\"white\",\"gridwidth\":2},\"yaxis\":{\"backgroundcolor\":\"#E5ECF6\",\"gridcolor\":\"white\",\"linecolor\":\"white\",\"showbackground\":true,\"ticks\":\"\",\"zerolinecolor\":\"white\",\"gridwidth\":2},\"zaxis\":{\"backgroundcolor\":\"#E5ECF6\",\"gridcolor\":\"white\",\"linecolor\":\"white\",\"showbackground\":true,\"ticks\":\"\",\"zerolinecolor\":\"white\",\"gridwidth\":2}},\"shapedefaults\":{\"line\":{\"color\":\"#2a3f5f\"}},\"annotationdefaults\":{\"arrowcolor\":\"#2a3f5f\",\"arrowhead\":0,\"arrowwidth\":1},\"geo\":{\"bgcolor\":\"white\",\"landcolor\":\"#E5ECF6\",\"subunitcolor\":\"white\",\"showland\":true,\"showlakes\":true,\"lakecolor\":\"white\"},\"title\":{\"x\":0.05},\"mapbox\":{\"style\":\"light\"}}}},                        {\"responsive\": true}                    ).then(function(){\n",
       "                            \n",
       "var gd = document.getElementById('c270f6cf-8dd8-4bd1-b63b-102f30bd72ef');\n",
       "var x = new MutationObserver(function (mutations, observer) {{\n",
       "        var display = window.getComputedStyle(gd).display;\n",
       "        if (!display || display === 'none') {{\n",
       "            console.log([gd, 'removed!']);\n",
       "            Plotly.purge(gd);\n",
       "            observer.disconnect();\n",
       "        }}\n",
       "}});\n",
       "\n",
       "// Listen for the removal of the full notebook cells\n",
       "var notebookContainer = gd.closest('#notebook-container');\n",
       "if (notebookContainer) {{\n",
       "    x.observe(notebookContainer, {childList: true});\n",
       "}}\n",
       "\n",
       "// Listen for the clearing of the current output cell\n",
       "var outputEl = gd.closest('.output');\n",
       "if (outputEl) {{\n",
       "    x.observe(outputEl, {childList: true});\n",
       "}}\n",
       "\n",
       "                        })                };                });            </script>        </div>"
      ]
     },
     "metadata": {},
     "output_type": "display_data"
    }
   ],
   "source": [
    "for i in range(0, len(groups_with_more_than_one_member), 4):\n",
    "    stop =  i + 4 if i + 4 < len(groups_with_more_than_one_member) else len(groups_with_more_than_one_member)\n",
    "    fig = go.Figure()\n",
    "    for group in groups_with_more_than_one_member[i:stop]:\n",
    "        fig.add_trace(go.Violin(x=df['group'][df['group'] == group],\n",
    "                            y=df['varsortability'][df['group'] == group],\n",
    "                            name=group,\n",
    "                            box_visible=True,\n",
    "                            meanline_visible=True))\n",
    "    fig.show()\n",
    "    fig.write_html(f\"graph_interactive/datasets_group_violin{i}.html\")\n",
    "        \n"
   ]
  },
  {
   "cell_type": "code",
   "execution_count": 14,
   "id": "13ec7d90",
   "metadata": {},
   "outputs": [
    {
     "data": {
      "application/vnd.plotly.v1+json": {
       "config": {
        "plotlyServerURL": "https://plot.ly"
       },
       "data": [
        {
         "box": {
          "visible": true
         },
         "meanline": {
          "visible": true
         },
         "name": "real",
         "type": "violin",
         "x": [
          "real",
          "real",
          "real",
          "real",
          "real",
          "real"
         ],
         "y": [
          0.75,
          0.4888888888888889,
          0.125,
          0.734375,
          0.5851648351648352,
          0.65
         ]
        },
        {
         "box": {
          "visible": true
         },
         "meanline": {
          "visible": true
         },
         "name": "semi-synthetic",
         "type": "violin",
         "x": [
          "semi-synthetic",
          "semi-synthetic",
          "semi-synthetic",
          "semi-synthetic",
          "semi-synthetic",
          "semi-synthetic",
          "semi-synthetic",
          "semi-synthetic",
          "semi-synthetic",
          "semi-synthetic",
          "semi-synthetic",
          "semi-synthetic",
          "semi-synthetic",
          "semi-synthetic",
          "semi-synthetic",
          "semi-synthetic",
          "semi-synthetic",
          "semi-synthetic",
          "semi-synthetic",
          "semi-synthetic",
          "semi-synthetic",
          "semi-synthetic",
          "semi-synthetic",
          "semi-synthetic",
          "semi-synthetic",
          "semi-synthetic",
          "semi-synthetic",
          "semi-synthetic",
          "semi-synthetic",
          "semi-synthetic",
          "semi-synthetic",
          "semi-synthetic",
          "semi-synthetic",
          "semi-synthetic",
          "semi-synthetic",
          "semi-synthetic",
          "semi-synthetic",
          "semi-synthetic",
          "semi-synthetic",
          "semi-synthetic",
          "semi-synthetic",
          "semi-synthetic",
          "semi-synthetic",
          "semi-synthetic",
          "semi-synthetic",
          "semi-synthetic",
          "semi-synthetic",
          "semi-synthetic",
          "semi-synthetic",
          "semi-synthetic",
          "semi-synthetic",
          "semi-synthetic",
          "semi-synthetic",
          "semi-synthetic",
          "semi-synthetic",
          "semi-synthetic",
          "semi-synthetic",
          "semi-synthetic",
          "semi-synthetic",
          "semi-synthetic",
          "semi-synthetic",
          "semi-synthetic",
          "semi-synthetic",
          "semi-synthetic",
          "semi-synthetic",
          "semi-synthetic",
          "semi-synthetic",
          "semi-synthetic",
          "semi-synthetic",
          "semi-synthetic",
          "semi-synthetic",
          "semi-synthetic",
          "semi-synthetic",
          "semi-synthetic",
          "semi-synthetic",
          "semi-synthetic",
          "semi-synthetic",
          "semi-synthetic",
          "semi-synthetic",
          "semi-synthetic",
          "semi-synthetic",
          "semi-synthetic",
          "semi-synthetic",
          "semi-synthetic",
          "semi-synthetic",
          "semi-synthetic",
          "semi-synthetic",
          "semi-synthetic",
          "semi-synthetic",
          "semi-synthetic",
          "semi-synthetic",
          "semi-synthetic",
          "semi-synthetic",
          "semi-synthetic",
          "semi-synthetic",
          "semi-synthetic",
          "semi-synthetic",
          "semi-synthetic",
          "semi-synthetic",
          "semi-synthetic",
          "semi-synthetic",
          "semi-synthetic",
          "semi-synthetic",
          "semi-synthetic",
          "semi-synthetic",
          "semi-synthetic",
          "semi-synthetic",
          "semi-synthetic",
          "semi-synthetic",
          "semi-synthetic",
          "semi-synthetic",
          "semi-synthetic",
          "semi-synthetic",
          "semi-synthetic",
          "semi-synthetic",
          "semi-synthetic",
          "semi-synthetic",
          "semi-synthetic",
          "semi-synthetic",
          "semi-synthetic",
          "semi-synthetic",
          "semi-synthetic",
          "semi-synthetic",
          "semi-synthetic",
          "semi-synthetic",
          "semi-synthetic",
          "semi-synthetic",
          "semi-synthetic",
          "semi-synthetic",
          "semi-synthetic",
          "semi-synthetic",
          "semi-synthetic",
          "semi-synthetic",
          "semi-synthetic",
          "semi-synthetic",
          "semi-synthetic",
          "semi-synthetic",
          "semi-synthetic",
          "semi-synthetic",
          "semi-synthetic",
          "semi-synthetic",
          "semi-synthetic",
          "semi-synthetic",
          "semi-synthetic",
          "semi-synthetic",
          "semi-synthetic",
          "semi-synthetic",
          "semi-synthetic",
          "semi-synthetic",
          "semi-synthetic",
          "semi-synthetic",
          "semi-synthetic",
          "semi-synthetic",
          "semi-synthetic",
          "semi-synthetic",
          "semi-synthetic",
          "semi-synthetic",
          "semi-synthetic",
          "semi-synthetic",
          "semi-synthetic",
          "semi-synthetic",
          "semi-synthetic",
          "semi-synthetic",
          "semi-synthetic",
          "semi-synthetic",
          "semi-synthetic",
          "semi-synthetic",
          "semi-synthetic",
          "semi-synthetic",
          "semi-synthetic",
          "semi-synthetic",
          "semi-synthetic",
          "semi-synthetic",
          "semi-synthetic",
          "semi-synthetic",
          "semi-synthetic",
          "semi-synthetic",
          "semi-synthetic",
          "semi-synthetic",
          "semi-synthetic",
          "semi-synthetic",
          "semi-synthetic",
          "semi-synthetic",
          "semi-synthetic",
          "semi-synthetic",
          "semi-synthetic",
          "semi-synthetic",
          "semi-synthetic",
          "semi-synthetic",
          "semi-synthetic",
          "semi-synthetic",
          "semi-synthetic",
          "semi-synthetic",
          "semi-synthetic",
          "semi-synthetic",
          "semi-synthetic",
          "semi-synthetic",
          "semi-synthetic",
          "semi-synthetic",
          "semi-synthetic",
          "semi-synthetic",
          "semi-synthetic",
          "semi-synthetic",
          "semi-synthetic",
          "semi-synthetic",
          "semi-synthetic",
          "semi-synthetic",
          "semi-synthetic",
          "semi-synthetic",
          "semi-synthetic",
          "semi-synthetic",
          "semi-synthetic",
          "semi-synthetic",
          "semi-synthetic",
          "semi-synthetic",
          "semi-synthetic",
          "semi-synthetic",
          "semi-synthetic",
          "semi-synthetic",
          "semi-synthetic",
          "semi-synthetic",
          "semi-synthetic",
          "semi-synthetic",
          "semi-synthetic",
          "semi-synthetic",
          "semi-synthetic",
          "semi-synthetic",
          "semi-synthetic",
          "semi-synthetic",
          "semi-synthetic",
          "semi-synthetic",
          "semi-synthetic",
          "semi-synthetic",
          "semi-synthetic",
          "semi-synthetic",
          "semi-synthetic",
          "semi-synthetic",
          "semi-synthetic",
          "semi-synthetic",
          "semi-synthetic",
          "semi-synthetic",
          "semi-synthetic",
          "semi-synthetic",
          "semi-synthetic",
          "semi-synthetic",
          "semi-synthetic",
          "semi-synthetic",
          "semi-synthetic",
          "semi-synthetic",
          "semi-synthetic",
          "semi-synthetic",
          "semi-synthetic",
          "semi-synthetic",
          "semi-synthetic",
          "semi-synthetic",
          "semi-synthetic",
          "semi-synthetic",
          "semi-synthetic",
          "semi-synthetic",
          "semi-synthetic",
          "semi-synthetic",
          "semi-synthetic",
          "semi-synthetic",
          "semi-synthetic",
          "semi-synthetic",
          "semi-synthetic",
          "semi-synthetic",
          "semi-synthetic",
          "semi-synthetic",
          "semi-synthetic",
          "semi-synthetic",
          "semi-synthetic",
          "semi-synthetic",
          "semi-synthetic",
          "semi-synthetic",
          "semi-synthetic",
          "semi-synthetic",
          "semi-synthetic",
          "semi-synthetic",
          "semi-synthetic",
          "semi-synthetic",
          "semi-synthetic",
          "semi-synthetic",
          "semi-synthetic",
          "semi-synthetic",
          "semi-synthetic",
          "semi-synthetic",
          "semi-synthetic",
          "semi-synthetic",
          "semi-synthetic",
          "semi-synthetic",
          "semi-synthetic",
          "semi-synthetic",
          "semi-synthetic",
          "semi-synthetic",
          "semi-synthetic",
          "semi-synthetic",
          "semi-synthetic",
          "semi-synthetic",
          "semi-synthetic",
          "semi-synthetic",
          "semi-synthetic",
          "semi-synthetic",
          "semi-synthetic",
          "semi-synthetic",
          "semi-synthetic",
          "semi-synthetic",
          "semi-synthetic",
          "semi-synthetic",
          "semi-synthetic",
          "semi-synthetic",
          "semi-synthetic",
          "semi-synthetic",
          "semi-synthetic",
          "semi-synthetic",
          "semi-synthetic",
          "semi-synthetic",
          "semi-synthetic",
          "semi-synthetic",
          "semi-synthetic",
          "semi-synthetic",
          "semi-synthetic",
          "semi-synthetic",
          "semi-synthetic",
          "semi-synthetic",
          "semi-synthetic",
          "semi-synthetic",
          "semi-synthetic",
          "semi-synthetic",
          "semi-synthetic",
          "semi-synthetic",
          "semi-synthetic",
          "semi-synthetic",
          "semi-synthetic",
          "semi-synthetic",
          "semi-synthetic",
          "semi-synthetic",
          "semi-synthetic",
          "semi-synthetic",
          "semi-synthetic",
          "semi-synthetic",
          "semi-synthetic",
          "semi-synthetic",
          "semi-synthetic",
          "semi-synthetic",
          "semi-synthetic",
          "semi-synthetic",
          "semi-synthetic",
          "semi-synthetic",
          "semi-synthetic",
          "semi-synthetic",
          "semi-synthetic",
          "semi-synthetic",
          "semi-synthetic",
          "semi-synthetic",
          "semi-synthetic",
          "semi-synthetic",
          "semi-synthetic",
          "semi-synthetic",
          "semi-synthetic",
          "semi-synthetic",
          "semi-synthetic",
          "semi-synthetic",
          "semi-synthetic",
          "semi-synthetic",
          "semi-synthetic",
          "semi-synthetic",
          "semi-synthetic",
          "semi-synthetic",
          "semi-synthetic",
          "semi-synthetic",
          "semi-synthetic",
          "semi-synthetic",
          "semi-synthetic",
          "semi-synthetic",
          "semi-synthetic",
          "semi-synthetic",
          "semi-synthetic",
          "semi-synthetic",
          "semi-synthetic",
          "semi-synthetic",
          "semi-synthetic",
          "semi-synthetic",
          "semi-synthetic",
          "semi-synthetic",
          "semi-synthetic",
          "semi-synthetic",
          "semi-synthetic",
          "semi-synthetic",
          "semi-synthetic",
          "semi-synthetic",
          "semi-synthetic",
          "semi-synthetic",
          "semi-synthetic",
          "semi-synthetic",
          "semi-synthetic",
          "semi-synthetic",
          "semi-synthetic",
          "semi-synthetic",
          "semi-synthetic",
          "semi-synthetic",
          "semi-synthetic",
          "semi-synthetic",
          "semi-synthetic",
          "semi-synthetic",
          "semi-synthetic",
          "semi-synthetic",
          "semi-synthetic",
          "semi-synthetic",
          "semi-synthetic",
          "semi-synthetic",
          "semi-synthetic",
          "semi-synthetic",
          "semi-synthetic",
          "semi-synthetic",
          "semi-synthetic",
          "semi-synthetic",
          "semi-synthetic",
          "semi-synthetic",
          "semi-synthetic",
          "semi-synthetic",
          "semi-synthetic",
          "semi-synthetic",
          "semi-synthetic",
          "semi-synthetic",
          "semi-synthetic",
          "semi-synthetic",
          "semi-synthetic",
          "semi-synthetic",
          "semi-synthetic",
          "semi-synthetic",
          "semi-synthetic",
          "semi-synthetic",
          "semi-synthetic",
          "semi-synthetic",
          "semi-synthetic",
          "semi-synthetic",
          "semi-synthetic",
          "semi-synthetic",
          "semi-synthetic",
          "semi-synthetic",
          "semi-synthetic",
          "semi-synthetic",
          "semi-synthetic",
          "semi-synthetic",
          "semi-synthetic",
          "semi-synthetic",
          "semi-synthetic",
          "semi-synthetic",
          "semi-synthetic",
          "semi-synthetic",
          "semi-synthetic",
          "semi-synthetic",
          "semi-synthetic",
          "semi-synthetic",
          "semi-synthetic",
          "semi-synthetic",
          "semi-synthetic",
          "semi-synthetic",
          "semi-synthetic",
          "semi-synthetic",
          "semi-synthetic",
          "semi-synthetic",
          "semi-synthetic",
          "semi-synthetic",
          "semi-synthetic",
          "semi-synthetic",
          "semi-synthetic",
          "semi-synthetic",
          "semi-synthetic",
          "semi-synthetic",
          "semi-synthetic",
          "semi-synthetic",
          "semi-synthetic",
          "semi-synthetic",
          "semi-synthetic",
          "semi-synthetic",
          "semi-synthetic",
          "semi-synthetic",
          "semi-synthetic",
          "semi-synthetic",
          "semi-synthetic",
          "semi-synthetic",
          "semi-synthetic",
          "semi-synthetic",
          "semi-synthetic",
          "semi-synthetic",
          "semi-synthetic",
          "semi-synthetic",
          "semi-synthetic",
          "semi-synthetic",
          "semi-synthetic",
          "semi-synthetic",
          "semi-synthetic",
          "semi-synthetic",
          "semi-synthetic",
          "semi-synthetic",
          "semi-synthetic",
          "semi-synthetic",
          "semi-synthetic",
          "semi-synthetic",
          "semi-synthetic",
          "semi-synthetic",
          "semi-synthetic",
          "semi-synthetic",
          "semi-synthetic",
          "semi-synthetic",
          "semi-synthetic",
          "semi-synthetic",
          "semi-synthetic",
          "semi-synthetic",
          "semi-synthetic",
          "semi-synthetic",
          "semi-synthetic",
          "semi-synthetic",
          "semi-synthetic",
          "semi-synthetic",
          "semi-synthetic",
          "semi-synthetic",
          "semi-synthetic",
          "semi-synthetic",
          "semi-synthetic",
          "semi-synthetic",
          "semi-synthetic",
          "semi-synthetic",
          "semi-synthetic",
          "semi-synthetic",
          "semi-synthetic",
          "semi-synthetic",
          "semi-synthetic",
          "semi-synthetic",
          "semi-synthetic",
          "semi-synthetic",
          "semi-synthetic",
          "semi-synthetic",
          "semi-synthetic",
          "semi-synthetic",
          "semi-synthetic",
          "semi-synthetic",
          "semi-synthetic",
          "semi-synthetic",
          "semi-synthetic",
          "semi-synthetic",
          "semi-synthetic",
          "semi-synthetic",
          "semi-synthetic",
          "semi-synthetic",
          "semi-synthetic",
          "semi-synthetic",
          "semi-synthetic",
          "semi-synthetic",
          "semi-synthetic",
          "semi-synthetic",
          "semi-synthetic",
          "semi-synthetic",
          "semi-synthetic",
          "semi-synthetic",
          "semi-synthetic",
          "semi-synthetic",
          "semi-synthetic",
          "semi-synthetic",
          "semi-synthetic",
          "semi-synthetic",
          "semi-synthetic",
          "semi-synthetic",
          "semi-synthetic",
          "semi-synthetic",
          "semi-synthetic",
          "semi-synthetic",
          "semi-synthetic",
          "semi-synthetic",
          "semi-synthetic",
          "semi-synthetic",
          "semi-synthetic",
          "semi-synthetic",
          "semi-synthetic",
          "semi-synthetic",
          "semi-synthetic",
          "semi-synthetic",
          "semi-synthetic",
          "semi-synthetic",
          "semi-synthetic",
          "semi-synthetic",
          "semi-synthetic",
          "semi-synthetic",
          "semi-synthetic",
          "semi-synthetic",
          "semi-synthetic",
          "semi-synthetic",
          "semi-synthetic",
          "semi-synthetic",
          "semi-synthetic",
          "semi-synthetic",
          "semi-synthetic",
          "semi-synthetic",
          "semi-synthetic",
          "semi-synthetic",
          "semi-synthetic",
          "semi-synthetic",
          "semi-synthetic",
          "semi-synthetic",
          "semi-synthetic",
          "semi-synthetic",
          "semi-synthetic",
          "semi-synthetic",
          "semi-synthetic",
          "semi-synthetic",
          "semi-synthetic",
          "semi-synthetic",
          "semi-synthetic",
          "semi-synthetic",
          "semi-synthetic",
          "semi-synthetic",
          "semi-synthetic",
          "semi-synthetic",
          "semi-synthetic",
          "semi-synthetic",
          "semi-synthetic",
          "semi-synthetic",
          "semi-synthetic",
          "semi-synthetic",
          "semi-synthetic",
          "semi-synthetic",
          "semi-synthetic",
          "semi-synthetic",
          "semi-synthetic",
          "semi-synthetic",
          "semi-synthetic",
          "semi-synthetic",
          "semi-synthetic",
          "semi-synthetic",
          "semi-synthetic",
          "semi-synthetic",
          "semi-synthetic",
          "semi-synthetic",
          "semi-synthetic",
          "semi-synthetic",
          "semi-synthetic",
          "semi-synthetic",
          "semi-synthetic",
          "semi-synthetic",
          "semi-synthetic",
          "semi-synthetic",
          "semi-synthetic",
          "semi-synthetic",
          "semi-synthetic",
          "semi-synthetic",
          "semi-synthetic",
          "semi-synthetic",
          "semi-synthetic",
          "semi-synthetic",
          "semi-synthetic",
          "semi-synthetic",
          "semi-synthetic",
          "semi-synthetic",
          "semi-synthetic",
          "semi-synthetic",
          "semi-synthetic",
          "semi-synthetic",
          "semi-synthetic",
          "semi-synthetic",
          "semi-synthetic",
          "semi-synthetic",
          "semi-synthetic"
         ],
         "y": [
          0.8675496688741722,
          0.8642384105960265,
          0.8675496688741722,
          0.8675496688741722,
          0.847682119205298,
          0.8609271523178808,
          0.8725165562913907,
          0.8576158940397351,
          0.8741721854304636,
          0.8642384105960265,
          0.8642384105960265,
          0.8741721854304636,
          0.8642384105960265,
          0.8708609271523179,
          0.8576158940397351,
          0.8576158940397351,
          0.8725165562913907,
          0.8675496688741722,
          0.8708609271523179,
          0.8708609271523179,
          0.8708609271523179,
          0.8708609271523179,
          0.8675496688741722,
          0.8675496688741722,
          0.8642384105960265,
          0.8642384105960265,
          0.8675496688741722,
          0.8675496688741722,
          0.8675496688741722,
          0.8675496688741722,
          0.8078802687843616,
          0.8210140500916311,
          0.8145998778252902,
          0.8368967623701894,
          0.820097739767868,
          0.8216249236408063,
          0.8277336591325596,
          0.8448381185094685,
          0.8246792913866829,
          0.8286499694563225,
          0.8176542455711667,
          0.818265119120342,
          0.8204031765424558,
          0.8335369578497251,
          0.8173488087965791,
          0.822846670739157,
          0.8320097739767868,
          0.8344532681734881,
          0.8197923029932804,
          0.8289554062309102,
          0.8246792913866829,
          0.8252901649358583,
          0.8295662797800856,
          0.8246792913866829,
          0.8289554062309102,
          0.8301771533292609,
          0.8283445326817349,
          0.8210140500916311,
          0.8252901649358583,
          0.8271227855833843,
          0.8464022140221402,
          0.8057349323493235,
          0.7955873308733087,
          0.8042742927429274,
          0.8161131611316114,
          0.8066574415744158,
          0.8115774907749077,
          0.8171125461254612,
          0.8289514145141451,
          0.8200338253382534,
          0.8347170971709718,
          0.7968942189421894,
          0.8015836408364083,
          0.8120387453874539,
          0.8127306273062731,
          0.809040590405904,
          0.8174969249692496,
          0.8057349323493235,
          0.8334102091020911,
          0.8204950799507995,
          0.808579335793358,
          0.808579335793358,
          0.8096555965559655,
          0.8075030750307504,
          0.8104243542435424,
          0.8030442804428044,
          0.8065805658056581,
          0.8076568265682657,
          0.8065805658056581,
          0.808579335793358,
          0.7557698839766166,
          0.7441675456316929,
          0.74212059996067,
          0.7320110123889375,
          0.7486279206964979,
          0.7516849312619555,
          0.7369361960777303,
          0.7429429536800329,
          0.7540536675188159,
          0.7585229812110053,
          0.7510681659724333,
          0.7445072134722992,
          0.7429697695621861,
          0.7383753150866152,
          0.7480558485438976,
          0.7467597475731627,
          0.735818867654683,
          0.7362032286322112,
          0.7467239930636251,
          0.7576827502368736,
          0.7388043692010655,
          0.7442658705329209,
          0.7419150115308293,
          0.7377138566601713,
          0.74075298997086,
          0.7392959937072063,
          0.741932888785598,
          0.7456245418953465,
          0.7393049323345907,
          0.7478949532509788,
          0.4178601516427969,
          0.4111204717775906,
          0.4296545914069081,
          0.4288121314237573,
          0.4414490311710193,
          0.409435551811289,
          0.4245998315080033,
          0.4237573715248525,
          0.4296545914069081,
          0.4102780117944398,
          0.4229149115417017,
          0.4102780117944398,
          0.4229149115417017,
          0.4330244313395113,
          0.4313395113732097,
          0.4111204717775906,
          0.4296545914069081,
          0.4178601516427969,
          0.4229149115417017,
          0.4170176916596461,
          0.4229149115417017,
          0.4195450716090985,
          0.4178601516427969,
          0.4203875315922493,
          0.4229149115417017,
          0.4203875315922493,
          0.4187026116259477,
          0.4220724515585509,
          0.4187026116259477,
          0.4271272114574557,
          0.5075757575757576,
          0.5,
          0.5227272727272727,
          0.5151515151515151,
          0.5151515151515151,
          0.5,
          0.5151515151515151,
          0.5,
          0.5,
          0.5,
          0.5151515151515151,
          0.5,
          0.5151515151515151,
          0.5,
          0.5151515151515151,
          0.4848484848484848,
          0.5151515151515151,
          0.5,
          0.5151515151515151,
          0.5151515151515151,
          0.5,
          0.5,
          0.5303030303030303,
          0.5,
          0.5,
          0.5151515151515151,
          0.5,
          0.5,
          0.5,
          0.5,
          0.502132196162047,
          0.4925373134328358,
          0.488272921108742,
          0.5138592750533049,
          0.5106609808102346,
          0.5149253731343284,
          0.4946695095948827,
          0.5181236673773987,
          0.4893390191897654,
          0.5127931769722814,
          0.4925373134328358,
          0.488272921108742,
          0.4914712153518124,
          0.5223880597014925,
          0.5053304904051172,
          0.5202558635394456,
          0.4925373134328358,
          0.5010660980810234,
          0.4904051172707889,
          0.5106609808102346,
          0.4989339019189765,
          0.4946695095948827,
          0.4968017057569296,
          0.4946695095948827,
          0.4946695095948827,
          0.4989339019189765,
          0.5159914712153518,
          0.5053304904051172,
          0.5053304904051172,
          0.509594882729211,
          0.4782608695652174,
          0.4987922705314009,
          0.4975845410628019,
          0.4867149758454106,
          0.4794685990338164,
          0.4927536231884058,
          0.4830917874396135,
          0.466183574879227,
          0.5217391304347826,
          0.4758454106280193,
          0.4794685990338164,
          0.4903381642512077,
          0.4927536231884058,
          0.4903381642512077,
          0.4758454106280193,
          0.4782608695652174,
          0.4842995169082125,
          0.4710144927536231,
          0.5024154589371981,
          0.4842995169082125,
          0.4879227053140096,
          0.4879227053140096,
          0.4879227053140096,
          0.4927536231884058,
          0.4879227053140096,
          0.4806763285024155,
          0.4879227053140096,
          0.4734299516908212,
          0.4806763285024155,
          0.4927536231884058,
          0.4680913348946136,
          0.4470140515222482,
          0.4543325526932084,
          0.4546252927400468,
          0.4613583138173302,
          0.4645784543325527,
          0.4716042154566744,
          0.4637002341920375,
          0.4745316159250585,
          0.4587236533957845,
          0.4648711943793911,
          0.4496487119437939,
          0.4514051522248243,
          0.4473067915690866,
          0.4613583138173302,
          0.4581381733021077,
          0.4677985948477752,
          0.4613583138173302,
          0.4716042154566744,
          0.4648711943793911,
          0.4560889929742389,
          0.4519906323185012,
          0.4531615925058548,
          0.4508196721311475,
          0.4598946135831381,
          0.4490632318501171,
          0.4534543325526932,
          0.4508196721311475,
          0.4566744730679157,
          0.4531615925058548,
          0.4096470588235294,
          0.480322586325298,
          0.4412574450395933,
          0.5155429844547235,
          0.5920889987639061,
          0.5933250927070457,
          0.6131025957972805,
          0.6131025957972805,
          0.5995055624227441,
          0.5982694684796045,
          0.6180469715698393,
          0.6019777503090235,
          0.619283065512979,
          0.5859085290482077,
          0.5982694684796045,
          0.6007416563658838,
          0.6254635352286774,
          0.6044499381953028,
          0.6081582200247219,
          0.6131025957972805,
          0.6081582200247219,
          0.6044499381953028,
          0.6007416563658838,
          0.5797280593325093,
          0.6007416563658838,
          0.5945611866501854,
          0.6056860321384425,
          0.6081582200247219,
          0.6106304079110012,
          0.6106304079110012,
          0.6069221260815822,
          0.6032138442521632,
          0.5896168108776267,
          0.6118665018541409,
          0.3675166002656042,
          0.3798406374501992,
          0.3574236387782205,
          0.350199203187251,
          0.3619123505976095,
          0.3744223107569721,
          0.3463745019920318,
          0.3769189907038512,
          0.3832403718459495,
          0.3471181938911022,
          0.3668260292164674,
          0.3716600265604249,
          0.3546082337317397,
          0.3443027888446215,
          0.3607702523240372,
          0.3656573705179283,
          0.3630013280212483,
          0.3620185922974767,
          0.3665073041168659,
          0.3574236387782205,
          0.3621513944223107,
          0.3719787516600266,
          0.3730942895086321,
          0.3585922974767596,
          0.3693227091633466,
          0.3744223107569721,
          0.3654980079681275,
          0.3634262948207171,
          0.3691633466135458,
          0.3617795484727755,
          0.3699622750417448,
          0.3518419262404914,
          0.3630563400606073,
          0.368869694283535,
          0.3650662763610876,
          0.3801665670287987,
          0.3536147931311715,
          0.3765899111505081,
          0.3635304788802078,
          0.352254220866231,
          0.3751365725947762,
          0.3610567111257705,
          0.3613040879012142,
          0.3677358840627512,
          0.3580778824548022,
          0.3664268486260281,
          0.355037209589973,
          0.3713846915005463,
          0.3625100496815024,
          0.364293223937826,
          0.3694469067595703,
          0.3636747819992166,
          0.3616751530643798,
          0.3676946546001773,
          0.3673235894370117,
          0.3645199859819827,
          0.3643550681316869,
          0.3696736688037271,
          0.3638190851182254,
          0.3675297367498815,
          0.395089133043581,
          0.4031847886238007,
          0.4023764666380645,
          0.3904195191105971,
          0.3985307193443887,
          0.3903371324466663,
          0.38815932648125,
          0.3965207956375484,
          0.3956798298793113,
          0.3916009127820577,
          0.4021899307952023,
          0.4038221194202466,
          0.3977426054082958,
          0.3995551120147736,
          0.3962860713686135,
          0.3906045004881021,
          0.3960622283571788,
          0.3979291412511581,
          0.3898972187505829,
          0.3931118531092416,
          0.3976648821404366,
          0.3974301578715016,
          0.3980348448954466,
          0.3988416124158257,
          0.4006105939923023,
          0.4005888314773017,
          0.3970353236707766,
          0.3924372151442233,
          0.3980177457765176,
          0.3941020475417685,
          0.4344827586206896,
          0.4517241379310345,
          0.4137931034482758,
          0.4379310344827586,
          0.4551724137931034,
          0.4551724137931034,
          0.4275862068965517,
          0.4655172413793103,
          0.4620689655172413,
          0.4862068965517241,
          0.4517241379310345,
          0.4551724137931034,
          0.4103448275862069,
          0.4310344827586206,
          0.4551724137931034,
          0.4517241379310345,
          0.4172413793103448,
          0.4482758620689655,
          0.4620689655172413,
          0.4827586206896552,
          0.4413793103448276,
          0.4413793103448276,
          0.4310344827586206,
          0.4413793103448276,
          0.4551724137931034,
          0.4379310344827586,
          0.4310344827586206,
          0.4413793103448276,
          0.4379310344827586,
          0.4689655172413793,
          0.5238095238095238,
          0.5492063492063493,
          0.5297619047619048,
          0.5333333333333333,
          0.5301587301587302,
          0.5261904761904762,
          0.5212301587301588,
          0.5142857142857142,
          0.5107142857142857,
          0.55,
          0.5380952380952381,
          0.5476190476190477,
          0.5307539682539683,
          0.5386904761904762,
          0.5507936507936508,
          0.5178571428571429,
          0.525,
          0.5170634920634921,
          0.5353174603174603,
          0.5303571428571429,
          0.5396825396825397,
          0.5380952380952381,
          0.525,
          0.5321428571428571,
          0.5287698412698413,
          0.5317460317460317,
          0.5339285714285714,
          0.5432539682539682,
          0.5359126984126984,
          0.5242063492063492,
          0.492354318776691,
          0.4950406392065022,
          0.4920328787252606,
          0.4981861597097856,
          0.4886118381778941,
          0.5109060017449603,
          0.4969003995040639,
          0.4953850392616062,
          0.502181200348992,
          0.5072324011571842,
          0.4902879184460669,
          0.4912981586077053,
          0.4925379988060798,
          0.4949487991918079,
          0.4970151995224319,
          0.4939155990264958,
          0.5049823207971713,
          0.4927905588464894,
          0.5067732010837122,
          0.5044542407126785,
          0.4935482389677182,
          0.4927216788354686,
          0.4954768792763007,
          0.5014235202277633,
          0.5021352803416449,
          0.5059925609588097,
          0.4970151995224319,
          0.4978417596546815,
          0.4971299995407999,
          0.4952472792395647,
          0.5281814334085779,
          0.5081828442437923,
          0.5282519751693002,
          0.5199280474040632,
          0.5049026523702032,
          0.5325550225733634,
          0.5214799661399548,
          0.508323927765237,
          0.5163656884875847,
          0.513191309255079,
          0.535517776523702,
          0.519081546275395,
          0.5223970090293454,
          0.519081546275395,
          0.5162951467268623,
          0.5290279345372461,
          0.5270174943566591,
          0.5125564334085779,
          0.5276523702031602,
          0.5098053047404063,
          0.5367522573363431,
          0.5262415349887133,
          0.5302976862302483,
          0.5290632054176072,
          0.5256066591422122,
          0.5303682279909706,
          0.5313910835214447,
          0.5242663656884876,
          0.5311794582392777,
          0.5188346501128668,
          0.771255060728745,
          0.7591093117408907,
          0.7651821862348178,
          0.7651821862348178,
          0.757085020242915,
          0.7611336032388664,
          0.7591093117408907,
          0.7611336032388664,
          0.7631578947368421,
          0.7611336032388664,
          0.757085020242915,
          0.7591093117408907,
          0.7611336032388664,
          0.7672064777327935,
          0.7611336032388664,
          0.7631578947368421,
          0.7611336032388664,
          0.7611336032388664,
          0.7611336032388664,
          0.7692307692307693,
          0.7591093117408907,
          0.7591093117408907,
          0.7611336032388664,
          0.7591093117408907,
          0.7611336032388664,
          0.7631578947368421,
          0.7611336032388664,
          0.7611336032388664,
          0.7591093117408907,
          0.7611336032388664,
          0.7446105702364395,
          0.7437413073713491,
          0.7460013908205841,
          0.7380041724617524,
          0.7475660639777468,
          0.7397426981919333,
          0.7381780250347705,
          0.7494784422809457,
          0.7506954102920723,
          0.7418289290681502,
          0.7461752433936022,
          0.7466968011126565,
          0.7437413073713491,
          0.7453059805285118,
          0.7465229485396384,
          0.747913769123783,
          0.7400904033379694,
          0.7380041724617524,
          0.7433936022253129,
          0.7402642559109874,
          0.7456536856745479,
          0.7442628650904033,
          0.7447844228094576,
          0.7449582753824756,
          0.7439151599443672,
          0.7411335187760779,
          0.7442628650904033,
          0.741481223922114,
          0.7425243393602226,
          0.7432197496522949,
          0.5412371134020618,
          0.5306823760432008,
          0.5677466863033873,
          0.6183112420225823,
          0.4823269513991163,
          0.5309278350515464,
          0.6011291114383898,
          0.5694648993618066,
          0.5287187039764359,
          0.5132547864506627,
          0.604074619538537,
          0.5427098674521355,
          0.5454099165439371,
          0.6180657830142366,
          0.5810014727540501,
          0.5792832596956309,
          0.5976926853215513,
          0.5473735886107021,
          0.529945999018164,
          0.4825724104074619,
          0.625920471281296,
          0.6251840942562592,
          0.539273441335297,
          0.6303387334315169,
          0.6497299950908199,
          0.5719194894452626,
          0.6406480117820325,
          0.5765832106038291,
          0.5640648011782032,
          0.5522827687776142,
          0.2184791104163706,
          0.2198268971152479,
          0.2158723532755435,
          0.2150241580218843,
          0.2167960423475913,
          0.2150419212732698,
          0.212923653545545,
          0.2190142283643598,
          0.2120576950405002,
          0.2112983160437686,
          0.213931718061674,
          0.214417987068353,
          0.2183303431860167,
          0.2137896120505897,
          0.2127127149353417,
          0.2172512256643456,
          0.213329987920989,
          0.2093843257069774,
          0.2110118836151769,
          0.2092977298564729,
          0.2126971720903794,
          0.2106366349296575,
          0.2129414167969305,
          0.2136963549808156,
          0.2097662356117663,
          0.2142248117095353,
          0.2106277533039647,
          0.209171166690351,
          0.2127282577803041,
          0.2123552295012079,
          0.2266895832054508,
          0.2601436375913081,
          0.287981093855503,
          0.2732797250015346,
          0.2926462463937143,
          0.2840218525566264,
          0.2982935363083911,
          0.303664600085937,
          0.2877662513044012,
          0.2775151924375422,
          0.2740470198268983,
          0.2699650113559634,
          0.3003191946473513,
          0.2774538088515131,
          0.3097108833098029,
          0.2783438708489349,
          0.3045853538763735,
          0.2945491375606163,
          0.3047081210484316,
          0.2555398686391259,
          0.2951629734209072,
          0.2797250015345896,
          0.2776072678165858,
          0.3037873672579952,
          0.2901909029525505,
          0.2860475108955865,
          0.2894542999202013,
          0.2870603400650666,
          0.291510650052176,
          0.299183598305813
         ]
        },
        {
         "box": {
          "visible": true
         },
         "meanline": {
          "visible": true
         },
         "name": "synthetic",
         "type": "violin",
         "x": [
          "synthetic",
          "synthetic",
          "synthetic",
          "synthetic",
          "synthetic",
          "synthetic",
          "synthetic",
          "synthetic",
          "synthetic",
          "synthetic",
          "synthetic",
          "synthetic",
          "synthetic",
          "synthetic",
          "synthetic",
          "synthetic",
          "synthetic",
          "synthetic",
          "synthetic",
          "synthetic",
          "synthetic",
          "synthetic",
          "synthetic",
          "synthetic",
          "synthetic",
          "synthetic",
          "synthetic",
          "synthetic",
          "synthetic",
          "synthetic",
          "synthetic",
          "synthetic",
          "synthetic",
          "synthetic",
          "synthetic",
          "synthetic",
          "synthetic",
          "synthetic",
          "synthetic",
          "synthetic",
          "synthetic",
          "synthetic",
          "synthetic",
          "synthetic",
          "synthetic",
          "synthetic",
          "synthetic",
          "synthetic",
          "synthetic",
          "synthetic",
          "synthetic",
          "synthetic",
          "synthetic",
          "synthetic",
          "synthetic",
          "synthetic",
          "synthetic",
          "synthetic",
          "synthetic",
          "synthetic",
          "synthetic",
          "synthetic",
          "synthetic",
          "synthetic",
          "synthetic",
          "synthetic",
          "synthetic",
          "synthetic",
          "synthetic",
          "synthetic",
          "synthetic",
          "synthetic",
          "synthetic",
          "synthetic",
          "synthetic",
          "synthetic",
          "synthetic",
          "synthetic",
          "synthetic",
          "synthetic",
          "synthetic",
          "synthetic",
          "synthetic",
          "synthetic",
          "synthetic",
          "synthetic",
          "synthetic",
          "synthetic",
          "synthetic",
          "synthetic",
          "synthetic",
          "synthetic",
          "synthetic",
          "synthetic",
          "synthetic",
          "synthetic",
          "synthetic",
          "synthetic",
          "synthetic",
          "synthetic",
          "synthetic",
          "synthetic",
          "synthetic",
          "synthetic",
          "synthetic",
          "synthetic",
          "synthetic",
          "synthetic",
          "synthetic",
          "synthetic",
          "synthetic",
          "synthetic",
          "synthetic",
          "synthetic",
          "synthetic",
          "synthetic",
          "synthetic",
          "synthetic",
          "synthetic",
          "synthetic",
          "synthetic",
          "synthetic",
          "synthetic",
          "synthetic",
          "synthetic",
          "synthetic",
          "synthetic",
          "synthetic",
          "synthetic",
          "synthetic",
          "synthetic",
          "synthetic",
          "synthetic",
          "synthetic",
          "synthetic",
          "synthetic",
          "synthetic",
          "synthetic",
          "synthetic",
          "synthetic",
          "synthetic",
          "synthetic",
          "synthetic",
          "synthetic",
          "synthetic",
          "synthetic",
          "synthetic",
          "synthetic",
          "synthetic",
          "synthetic",
          "synthetic",
          "synthetic",
          "synthetic",
          "synthetic",
          "synthetic",
          "synthetic",
          "synthetic",
          "synthetic",
          "synthetic",
          "synthetic",
          "synthetic",
          "synthetic",
          "synthetic",
          "synthetic",
          "synthetic",
          "synthetic",
          "synthetic",
          "synthetic",
          "synthetic",
          "synthetic",
          "synthetic",
          "synthetic",
          "synthetic",
          "synthetic",
          "synthetic",
          "synthetic",
          "synthetic",
          "synthetic",
          "synthetic",
          "synthetic",
          "synthetic",
          "synthetic",
          "synthetic",
          "synthetic",
          "synthetic",
          "synthetic",
          "synthetic",
          "synthetic",
          "synthetic",
          "synthetic",
          "synthetic",
          "synthetic",
          "synthetic",
          "synthetic",
          "synthetic",
          "synthetic",
          "synthetic",
          "synthetic",
          "synthetic",
          "synthetic",
          "synthetic",
          "synthetic",
          "synthetic",
          "synthetic",
          "synthetic",
          "synthetic",
          "synthetic",
          "synthetic",
          "synthetic",
          "synthetic",
          "synthetic",
          "synthetic",
          "synthetic",
          "synthetic",
          "synthetic",
          "synthetic",
          "synthetic",
          "synthetic",
          "synthetic",
          "synthetic",
          "synthetic",
          "synthetic",
          "synthetic",
          "synthetic",
          "synthetic",
          "synthetic",
          "synthetic",
          "synthetic",
          "synthetic",
          "synthetic",
          "synthetic",
          "synthetic",
          "synthetic",
          "synthetic",
          "synthetic",
          "synthetic",
          "synthetic",
          "synthetic",
          "synthetic",
          "synthetic",
          "synthetic",
          "synthetic",
          "synthetic",
          "synthetic",
          "synthetic",
          "synthetic",
          "synthetic",
          "synthetic",
          "synthetic",
          "synthetic",
          "synthetic",
          "synthetic",
          "synthetic",
          "synthetic",
          "synthetic",
          "synthetic",
          "synthetic",
          "synthetic",
          "synthetic",
          "synthetic",
          "synthetic",
          "synthetic",
          "synthetic",
          "synthetic",
          "synthetic",
          "synthetic",
          "synthetic",
          "synthetic",
          "synthetic",
          "synthetic",
          "synthetic",
          "synthetic",
          "synthetic",
          "synthetic",
          "synthetic",
          "synthetic",
          "synthetic",
          "synthetic",
          "synthetic",
          "synthetic",
          "synthetic",
          "synthetic",
          "synthetic",
          "synthetic",
          "synthetic",
          "synthetic",
          "synthetic",
          "synthetic",
          "synthetic",
          "synthetic",
          "synthetic",
          "synthetic",
          "synthetic",
          "synthetic",
          "synthetic",
          "synthetic",
          "synthetic",
          "synthetic",
          "synthetic",
          "synthetic",
          "synthetic",
          "synthetic",
          "synthetic",
          "synthetic",
          "synthetic",
          "synthetic",
          "synthetic",
          "synthetic",
          "synthetic",
          "synthetic",
          "synthetic",
          "synthetic",
          "synthetic",
          "synthetic",
          "synthetic",
          "synthetic",
          "synthetic",
          "synthetic",
          "synthetic",
          "synthetic",
          "synthetic",
          "synthetic",
          "synthetic",
          "synthetic",
          "synthetic",
          "synthetic",
          "synthetic",
          "synthetic",
          "synthetic",
          "synthetic",
          "synthetic",
          "synthetic",
          "synthetic",
          "synthetic",
          "synthetic",
          "synthetic",
          "synthetic",
          "synthetic",
          "synthetic",
          "synthetic",
          "synthetic",
          "synthetic",
          "synthetic",
          "synthetic",
          "synthetic",
          "synthetic",
          "synthetic",
          "synthetic",
          "synthetic",
          "synthetic",
          "synthetic",
          "synthetic",
          "synthetic",
          "synthetic",
          "synthetic",
          "synthetic",
          "synthetic",
          "synthetic",
          "synthetic",
          "synthetic",
          "synthetic",
          "synthetic",
          "synthetic",
          "synthetic",
          "synthetic",
          "synthetic",
          "synthetic",
          "synthetic",
          "synthetic",
          "synthetic",
          "synthetic",
          "synthetic",
          "synthetic",
          "synthetic",
          "synthetic",
          "synthetic",
          "synthetic",
          "synthetic",
          "synthetic",
          "synthetic",
          "synthetic",
          "synthetic",
          "synthetic",
          "synthetic",
          "synthetic",
          "synthetic",
          "synthetic",
          "synthetic",
          "synthetic",
          "synthetic",
          "synthetic",
          "synthetic",
          "synthetic",
          "synthetic",
          "synthetic",
          "synthetic",
          "synthetic",
          "synthetic",
          "synthetic",
          "synthetic",
          "synthetic",
          "synthetic",
          "synthetic",
          "synthetic",
          "synthetic",
          "synthetic",
          "synthetic",
          "synthetic",
          "synthetic",
          "synthetic",
          "synthetic",
          "synthetic",
          "synthetic",
          "synthetic",
          "synthetic",
          "synthetic",
          "synthetic",
          "synthetic",
          "synthetic",
          "synthetic",
          "synthetic",
          "synthetic",
          "synthetic",
          "synthetic",
          "synthetic",
          "synthetic",
          "synthetic",
          "synthetic",
          "synthetic",
          "synthetic",
          "synthetic",
          "synthetic",
          "synthetic",
          "synthetic",
          "synthetic",
          "synthetic",
          "synthetic",
          "synthetic",
          "synthetic",
          "synthetic",
          "synthetic",
          "synthetic",
          "synthetic",
          "synthetic",
          "synthetic",
          "synthetic",
          "synthetic",
          "synthetic",
          "synthetic",
          "synthetic",
          "synthetic",
          "synthetic",
          "synthetic",
          "synthetic",
          "synthetic",
          "synthetic",
          "synthetic",
          "synthetic",
          "synthetic",
          "synthetic",
          "synthetic",
          "synthetic",
          "synthetic",
          "synthetic",
          "synthetic",
          "synthetic",
          "synthetic",
          "synthetic",
          "synthetic",
          "synthetic",
          "synthetic",
          "synthetic",
          "synthetic",
          "synthetic",
          "synthetic",
          "synthetic",
          "synthetic",
          "synthetic",
          "synthetic",
          "synthetic",
          "synthetic",
          "synthetic",
          "synthetic",
          "synthetic",
          "synthetic",
          "synthetic",
          "synthetic",
          "synthetic",
          "synthetic",
          "synthetic",
          "synthetic",
          "synthetic",
          "synthetic",
          "synthetic",
          "synthetic",
          "synthetic",
          "synthetic",
          "synthetic",
          "synthetic",
          "synthetic",
          "synthetic",
          "synthetic",
          "synthetic",
          "synthetic",
          "synthetic",
          "synthetic",
          "synthetic",
          "synthetic",
          "synthetic",
          "synthetic",
          "synthetic",
          "synthetic",
          "synthetic",
          "synthetic",
          "synthetic",
          "synthetic",
          "synthetic",
          "synthetic",
          "synthetic",
          "synthetic",
          "synthetic",
          "synthetic",
          "synthetic",
          "synthetic",
          "synthetic",
          "synthetic",
          "synthetic",
          "synthetic",
          "synthetic",
          "synthetic",
          "synthetic",
          "synthetic",
          "synthetic",
          "synthetic",
          "synthetic",
          "synthetic",
          "synthetic",
          "synthetic",
          "synthetic",
          "synthetic",
          "synthetic",
          "synthetic",
          "synthetic",
          "synthetic",
          "synthetic",
          "synthetic",
          "synthetic",
          "synthetic",
          "synthetic",
          "synthetic",
          "synthetic",
          "synthetic",
          "synthetic",
          "synthetic",
          "synthetic",
          "synthetic",
          "synthetic",
          "synthetic",
          "synthetic",
          "synthetic",
          "synthetic",
          "synthetic",
          "synthetic",
          "synthetic",
          "synthetic",
          "synthetic",
          "synthetic",
          "synthetic",
          "synthetic",
          "synthetic",
          "synthetic",
          "synthetic",
          "synthetic",
          "synthetic",
          "synthetic",
          "synthetic",
          "synthetic",
          "synthetic",
          "synthetic",
          "synthetic",
          "synthetic",
          "synthetic",
          "synthetic",
          "synthetic",
          "synthetic",
          "synthetic",
          "synthetic",
          "synthetic",
          "synthetic",
          "synthetic",
          "synthetic",
          "synthetic",
          "synthetic",
          "synthetic",
          "synthetic",
          "synthetic",
          "synthetic",
          "synthetic",
          "synthetic",
          "synthetic",
          "synthetic",
          "synthetic",
          "synthetic",
          "synthetic",
          "synthetic",
          "synthetic",
          "synthetic",
          "synthetic",
          "synthetic",
          "synthetic",
          "synthetic",
          "synthetic",
          "synthetic",
          "synthetic",
          "synthetic",
          "synthetic",
          "synthetic",
          "synthetic",
          "synthetic",
          "synthetic",
          "synthetic",
          "synthetic",
          "synthetic",
          "synthetic",
          "synthetic",
          "synthetic",
          "synthetic",
          "synthetic",
          "synthetic",
          "synthetic",
          "synthetic",
          "synthetic",
          "synthetic",
          "synthetic",
          "synthetic",
          "synthetic",
          "synthetic",
          "synthetic",
          "synthetic",
          "synthetic",
          "synthetic",
          "synthetic",
          "synthetic",
          "synthetic",
          "synthetic",
          "synthetic",
          "synthetic",
          "synthetic",
          "synthetic",
          "synthetic",
          "synthetic",
          "synthetic",
          "synthetic",
          "synthetic",
          "synthetic",
          "synthetic",
          "synthetic",
          "synthetic",
          "synthetic",
          "synthetic",
          "synthetic",
          "synthetic",
          "synthetic",
          "synthetic",
          "synthetic",
          "synthetic",
          "synthetic",
          "synthetic",
          "synthetic",
          "synthetic",
          "synthetic",
          "synthetic",
          "synthetic",
          "synthetic",
          "synthetic",
          "synthetic",
          "synthetic",
          "synthetic",
          "synthetic",
          "synthetic",
          "synthetic",
          "synthetic",
          "synthetic",
          "synthetic",
          "synthetic",
          "synthetic",
          "synthetic",
          "synthetic",
          "synthetic",
          "synthetic",
          "synthetic",
          "synthetic",
          "synthetic",
          "synthetic",
          "synthetic",
          "synthetic",
          "synthetic",
          "synthetic",
          "synthetic",
          "synthetic",
          "synthetic",
          "synthetic",
          "synthetic",
          "synthetic",
          "synthetic",
          "synthetic",
          "synthetic",
          "synthetic",
          "synthetic",
          "synthetic",
          "synthetic",
          "synthetic",
          "synthetic",
          "synthetic",
          "synthetic",
          "synthetic",
          "synthetic",
          "synthetic",
          "synthetic",
          "synthetic",
          "synthetic",
          "synthetic",
          "synthetic",
          "synthetic",
          "synthetic",
          "synthetic",
          "synthetic",
          "synthetic",
          "synthetic",
          "synthetic",
          "synthetic",
          "synthetic",
          "synthetic",
          "synthetic",
          "synthetic",
          "synthetic",
          "synthetic",
          "synthetic",
          "synthetic",
          "synthetic",
          "synthetic",
          "synthetic",
          "synthetic",
          "synthetic",
          "synthetic",
          "synthetic",
          "synthetic",
          "synthetic",
          "synthetic",
          "synthetic",
          "synthetic",
          "synthetic",
          "synthetic",
          "synthetic",
          "synthetic",
          "synthetic",
          "synthetic",
          "synthetic",
          "synthetic",
          "synthetic",
          "synthetic",
          "synthetic",
          "synthetic",
          "synthetic",
          "synthetic",
          "synthetic",
          "synthetic",
          "synthetic",
          "synthetic",
          "synthetic",
          "synthetic",
          "synthetic",
          "synthetic",
          "synthetic",
          "synthetic",
          "synthetic",
          "synthetic",
          "synthetic",
          "synthetic",
          "synthetic",
          "synthetic",
          "synthetic",
          "synthetic",
          "synthetic",
          "synthetic",
          "synthetic",
          "synthetic",
          "synthetic",
          "synthetic",
          "synthetic",
          "synthetic",
          "synthetic",
          "synthetic",
          "synthetic",
          "synthetic",
          "synthetic",
          "synthetic",
          "synthetic",
          "synthetic",
          "synthetic",
          "synthetic",
          "synthetic",
          "synthetic",
          "synthetic",
          "synthetic",
          "synthetic",
          "synthetic",
          "synthetic",
          "synthetic",
          "synthetic",
          "synthetic",
          "synthetic",
          "synthetic",
          "synthetic",
          "synthetic",
          "synthetic",
          "synthetic",
          "synthetic",
          "synthetic",
          "synthetic",
          "synthetic",
          "synthetic",
          "synthetic",
          "synthetic",
          "synthetic",
          "synthetic",
          "synthetic",
          "synthetic",
          "synthetic",
          "synthetic",
          "synthetic",
          "synthetic",
          "synthetic",
          "synthetic",
          "synthetic",
          "synthetic",
          "synthetic",
          "synthetic",
          "synthetic",
          "synthetic",
          "synthetic",
          "synthetic",
          "synthetic",
          "synthetic",
          "synthetic",
          "synthetic",
          "synthetic",
          "synthetic",
          "synthetic",
          "synthetic",
          "synthetic",
          "synthetic",
          "synthetic",
          "synthetic",
          "synthetic",
          "synthetic",
          "synthetic",
          "synthetic",
          "synthetic",
          "synthetic",
          "synthetic",
          "synthetic",
          "synthetic",
          "synthetic",
          "synthetic",
          "synthetic",
          "synthetic",
          "synthetic",
          "synthetic",
          "synthetic",
          "synthetic",
          "synthetic",
          "synthetic",
          "synthetic",
          "synthetic",
          "synthetic",
          "synthetic",
          "synthetic",
          "synthetic",
          "synthetic",
          "synthetic",
          "synthetic",
          "synthetic",
          "synthetic",
          "synthetic",
          "synthetic",
          "synthetic",
          "synthetic",
          "synthetic",
          "synthetic",
          "synthetic",
          "synthetic",
          "synthetic",
          "synthetic",
          "synthetic",
          "synthetic",
          "synthetic",
          "synthetic",
          "synthetic",
          "synthetic",
          "synthetic",
          "synthetic",
          "synthetic",
          "synthetic",
          "synthetic",
          "synthetic",
          "synthetic",
          "synthetic",
          "synthetic",
          "synthetic",
          "synthetic",
          "synthetic",
          "synthetic",
          "synthetic",
          "synthetic",
          "synthetic",
          "synthetic",
          "synthetic",
          "synthetic",
          "synthetic",
          "synthetic",
          "synthetic",
          "synthetic",
          "synthetic",
          "synthetic",
          "synthetic",
          "synthetic",
          "synthetic",
          "synthetic",
          "synthetic",
          "synthetic",
          "synthetic",
          "synthetic",
          "synthetic",
          "synthetic",
          "synthetic",
          "synthetic",
          "synthetic",
          "synthetic",
          "synthetic",
          "synthetic",
          "synthetic",
          "synthetic",
          "synthetic",
          "synthetic",
          "synthetic",
          "synthetic",
          "synthetic",
          "synthetic",
          "synthetic",
          "synthetic",
          "synthetic",
          "synthetic",
          "synthetic",
          "synthetic",
          "synthetic",
          "synthetic",
          "synthetic",
          "synthetic",
          "synthetic",
          "synthetic",
          "synthetic",
          "synthetic",
          "synthetic",
          "synthetic",
          "synthetic",
          "synthetic",
          "synthetic",
          "synthetic",
          "synthetic",
          "synthetic",
          "synthetic",
          "synthetic",
          "synthetic",
          "synthetic",
          "synthetic",
          "synthetic",
          "synthetic",
          "synthetic",
          "synthetic",
          "synthetic",
          "synthetic",
          "synthetic",
          "synthetic",
          "synthetic",
          "synthetic",
          "synthetic",
          "synthetic",
          "synthetic",
          "synthetic",
          "synthetic",
          "synthetic",
          "synthetic",
          "synthetic",
          "synthetic",
          "synthetic",
          "synthetic",
          "synthetic",
          "synthetic",
          "synthetic",
          "synthetic",
          "synthetic",
          "synthetic",
          "synthetic",
          "synthetic",
          "synthetic",
          "synthetic",
          "synthetic",
          "synthetic",
          "synthetic",
          "synthetic",
          "synthetic",
          "synthetic",
          "synthetic",
          "synthetic",
          "synthetic",
          "synthetic",
          "synthetic",
          "synthetic",
          "synthetic",
          "synthetic",
          "synthetic",
          "synthetic",
          "synthetic",
          "synthetic",
          "synthetic",
          "synthetic",
          "synthetic",
          "synthetic",
          "synthetic",
          "synthetic",
          "synthetic",
          "synthetic",
          "synthetic",
          "synthetic",
          "synthetic",
          "synthetic",
          "synthetic",
          "synthetic",
          "synthetic",
          "synthetic",
          "synthetic",
          "synthetic",
          "synthetic",
          "synthetic",
          "synthetic",
          "synthetic",
          "synthetic",
          "synthetic",
          "synthetic",
          "synthetic",
          "synthetic",
          "synthetic",
          "synthetic",
          "synthetic",
          "synthetic",
          "synthetic",
          "synthetic",
          "synthetic",
          "synthetic",
          "synthetic",
          "synthetic",
          "synthetic",
          "synthetic",
          "synthetic",
          "synthetic",
          "synthetic",
          "synthetic",
          "synthetic",
          "synthetic",
          "synthetic",
          "synthetic",
          "synthetic",
          "synthetic",
          "synthetic",
          "synthetic",
          "synthetic",
          "synthetic",
          "synthetic",
          "synthetic",
          "synthetic",
          "synthetic",
          "synthetic",
          "synthetic",
          "synthetic",
          "synthetic",
          "synthetic",
          "synthetic",
          "synthetic",
          "synthetic",
          "synthetic",
          "synthetic",
          "synthetic",
          "synthetic",
          "synthetic",
          "synthetic",
          "synthetic",
          "synthetic",
          "synthetic",
          "synthetic",
          "synthetic",
          "synthetic",
          "synthetic",
          "synthetic",
          "synthetic",
          "synthetic",
          "synthetic",
          "synthetic",
          "synthetic",
          "synthetic",
          "synthetic",
          "synthetic",
          "synthetic",
          "synthetic",
          "synthetic",
          "synthetic",
          "synthetic",
          "synthetic",
          "synthetic",
          "synthetic",
          "synthetic",
          "synthetic",
          "synthetic",
          "synthetic"
         ],
         "y": [
          0.375,
          0.25,
          0.5416666666666666,
          0.25,
          0.4583333333333333,
          0.4166666666666667,
          0.1666666666666666,
          0.25,
          0.375,
          0.1666666666666666,
          0.5416666666666666,
          0.2916666666666667,
          0.6666666666666666,
          0.7916666666666666,
          0.25,
          0.375,
          0.2083333333333333,
          0.25,
          0.4583333333333333,
          0.2916666666666667,
          0.5,
          0.25,
          0.4166666666666667,
          0.375,
          0.25,
          0.1666666666666666,
          0.5,
          0.25,
          0.2916666666666667,
          0.375,
          0.25,
          0.25,
          0.5416666666666666,
          0.5833333333333334,
          0.25,
          0.7083333333333334,
          0.25,
          0.2083333333333333,
          0.2916666666666667,
          0.4583333333333333,
          0.2083333333333333,
          0.2083333333333333,
          0.375,
          0.5,
          0.5,
          0.4583333333333333,
          0.1666666666666666,
          0.25,
          0.5,
          0.5,
          0.2083333333333333,
          0.2916666666666667,
          0.25,
          0.375,
          0.2916666666666667,
          0.1666666666666666,
          0.3333333333333333,
          0.4166666666666667,
          0.2916666666666667,
          0.375,
          0.303030303030303,
          0.3939393939393939,
          0.5757575757575758,
          0.4545454545454545,
          0.303030303030303,
          0.3939393939393939,
          0.2727272727272727,
          0.303030303030303,
          0.2727272727272727,
          0.2727272727272727,
          0.6363636363636364,
          0.303030303030303,
          0.6060606060606061,
          0.4242424242424242,
          0.303030303030303,
          0.3939393939393939,
          0.303030303030303,
          0.3939393939393939,
          0.3939393939393939,
          0.303030303030303,
          0.5454545454545454,
          0.2727272727272727,
          0.5151515151515151,
          0.4242424242424242,
          0.2727272727272727,
          0.303030303030303,
          0.4848484848484848,
          0.2727272727272727,
          0.303030303030303,
          0.4242424242424242,
          0.2727272727272727,
          0.2727272727272727,
          0.2727272727272727,
          0.5151515151515151,
          0.2727272727272727,
          0.4848484848484848,
          0.2727272727272727,
          0.3333333333333333,
          0.303030303030303,
          0.4848484848484848,
          0.2727272727272727,
          0.303030303030303,
          0.303030303030303,
          0.3939393939393939,
          0.4242424242424242,
          0.4848484848484848,
          0.2727272727272727,
          0.303030303030303,
          0.696969696969697,
          0.303030303030303,
          0.303030303030303,
          0.303030303030303,
          0.2727272727272727,
          0.3636363636363636,
          0.4545454545454545,
          0.2727272727272727,
          0.4848484848484848,
          0.4848484848484848,
          0.303030303030303,
          0.2727272727272727,
          0.5151515151515151,
          0.3636363636363636,
          0.5454545454545454,
          0.3939393939393939,
          0.4545454545454545,
          0.4545454545454545,
          0.3636363636363636,
          0.3636363636363636,
          0.4242424242424242,
          0.4545454545454545,
          0.6666666666666666,
          0.3333333333333333,
          0.7575757575757576,
          0.6363636363636364,
          0.303030303030303,
          0.5151515151515151,
          0.303030303030303,
          0.3636363636363636,
          0.5454545454545454,
          0.5454545454545454,
          0.5757575757575758,
          0.2424242424242424,
          0.6363636363636364,
          0.3333333333333333,
          0.3333333333333333,
          0.2424242424242424,
          0.6060606060606061,
          0.3636363636363636,
          0.4242424242424242,
          0.3939393939393939,
          0.4545454545454545,
          0.3939393939393939,
          0.5454545454545454,
          0.6363636363636364,
          0.3333333333333333,
          0.6363636363636364,
          0.3636363636363636,
          0.3333333333333333,
          0.2424242424242424,
          0.5454545454545454,
          0.3333333333333333,
          0.2424242424242424,
          0.6363636363636364,
          0.5757575757575758,
          0.5454545454545454,
          0.696969696969697,
          0.3636363636363636,
          0.3636363636363636,
          0.4545454545454545,
          0.5151515151515151,
          0.3636363636363636,
          0.4242424242424242,
          0.2424242424242424,
          0.4848484848484848,
          0.303030303030303,
          0.3939393939393939,
          0.3939393939393939,
          0.6666666666666666,
          0.3636363636363636,
          0.3636363636363636,
          0.710204081632653,
          0.6612244897959184,
          0.5469387755102041,
          0.6081632653061224,
          0.5795918367346938,
          0.6816326530612244,
          0.4285714285714285,
          0.6285714285714286,
          0.5510204081632653,
          0.6612244897959184,
          0.7142857142857143,
          0.4244897959183673,
          0.3224489795918367,
          0.689795918367347,
          0.5061224489795918,
          0.5673469387755102,
          0.5387755102040817,
          0.5755102040816327,
          0.5102040816326531,
          0.6775510204081633,
          0.6489795918367347,
          0.5224489795918368,
          0.5959183673469388,
          0.7510204081632653,
          0.5918367346938775,
          0.4897959183673469,
          0.4326530612244898,
          0.5102040816326531,
          0.710204081632653,
          0.6653061224489796,
          0.4,
          0.6857142857142857,
          0.4408163265306122,
          0.4612244897959183,
          0.5714285714285714,
          0.5673469387755102,
          0.3061224489795918,
          0.5387755102040817,
          0.3877551020408163,
          0.563265306122449,
          0.5020408163265306,
          0.6448979591836734,
          0.6448979591836734,
          0.673469387755102,
          0.4775510204081633,
          0.5918367346938775,
          0.3795918367346939,
          0.8,
          0.6816326530612244,
          0.5795918367346938,
          0.6612244897959184,
          0.8,
          0.5755102040816327,
          0.5469387755102041,
          0.6081632653061224,
          0.4122448979591837,
          0.5795918367346938,
          0.6612244897959184,
          0.4938775510204081,
          0.5795918367346938,
          0.7391304347826086,
          0.7391304347826086,
          0.6521739130434783,
          0.2608695652173913,
          0.6521739130434783,
          0.5217391304347826,
          0.6521739130434783,
          0.6521739130434783,
          0.5217391304347826,
          0.6521739130434783,
          0.6521739130434783,
          0.5217391304347826,
          0.6521739130434783,
          0.6521739130434783,
          0.5217391304347826,
          0.3478260869565217,
          0.6086956521739131,
          0.6521739130434783,
          0.7391304347826086,
          0.8260869565217391,
          0.5652173913043478,
          0.5217391304347826,
          0.6521739130434783,
          0.8260869565217391,
          0.5217391304347826,
          0.5652173913043478,
          0.6521739130434783,
          0.6086956521739131,
          0.5652173913043478,
          0.5217391304347826,
          0.6521739130434783,
          0.6521739130434783,
          0.7391304347826086,
          0.6521739130434783,
          0.5217391304347826,
          0.3478260869565217,
          0.6086956521739131,
          0.8260869565217391,
          0.5652173913043478,
          0.6521739130434783,
          0.5217391304347826,
          0.4782608695652174,
          0.5217391304347826,
          0.5652173913043478,
          0.6521739130434783,
          0.6521739130434783,
          0.7391304347826086,
          0.5652173913043478,
          0.8260869565217391,
          0.6521739130434783,
          0.7391304347826086,
          0.6521739130434783,
          0.5652173913043478,
          0.5652173913043478,
          0.5217391304347826,
          0.6521739130434783,
          0.5652173913043478,
          0.8260869565217391,
          0.5652173913043478,
          0.6521739130434783,
          0.391304347826087,
          0.6521739130434783,
          0.5217391304347826,
          0.4782608695652174,
          0.7391304347826086,
          0.4347826086956521,
          0.5652173913043478,
          0.6086956521739131,
          0.5217391304347826,
          0.4782608695652174,
          0.6521739130434783,
          0.3478260869565217,
          0.5652173913043478,
          0.3478260869565217,
          0.5217391304347826,
          0.6521739130434783,
          0.5217391304347826,
          0.6521739130434783,
          0.5652173913043478,
          0.3478260869565217,
          0.2608695652173913,
          0.7391304347826086,
          0.4347826086956521,
          0.5652173913043478,
          0.7391304347826086,
          0.5652173913043478,
          0.5652173913043478,
          0.4782608695652174,
          0.7391304347826086,
          0.6521739130434783,
          0.4782608695652174,
          0.7391304347826086,
          0.5652173913043478,
          0.5652173913043478,
          0.7391304347826086,
          0.5652173913043478,
          0.6521739130434783,
          0.4782608695652174,
          0.8260869565217391,
          0.5652173913043478,
          0.7391304347826086,
          0.4782608695652174,
          0.7391304347826086,
          0.6086956521739131,
          0.6521739130434783,
          0.5652173913043478,
          0.5217391304347826,
          0.5652173913043478,
          0.6086956521739131,
          0.6521739130434783,
          0.5652173913043478,
          0.4782608695652174,
          0.5652173913043478,
          0.6086956521739131,
          0.4347826086956521,
          0.5217391304347826,
          0.3478260869565217,
          0.5652173913043478,
          0.4347826086956521,
          0.7391304347826086,
          0.6521739130434783,
          0.5217391304347826,
          0.7391304347826086,
          0.5652173913043478,
          0.6521739130434783,
          0.6521739130434783,
          0.7391304347826086,
          0.6521739130434783,
          0.5652173913043478,
          0.8260869565217391,
          0.4347826086956521,
          0.7391304347826086,
          0.6521739130434783,
          0.5652173913043478,
          0.4347826086956521,
          0.5652173913043478,
          0.5652173913043478,
          0.6521739130434783,
          0.3478260869565217,
          0.5652173913043478,
          0.6521739130434783,
          0.6521739130434783,
          0.5652173913043478,
          0.5652173913043478,
          0.6521739130434783,
          0.6521739130434783,
          0.6521739130434783,
          0.5652173913043478,
          0.5217391304347826,
          0.6086956521739131,
          0.5652173913043478,
          0.5652173913043478,
          0.4347826086956521,
          0.7391304347826086,
          0.7391304347826086,
          0.6521739130434783,
          0.4782608695652174,
          0.4782608695652174,
          0.5652173913043478,
          0.6521739130434783,
          0.4347826086956521,
          0.6521739130434783,
          0.7391304347826086,
          0.6521739130434783,
          0.5652173913043478,
          0.7391304347826086,
          0.5652173913043478,
          0.5652173913043478,
          0.5652173913043478,
          0.5652173913043478,
          0.5217391304347826,
          0.6086956521739131,
          0.5217391304347826,
          0.4782608695652174,
          0.5652173913043478,
          0.7391304347826086,
          0.5217391304347826,
          0.4782608695652174,
          0.5652173913043478,
          0.5652173913043478,
          0.4782608695652174,
          0.3478260869565217,
          0.3478260869565217,
          0.5652173913043478,
          0.5652173913043478,
          0.6521739130434783,
          0.6521739130434783,
          0.3478260869565217,
          0.6086956521739131,
          0.8260869565217391,
          0.5652173913043478,
          0.5217391304347826,
          0.4782608695652174,
          0.5652173913043478,
          0.4782608695652174,
          0.6521739130434783,
          0.4347826086956521,
          0.3478260869565217,
          0.4347826086956521,
          0.6521739130434783,
          0.5652173913043478,
          0.4347826086956521,
          0.6086956521739131,
          0.3478260869565217,
          0.3478260869565217,
          0.6521739130434783,
          0.4782608695652174,
          0.6521739130434783,
          0.7391304347826086,
          0.6521739130434783,
          0.7391304347826086,
          0.6086956521739131,
          0.6521739130434783,
          0.5652173913043478,
          0.8260869565217391,
          0.6521739130434783,
          0.5652173913043478,
          0.3478260869565217,
          0.6086956521739131,
          0.5652173913043478,
          0.391304347826087,
          0.6521739130434783,
          0.7391304347826086,
          0.6086956521739131,
          0.5652173913043478,
          0.2608695652173913,
          0.391304347826087,
          0.5652173913043478,
          0.8260869565217391,
          0.7391304347826086,
          0.4782608695652174,
          0.5652173913043478,
          0.3478260869565217,
          0.7391304347826086,
          0.5652173913043478,
          0.4782608695652174,
          0.5652173913043478,
          0.5652173913043478,
          0.3478260869565217,
          0.4347826086956521,
          0.3783783783783784,
          0.4729729729729729,
          0.6351351351351351,
          0.4594594594594595,
          0.3783783783783784,
          0.5945945945945946,
          0.6486486486486487,
          0.2837837837837837,
          0.3918918918918919,
          0.4594594594594595,
          0.3648648648648648,
          0.5,
          0.5405405405405406,
          0.5405405405405406,
          0.3783783783783784,
          0.4594594594594595,
          0.5540540540540541,
          0.5945945945945946,
          0.3918918918918919,
          0.2972972972972973,
          0.4864864864864865,
          0.3918918918918919,
          0.4594594594594595,
          0.4594594594594595,
          0.527027027027027,
          0.6351351351351351,
          0.2972972972972973,
          0.3918918918918919,
          0.3108108108108108,
          0.6756756756756757,
          0.5675675675675675,
          0.527027027027027,
          0.4729729729729729,
          0.4864864864864865,
          0.5405405405405406,
          0.2702702702702703,
          0.527027027027027,
          0.4459459459459459,
          0.4054054054054054,
          0.4459459459459459,
          0.3648648648648648,
          0.5405405405405406,
          0.5540540540540541,
          0.581081081081081,
          0.4324324324324324,
          0.4054054054054054,
          0.4729729729729729,
          0.4054054054054054,
          0.6486486486486487,
          0.5540540540540541,
          0.5135135135135135,
          0.4864864864864865,
          0.4729729729729729,
          0.6351351351351351,
          0.6081081081081081,
          0.6216216216216216,
          0.2702702702702703,
          0.5945945945945946,
          0.3918918918918919,
          0.527027027027027,
          0.581081081081081,
          0.4189189189189189,
          0.4594594594594595,
          0.527027027027027,
          0.4054054054054054,
          0.6081081081081081,
          0.2567567567567567,
          0.581081081081081,
          0.7297297297297297,
          0.5405405405405406,
          0.4594594594594595,
          0.6351351351351351,
          0.527027027027027,
          0.6081081081081081,
          0.4324324324324324,
          0.5675675675675675,
          0.7432432432432432,
          0.3513513513513513,
          0.5405405405405406,
          0.2837837837837837,
          0.6621621621621622,
          0.5675675675675675,
          0.3648648648648648,
          0.5,
          0.5675675675675675,
          0.5405405405405406,
          0.3243243243243243,
          0.5540540540540541,
          0.5405405405405406,
          0.5405405405405406,
          0.581081081081081,
          0.4594594594594595,
          0.5540540540540541,
          0.5945945945945946,
          0.581081081081081,
          0.5675675675675675,
          0.5135135135135135,
          0.4729729729729729,
          0.5675675675675675,
          0.6351351351351351,
          0.5675675675675675,
          0.4729729729729729,
          0.4189189189189189,
          0.4324324324324324,
          0.4729729729729729,
          0.3648648648648648,
          0.4594594594594595,
          0.6216216216216216,
          0.3378378378378378,
          0.3108108108108108,
          0.4189189189189189,
          0.581081081081081,
          0.5675675675675675,
          0.527027027027027,
          0.7297297297297297,
          0.6486486486486487,
          0.7297297297297297,
          0.6216216216216216,
          0.6081081081081081,
          0.3548387096774194,
          0.6451612903225806,
          0.5161290322580645,
          0.5161290322580645,
          0.4516129032258064,
          0.3548387096774194,
          0.5161290322580645,
          0.5806451612903226,
          0.4838709677419355,
          0.5161290322580645,
          0.4193548387096774,
          0.6774193548387096,
          0.5161290322580645,
          0.4838709677419355,
          0.5483870967741935,
          0.4838709677419355,
          0.3548387096774194,
          0.6129032258064516,
          0.4193548387096774,
          0.4193548387096774,
          0.3548387096774194,
          0.5806451612903226,
          0.6774193548387096,
          0.6129032258064516,
          0.5483870967741935,
          0.4838709677419355,
          0.4516129032258064,
          0.4838709677419355,
          0.4193548387096774,
          0.3870967741935484,
          0.4838709677419355,
          0.4516129032258064,
          0.5806451612903226,
          0.6129032258064516,
          0.6129032258064516,
          0.6129032258064516,
          0.6451612903225806,
          0.6451612903225806,
          0.3548387096774194,
          0.6451612903225806,
          0.5483870967741935,
          0.5161290322580645,
          0.5161290322580645,
          0.5161290322580645,
          0.6451612903225806,
          0.5483870967741935,
          0.4193548387096774,
          0.5161290322580645,
          0.4193548387096774,
          0.6774193548387096,
          0.6129032258064516,
          0.5161290322580645,
          0.4193548387096774,
          0.3548387096774194,
          0.5483870967741935,
          0.3548387096774194,
          0.4193548387096774,
          0.6129032258064516,
          0.4516129032258064,
          0.4838709677419355,
          0.5806451612903226,
          0.6451612903225806,
          0.5806451612903226,
          0.3870967741935484,
          0.6451612903225806,
          0.5806451612903226,
          0.5161290322580645,
          0.5161290322580645,
          0.5161290322580645,
          0.5161290322580645,
          0.4838709677419355,
          0.5161290322580645,
          0.5483870967741935,
          0.5483870967741935,
          0.4193548387096774,
          0.6129032258064516,
          0.5483870967741935,
          0.4193548387096774,
          0.5161290322580645,
          0.6129032258064516,
          0.5161290322580645,
          0.4516129032258064,
          0.6129032258064516,
          0.4838709677419355,
          0.5483870967741935,
          0.6451612903225806,
          0.6129032258064516,
          0.5161290322580645,
          0.4516129032258064,
          0.5483870967741935,
          0.6774193548387096,
          0.5806451612903226,
          0.4838709677419355,
          0.5483870967741935,
          0.4193548387096774,
          0.6451612903225806,
          0.4193548387096774,
          0.5806451612903226,
          0.4516129032258064,
          0.5806451612903226,
          0.5806451612903226,
          0.5806451612903226,
          0.5161290322580645,
          0.4193548387096774,
          0.4516129032258064,
          0.5806451612903226,
          0.5806451612903226,
          0.4516129032258064,
          0.5161290322580645,
          0.6451612903225806,
          0.3548387096774194,
          0.5806451612903226,
          0.3225806451612903,
          0.5161290322580645,
          0.5483870967741935,
          0.6451612903225806,
          0.5806451612903226,
          0.3870967741935484,
          0.5161290322580645,
          0.6451612903225806,
          0.4141414141414141,
          0.5757575757575758,
          0.494949494949495,
          0.5454545454545454,
          0.4545454545454545,
          0.5151515151515151,
          0.5252525252525253,
          0.5757575757575758,
          0.4343434343434343,
          0.5353535353535354,
          0.5050505050505051,
          0.5858585858585859,
          0.5757575757575758,
          0.5858585858585859,
          0.494949494949495,
          0.5858585858585859,
          0.5757575757575758,
          0.4444444444444444,
          0.5454545454545454,
          0.4646464646464646,
          0.4141414141414141,
          0.5252525252525253,
          0.5151515151515151,
          0.5757575757575758,
          0.4242424242424242,
          0.4747474747474747,
          0.5151515151515151,
          0.5959595959595959,
          0.4545454545454545,
          0.6363636363636364,
          0.5454545454545454,
          0.3434343434343434,
          0.5959595959595959,
          0.494949494949495,
          0.5656565656565656,
          0.4848484848484848,
          0.6464646464646465,
          0.4747474747474747,
          0.5353535353535354,
          0.5656565656565656,
          0.494949494949495,
          0.4444444444444444,
          0.3939393939393939,
          0.6161616161616161,
          0.5252525252525253,
          0.4646464646464646,
          0.4242424242424242,
          0.4343434343434343,
          0.3838383838383838,
          0.5151515151515151,
          0.5656565656565656,
          0.5454545454545454,
          0.4343434343434343,
          0.5757575757575758,
          0.6262626262626263,
          0.5454545454545454,
          0.4848484848484848,
          0.5858585858585859,
          0.4343434343434343,
          0.5050505050505051,
          0.5858585858585859,
          0.4141414141414141,
          0.4646464646464646,
          0.4343434343434343,
          0.4848484848484848,
          0.5555555555555556,
          0.4545454545454545,
          0.6262626262626263,
          0.5454545454545454,
          0.4848484848484848,
          0.5353535353535354,
          0.4343434343434343,
          0.4444444444444444,
          0.5353535353535354,
          0.5252525252525253,
          0.5252525252525253,
          0.5454545454545454,
          0.494949494949495,
          0.4545454545454545,
          0.5252525252525253,
          0.4545454545454545,
          0.4141414141414141,
          0.4545454545454545,
          0.5151515151515151,
          0.4545454545454545,
          0.5151515151515151,
          0.5959595959595959,
          0.6161616161616161,
          0.5454545454545454,
          0.5656565656565656,
          0.5151515151515151,
          0.494949494949495,
          0.4242424242424242,
          0.494949494949495,
          0.4848484848484848,
          0.4242424242424242,
          0.5353535353535354,
          0.5656565656565656,
          0.5050505050505051,
          0.494949494949495,
          0.4545454545454545,
          0.5050505050505051,
          0.5050505050505051,
          0.6060606060606061,
          0.3737373737373737,
          0.5555555555555556,
          0.5454545454545454,
          0.5050505050505051,
          0.4747474747474747,
          0.4747474747474747,
          0.5151515151515151,
          0.4848484848484848,
          0.5050505050505051,
          0.4848484848484848,
          0.5757575757575758,
          0.5656565656565656,
          0.3737373737373737,
          0.5757575757575758,
          0.5151515151515151,
          0.4848484848484848,
          0.4444444444444444,
          0.5959595959595959,
          0.5959595959595959,
          0.5858585858585859,
          0.6464646464646465,
          0.5959595959595959,
          0.6262626262626263,
          0.5555555555555556,
          0.6060606060606061,
          0.4747474747474747,
          0.4848484848484848,
          0.5858585858585859,
          0.5555555555555556,
          0.5959595959595959,
          0.4848484848484848,
          0.5454545454545454,
          0.6363636363636364,
          0.6565656565656566,
          0.5656565656565656,
          0.5656565656565656,
          0.4646464646464646,
          0.5454545454545454,
          0.5454545454545454,
          0.5050505050505051,
          0.494949494949495,
          0.4848484848484848,
          0.5454545454545454,
          0.5858585858585859,
          0.5858585858585859,
          0.5656565656565656,
          0.494949494949495,
          0.5959595959595959,
          0.5050505050505051,
          0.5151515151515151,
          0.4848484848484848,
          0.5959595959595959,
          0.4848484848484848,
          0.4747474747474747,
          0.5555555555555556,
          0.4646464646464646,
          0.5050505050505051,
          0.5050505050505051,
          0.5555555555555556,
          0.5252525252525253,
          0.494949494949495,
          0.5959595959595959,
          0.5555555555555556,
          0.4545454545454545,
          0.494949494949495,
          0.4545454545454545,
          0.5555555555555556,
          0.5858585858585859,
          0.5858585858585859,
          0.494949494949495,
          0.5353535353535354,
          0.5656565656565656,
          0.5656565656565656,
          0.4646464646464646,
          0.5656565656565656,
          0.6060606060606061,
          0.4491525423728814,
          0.5254237288135594,
          0.4152542372881356,
          0.423728813559322,
          0.5254237288135594,
          0.5,
          0.4067796610169492,
          0.4406779661016949,
          0.5,
          0.4745762711864407,
          0.5,
          0.5847457627118644,
          0.5169491525423728,
          0.5169491525423728,
          0.4915254237288136,
          0.4576271186440678,
          0.5,
          0.5169491525423728,
          0.4661016949152542,
          0.5,
          0.5508474576271186,
          0.4661016949152542,
          0.559322033898305,
          0.5254237288135594,
          0.4067796610169492,
          0.5254237288135594,
          0.4152542372881356,
          0.4661016949152542,
          0.4576271186440678,
          0.4322033898305085,
          0.4152542372881356,
          0.5508474576271186,
          0.4830508474576271,
          0.5508474576271186,
          0.423728813559322,
          0.5338983050847458,
          0.5254237288135594,
          0.423728813559322,
          0.5677966101694916,
          0.5254237288135594,
          0.5254237288135594,
          0.5254237288135594,
          0.576271186440678,
          0.5,
          0.4745762711864407,
          0.4491525423728814,
          0.5932203389830508,
          0.5,
          0.5,
          0.5,
          0.4322033898305085,
          0.5254237288135594,
          0.4576271186440678,
          0.4576271186440678,
          0.4915254237288136,
          0.576271186440678,
          0.5084745762711864,
          0.6271186440677966,
          0.5084745762711864,
          0.4491525423728814,
          0.559322033898305,
          0.4322033898305085,
          0.4406779661016949,
          0.4830508474576271,
          0.4406779661016949,
          0.4491525423728814,
          0.5254237288135594,
          0.576271186440678,
          0.4322033898305085,
          0.576271186440678,
          0.4067796610169492,
          0.3983050847457627,
          0.5677966101694916,
          0.4915254237288136,
          0.4830508474576271,
          0.5084745762711864,
          0.3813559322033898,
          0.5084745762711864,
          0.5169491525423728,
          0.4830508474576271,
          0.4491525423728814,
          0.4322033898305085,
          0.4322033898305085,
          0.5084745762711864,
          0.4067796610169492,
          0.5338983050847458,
          0.4661016949152542,
          0.4830508474576271,
          0.5423728813559322,
          0.4661016949152542,
          0.5084745762711864,
          0.559322033898305,
          0.5338983050847458,
          0.4491525423728814,
          0.5169491525423728,
          0.5254237288135594,
          0.5084745762711864,
          0.4915254237288136,
          0.5169491525423728,
          0.4491525423728814,
          0.4830508474576271,
          0.5084745762711864,
          0.4745762711864407,
          0.4406779661016949,
          0.559322033898305,
          0.4915254237288136,
          0.4745762711864407,
          0.4576271186440678,
          0.4745762711864407,
          0.4067796610169492,
          0.5423728813559322,
          0.4067796610169492,
          0.5338983050847458,
          0.4915254237288136,
          0.559322033898305,
          0.5169491525423728,
          0.4576271186440678,
          0.4491525423728814,
          0.4830508474576271,
          0.4491525423728814,
          0.4661016949152542,
          0.4830508474576271,
          0.5169491525423728,
          0.5338983050847458,
          0.4915254237288136,
          0.5169491525423728,
          0.4830508474576271,
          0.4067796610169492,
          0.4745762711864407,
          0.4745762711864407,
          0.4915254237288136,
          0.4661016949152542,
          0.5508474576271186,
          0.4661016949152542,
          0.4661016949152542,
          0.5932203389830508,
          0.5508474576271186,
          0.5,
          0.5254237288135594,
          0.423728813559322,
          0.4830508474576271,
          0.4576271186440678,
          0.5508474576271186,
          0.5847457627118644,
          0.4661016949152542,
          0.3983050847457627,
          0.4406779661016949,
          0.5084745762711864,
          0.4745762711864407,
          0.576271186440678,
          0.4745762711864407,
          0.4067796610169492,
          0.4915254237288136,
          0.5,
          0.4322033898305085,
          0.4745762711864407,
          0.4406779661016949,
          0.4830508474576271,
          0.4661016949152542,
          0.5338983050847458,
          0.4830508474576271,
          0.4830508474576271,
          0.4152542372881356,
          0.4406779661016949,
          0.5,
          0.4661016949152542,
          0.4830508474576271,
          0.4830508474576271,
          0.4830508474576271,
          0.4491525423728814,
          0.4661016949152542,
          0.5,
          0.5338983050847458,
          0.4830508474576271,
          0.5084745762711864,
          0.4152542372881356,
          0.5,
          0.5423728813559322,
          0.4745762711864407,
          0.5847457627118644,
          0.7948717948717948,
          0.7931034482758621,
          0.7105263157894737,
          0.8285714285714286,
          0.6746031746031746,
          0.75,
          0.5,
          0.7549019607843137,
          0.8,
          0.7727272727272727,
          0.7971014492753623,
          0.7833333333333333,
          0.7901234567901234,
          0.782608695652174,
          0.71875,
          0.7445652173913043,
          0.680921052631579,
          0.7547169811320755,
          0.7363636363636363,
          0.6875,
          0.7106365159128978,
          0.7468619246861925,
          0.7440318302387268,
          0.7368605466012614,
          0.7037489812550938,
          0.7615384615384615,
          0.7582417582417582,
          0.7051282051282052,
          0.8090909090909091,
          0.7288135593220338,
          0.7752808988764045,
          0.7222222222222222,
          0.7440476190476191,
          0.8116883116883117,
          0.8083333333333333,
          0.8404255319148937,
          0.7802197802197802,
          0.8346774193548387,
          0.8356164383561644,
          0.7349397590361446,
          0.7769784172661871,
          0.6697674418604651,
          0.7935779816513762,
          0.7324561403508771,
          0.7207792207792207
         ]
        }
       ],
       "layout": {
        "template": {
         "data": {
          "bar": [
           {
            "error_x": {
             "color": "#2a3f5f"
            },
            "error_y": {
             "color": "#2a3f5f"
            },
            "marker": {
             "line": {
              "color": "#E5ECF6",
              "width": 0.5
             },
             "pattern": {
              "fillmode": "overlay",
              "size": 10,
              "solidity": 0.2
             }
            },
            "type": "bar"
           }
          ],
          "barpolar": [
           {
            "marker": {
             "line": {
              "color": "#E5ECF6",
              "width": 0.5
             },
             "pattern": {
              "fillmode": "overlay",
              "size": 10,
              "solidity": 0.2
             }
            },
            "type": "barpolar"
           }
          ],
          "carpet": [
           {
            "aaxis": {
             "endlinecolor": "#2a3f5f",
             "gridcolor": "white",
             "linecolor": "white",
             "minorgridcolor": "white",
             "startlinecolor": "#2a3f5f"
            },
            "baxis": {
             "endlinecolor": "#2a3f5f",
             "gridcolor": "white",
             "linecolor": "white",
             "minorgridcolor": "white",
             "startlinecolor": "#2a3f5f"
            },
            "type": "carpet"
           }
          ],
          "choropleth": [
           {
            "colorbar": {
             "outlinewidth": 0,
             "ticks": ""
            },
            "type": "choropleth"
           }
          ],
          "contour": [
           {
            "colorbar": {
             "outlinewidth": 0,
             "ticks": ""
            },
            "colorscale": [
             [
              0,
              "#0d0887"
             ],
             [
              0.1111111111111111,
              "#46039f"
             ],
             [
              0.2222222222222222,
              "#7201a8"
             ],
             [
              0.3333333333333333,
              "#9c179e"
             ],
             [
              0.4444444444444444,
              "#bd3786"
             ],
             [
              0.5555555555555556,
              "#d8576b"
             ],
             [
              0.6666666666666666,
              "#ed7953"
             ],
             [
              0.7777777777777778,
              "#fb9f3a"
             ],
             [
              0.8888888888888888,
              "#fdca26"
             ],
             [
              1,
              "#f0f921"
             ]
            ],
            "type": "contour"
           }
          ],
          "contourcarpet": [
           {
            "colorbar": {
             "outlinewidth": 0,
             "ticks": ""
            },
            "type": "contourcarpet"
           }
          ],
          "heatmap": [
           {
            "colorbar": {
             "outlinewidth": 0,
             "ticks": ""
            },
            "colorscale": [
             [
              0,
              "#0d0887"
             ],
             [
              0.1111111111111111,
              "#46039f"
             ],
             [
              0.2222222222222222,
              "#7201a8"
             ],
             [
              0.3333333333333333,
              "#9c179e"
             ],
             [
              0.4444444444444444,
              "#bd3786"
             ],
             [
              0.5555555555555556,
              "#d8576b"
             ],
             [
              0.6666666666666666,
              "#ed7953"
             ],
             [
              0.7777777777777778,
              "#fb9f3a"
             ],
             [
              0.8888888888888888,
              "#fdca26"
             ],
             [
              1,
              "#f0f921"
             ]
            ],
            "type": "heatmap"
           }
          ],
          "heatmapgl": [
           {
            "colorbar": {
             "outlinewidth": 0,
             "ticks": ""
            },
            "colorscale": [
             [
              0,
              "#0d0887"
             ],
             [
              0.1111111111111111,
              "#46039f"
             ],
             [
              0.2222222222222222,
              "#7201a8"
             ],
             [
              0.3333333333333333,
              "#9c179e"
             ],
             [
              0.4444444444444444,
              "#bd3786"
             ],
             [
              0.5555555555555556,
              "#d8576b"
             ],
             [
              0.6666666666666666,
              "#ed7953"
             ],
             [
              0.7777777777777778,
              "#fb9f3a"
             ],
             [
              0.8888888888888888,
              "#fdca26"
             ],
             [
              1,
              "#f0f921"
             ]
            ],
            "type": "heatmapgl"
           }
          ],
          "histogram": [
           {
            "marker": {
             "pattern": {
              "fillmode": "overlay",
              "size": 10,
              "solidity": 0.2
             }
            },
            "type": "histogram"
           }
          ],
          "histogram2d": [
           {
            "colorbar": {
             "outlinewidth": 0,
             "ticks": ""
            },
            "colorscale": [
             [
              0,
              "#0d0887"
             ],
             [
              0.1111111111111111,
              "#46039f"
             ],
             [
              0.2222222222222222,
              "#7201a8"
             ],
             [
              0.3333333333333333,
              "#9c179e"
             ],
             [
              0.4444444444444444,
              "#bd3786"
             ],
             [
              0.5555555555555556,
              "#d8576b"
             ],
             [
              0.6666666666666666,
              "#ed7953"
             ],
             [
              0.7777777777777778,
              "#fb9f3a"
             ],
             [
              0.8888888888888888,
              "#fdca26"
             ],
             [
              1,
              "#f0f921"
             ]
            ],
            "type": "histogram2d"
           }
          ],
          "histogram2dcontour": [
           {
            "colorbar": {
             "outlinewidth": 0,
             "ticks": ""
            },
            "colorscale": [
             [
              0,
              "#0d0887"
             ],
             [
              0.1111111111111111,
              "#46039f"
             ],
             [
              0.2222222222222222,
              "#7201a8"
             ],
             [
              0.3333333333333333,
              "#9c179e"
             ],
             [
              0.4444444444444444,
              "#bd3786"
             ],
             [
              0.5555555555555556,
              "#d8576b"
             ],
             [
              0.6666666666666666,
              "#ed7953"
             ],
             [
              0.7777777777777778,
              "#fb9f3a"
             ],
             [
              0.8888888888888888,
              "#fdca26"
             ],
             [
              1,
              "#f0f921"
             ]
            ],
            "type": "histogram2dcontour"
           }
          ],
          "mesh3d": [
           {
            "colorbar": {
             "outlinewidth": 0,
             "ticks": ""
            },
            "type": "mesh3d"
           }
          ],
          "parcoords": [
           {
            "line": {
             "colorbar": {
              "outlinewidth": 0,
              "ticks": ""
             }
            },
            "type": "parcoords"
           }
          ],
          "pie": [
           {
            "automargin": true,
            "type": "pie"
           }
          ],
          "scatter": [
           {
            "fillpattern": {
             "fillmode": "overlay",
             "size": 10,
             "solidity": 0.2
            },
            "type": "scatter"
           }
          ],
          "scatter3d": [
           {
            "line": {
             "colorbar": {
              "outlinewidth": 0,
              "ticks": ""
             }
            },
            "marker": {
             "colorbar": {
              "outlinewidth": 0,
              "ticks": ""
             }
            },
            "type": "scatter3d"
           }
          ],
          "scattercarpet": [
           {
            "marker": {
             "colorbar": {
              "outlinewidth": 0,
              "ticks": ""
             }
            },
            "type": "scattercarpet"
           }
          ],
          "scattergeo": [
           {
            "marker": {
             "colorbar": {
              "outlinewidth": 0,
              "ticks": ""
             }
            },
            "type": "scattergeo"
           }
          ],
          "scattergl": [
           {
            "marker": {
             "colorbar": {
              "outlinewidth": 0,
              "ticks": ""
             }
            },
            "type": "scattergl"
           }
          ],
          "scattermapbox": [
           {
            "marker": {
             "colorbar": {
              "outlinewidth": 0,
              "ticks": ""
             }
            },
            "type": "scattermapbox"
           }
          ],
          "scatterpolar": [
           {
            "marker": {
             "colorbar": {
              "outlinewidth": 0,
              "ticks": ""
             }
            },
            "type": "scatterpolar"
           }
          ],
          "scatterpolargl": [
           {
            "marker": {
             "colorbar": {
              "outlinewidth": 0,
              "ticks": ""
             }
            },
            "type": "scatterpolargl"
           }
          ],
          "scatterternary": [
           {
            "marker": {
             "colorbar": {
              "outlinewidth": 0,
              "ticks": ""
             }
            },
            "type": "scatterternary"
           }
          ],
          "surface": [
           {
            "colorbar": {
             "outlinewidth": 0,
             "ticks": ""
            },
            "colorscale": [
             [
              0,
              "#0d0887"
             ],
             [
              0.1111111111111111,
              "#46039f"
             ],
             [
              0.2222222222222222,
              "#7201a8"
             ],
             [
              0.3333333333333333,
              "#9c179e"
             ],
             [
              0.4444444444444444,
              "#bd3786"
             ],
             [
              0.5555555555555556,
              "#d8576b"
             ],
             [
              0.6666666666666666,
              "#ed7953"
             ],
             [
              0.7777777777777778,
              "#fb9f3a"
             ],
             [
              0.8888888888888888,
              "#fdca26"
             ],
             [
              1,
              "#f0f921"
             ]
            ],
            "type": "surface"
           }
          ],
          "table": [
           {
            "cells": {
             "fill": {
              "color": "#EBF0F8"
             },
             "line": {
              "color": "white"
             }
            },
            "header": {
             "fill": {
              "color": "#C8D4E3"
             },
             "line": {
              "color": "white"
             }
            },
            "type": "table"
           }
          ]
         },
         "layout": {
          "annotationdefaults": {
           "arrowcolor": "#2a3f5f",
           "arrowhead": 0,
           "arrowwidth": 1
          },
          "autotypenumbers": "strict",
          "coloraxis": {
           "colorbar": {
            "outlinewidth": 0,
            "ticks": ""
           }
          },
          "colorscale": {
           "diverging": [
            [
             0,
             "#8e0152"
            ],
            [
             0.1,
             "#c51b7d"
            ],
            [
             0.2,
             "#de77ae"
            ],
            [
             0.3,
             "#f1b6da"
            ],
            [
             0.4,
             "#fde0ef"
            ],
            [
             0.5,
             "#f7f7f7"
            ],
            [
             0.6,
             "#e6f5d0"
            ],
            [
             0.7,
             "#b8e186"
            ],
            [
             0.8,
             "#7fbc41"
            ],
            [
             0.9,
             "#4d9221"
            ],
            [
             1,
             "#276419"
            ]
           ],
           "sequential": [
            [
             0,
             "#0d0887"
            ],
            [
             0.1111111111111111,
             "#46039f"
            ],
            [
             0.2222222222222222,
             "#7201a8"
            ],
            [
             0.3333333333333333,
             "#9c179e"
            ],
            [
             0.4444444444444444,
             "#bd3786"
            ],
            [
             0.5555555555555556,
             "#d8576b"
            ],
            [
             0.6666666666666666,
             "#ed7953"
            ],
            [
             0.7777777777777778,
             "#fb9f3a"
            ],
            [
             0.8888888888888888,
             "#fdca26"
            ],
            [
             1,
             "#f0f921"
            ]
           ],
           "sequentialminus": [
            [
             0,
             "#0d0887"
            ],
            [
             0.1111111111111111,
             "#46039f"
            ],
            [
             0.2222222222222222,
             "#7201a8"
            ],
            [
             0.3333333333333333,
             "#9c179e"
            ],
            [
             0.4444444444444444,
             "#bd3786"
            ],
            [
             0.5555555555555556,
             "#d8576b"
            ],
            [
             0.6666666666666666,
             "#ed7953"
            ],
            [
             0.7777777777777778,
             "#fb9f3a"
            ],
            [
             0.8888888888888888,
             "#fdca26"
            ],
            [
             1,
             "#f0f921"
            ]
           ]
          },
          "colorway": [
           "#636efa",
           "#EF553B",
           "#00cc96",
           "#ab63fa",
           "#FFA15A",
           "#19d3f3",
           "#FF6692",
           "#B6E880",
           "#FF97FF",
           "#FECB52"
          ],
          "font": {
           "color": "#2a3f5f"
          },
          "geo": {
           "bgcolor": "white",
           "lakecolor": "white",
           "landcolor": "#E5ECF6",
           "showlakes": true,
           "showland": true,
           "subunitcolor": "white"
          },
          "hoverlabel": {
           "align": "left"
          },
          "hovermode": "closest",
          "mapbox": {
           "style": "light"
          },
          "paper_bgcolor": "white",
          "plot_bgcolor": "#E5ECF6",
          "polar": {
           "angularaxis": {
            "gridcolor": "white",
            "linecolor": "white",
            "ticks": ""
           },
           "bgcolor": "#E5ECF6",
           "radialaxis": {
            "gridcolor": "white",
            "linecolor": "white",
            "ticks": ""
           }
          },
          "scene": {
           "xaxis": {
            "backgroundcolor": "#E5ECF6",
            "gridcolor": "white",
            "gridwidth": 2,
            "linecolor": "white",
            "showbackground": true,
            "ticks": "",
            "zerolinecolor": "white"
           },
           "yaxis": {
            "backgroundcolor": "#E5ECF6",
            "gridcolor": "white",
            "gridwidth": 2,
            "linecolor": "white",
            "showbackground": true,
            "ticks": "",
            "zerolinecolor": "white"
           },
           "zaxis": {
            "backgroundcolor": "#E5ECF6",
            "gridcolor": "white",
            "gridwidth": 2,
            "linecolor": "white",
            "showbackground": true,
            "ticks": "",
            "zerolinecolor": "white"
           }
          },
          "shapedefaults": {
           "line": {
            "color": "#2a3f5f"
           }
          },
          "ternary": {
           "aaxis": {
            "gridcolor": "white",
            "linecolor": "white",
            "ticks": ""
           },
           "baxis": {
            "gridcolor": "white",
            "linecolor": "white",
            "ticks": ""
           },
           "bgcolor": "#E5ECF6",
           "caxis": {
            "gridcolor": "white",
            "linecolor": "white",
            "ticks": ""
           }
          },
          "title": {
           "x": 0.05
          },
          "xaxis": {
           "automargin": true,
           "gridcolor": "white",
           "linecolor": "white",
           "ticks": "",
           "title": {
            "standoff": 15
           },
           "zerolinecolor": "white",
           "zerolinewidth": 2
          },
          "yaxis": {
           "automargin": true,
           "gridcolor": "white",
           "linecolor": "white",
           "ticks": "",
           "title": {
            "standoff": 15
           },
           "zerolinecolor": "white",
           "zerolinewidth": 2
          }
         }
        }
       }
      },
      "text/html": [
       "<div>                            <div id=\"00ee7b87-0b4e-461c-ba2e-8704c1008bea\" class=\"plotly-graph-div\" style=\"height:525px; width:100%;\"></div>            <script type=\"text/javascript\">                require([\"plotly\"], function(Plotly) {                    window.PLOTLYENV=window.PLOTLYENV || {};                                    if (document.getElementById(\"00ee7b87-0b4e-461c-ba2e-8704c1008bea\")) {                    Plotly.newPlot(                        \"00ee7b87-0b4e-461c-ba2e-8704c1008bea\",                        [{\"box\":{\"visible\":true},\"meanline\":{\"visible\":true},\"name\":\"real\",\"x\":[\"real\",\"real\",\"real\",\"real\",\"real\",\"real\"],\"y\":[0.75,0.4888888888888889,0.125,0.734375,0.5851648351648352,0.65],\"type\":\"violin\"},{\"box\":{\"visible\":true},\"meanline\":{\"visible\":true},\"name\":\"semi-synthetic\",\"x\":[\"semi-synthetic\",\"semi-synthetic\",\"semi-synthetic\",\"semi-synthetic\",\"semi-synthetic\",\"semi-synthetic\",\"semi-synthetic\",\"semi-synthetic\",\"semi-synthetic\",\"semi-synthetic\",\"semi-synthetic\",\"semi-synthetic\",\"semi-synthetic\",\"semi-synthetic\",\"semi-synthetic\",\"semi-synthetic\",\"semi-synthetic\",\"semi-synthetic\",\"semi-synthetic\",\"semi-synthetic\",\"semi-synthetic\",\"semi-synthetic\",\"semi-synthetic\",\"semi-synthetic\",\"semi-synthetic\",\"semi-synthetic\",\"semi-synthetic\",\"semi-synthetic\",\"semi-synthetic\",\"semi-synthetic\",\"semi-synthetic\",\"semi-synthetic\",\"semi-synthetic\",\"semi-synthetic\",\"semi-synthetic\",\"semi-synthetic\",\"semi-synthetic\",\"semi-synthetic\",\"semi-synthetic\",\"semi-synthetic\",\"semi-synthetic\",\"semi-synthetic\",\"semi-synthetic\",\"semi-synthetic\",\"semi-synthetic\",\"semi-synthetic\",\"semi-synthetic\",\"semi-synthetic\",\"semi-synthetic\",\"semi-synthetic\",\"semi-synthetic\",\"semi-synthetic\",\"semi-synthetic\",\"semi-synthetic\",\"semi-synthetic\",\"semi-synthetic\",\"semi-synthetic\",\"semi-synthetic\",\"semi-synthetic\",\"semi-synthetic\",\"semi-synthetic\",\"semi-synthetic\",\"semi-synthetic\",\"semi-synthetic\",\"semi-synthetic\",\"semi-synthetic\",\"semi-synthetic\",\"semi-synthetic\",\"semi-synthetic\",\"semi-synthetic\",\"semi-synthetic\",\"semi-synthetic\",\"semi-synthetic\",\"semi-synthetic\",\"semi-synthetic\",\"semi-synthetic\",\"semi-synthetic\",\"semi-synthetic\",\"semi-synthetic\",\"semi-synthetic\",\"semi-synthetic\",\"semi-synthetic\",\"semi-synthetic\",\"semi-synthetic\",\"semi-synthetic\",\"semi-synthetic\",\"semi-synthetic\",\"semi-synthetic\",\"semi-synthetic\",\"semi-synthetic\",\"semi-synthetic\",\"semi-synthetic\",\"semi-synthetic\",\"semi-synthetic\",\"semi-synthetic\",\"semi-synthetic\",\"semi-synthetic\",\"semi-synthetic\",\"semi-synthetic\",\"semi-synthetic\",\"semi-synthetic\",\"semi-synthetic\",\"semi-synthetic\",\"semi-synthetic\",\"semi-synthetic\",\"semi-synthetic\",\"semi-synthetic\",\"semi-synthetic\",\"semi-synthetic\",\"semi-synthetic\",\"semi-synthetic\",\"semi-synthetic\",\"semi-synthetic\",\"semi-synthetic\",\"semi-synthetic\",\"semi-synthetic\",\"semi-synthetic\",\"semi-synthetic\",\"semi-synthetic\",\"semi-synthetic\",\"semi-synthetic\",\"semi-synthetic\",\"semi-synthetic\",\"semi-synthetic\",\"semi-synthetic\",\"semi-synthetic\",\"semi-synthetic\",\"semi-synthetic\",\"semi-synthetic\",\"semi-synthetic\",\"semi-synthetic\",\"semi-synthetic\",\"semi-synthetic\",\"semi-synthetic\",\"semi-synthetic\",\"semi-synthetic\",\"semi-synthetic\",\"semi-synthetic\",\"semi-synthetic\",\"semi-synthetic\",\"semi-synthetic\",\"semi-synthetic\",\"semi-synthetic\",\"semi-synthetic\",\"semi-synthetic\",\"semi-synthetic\",\"semi-synthetic\",\"semi-synthetic\",\"semi-synthetic\",\"semi-synthetic\",\"semi-synthetic\",\"semi-synthetic\",\"semi-synthetic\",\"semi-synthetic\",\"semi-synthetic\",\"semi-synthetic\",\"semi-synthetic\",\"semi-synthetic\",\"semi-synthetic\",\"semi-synthetic\",\"semi-synthetic\",\"semi-synthetic\",\"semi-synthetic\",\"semi-synthetic\",\"semi-synthetic\",\"semi-synthetic\",\"semi-synthetic\",\"semi-synthetic\",\"semi-synthetic\",\"semi-synthetic\",\"semi-synthetic\",\"semi-synthetic\",\"semi-synthetic\",\"semi-synthetic\",\"semi-synthetic\",\"semi-synthetic\",\"semi-synthetic\",\"semi-synthetic\",\"semi-synthetic\",\"semi-synthetic\",\"semi-synthetic\",\"semi-synthetic\",\"semi-synthetic\",\"semi-synthetic\",\"semi-synthetic\",\"semi-synthetic\",\"semi-synthetic\",\"semi-synthetic\",\"semi-synthetic\",\"semi-synthetic\",\"semi-synthetic\",\"semi-synthetic\",\"semi-synthetic\",\"semi-synthetic\",\"semi-synthetic\",\"semi-synthetic\",\"semi-synthetic\",\"semi-synthetic\",\"semi-synthetic\",\"semi-synthetic\",\"semi-synthetic\",\"semi-synthetic\",\"semi-synthetic\",\"semi-synthetic\",\"semi-synthetic\",\"semi-synthetic\",\"semi-synthetic\",\"semi-synthetic\",\"semi-synthetic\",\"semi-synthetic\",\"semi-synthetic\",\"semi-synthetic\",\"semi-synthetic\",\"semi-synthetic\",\"semi-synthetic\",\"semi-synthetic\",\"semi-synthetic\",\"semi-synthetic\",\"semi-synthetic\",\"semi-synthetic\",\"semi-synthetic\",\"semi-synthetic\",\"semi-synthetic\",\"semi-synthetic\",\"semi-synthetic\",\"semi-synthetic\",\"semi-synthetic\",\"semi-synthetic\",\"semi-synthetic\",\"semi-synthetic\",\"semi-synthetic\",\"semi-synthetic\",\"semi-synthetic\",\"semi-synthetic\",\"semi-synthetic\",\"semi-synthetic\",\"semi-synthetic\",\"semi-synthetic\",\"semi-synthetic\",\"semi-synthetic\",\"semi-synthetic\",\"semi-synthetic\",\"semi-synthetic\",\"semi-synthetic\",\"semi-synthetic\",\"semi-synthetic\",\"semi-synthetic\",\"semi-synthetic\",\"semi-synthetic\",\"semi-synthetic\",\"semi-synthetic\",\"semi-synthetic\",\"semi-synthetic\",\"semi-synthetic\",\"semi-synthetic\",\"semi-synthetic\",\"semi-synthetic\",\"semi-synthetic\",\"semi-synthetic\",\"semi-synthetic\",\"semi-synthetic\",\"semi-synthetic\",\"semi-synthetic\",\"semi-synthetic\",\"semi-synthetic\",\"semi-synthetic\",\"semi-synthetic\",\"semi-synthetic\",\"semi-synthetic\",\"semi-synthetic\",\"semi-synthetic\",\"semi-synthetic\",\"semi-synthetic\",\"semi-synthetic\",\"semi-synthetic\",\"semi-synthetic\",\"semi-synthetic\",\"semi-synthetic\",\"semi-synthetic\",\"semi-synthetic\",\"semi-synthetic\",\"semi-synthetic\",\"semi-synthetic\",\"semi-synthetic\",\"semi-synthetic\",\"semi-synthetic\",\"semi-synthetic\",\"semi-synthetic\",\"semi-synthetic\",\"semi-synthetic\",\"semi-synthetic\",\"semi-synthetic\",\"semi-synthetic\",\"semi-synthetic\",\"semi-synthetic\",\"semi-synthetic\",\"semi-synthetic\",\"semi-synthetic\",\"semi-synthetic\",\"semi-synthetic\",\"semi-synthetic\",\"semi-synthetic\",\"semi-synthetic\",\"semi-synthetic\",\"semi-synthetic\",\"semi-synthetic\",\"semi-synthetic\",\"semi-synthetic\",\"semi-synthetic\",\"semi-synthetic\",\"semi-synthetic\",\"semi-synthetic\",\"semi-synthetic\",\"semi-synthetic\",\"semi-synthetic\",\"semi-synthetic\",\"semi-synthetic\",\"semi-synthetic\",\"semi-synthetic\",\"semi-synthetic\",\"semi-synthetic\",\"semi-synthetic\",\"semi-synthetic\",\"semi-synthetic\",\"semi-synthetic\",\"semi-synthetic\",\"semi-synthetic\",\"semi-synthetic\",\"semi-synthetic\",\"semi-synthetic\",\"semi-synthetic\",\"semi-synthetic\",\"semi-synthetic\",\"semi-synthetic\",\"semi-synthetic\",\"semi-synthetic\",\"semi-synthetic\",\"semi-synthetic\",\"semi-synthetic\",\"semi-synthetic\",\"semi-synthetic\",\"semi-synthetic\",\"semi-synthetic\",\"semi-synthetic\",\"semi-synthetic\",\"semi-synthetic\",\"semi-synthetic\",\"semi-synthetic\",\"semi-synthetic\",\"semi-synthetic\",\"semi-synthetic\",\"semi-synthetic\",\"semi-synthetic\",\"semi-synthetic\",\"semi-synthetic\",\"semi-synthetic\",\"semi-synthetic\",\"semi-synthetic\",\"semi-synthetic\",\"semi-synthetic\",\"semi-synthetic\",\"semi-synthetic\",\"semi-synthetic\",\"semi-synthetic\",\"semi-synthetic\",\"semi-synthetic\",\"semi-synthetic\",\"semi-synthetic\",\"semi-synthetic\",\"semi-synthetic\",\"semi-synthetic\",\"semi-synthetic\",\"semi-synthetic\",\"semi-synthetic\",\"semi-synthetic\",\"semi-synthetic\",\"semi-synthetic\",\"semi-synthetic\",\"semi-synthetic\",\"semi-synthetic\",\"semi-synthetic\",\"semi-synthetic\",\"semi-synthetic\",\"semi-synthetic\",\"semi-synthetic\",\"semi-synthetic\",\"semi-synthetic\",\"semi-synthetic\",\"semi-synthetic\",\"semi-synthetic\",\"semi-synthetic\",\"semi-synthetic\",\"semi-synthetic\",\"semi-synthetic\",\"semi-synthetic\",\"semi-synthetic\",\"semi-synthetic\",\"semi-synthetic\",\"semi-synthetic\",\"semi-synthetic\",\"semi-synthetic\",\"semi-synthetic\",\"semi-synthetic\",\"semi-synthetic\",\"semi-synthetic\",\"semi-synthetic\",\"semi-synthetic\",\"semi-synthetic\",\"semi-synthetic\",\"semi-synthetic\",\"semi-synthetic\",\"semi-synthetic\",\"semi-synthetic\",\"semi-synthetic\",\"semi-synthetic\",\"semi-synthetic\",\"semi-synthetic\",\"semi-synthetic\",\"semi-synthetic\",\"semi-synthetic\",\"semi-synthetic\",\"semi-synthetic\",\"semi-synthetic\",\"semi-synthetic\",\"semi-synthetic\",\"semi-synthetic\",\"semi-synthetic\",\"semi-synthetic\",\"semi-synthetic\",\"semi-synthetic\",\"semi-synthetic\",\"semi-synthetic\",\"semi-synthetic\",\"semi-synthetic\",\"semi-synthetic\",\"semi-synthetic\",\"semi-synthetic\",\"semi-synthetic\",\"semi-synthetic\",\"semi-synthetic\",\"semi-synthetic\",\"semi-synthetic\",\"semi-synthetic\",\"semi-synthetic\",\"semi-synthetic\",\"semi-synthetic\",\"semi-synthetic\",\"semi-synthetic\",\"semi-synthetic\",\"semi-synthetic\",\"semi-synthetic\",\"semi-synthetic\",\"semi-synthetic\",\"semi-synthetic\",\"semi-synthetic\",\"semi-synthetic\",\"semi-synthetic\",\"semi-synthetic\",\"semi-synthetic\",\"semi-synthetic\",\"semi-synthetic\",\"semi-synthetic\",\"semi-synthetic\",\"semi-synthetic\",\"semi-synthetic\",\"semi-synthetic\",\"semi-synthetic\",\"semi-synthetic\",\"semi-synthetic\",\"semi-synthetic\",\"semi-synthetic\",\"semi-synthetic\",\"semi-synthetic\",\"semi-synthetic\",\"semi-synthetic\",\"semi-synthetic\",\"semi-synthetic\",\"semi-synthetic\",\"semi-synthetic\",\"semi-synthetic\",\"semi-synthetic\",\"semi-synthetic\",\"semi-synthetic\",\"semi-synthetic\",\"semi-synthetic\",\"semi-synthetic\",\"semi-synthetic\",\"semi-synthetic\",\"semi-synthetic\",\"semi-synthetic\",\"semi-synthetic\",\"semi-synthetic\",\"semi-synthetic\",\"semi-synthetic\",\"semi-synthetic\",\"semi-synthetic\",\"semi-synthetic\",\"semi-synthetic\",\"semi-synthetic\",\"semi-synthetic\",\"semi-synthetic\",\"semi-synthetic\",\"semi-synthetic\",\"semi-synthetic\",\"semi-synthetic\",\"semi-synthetic\",\"semi-synthetic\",\"semi-synthetic\",\"semi-synthetic\",\"semi-synthetic\",\"semi-synthetic\",\"semi-synthetic\",\"semi-synthetic\",\"semi-synthetic\",\"semi-synthetic\",\"semi-synthetic\",\"semi-synthetic\",\"semi-synthetic\",\"semi-synthetic\",\"semi-synthetic\",\"semi-synthetic\",\"semi-synthetic\",\"semi-synthetic\",\"semi-synthetic\",\"semi-synthetic\",\"semi-synthetic\",\"semi-synthetic\",\"semi-synthetic\",\"semi-synthetic\",\"semi-synthetic\",\"semi-synthetic\",\"semi-synthetic\",\"semi-synthetic\",\"semi-synthetic\",\"semi-synthetic\",\"semi-synthetic\",\"semi-synthetic\",\"semi-synthetic\",\"semi-synthetic\",\"semi-synthetic\",\"semi-synthetic\",\"semi-synthetic\",\"semi-synthetic\",\"semi-synthetic\",\"semi-synthetic\",\"semi-synthetic\",\"semi-synthetic\",\"semi-synthetic\",\"semi-synthetic\",\"semi-synthetic\",\"semi-synthetic\",\"semi-synthetic\",\"semi-synthetic\",\"semi-synthetic\",\"semi-synthetic\",\"semi-synthetic\",\"semi-synthetic\",\"semi-synthetic\",\"semi-synthetic\",\"semi-synthetic\",\"semi-synthetic\",\"semi-synthetic\",\"semi-synthetic\",\"semi-synthetic\",\"semi-synthetic\",\"semi-synthetic\",\"semi-synthetic\",\"semi-synthetic\",\"semi-synthetic\",\"semi-synthetic\",\"semi-synthetic\",\"semi-synthetic\",\"semi-synthetic\",\"semi-synthetic\",\"semi-synthetic\",\"semi-synthetic\",\"semi-synthetic\",\"semi-synthetic\",\"semi-synthetic\",\"semi-synthetic\",\"semi-synthetic\",\"semi-synthetic\",\"semi-synthetic\",\"semi-synthetic\",\"semi-synthetic\",\"semi-synthetic\",\"semi-synthetic\",\"semi-synthetic\",\"semi-synthetic\",\"semi-synthetic\",\"semi-synthetic\",\"semi-synthetic\",\"semi-synthetic\",\"semi-synthetic\",\"semi-synthetic\",\"semi-synthetic\",\"semi-synthetic\",\"semi-synthetic\",\"semi-synthetic\",\"semi-synthetic\",\"semi-synthetic\",\"semi-synthetic\",\"semi-synthetic\",\"semi-synthetic\",\"semi-synthetic\",\"semi-synthetic\",\"semi-synthetic\",\"semi-synthetic\",\"semi-synthetic\",\"semi-synthetic\",\"semi-synthetic\",\"semi-synthetic\",\"semi-synthetic\",\"semi-synthetic\",\"semi-synthetic\",\"semi-synthetic\",\"semi-synthetic\",\"semi-synthetic\",\"semi-synthetic\",\"semi-synthetic\",\"semi-synthetic\",\"semi-synthetic\",\"semi-synthetic\",\"semi-synthetic\",\"semi-synthetic\",\"semi-synthetic\",\"semi-synthetic\",\"semi-synthetic\",\"semi-synthetic\",\"semi-synthetic\",\"semi-synthetic\",\"semi-synthetic\",\"semi-synthetic\",\"semi-synthetic\",\"semi-synthetic\",\"semi-synthetic\",\"semi-synthetic\",\"semi-synthetic\",\"semi-synthetic\",\"semi-synthetic\",\"semi-synthetic\",\"semi-synthetic\",\"semi-synthetic\",\"semi-synthetic\",\"semi-synthetic\",\"semi-synthetic\",\"semi-synthetic\",\"semi-synthetic\",\"semi-synthetic\",\"semi-synthetic\",\"semi-synthetic\",\"semi-synthetic\",\"semi-synthetic\",\"semi-synthetic\",\"semi-synthetic\",\"semi-synthetic\",\"semi-synthetic\",\"semi-synthetic\",\"semi-synthetic\",\"semi-synthetic\",\"semi-synthetic\",\"semi-synthetic\",\"semi-synthetic\",\"semi-synthetic\"],\"y\":[0.8675496688741722,0.8642384105960265,0.8675496688741722,0.8675496688741722,0.847682119205298,0.8609271523178808,0.8725165562913907,0.8576158940397351,0.8741721854304636,0.8642384105960265,0.8642384105960265,0.8741721854304636,0.8642384105960265,0.8708609271523179,0.8576158940397351,0.8576158940397351,0.8725165562913907,0.8675496688741722,0.8708609271523179,0.8708609271523179,0.8708609271523179,0.8708609271523179,0.8675496688741722,0.8675496688741722,0.8642384105960265,0.8642384105960265,0.8675496688741722,0.8675496688741722,0.8675496688741722,0.8675496688741722,0.8078802687843616,0.8210140500916311,0.8145998778252902,0.8368967623701894,0.820097739767868,0.8216249236408063,0.8277336591325596,0.8448381185094685,0.8246792913866829,0.8286499694563225,0.8176542455711667,0.818265119120342,0.8204031765424558,0.8335369578497251,0.8173488087965791,0.822846670739157,0.8320097739767868,0.8344532681734881,0.8197923029932804,0.8289554062309102,0.8246792913866829,0.8252901649358583,0.8295662797800856,0.8246792913866829,0.8289554062309102,0.8301771533292609,0.8283445326817349,0.8210140500916311,0.8252901649358583,0.8271227855833843,0.8464022140221402,0.8057349323493235,0.7955873308733087,0.8042742927429274,0.8161131611316114,0.8066574415744158,0.8115774907749077,0.8171125461254612,0.8289514145141451,0.8200338253382534,0.8347170971709718,0.7968942189421894,0.8015836408364083,0.8120387453874539,0.8127306273062731,0.809040590405904,0.8174969249692496,0.8057349323493235,0.8334102091020911,0.8204950799507995,0.808579335793358,0.808579335793358,0.8096555965559655,0.8075030750307504,0.8104243542435424,0.8030442804428044,0.8065805658056581,0.8076568265682657,0.8065805658056581,0.808579335793358,0.7557698839766166,0.7441675456316929,0.74212059996067,0.7320110123889375,0.7486279206964979,0.7516849312619555,0.7369361960777303,0.7429429536800329,0.7540536675188159,0.7585229812110053,0.7510681659724333,0.7445072134722992,0.7429697695621861,0.7383753150866152,0.7480558485438976,0.7467597475731627,0.735818867654683,0.7362032286322112,0.7467239930636251,0.7576827502368736,0.7388043692010655,0.7442658705329209,0.7419150115308293,0.7377138566601713,0.74075298997086,0.7392959937072063,0.741932888785598,0.7456245418953465,0.7393049323345907,0.7478949532509788,0.4178601516427969,0.4111204717775906,0.4296545914069081,0.4288121314237573,0.4414490311710193,0.409435551811289,0.4245998315080033,0.4237573715248525,0.4296545914069081,0.4102780117944398,0.4229149115417017,0.4102780117944398,0.4229149115417017,0.4330244313395113,0.4313395113732097,0.4111204717775906,0.4296545914069081,0.4178601516427969,0.4229149115417017,0.4170176916596461,0.4229149115417017,0.4195450716090985,0.4178601516427969,0.4203875315922493,0.4229149115417017,0.4203875315922493,0.4187026116259477,0.4220724515585509,0.4187026116259477,0.4271272114574557,0.5075757575757576,0.5,0.5227272727272727,0.5151515151515151,0.5151515151515151,0.5,0.5151515151515151,0.5,0.5,0.5,0.5151515151515151,0.5,0.5151515151515151,0.5,0.5151515151515151,0.4848484848484848,0.5151515151515151,0.5,0.5151515151515151,0.5151515151515151,0.5,0.5,0.5303030303030303,0.5,0.5,0.5151515151515151,0.5,0.5,0.5,0.5,0.502132196162047,0.4925373134328358,0.488272921108742,0.5138592750533049,0.5106609808102346,0.5149253731343284,0.4946695095948827,0.5181236673773987,0.4893390191897654,0.5127931769722814,0.4925373134328358,0.488272921108742,0.4914712153518124,0.5223880597014925,0.5053304904051172,0.5202558635394456,0.4925373134328358,0.5010660980810234,0.4904051172707889,0.5106609808102346,0.4989339019189765,0.4946695095948827,0.4968017057569296,0.4946695095948827,0.4946695095948827,0.4989339019189765,0.5159914712153518,0.5053304904051172,0.5053304904051172,0.509594882729211,0.4782608695652174,0.4987922705314009,0.4975845410628019,0.4867149758454106,0.4794685990338164,0.4927536231884058,0.4830917874396135,0.466183574879227,0.5217391304347826,0.4758454106280193,0.4794685990338164,0.4903381642512077,0.4927536231884058,0.4903381642512077,0.4758454106280193,0.4782608695652174,0.4842995169082125,0.4710144927536231,0.5024154589371981,0.4842995169082125,0.4879227053140096,0.4879227053140096,0.4879227053140096,0.4927536231884058,0.4879227053140096,0.4806763285024155,0.4879227053140096,0.4734299516908212,0.4806763285024155,0.4927536231884058,0.4680913348946136,0.4470140515222482,0.4543325526932084,0.4546252927400468,0.4613583138173302,0.4645784543325527,0.4716042154566744,0.4637002341920375,0.4745316159250585,0.4587236533957845,0.4648711943793911,0.4496487119437939,0.4514051522248243,0.4473067915690866,0.4613583138173302,0.4581381733021077,0.4677985948477752,0.4613583138173302,0.4716042154566744,0.4648711943793911,0.4560889929742389,0.4519906323185012,0.4531615925058548,0.4508196721311475,0.4598946135831381,0.4490632318501171,0.4534543325526932,0.4508196721311475,0.4566744730679157,0.4531615925058548,0.4096470588235294,0.480322586325298,0.4412574450395933,0.5155429844547235,0.5920889987639061,0.5933250927070457,0.6131025957972805,0.6131025957972805,0.5995055624227441,0.5982694684796045,0.6180469715698393,0.6019777503090235,0.619283065512979,0.5859085290482077,0.5982694684796045,0.6007416563658838,0.6254635352286774,0.6044499381953028,0.6081582200247219,0.6131025957972805,0.6081582200247219,0.6044499381953028,0.6007416563658838,0.5797280593325093,0.6007416563658838,0.5945611866501854,0.6056860321384425,0.6081582200247219,0.6106304079110012,0.6106304079110012,0.6069221260815822,0.6032138442521632,0.5896168108776267,0.6118665018541409,0.3675166002656042,0.3798406374501992,0.3574236387782205,0.350199203187251,0.3619123505976095,0.3744223107569721,0.3463745019920318,0.3769189907038512,0.3832403718459495,0.3471181938911022,0.3668260292164674,0.3716600265604249,0.3546082337317397,0.3443027888446215,0.3607702523240372,0.3656573705179283,0.3630013280212483,0.3620185922974767,0.3665073041168659,0.3574236387782205,0.3621513944223107,0.3719787516600266,0.3730942895086321,0.3585922974767596,0.3693227091633466,0.3744223107569721,0.3654980079681275,0.3634262948207171,0.3691633466135458,0.3617795484727755,0.3699622750417448,0.3518419262404914,0.3630563400606073,0.368869694283535,0.3650662763610876,0.3801665670287987,0.3536147931311715,0.3765899111505081,0.3635304788802078,0.352254220866231,0.3751365725947762,0.3610567111257705,0.3613040879012142,0.3677358840627512,0.3580778824548022,0.3664268486260281,0.355037209589973,0.3713846915005463,0.3625100496815024,0.364293223937826,0.3694469067595703,0.3636747819992166,0.3616751530643798,0.3676946546001773,0.3673235894370117,0.3645199859819827,0.3643550681316869,0.3696736688037271,0.3638190851182254,0.3675297367498815,0.395089133043581,0.4031847886238007,0.4023764666380645,0.3904195191105971,0.3985307193443887,0.3903371324466663,0.38815932648125,0.3965207956375484,0.3956798298793113,0.3916009127820577,0.4021899307952023,0.4038221194202466,0.3977426054082958,0.3995551120147736,0.3962860713686135,0.3906045004881021,0.3960622283571788,0.3979291412511581,0.3898972187505829,0.3931118531092416,0.3976648821404366,0.3974301578715016,0.3980348448954466,0.3988416124158257,0.4006105939923023,0.4005888314773017,0.3970353236707766,0.3924372151442233,0.3980177457765176,0.3941020475417685,0.4344827586206896,0.4517241379310345,0.4137931034482758,0.4379310344827586,0.4551724137931034,0.4551724137931034,0.4275862068965517,0.4655172413793103,0.4620689655172413,0.4862068965517241,0.4517241379310345,0.4551724137931034,0.4103448275862069,0.4310344827586206,0.4551724137931034,0.4517241379310345,0.4172413793103448,0.4482758620689655,0.4620689655172413,0.4827586206896552,0.4413793103448276,0.4413793103448276,0.4310344827586206,0.4413793103448276,0.4551724137931034,0.4379310344827586,0.4310344827586206,0.4413793103448276,0.4379310344827586,0.4689655172413793,0.5238095238095238,0.5492063492063493,0.5297619047619048,0.5333333333333333,0.5301587301587302,0.5261904761904762,0.5212301587301588,0.5142857142857142,0.5107142857142857,0.55,0.5380952380952381,0.5476190476190477,0.5307539682539683,0.5386904761904762,0.5507936507936508,0.5178571428571429,0.525,0.5170634920634921,0.5353174603174603,0.5303571428571429,0.5396825396825397,0.5380952380952381,0.525,0.5321428571428571,0.5287698412698413,0.5317460317460317,0.5339285714285714,0.5432539682539682,0.5359126984126984,0.5242063492063492,0.492354318776691,0.4950406392065022,0.4920328787252606,0.4981861597097856,0.4886118381778941,0.5109060017449603,0.4969003995040639,0.4953850392616062,0.502181200348992,0.5072324011571842,0.4902879184460669,0.4912981586077053,0.4925379988060798,0.4949487991918079,0.4970151995224319,0.4939155990264958,0.5049823207971713,0.4927905588464894,0.5067732010837122,0.5044542407126785,0.4935482389677182,0.4927216788354686,0.4954768792763007,0.5014235202277633,0.5021352803416449,0.5059925609588097,0.4970151995224319,0.4978417596546815,0.4971299995407999,0.4952472792395647,0.5281814334085779,0.5081828442437923,0.5282519751693002,0.5199280474040632,0.5049026523702032,0.5325550225733634,0.5214799661399548,0.508323927765237,0.5163656884875847,0.513191309255079,0.535517776523702,0.519081546275395,0.5223970090293454,0.519081546275395,0.5162951467268623,0.5290279345372461,0.5270174943566591,0.5125564334085779,0.5276523702031602,0.5098053047404063,0.5367522573363431,0.5262415349887133,0.5302976862302483,0.5290632054176072,0.5256066591422122,0.5303682279909706,0.5313910835214447,0.5242663656884876,0.5311794582392777,0.5188346501128668,0.771255060728745,0.7591093117408907,0.7651821862348178,0.7651821862348178,0.757085020242915,0.7611336032388664,0.7591093117408907,0.7611336032388664,0.7631578947368421,0.7611336032388664,0.757085020242915,0.7591093117408907,0.7611336032388664,0.7672064777327935,0.7611336032388664,0.7631578947368421,0.7611336032388664,0.7611336032388664,0.7611336032388664,0.7692307692307693,0.7591093117408907,0.7591093117408907,0.7611336032388664,0.7591093117408907,0.7611336032388664,0.7631578947368421,0.7611336032388664,0.7611336032388664,0.7591093117408907,0.7611336032388664,0.7446105702364395,0.7437413073713491,0.7460013908205841,0.7380041724617524,0.7475660639777468,0.7397426981919333,0.7381780250347705,0.7494784422809457,0.7506954102920723,0.7418289290681502,0.7461752433936022,0.7466968011126565,0.7437413073713491,0.7453059805285118,0.7465229485396384,0.747913769123783,0.7400904033379694,0.7380041724617524,0.7433936022253129,0.7402642559109874,0.7456536856745479,0.7442628650904033,0.7447844228094576,0.7449582753824756,0.7439151599443672,0.7411335187760779,0.7442628650904033,0.741481223922114,0.7425243393602226,0.7432197496522949,0.5412371134020618,0.5306823760432008,0.5677466863033873,0.6183112420225823,0.4823269513991163,0.5309278350515464,0.6011291114383898,0.5694648993618066,0.5287187039764359,0.5132547864506627,0.604074619538537,0.5427098674521355,0.5454099165439371,0.6180657830142366,0.5810014727540501,0.5792832596956309,0.5976926853215513,0.5473735886107021,0.529945999018164,0.4825724104074619,0.625920471281296,0.6251840942562592,0.539273441335297,0.6303387334315169,0.6497299950908199,0.5719194894452626,0.6406480117820325,0.5765832106038291,0.5640648011782032,0.5522827687776142,0.2184791104163706,0.2198268971152479,0.2158723532755435,0.2150241580218843,0.2167960423475913,0.2150419212732698,0.212923653545545,0.2190142283643598,0.2120576950405002,0.2112983160437686,0.213931718061674,0.214417987068353,0.2183303431860167,0.2137896120505897,0.2127127149353417,0.2172512256643456,0.213329987920989,0.2093843257069774,0.2110118836151769,0.2092977298564729,0.2126971720903794,0.2106366349296575,0.2129414167969305,0.2136963549808156,0.2097662356117663,0.2142248117095353,0.2106277533039647,0.209171166690351,0.2127282577803041,0.2123552295012079,0.2266895832054508,0.2601436375913081,0.287981093855503,0.2732797250015346,0.2926462463937143,0.2840218525566264,0.2982935363083911,0.303664600085937,0.2877662513044012,0.2775151924375422,0.2740470198268983,0.2699650113559634,0.3003191946473513,0.2774538088515131,0.3097108833098029,0.2783438708489349,0.3045853538763735,0.2945491375606163,0.3047081210484316,0.2555398686391259,0.2951629734209072,0.2797250015345896,0.2776072678165858,0.3037873672579952,0.2901909029525505,0.2860475108955865,0.2894542999202013,0.2870603400650666,0.291510650052176,0.299183598305813],\"type\":\"violin\"},{\"box\":{\"visible\":true},\"meanline\":{\"visible\":true},\"name\":\"synthetic\",\"x\":[\"synthetic\",\"synthetic\",\"synthetic\",\"synthetic\",\"synthetic\",\"synthetic\",\"synthetic\",\"synthetic\",\"synthetic\",\"synthetic\",\"synthetic\",\"synthetic\",\"synthetic\",\"synthetic\",\"synthetic\",\"synthetic\",\"synthetic\",\"synthetic\",\"synthetic\",\"synthetic\",\"synthetic\",\"synthetic\",\"synthetic\",\"synthetic\",\"synthetic\",\"synthetic\",\"synthetic\",\"synthetic\",\"synthetic\",\"synthetic\",\"synthetic\",\"synthetic\",\"synthetic\",\"synthetic\",\"synthetic\",\"synthetic\",\"synthetic\",\"synthetic\",\"synthetic\",\"synthetic\",\"synthetic\",\"synthetic\",\"synthetic\",\"synthetic\",\"synthetic\",\"synthetic\",\"synthetic\",\"synthetic\",\"synthetic\",\"synthetic\",\"synthetic\",\"synthetic\",\"synthetic\",\"synthetic\",\"synthetic\",\"synthetic\",\"synthetic\",\"synthetic\",\"synthetic\",\"synthetic\",\"synthetic\",\"synthetic\",\"synthetic\",\"synthetic\",\"synthetic\",\"synthetic\",\"synthetic\",\"synthetic\",\"synthetic\",\"synthetic\",\"synthetic\",\"synthetic\",\"synthetic\",\"synthetic\",\"synthetic\",\"synthetic\",\"synthetic\",\"synthetic\",\"synthetic\",\"synthetic\",\"synthetic\",\"synthetic\",\"synthetic\",\"synthetic\",\"synthetic\",\"synthetic\",\"synthetic\",\"synthetic\",\"synthetic\",\"synthetic\",\"synthetic\",\"synthetic\",\"synthetic\",\"synthetic\",\"synthetic\",\"synthetic\",\"synthetic\",\"synthetic\",\"synthetic\",\"synthetic\",\"synthetic\",\"synthetic\",\"synthetic\",\"synthetic\",\"synthetic\",\"synthetic\",\"synthetic\",\"synthetic\",\"synthetic\",\"synthetic\",\"synthetic\",\"synthetic\",\"synthetic\",\"synthetic\",\"synthetic\",\"synthetic\",\"synthetic\",\"synthetic\",\"synthetic\",\"synthetic\",\"synthetic\",\"synthetic\",\"synthetic\",\"synthetic\",\"synthetic\",\"synthetic\",\"synthetic\",\"synthetic\",\"synthetic\",\"synthetic\",\"synthetic\",\"synthetic\",\"synthetic\",\"synthetic\",\"synthetic\",\"synthetic\",\"synthetic\",\"synthetic\",\"synthetic\",\"synthetic\",\"synthetic\",\"synthetic\",\"synthetic\",\"synthetic\",\"synthetic\",\"synthetic\",\"synthetic\",\"synthetic\",\"synthetic\",\"synthetic\",\"synthetic\",\"synthetic\",\"synthetic\",\"synthetic\",\"synthetic\",\"synthetic\",\"synthetic\",\"synthetic\",\"synthetic\",\"synthetic\",\"synthetic\",\"synthetic\",\"synthetic\",\"synthetic\",\"synthetic\",\"synthetic\",\"synthetic\",\"synthetic\",\"synthetic\",\"synthetic\",\"synthetic\",\"synthetic\",\"synthetic\",\"synthetic\",\"synthetic\",\"synthetic\",\"synthetic\",\"synthetic\",\"synthetic\",\"synthetic\",\"synthetic\",\"synthetic\",\"synthetic\",\"synthetic\",\"synthetic\",\"synthetic\",\"synthetic\",\"synthetic\",\"synthetic\",\"synthetic\",\"synthetic\",\"synthetic\",\"synthetic\",\"synthetic\",\"synthetic\",\"synthetic\",\"synthetic\",\"synthetic\",\"synthetic\",\"synthetic\",\"synthetic\",\"synthetic\",\"synthetic\",\"synthetic\",\"synthetic\",\"synthetic\",\"synthetic\",\"synthetic\",\"synthetic\",\"synthetic\",\"synthetic\",\"synthetic\",\"synthetic\",\"synthetic\",\"synthetic\",\"synthetic\",\"synthetic\",\"synthetic\",\"synthetic\",\"synthetic\",\"synthetic\",\"synthetic\",\"synthetic\",\"synthetic\",\"synthetic\",\"synthetic\",\"synthetic\",\"synthetic\",\"synthetic\",\"synthetic\",\"synthetic\",\"synthetic\",\"synthetic\",\"synthetic\",\"synthetic\",\"synthetic\",\"synthetic\",\"synthetic\",\"synthetic\",\"synthetic\",\"synthetic\",\"synthetic\",\"synthetic\",\"synthetic\",\"synthetic\",\"synthetic\",\"synthetic\",\"synthetic\",\"synthetic\",\"synthetic\",\"synthetic\",\"synthetic\",\"synthetic\",\"synthetic\",\"synthetic\",\"synthetic\",\"synthetic\",\"synthetic\",\"synthetic\",\"synthetic\",\"synthetic\",\"synthetic\",\"synthetic\",\"synthetic\",\"synthetic\",\"synthetic\",\"synthetic\",\"synthetic\",\"synthetic\",\"synthetic\",\"synthetic\",\"synthetic\",\"synthetic\",\"synthetic\",\"synthetic\",\"synthetic\",\"synthetic\",\"synthetic\",\"synthetic\",\"synthetic\",\"synthetic\",\"synthetic\",\"synthetic\",\"synthetic\",\"synthetic\",\"synthetic\",\"synthetic\",\"synthetic\",\"synthetic\",\"synthetic\",\"synthetic\",\"synthetic\",\"synthetic\",\"synthetic\",\"synthetic\",\"synthetic\",\"synthetic\",\"synthetic\",\"synthetic\",\"synthetic\",\"synthetic\",\"synthetic\",\"synthetic\",\"synthetic\",\"synthetic\",\"synthetic\",\"synthetic\",\"synthetic\",\"synthetic\",\"synthetic\",\"synthetic\",\"synthetic\",\"synthetic\",\"synthetic\",\"synthetic\",\"synthetic\",\"synthetic\",\"synthetic\",\"synthetic\",\"synthetic\",\"synthetic\",\"synthetic\",\"synthetic\",\"synthetic\",\"synthetic\",\"synthetic\",\"synthetic\",\"synthetic\",\"synthetic\",\"synthetic\",\"synthetic\",\"synthetic\",\"synthetic\",\"synthetic\",\"synthetic\",\"synthetic\",\"synthetic\",\"synthetic\",\"synthetic\",\"synthetic\",\"synthetic\",\"synthetic\",\"synthetic\",\"synthetic\",\"synthetic\",\"synthetic\",\"synthetic\",\"synthetic\",\"synthetic\",\"synthetic\",\"synthetic\",\"synthetic\",\"synthetic\",\"synthetic\",\"synthetic\",\"synthetic\",\"synthetic\",\"synthetic\",\"synthetic\",\"synthetic\",\"synthetic\",\"synthetic\",\"synthetic\",\"synthetic\",\"synthetic\",\"synthetic\",\"synthetic\",\"synthetic\",\"synthetic\",\"synthetic\",\"synthetic\",\"synthetic\",\"synthetic\",\"synthetic\",\"synthetic\",\"synthetic\",\"synthetic\",\"synthetic\",\"synthetic\",\"synthetic\",\"synthetic\",\"synthetic\",\"synthetic\",\"synthetic\",\"synthetic\",\"synthetic\",\"synthetic\",\"synthetic\",\"synthetic\",\"synthetic\",\"synthetic\",\"synthetic\",\"synthetic\",\"synthetic\",\"synthetic\",\"synthetic\",\"synthetic\",\"synthetic\",\"synthetic\",\"synthetic\",\"synthetic\",\"synthetic\",\"synthetic\",\"synthetic\",\"synthetic\",\"synthetic\",\"synthetic\",\"synthetic\",\"synthetic\",\"synthetic\",\"synthetic\",\"synthetic\",\"synthetic\",\"synthetic\",\"synthetic\",\"synthetic\",\"synthetic\",\"synthetic\",\"synthetic\",\"synthetic\",\"synthetic\",\"synthetic\",\"synthetic\",\"synthetic\",\"synthetic\",\"synthetic\",\"synthetic\",\"synthetic\",\"synthetic\",\"synthetic\",\"synthetic\",\"synthetic\",\"synthetic\",\"synthetic\",\"synthetic\",\"synthetic\",\"synthetic\",\"synthetic\",\"synthetic\",\"synthetic\",\"synthetic\",\"synthetic\",\"synthetic\",\"synthetic\",\"synthetic\",\"synthetic\",\"synthetic\",\"synthetic\",\"synthetic\",\"synthetic\",\"synthetic\",\"synthetic\",\"synthetic\",\"synthetic\",\"synthetic\",\"synthetic\",\"synthetic\",\"synthetic\",\"synthetic\",\"synthetic\",\"synthetic\",\"synthetic\",\"synthetic\",\"synthetic\",\"synthetic\",\"synthetic\",\"synthetic\",\"synthetic\",\"synthetic\",\"synthetic\",\"synthetic\",\"synthetic\",\"synthetic\",\"synthetic\",\"synthetic\",\"synthetic\",\"synthetic\",\"synthetic\",\"synthetic\",\"synthetic\",\"synthetic\",\"synthetic\",\"synthetic\",\"synthetic\",\"synthetic\",\"synthetic\",\"synthetic\",\"synthetic\",\"synthetic\",\"synthetic\",\"synthetic\",\"synthetic\",\"synthetic\",\"synthetic\",\"synthetic\",\"synthetic\",\"synthetic\",\"synthetic\",\"synthetic\",\"synthetic\",\"synthetic\",\"synthetic\",\"synthetic\",\"synthetic\",\"synthetic\",\"synthetic\",\"synthetic\",\"synthetic\",\"synthetic\",\"synthetic\",\"synthetic\",\"synthetic\",\"synthetic\",\"synthetic\",\"synthetic\",\"synthetic\",\"synthetic\",\"synthetic\",\"synthetic\",\"synthetic\",\"synthetic\",\"synthetic\",\"synthetic\",\"synthetic\",\"synthetic\",\"synthetic\",\"synthetic\",\"synthetic\",\"synthetic\",\"synthetic\",\"synthetic\",\"synthetic\",\"synthetic\",\"synthetic\",\"synthetic\",\"synthetic\",\"synthetic\",\"synthetic\",\"synthetic\",\"synthetic\",\"synthetic\",\"synthetic\",\"synthetic\",\"synthetic\",\"synthetic\",\"synthetic\",\"synthetic\",\"synthetic\",\"synthetic\",\"synthetic\",\"synthetic\",\"synthetic\",\"synthetic\",\"synthetic\",\"synthetic\",\"synthetic\",\"synthetic\",\"synthetic\",\"synthetic\",\"synthetic\",\"synthetic\",\"synthetic\",\"synthetic\",\"synthetic\",\"synthetic\",\"synthetic\",\"synthetic\",\"synthetic\",\"synthetic\",\"synthetic\",\"synthetic\",\"synthetic\",\"synthetic\",\"synthetic\",\"synthetic\",\"synthetic\",\"synthetic\",\"synthetic\",\"synthetic\",\"synthetic\",\"synthetic\",\"synthetic\",\"synthetic\",\"synthetic\",\"synthetic\",\"synthetic\",\"synthetic\",\"synthetic\",\"synthetic\",\"synthetic\",\"synthetic\",\"synthetic\",\"synthetic\",\"synthetic\",\"synthetic\",\"synthetic\",\"synthetic\",\"synthetic\",\"synthetic\",\"synthetic\",\"synthetic\",\"synthetic\",\"synthetic\",\"synthetic\",\"synthetic\",\"synthetic\",\"synthetic\",\"synthetic\",\"synthetic\",\"synthetic\",\"synthetic\",\"synthetic\",\"synthetic\",\"synthetic\",\"synthetic\",\"synthetic\",\"synthetic\",\"synthetic\",\"synthetic\",\"synthetic\",\"synthetic\",\"synthetic\",\"synthetic\",\"synthetic\",\"synthetic\",\"synthetic\",\"synthetic\",\"synthetic\",\"synthetic\",\"synthetic\",\"synthetic\",\"synthetic\",\"synthetic\",\"synthetic\",\"synthetic\",\"synthetic\",\"synthetic\",\"synthetic\",\"synthetic\",\"synthetic\",\"synthetic\",\"synthetic\",\"synthetic\",\"synthetic\",\"synthetic\",\"synthetic\",\"synthetic\",\"synthetic\",\"synthetic\",\"synthetic\",\"synthetic\",\"synthetic\",\"synthetic\",\"synthetic\",\"synthetic\",\"synthetic\",\"synthetic\",\"synthetic\",\"synthetic\",\"synthetic\",\"synthetic\",\"synthetic\",\"synthetic\",\"synthetic\",\"synthetic\",\"synthetic\",\"synthetic\",\"synthetic\",\"synthetic\",\"synthetic\",\"synthetic\",\"synthetic\",\"synthetic\",\"synthetic\",\"synthetic\",\"synthetic\",\"synthetic\",\"synthetic\",\"synthetic\",\"synthetic\",\"synthetic\",\"synthetic\",\"synthetic\",\"synthetic\",\"synthetic\",\"synthetic\",\"synthetic\",\"synthetic\",\"synthetic\",\"synthetic\",\"synthetic\",\"synthetic\",\"synthetic\",\"synthetic\",\"synthetic\",\"synthetic\",\"synthetic\",\"synthetic\",\"synthetic\",\"synthetic\",\"synthetic\",\"synthetic\",\"synthetic\",\"synthetic\",\"synthetic\",\"synthetic\",\"synthetic\",\"synthetic\",\"synthetic\",\"synthetic\",\"synthetic\",\"synthetic\",\"synthetic\",\"synthetic\",\"synthetic\",\"synthetic\",\"synthetic\",\"synthetic\",\"synthetic\",\"synthetic\",\"synthetic\",\"synthetic\",\"synthetic\",\"synthetic\",\"synthetic\",\"synthetic\",\"synthetic\",\"synthetic\",\"synthetic\",\"synthetic\",\"synthetic\",\"synthetic\",\"synthetic\",\"synthetic\",\"synthetic\",\"synthetic\",\"synthetic\",\"synthetic\",\"synthetic\",\"synthetic\",\"synthetic\",\"synthetic\",\"synthetic\",\"synthetic\",\"synthetic\",\"synthetic\",\"synthetic\",\"synthetic\",\"synthetic\",\"synthetic\",\"synthetic\",\"synthetic\",\"synthetic\",\"synthetic\",\"synthetic\",\"synthetic\",\"synthetic\",\"synthetic\",\"synthetic\",\"synthetic\",\"synthetic\",\"synthetic\",\"synthetic\",\"synthetic\",\"synthetic\",\"synthetic\",\"synthetic\",\"synthetic\",\"synthetic\",\"synthetic\",\"synthetic\",\"synthetic\",\"synthetic\",\"synthetic\",\"synthetic\",\"synthetic\",\"synthetic\",\"synthetic\",\"synthetic\",\"synthetic\",\"synthetic\",\"synthetic\",\"synthetic\",\"synthetic\",\"synthetic\",\"synthetic\",\"synthetic\",\"synthetic\",\"synthetic\",\"synthetic\",\"synthetic\",\"synthetic\",\"synthetic\",\"synthetic\",\"synthetic\",\"synthetic\",\"synthetic\",\"synthetic\",\"synthetic\",\"synthetic\",\"synthetic\",\"synthetic\",\"synthetic\",\"synthetic\",\"synthetic\",\"synthetic\",\"synthetic\",\"synthetic\",\"synthetic\",\"synthetic\",\"synthetic\",\"synthetic\",\"synthetic\",\"synthetic\",\"synthetic\",\"synthetic\",\"synthetic\",\"synthetic\",\"synthetic\",\"synthetic\",\"synthetic\",\"synthetic\",\"synthetic\",\"synthetic\",\"synthetic\",\"synthetic\",\"synthetic\",\"synthetic\",\"synthetic\",\"synthetic\",\"synthetic\",\"synthetic\",\"synthetic\",\"synthetic\",\"synthetic\",\"synthetic\",\"synthetic\",\"synthetic\",\"synthetic\",\"synthetic\",\"synthetic\",\"synthetic\",\"synthetic\",\"synthetic\",\"synthetic\",\"synthetic\",\"synthetic\",\"synthetic\",\"synthetic\",\"synthetic\",\"synthetic\",\"synthetic\",\"synthetic\",\"synthetic\",\"synthetic\",\"synthetic\",\"synthetic\",\"synthetic\",\"synthetic\",\"synthetic\",\"synthetic\",\"synthetic\",\"synthetic\",\"synthetic\",\"synthetic\",\"synthetic\",\"synthetic\",\"synthetic\",\"synthetic\",\"synthetic\",\"synthetic\",\"synthetic\",\"synthetic\",\"synthetic\",\"synthetic\",\"synthetic\",\"synthetic\",\"synthetic\",\"synthetic\",\"synthetic\",\"synthetic\",\"synthetic\",\"synthetic\",\"synthetic\",\"synthetic\",\"synthetic\",\"synthetic\",\"synthetic\",\"synthetic\",\"synthetic\",\"synthetic\",\"synthetic\",\"synthetic\",\"synthetic\",\"synthetic\",\"synthetic\",\"synthetic\",\"synthetic\",\"synthetic\",\"synthetic\",\"synthetic\",\"synthetic\",\"synthetic\",\"synthetic\",\"synthetic\",\"synthetic\",\"synthetic\",\"synthetic\",\"synthetic\",\"synthetic\",\"synthetic\",\"synthetic\",\"synthetic\",\"synthetic\",\"synthetic\",\"synthetic\",\"synthetic\",\"synthetic\",\"synthetic\",\"synthetic\",\"synthetic\",\"synthetic\",\"synthetic\",\"synthetic\",\"synthetic\",\"synthetic\",\"synthetic\",\"synthetic\",\"synthetic\",\"synthetic\",\"synthetic\",\"synthetic\",\"synthetic\",\"synthetic\",\"synthetic\",\"synthetic\",\"synthetic\",\"synthetic\",\"synthetic\",\"synthetic\",\"synthetic\",\"synthetic\",\"synthetic\",\"synthetic\",\"synthetic\",\"synthetic\",\"synthetic\",\"synthetic\",\"synthetic\",\"synthetic\",\"synthetic\",\"synthetic\",\"synthetic\",\"synthetic\",\"synthetic\",\"synthetic\",\"synthetic\",\"synthetic\",\"synthetic\",\"synthetic\",\"synthetic\",\"synthetic\",\"synthetic\",\"synthetic\",\"synthetic\",\"synthetic\",\"synthetic\",\"synthetic\",\"synthetic\",\"synthetic\",\"synthetic\",\"synthetic\",\"synthetic\",\"synthetic\",\"synthetic\",\"synthetic\",\"synthetic\",\"synthetic\",\"synthetic\",\"synthetic\",\"synthetic\",\"synthetic\",\"synthetic\",\"synthetic\",\"synthetic\",\"synthetic\",\"synthetic\",\"synthetic\",\"synthetic\",\"synthetic\",\"synthetic\",\"synthetic\",\"synthetic\",\"synthetic\",\"synthetic\",\"synthetic\",\"synthetic\",\"synthetic\",\"synthetic\",\"synthetic\",\"synthetic\",\"synthetic\",\"synthetic\",\"synthetic\",\"synthetic\",\"synthetic\",\"synthetic\",\"synthetic\",\"synthetic\",\"synthetic\",\"synthetic\",\"synthetic\",\"synthetic\",\"synthetic\",\"synthetic\",\"synthetic\",\"synthetic\",\"synthetic\",\"synthetic\",\"synthetic\",\"synthetic\",\"synthetic\",\"synthetic\",\"synthetic\",\"synthetic\",\"synthetic\",\"synthetic\",\"synthetic\",\"synthetic\",\"synthetic\",\"synthetic\",\"synthetic\",\"synthetic\",\"synthetic\",\"synthetic\",\"synthetic\",\"synthetic\",\"synthetic\",\"synthetic\",\"synthetic\",\"synthetic\",\"synthetic\",\"synthetic\",\"synthetic\",\"synthetic\",\"synthetic\",\"synthetic\",\"synthetic\",\"synthetic\",\"synthetic\",\"synthetic\",\"synthetic\",\"synthetic\",\"synthetic\",\"synthetic\",\"synthetic\",\"synthetic\",\"synthetic\",\"synthetic\",\"synthetic\",\"synthetic\",\"synthetic\",\"synthetic\",\"synthetic\",\"synthetic\",\"synthetic\",\"synthetic\",\"synthetic\",\"synthetic\",\"synthetic\",\"synthetic\",\"synthetic\",\"synthetic\",\"synthetic\",\"synthetic\",\"synthetic\",\"synthetic\",\"synthetic\",\"synthetic\",\"synthetic\",\"synthetic\",\"synthetic\",\"synthetic\",\"synthetic\",\"synthetic\",\"synthetic\",\"synthetic\",\"synthetic\",\"synthetic\",\"synthetic\",\"synthetic\",\"synthetic\",\"synthetic\",\"synthetic\",\"synthetic\",\"synthetic\",\"synthetic\",\"synthetic\",\"synthetic\",\"synthetic\",\"synthetic\",\"synthetic\",\"synthetic\",\"synthetic\",\"synthetic\",\"synthetic\",\"synthetic\",\"synthetic\",\"synthetic\",\"synthetic\",\"synthetic\",\"synthetic\",\"synthetic\",\"synthetic\",\"synthetic\",\"synthetic\",\"synthetic\",\"synthetic\",\"synthetic\",\"synthetic\",\"synthetic\",\"synthetic\",\"synthetic\",\"synthetic\"],\"y\":[0.375,0.25,0.5416666666666666,0.25,0.4583333333333333,0.4166666666666667,0.1666666666666666,0.25,0.375,0.1666666666666666,0.5416666666666666,0.2916666666666667,0.6666666666666666,0.7916666666666666,0.25,0.375,0.2083333333333333,0.25,0.4583333333333333,0.2916666666666667,0.5,0.25,0.4166666666666667,0.375,0.25,0.1666666666666666,0.5,0.25,0.2916666666666667,0.375,0.25,0.25,0.5416666666666666,0.5833333333333334,0.25,0.7083333333333334,0.25,0.2083333333333333,0.2916666666666667,0.4583333333333333,0.2083333333333333,0.2083333333333333,0.375,0.5,0.5,0.4583333333333333,0.1666666666666666,0.25,0.5,0.5,0.2083333333333333,0.2916666666666667,0.25,0.375,0.2916666666666667,0.1666666666666666,0.3333333333333333,0.4166666666666667,0.2916666666666667,0.375,0.303030303030303,0.3939393939393939,0.5757575757575758,0.4545454545454545,0.303030303030303,0.3939393939393939,0.2727272727272727,0.303030303030303,0.2727272727272727,0.2727272727272727,0.6363636363636364,0.303030303030303,0.6060606060606061,0.4242424242424242,0.303030303030303,0.3939393939393939,0.303030303030303,0.3939393939393939,0.3939393939393939,0.303030303030303,0.5454545454545454,0.2727272727272727,0.5151515151515151,0.4242424242424242,0.2727272727272727,0.303030303030303,0.4848484848484848,0.2727272727272727,0.303030303030303,0.4242424242424242,0.2727272727272727,0.2727272727272727,0.2727272727272727,0.5151515151515151,0.2727272727272727,0.4848484848484848,0.2727272727272727,0.3333333333333333,0.303030303030303,0.4848484848484848,0.2727272727272727,0.303030303030303,0.303030303030303,0.3939393939393939,0.4242424242424242,0.4848484848484848,0.2727272727272727,0.303030303030303,0.696969696969697,0.303030303030303,0.303030303030303,0.303030303030303,0.2727272727272727,0.3636363636363636,0.4545454545454545,0.2727272727272727,0.4848484848484848,0.4848484848484848,0.303030303030303,0.2727272727272727,0.5151515151515151,0.3636363636363636,0.5454545454545454,0.3939393939393939,0.4545454545454545,0.4545454545454545,0.3636363636363636,0.3636363636363636,0.4242424242424242,0.4545454545454545,0.6666666666666666,0.3333333333333333,0.7575757575757576,0.6363636363636364,0.303030303030303,0.5151515151515151,0.303030303030303,0.3636363636363636,0.5454545454545454,0.5454545454545454,0.5757575757575758,0.2424242424242424,0.6363636363636364,0.3333333333333333,0.3333333333333333,0.2424242424242424,0.6060606060606061,0.3636363636363636,0.4242424242424242,0.3939393939393939,0.4545454545454545,0.3939393939393939,0.5454545454545454,0.6363636363636364,0.3333333333333333,0.6363636363636364,0.3636363636363636,0.3333333333333333,0.2424242424242424,0.5454545454545454,0.3333333333333333,0.2424242424242424,0.6363636363636364,0.5757575757575758,0.5454545454545454,0.696969696969697,0.3636363636363636,0.3636363636363636,0.4545454545454545,0.5151515151515151,0.3636363636363636,0.4242424242424242,0.2424242424242424,0.4848484848484848,0.303030303030303,0.3939393939393939,0.3939393939393939,0.6666666666666666,0.3636363636363636,0.3636363636363636,0.710204081632653,0.6612244897959184,0.5469387755102041,0.6081632653061224,0.5795918367346938,0.6816326530612244,0.4285714285714285,0.6285714285714286,0.5510204081632653,0.6612244897959184,0.7142857142857143,0.4244897959183673,0.3224489795918367,0.689795918367347,0.5061224489795918,0.5673469387755102,0.5387755102040817,0.5755102040816327,0.5102040816326531,0.6775510204081633,0.6489795918367347,0.5224489795918368,0.5959183673469388,0.7510204081632653,0.5918367346938775,0.4897959183673469,0.4326530612244898,0.5102040816326531,0.710204081632653,0.6653061224489796,0.4,0.6857142857142857,0.4408163265306122,0.4612244897959183,0.5714285714285714,0.5673469387755102,0.3061224489795918,0.5387755102040817,0.3877551020408163,0.563265306122449,0.5020408163265306,0.6448979591836734,0.6448979591836734,0.673469387755102,0.4775510204081633,0.5918367346938775,0.3795918367346939,0.8,0.6816326530612244,0.5795918367346938,0.6612244897959184,0.8,0.5755102040816327,0.5469387755102041,0.6081632653061224,0.4122448979591837,0.5795918367346938,0.6612244897959184,0.4938775510204081,0.5795918367346938,0.7391304347826086,0.7391304347826086,0.6521739130434783,0.2608695652173913,0.6521739130434783,0.5217391304347826,0.6521739130434783,0.6521739130434783,0.5217391304347826,0.6521739130434783,0.6521739130434783,0.5217391304347826,0.6521739130434783,0.6521739130434783,0.5217391304347826,0.3478260869565217,0.6086956521739131,0.6521739130434783,0.7391304347826086,0.8260869565217391,0.5652173913043478,0.5217391304347826,0.6521739130434783,0.8260869565217391,0.5217391304347826,0.5652173913043478,0.6521739130434783,0.6086956521739131,0.5652173913043478,0.5217391304347826,0.6521739130434783,0.6521739130434783,0.7391304347826086,0.6521739130434783,0.5217391304347826,0.3478260869565217,0.6086956521739131,0.8260869565217391,0.5652173913043478,0.6521739130434783,0.5217391304347826,0.4782608695652174,0.5217391304347826,0.5652173913043478,0.6521739130434783,0.6521739130434783,0.7391304347826086,0.5652173913043478,0.8260869565217391,0.6521739130434783,0.7391304347826086,0.6521739130434783,0.5652173913043478,0.5652173913043478,0.5217391304347826,0.6521739130434783,0.5652173913043478,0.8260869565217391,0.5652173913043478,0.6521739130434783,0.391304347826087,0.6521739130434783,0.5217391304347826,0.4782608695652174,0.7391304347826086,0.4347826086956521,0.5652173913043478,0.6086956521739131,0.5217391304347826,0.4782608695652174,0.6521739130434783,0.3478260869565217,0.5652173913043478,0.3478260869565217,0.5217391304347826,0.6521739130434783,0.5217391304347826,0.6521739130434783,0.5652173913043478,0.3478260869565217,0.2608695652173913,0.7391304347826086,0.4347826086956521,0.5652173913043478,0.7391304347826086,0.5652173913043478,0.5652173913043478,0.4782608695652174,0.7391304347826086,0.6521739130434783,0.4782608695652174,0.7391304347826086,0.5652173913043478,0.5652173913043478,0.7391304347826086,0.5652173913043478,0.6521739130434783,0.4782608695652174,0.8260869565217391,0.5652173913043478,0.7391304347826086,0.4782608695652174,0.7391304347826086,0.6086956521739131,0.6521739130434783,0.5652173913043478,0.5217391304347826,0.5652173913043478,0.6086956521739131,0.6521739130434783,0.5652173913043478,0.4782608695652174,0.5652173913043478,0.6086956521739131,0.4347826086956521,0.5217391304347826,0.3478260869565217,0.5652173913043478,0.4347826086956521,0.7391304347826086,0.6521739130434783,0.5217391304347826,0.7391304347826086,0.5652173913043478,0.6521739130434783,0.6521739130434783,0.7391304347826086,0.6521739130434783,0.5652173913043478,0.8260869565217391,0.4347826086956521,0.7391304347826086,0.6521739130434783,0.5652173913043478,0.4347826086956521,0.5652173913043478,0.5652173913043478,0.6521739130434783,0.3478260869565217,0.5652173913043478,0.6521739130434783,0.6521739130434783,0.5652173913043478,0.5652173913043478,0.6521739130434783,0.6521739130434783,0.6521739130434783,0.5652173913043478,0.5217391304347826,0.6086956521739131,0.5652173913043478,0.5652173913043478,0.4347826086956521,0.7391304347826086,0.7391304347826086,0.6521739130434783,0.4782608695652174,0.4782608695652174,0.5652173913043478,0.6521739130434783,0.4347826086956521,0.6521739130434783,0.7391304347826086,0.6521739130434783,0.5652173913043478,0.7391304347826086,0.5652173913043478,0.5652173913043478,0.5652173913043478,0.5652173913043478,0.5217391304347826,0.6086956521739131,0.5217391304347826,0.4782608695652174,0.5652173913043478,0.7391304347826086,0.5217391304347826,0.4782608695652174,0.5652173913043478,0.5652173913043478,0.4782608695652174,0.3478260869565217,0.3478260869565217,0.5652173913043478,0.5652173913043478,0.6521739130434783,0.6521739130434783,0.3478260869565217,0.6086956521739131,0.8260869565217391,0.5652173913043478,0.5217391304347826,0.4782608695652174,0.5652173913043478,0.4782608695652174,0.6521739130434783,0.4347826086956521,0.3478260869565217,0.4347826086956521,0.6521739130434783,0.5652173913043478,0.4347826086956521,0.6086956521739131,0.3478260869565217,0.3478260869565217,0.6521739130434783,0.4782608695652174,0.6521739130434783,0.7391304347826086,0.6521739130434783,0.7391304347826086,0.6086956521739131,0.6521739130434783,0.5652173913043478,0.8260869565217391,0.6521739130434783,0.5652173913043478,0.3478260869565217,0.6086956521739131,0.5652173913043478,0.391304347826087,0.6521739130434783,0.7391304347826086,0.6086956521739131,0.5652173913043478,0.2608695652173913,0.391304347826087,0.5652173913043478,0.8260869565217391,0.7391304347826086,0.4782608695652174,0.5652173913043478,0.3478260869565217,0.7391304347826086,0.5652173913043478,0.4782608695652174,0.5652173913043478,0.5652173913043478,0.3478260869565217,0.4347826086956521,0.3783783783783784,0.4729729729729729,0.6351351351351351,0.4594594594594595,0.3783783783783784,0.5945945945945946,0.6486486486486487,0.2837837837837837,0.3918918918918919,0.4594594594594595,0.3648648648648648,0.5,0.5405405405405406,0.5405405405405406,0.3783783783783784,0.4594594594594595,0.5540540540540541,0.5945945945945946,0.3918918918918919,0.2972972972972973,0.4864864864864865,0.3918918918918919,0.4594594594594595,0.4594594594594595,0.527027027027027,0.6351351351351351,0.2972972972972973,0.3918918918918919,0.3108108108108108,0.6756756756756757,0.5675675675675675,0.527027027027027,0.4729729729729729,0.4864864864864865,0.5405405405405406,0.2702702702702703,0.527027027027027,0.4459459459459459,0.4054054054054054,0.4459459459459459,0.3648648648648648,0.5405405405405406,0.5540540540540541,0.581081081081081,0.4324324324324324,0.4054054054054054,0.4729729729729729,0.4054054054054054,0.6486486486486487,0.5540540540540541,0.5135135135135135,0.4864864864864865,0.4729729729729729,0.6351351351351351,0.6081081081081081,0.6216216216216216,0.2702702702702703,0.5945945945945946,0.3918918918918919,0.527027027027027,0.581081081081081,0.4189189189189189,0.4594594594594595,0.527027027027027,0.4054054054054054,0.6081081081081081,0.2567567567567567,0.581081081081081,0.7297297297297297,0.5405405405405406,0.4594594594594595,0.6351351351351351,0.527027027027027,0.6081081081081081,0.4324324324324324,0.5675675675675675,0.7432432432432432,0.3513513513513513,0.5405405405405406,0.2837837837837837,0.6621621621621622,0.5675675675675675,0.3648648648648648,0.5,0.5675675675675675,0.5405405405405406,0.3243243243243243,0.5540540540540541,0.5405405405405406,0.5405405405405406,0.581081081081081,0.4594594594594595,0.5540540540540541,0.5945945945945946,0.581081081081081,0.5675675675675675,0.5135135135135135,0.4729729729729729,0.5675675675675675,0.6351351351351351,0.5675675675675675,0.4729729729729729,0.4189189189189189,0.4324324324324324,0.4729729729729729,0.3648648648648648,0.4594594594594595,0.6216216216216216,0.3378378378378378,0.3108108108108108,0.4189189189189189,0.581081081081081,0.5675675675675675,0.527027027027027,0.7297297297297297,0.6486486486486487,0.7297297297297297,0.6216216216216216,0.6081081081081081,0.3548387096774194,0.6451612903225806,0.5161290322580645,0.5161290322580645,0.4516129032258064,0.3548387096774194,0.5161290322580645,0.5806451612903226,0.4838709677419355,0.5161290322580645,0.4193548387096774,0.6774193548387096,0.5161290322580645,0.4838709677419355,0.5483870967741935,0.4838709677419355,0.3548387096774194,0.6129032258064516,0.4193548387096774,0.4193548387096774,0.3548387096774194,0.5806451612903226,0.6774193548387096,0.6129032258064516,0.5483870967741935,0.4838709677419355,0.4516129032258064,0.4838709677419355,0.4193548387096774,0.3870967741935484,0.4838709677419355,0.4516129032258064,0.5806451612903226,0.6129032258064516,0.6129032258064516,0.6129032258064516,0.6451612903225806,0.6451612903225806,0.3548387096774194,0.6451612903225806,0.5483870967741935,0.5161290322580645,0.5161290322580645,0.5161290322580645,0.6451612903225806,0.5483870967741935,0.4193548387096774,0.5161290322580645,0.4193548387096774,0.6774193548387096,0.6129032258064516,0.5161290322580645,0.4193548387096774,0.3548387096774194,0.5483870967741935,0.3548387096774194,0.4193548387096774,0.6129032258064516,0.4516129032258064,0.4838709677419355,0.5806451612903226,0.6451612903225806,0.5806451612903226,0.3870967741935484,0.6451612903225806,0.5806451612903226,0.5161290322580645,0.5161290322580645,0.5161290322580645,0.5161290322580645,0.4838709677419355,0.5161290322580645,0.5483870967741935,0.5483870967741935,0.4193548387096774,0.6129032258064516,0.5483870967741935,0.4193548387096774,0.5161290322580645,0.6129032258064516,0.5161290322580645,0.4516129032258064,0.6129032258064516,0.4838709677419355,0.5483870967741935,0.6451612903225806,0.6129032258064516,0.5161290322580645,0.4516129032258064,0.5483870967741935,0.6774193548387096,0.5806451612903226,0.4838709677419355,0.5483870967741935,0.4193548387096774,0.6451612903225806,0.4193548387096774,0.5806451612903226,0.4516129032258064,0.5806451612903226,0.5806451612903226,0.5806451612903226,0.5161290322580645,0.4193548387096774,0.4516129032258064,0.5806451612903226,0.5806451612903226,0.4516129032258064,0.5161290322580645,0.6451612903225806,0.3548387096774194,0.5806451612903226,0.3225806451612903,0.5161290322580645,0.5483870967741935,0.6451612903225806,0.5806451612903226,0.3870967741935484,0.5161290322580645,0.6451612903225806,0.4141414141414141,0.5757575757575758,0.494949494949495,0.5454545454545454,0.4545454545454545,0.5151515151515151,0.5252525252525253,0.5757575757575758,0.4343434343434343,0.5353535353535354,0.5050505050505051,0.5858585858585859,0.5757575757575758,0.5858585858585859,0.494949494949495,0.5858585858585859,0.5757575757575758,0.4444444444444444,0.5454545454545454,0.4646464646464646,0.4141414141414141,0.5252525252525253,0.5151515151515151,0.5757575757575758,0.4242424242424242,0.4747474747474747,0.5151515151515151,0.5959595959595959,0.4545454545454545,0.6363636363636364,0.5454545454545454,0.3434343434343434,0.5959595959595959,0.494949494949495,0.5656565656565656,0.4848484848484848,0.6464646464646465,0.4747474747474747,0.5353535353535354,0.5656565656565656,0.494949494949495,0.4444444444444444,0.3939393939393939,0.6161616161616161,0.5252525252525253,0.4646464646464646,0.4242424242424242,0.4343434343434343,0.3838383838383838,0.5151515151515151,0.5656565656565656,0.5454545454545454,0.4343434343434343,0.5757575757575758,0.6262626262626263,0.5454545454545454,0.4848484848484848,0.5858585858585859,0.4343434343434343,0.5050505050505051,0.5858585858585859,0.4141414141414141,0.4646464646464646,0.4343434343434343,0.4848484848484848,0.5555555555555556,0.4545454545454545,0.6262626262626263,0.5454545454545454,0.4848484848484848,0.5353535353535354,0.4343434343434343,0.4444444444444444,0.5353535353535354,0.5252525252525253,0.5252525252525253,0.5454545454545454,0.494949494949495,0.4545454545454545,0.5252525252525253,0.4545454545454545,0.4141414141414141,0.4545454545454545,0.5151515151515151,0.4545454545454545,0.5151515151515151,0.5959595959595959,0.6161616161616161,0.5454545454545454,0.5656565656565656,0.5151515151515151,0.494949494949495,0.4242424242424242,0.494949494949495,0.4848484848484848,0.4242424242424242,0.5353535353535354,0.5656565656565656,0.5050505050505051,0.494949494949495,0.4545454545454545,0.5050505050505051,0.5050505050505051,0.6060606060606061,0.3737373737373737,0.5555555555555556,0.5454545454545454,0.5050505050505051,0.4747474747474747,0.4747474747474747,0.5151515151515151,0.4848484848484848,0.5050505050505051,0.4848484848484848,0.5757575757575758,0.5656565656565656,0.3737373737373737,0.5757575757575758,0.5151515151515151,0.4848484848484848,0.4444444444444444,0.5959595959595959,0.5959595959595959,0.5858585858585859,0.6464646464646465,0.5959595959595959,0.6262626262626263,0.5555555555555556,0.6060606060606061,0.4747474747474747,0.4848484848484848,0.5858585858585859,0.5555555555555556,0.5959595959595959,0.4848484848484848,0.5454545454545454,0.6363636363636364,0.6565656565656566,0.5656565656565656,0.5656565656565656,0.4646464646464646,0.5454545454545454,0.5454545454545454,0.5050505050505051,0.494949494949495,0.4848484848484848,0.5454545454545454,0.5858585858585859,0.5858585858585859,0.5656565656565656,0.494949494949495,0.5959595959595959,0.5050505050505051,0.5151515151515151,0.4848484848484848,0.5959595959595959,0.4848484848484848,0.4747474747474747,0.5555555555555556,0.4646464646464646,0.5050505050505051,0.5050505050505051,0.5555555555555556,0.5252525252525253,0.494949494949495,0.5959595959595959,0.5555555555555556,0.4545454545454545,0.494949494949495,0.4545454545454545,0.5555555555555556,0.5858585858585859,0.5858585858585859,0.494949494949495,0.5353535353535354,0.5656565656565656,0.5656565656565656,0.4646464646464646,0.5656565656565656,0.6060606060606061,0.4491525423728814,0.5254237288135594,0.4152542372881356,0.423728813559322,0.5254237288135594,0.5,0.4067796610169492,0.4406779661016949,0.5,0.4745762711864407,0.5,0.5847457627118644,0.5169491525423728,0.5169491525423728,0.4915254237288136,0.4576271186440678,0.5,0.5169491525423728,0.4661016949152542,0.5,0.5508474576271186,0.4661016949152542,0.559322033898305,0.5254237288135594,0.4067796610169492,0.5254237288135594,0.4152542372881356,0.4661016949152542,0.4576271186440678,0.4322033898305085,0.4152542372881356,0.5508474576271186,0.4830508474576271,0.5508474576271186,0.423728813559322,0.5338983050847458,0.5254237288135594,0.423728813559322,0.5677966101694916,0.5254237288135594,0.5254237288135594,0.5254237288135594,0.576271186440678,0.5,0.4745762711864407,0.4491525423728814,0.5932203389830508,0.5,0.5,0.5,0.4322033898305085,0.5254237288135594,0.4576271186440678,0.4576271186440678,0.4915254237288136,0.576271186440678,0.5084745762711864,0.6271186440677966,0.5084745762711864,0.4491525423728814,0.559322033898305,0.4322033898305085,0.4406779661016949,0.4830508474576271,0.4406779661016949,0.4491525423728814,0.5254237288135594,0.576271186440678,0.4322033898305085,0.576271186440678,0.4067796610169492,0.3983050847457627,0.5677966101694916,0.4915254237288136,0.4830508474576271,0.5084745762711864,0.3813559322033898,0.5084745762711864,0.5169491525423728,0.4830508474576271,0.4491525423728814,0.4322033898305085,0.4322033898305085,0.5084745762711864,0.4067796610169492,0.5338983050847458,0.4661016949152542,0.4830508474576271,0.5423728813559322,0.4661016949152542,0.5084745762711864,0.559322033898305,0.5338983050847458,0.4491525423728814,0.5169491525423728,0.5254237288135594,0.5084745762711864,0.4915254237288136,0.5169491525423728,0.4491525423728814,0.4830508474576271,0.5084745762711864,0.4745762711864407,0.4406779661016949,0.559322033898305,0.4915254237288136,0.4745762711864407,0.4576271186440678,0.4745762711864407,0.4067796610169492,0.5423728813559322,0.4067796610169492,0.5338983050847458,0.4915254237288136,0.559322033898305,0.5169491525423728,0.4576271186440678,0.4491525423728814,0.4830508474576271,0.4491525423728814,0.4661016949152542,0.4830508474576271,0.5169491525423728,0.5338983050847458,0.4915254237288136,0.5169491525423728,0.4830508474576271,0.4067796610169492,0.4745762711864407,0.4745762711864407,0.4915254237288136,0.4661016949152542,0.5508474576271186,0.4661016949152542,0.4661016949152542,0.5932203389830508,0.5508474576271186,0.5,0.5254237288135594,0.423728813559322,0.4830508474576271,0.4576271186440678,0.5508474576271186,0.5847457627118644,0.4661016949152542,0.3983050847457627,0.4406779661016949,0.5084745762711864,0.4745762711864407,0.576271186440678,0.4745762711864407,0.4067796610169492,0.4915254237288136,0.5,0.4322033898305085,0.4745762711864407,0.4406779661016949,0.4830508474576271,0.4661016949152542,0.5338983050847458,0.4830508474576271,0.4830508474576271,0.4152542372881356,0.4406779661016949,0.5,0.4661016949152542,0.4830508474576271,0.4830508474576271,0.4830508474576271,0.4491525423728814,0.4661016949152542,0.5,0.5338983050847458,0.4830508474576271,0.5084745762711864,0.4152542372881356,0.5,0.5423728813559322,0.4745762711864407,0.5847457627118644,0.7948717948717948,0.7931034482758621,0.7105263157894737,0.8285714285714286,0.6746031746031746,0.75,0.5,0.7549019607843137,0.8,0.7727272727272727,0.7971014492753623,0.7833333333333333,0.7901234567901234,0.782608695652174,0.71875,0.7445652173913043,0.680921052631579,0.7547169811320755,0.7363636363636363,0.6875,0.7106365159128978,0.7468619246861925,0.7440318302387268,0.7368605466012614,0.7037489812550938,0.7615384615384615,0.7582417582417582,0.7051282051282052,0.8090909090909091,0.7288135593220338,0.7752808988764045,0.7222222222222222,0.7440476190476191,0.8116883116883117,0.8083333333333333,0.8404255319148937,0.7802197802197802,0.8346774193548387,0.8356164383561644,0.7349397590361446,0.7769784172661871,0.6697674418604651,0.7935779816513762,0.7324561403508771,0.7207792207792207],\"type\":\"violin\"}],                        {\"template\":{\"data\":{\"histogram2dcontour\":[{\"type\":\"histogram2dcontour\",\"colorbar\":{\"outlinewidth\":0,\"ticks\":\"\"},\"colorscale\":[[0.0,\"#0d0887\"],[0.1111111111111111,\"#46039f\"],[0.2222222222222222,\"#7201a8\"],[0.3333333333333333,\"#9c179e\"],[0.4444444444444444,\"#bd3786\"],[0.5555555555555556,\"#d8576b\"],[0.6666666666666666,\"#ed7953\"],[0.7777777777777778,\"#fb9f3a\"],[0.8888888888888888,\"#fdca26\"],[1.0,\"#f0f921\"]]}],\"choropleth\":[{\"type\":\"choropleth\",\"colorbar\":{\"outlinewidth\":0,\"ticks\":\"\"}}],\"histogram2d\":[{\"type\":\"histogram2d\",\"colorbar\":{\"outlinewidth\":0,\"ticks\":\"\"},\"colorscale\":[[0.0,\"#0d0887\"],[0.1111111111111111,\"#46039f\"],[0.2222222222222222,\"#7201a8\"],[0.3333333333333333,\"#9c179e\"],[0.4444444444444444,\"#bd3786\"],[0.5555555555555556,\"#d8576b\"],[0.6666666666666666,\"#ed7953\"],[0.7777777777777778,\"#fb9f3a\"],[0.8888888888888888,\"#fdca26\"],[1.0,\"#f0f921\"]]}],\"heatmap\":[{\"type\":\"heatmap\",\"colorbar\":{\"outlinewidth\":0,\"ticks\":\"\"},\"colorscale\":[[0.0,\"#0d0887\"],[0.1111111111111111,\"#46039f\"],[0.2222222222222222,\"#7201a8\"],[0.3333333333333333,\"#9c179e\"],[0.4444444444444444,\"#bd3786\"],[0.5555555555555556,\"#d8576b\"],[0.6666666666666666,\"#ed7953\"],[0.7777777777777778,\"#fb9f3a\"],[0.8888888888888888,\"#fdca26\"],[1.0,\"#f0f921\"]]}],\"heatmapgl\":[{\"type\":\"heatmapgl\",\"colorbar\":{\"outlinewidth\":0,\"ticks\":\"\"},\"colorscale\":[[0.0,\"#0d0887\"],[0.1111111111111111,\"#46039f\"],[0.2222222222222222,\"#7201a8\"],[0.3333333333333333,\"#9c179e\"],[0.4444444444444444,\"#bd3786\"],[0.5555555555555556,\"#d8576b\"],[0.6666666666666666,\"#ed7953\"],[0.7777777777777778,\"#fb9f3a\"],[0.8888888888888888,\"#fdca26\"],[1.0,\"#f0f921\"]]}],\"contourcarpet\":[{\"type\":\"contourcarpet\",\"colorbar\":{\"outlinewidth\":0,\"ticks\":\"\"}}],\"contour\":[{\"type\":\"contour\",\"colorbar\":{\"outlinewidth\":0,\"ticks\":\"\"},\"colorscale\":[[0.0,\"#0d0887\"],[0.1111111111111111,\"#46039f\"],[0.2222222222222222,\"#7201a8\"],[0.3333333333333333,\"#9c179e\"],[0.4444444444444444,\"#bd3786\"],[0.5555555555555556,\"#d8576b\"],[0.6666666666666666,\"#ed7953\"],[0.7777777777777778,\"#fb9f3a\"],[0.8888888888888888,\"#fdca26\"],[1.0,\"#f0f921\"]]}],\"surface\":[{\"type\":\"surface\",\"colorbar\":{\"outlinewidth\":0,\"ticks\":\"\"},\"colorscale\":[[0.0,\"#0d0887\"],[0.1111111111111111,\"#46039f\"],[0.2222222222222222,\"#7201a8\"],[0.3333333333333333,\"#9c179e\"],[0.4444444444444444,\"#bd3786\"],[0.5555555555555556,\"#d8576b\"],[0.6666666666666666,\"#ed7953\"],[0.7777777777777778,\"#fb9f3a\"],[0.8888888888888888,\"#fdca26\"],[1.0,\"#f0f921\"]]}],\"mesh3d\":[{\"type\":\"mesh3d\",\"colorbar\":{\"outlinewidth\":0,\"ticks\":\"\"}}],\"scatter\":[{\"fillpattern\":{\"fillmode\":\"overlay\",\"size\":10,\"solidity\":0.2},\"type\":\"scatter\"}],\"parcoords\":[{\"type\":\"parcoords\",\"line\":{\"colorbar\":{\"outlinewidth\":0,\"ticks\":\"\"}}}],\"scatterpolargl\":[{\"type\":\"scatterpolargl\",\"marker\":{\"colorbar\":{\"outlinewidth\":0,\"ticks\":\"\"}}}],\"bar\":[{\"error_x\":{\"color\":\"#2a3f5f\"},\"error_y\":{\"color\":\"#2a3f5f\"},\"marker\":{\"line\":{\"color\":\"#E5ECF6\",\"width\":0.5},\"pattern\":{\"fillmode\":\"overlay\",\"size\":10,\"solidity\":0.2}},\"type\":\"bar\"}],\"scattergeo\":[{\"type\":\"scattergeo\",\"marker\":{\"colorbar\":{\"outlinewidth\":0,\"ticks\":\"\"}}}],\"scatterpolar\":[{\"type\":\"scatterpolar\",\"marker\":{\"colorbar\":{\"outlinewidth\":0,\"ticks\":\"\"}}}],\"histogram\":[{\"marker\":{\"pattern\":{\"fillmode\":\"overlay\",\"size\":10,\"solidity\":0.2}},\"type\":\"histogram\"}],\"scattergl\":[{\"type\":\"scattergl\",\"marker\":{\"colorbar\":{\"outlinewidth\":0,\"ticks\":\"\"}}}],\"scatter3d\":[{\"type\":\"scatter3d\",\"line\":{\"colorbar\":{\"outlinewidth\":0,\"ticks\":\"\"}},\"marker\":{\"colorbar\":{\"outlinewidth\":0,\"ticks\":\"\"}}}],\"scattermapbox\":[{\"type\":\"scattermapbox\",\"marker\":{\"colorbar\":{\"outlinewidth\":0,\"ticks\":\"\"}}}],\"scatterternary\":[{\"type\":\"scatterternary\",\"marker\":{\"colorbar\":{\"outlinewidth\":0,\"ticks\":\"\"}}}],\"scattercarpet\":[{\"type\":\"scattercarpet\",\"marker\":{\"colorbar\":{\"outlinewidth\":0,\"ticks\":\"\"}}}],\"carpet\":[{\"aaxis\":{\"endlinecolor\":\"#2a3f5f\",\"gridcolor\":\"white\",\"linecolor\":\"white\",\"minorgridcolor\":\"white\",\"startlinecolor\":\"#2a3f5f\"},\"baxis\":{\"endlinecolor\":\"#2a3f5f\",\"gridcolor\":\"white\",\"linecolor\":\"white\",\"minorgridcolor\":\"white\",\"startlinecolor\":\"#2a3f5f\"},\"type\":\"carpet\"}],\"table\":[{\"cells\":{\"fill\":{\"color\":\"#EBF0F8\"},\"line\":{\"color\":\"white\"}},\"header\":{\"fill\":{\"color\":\"#C8D4E3\"},\"line\":{\"color\":\"white\"}},\"type\":\"table\"}],\"barpolar\":[{\"marker\":{\"line\":{\"color\":\"#E5ECF6\",\"width\":0.5},\"pattern\":{\"fillmode\":\"overlay\",\"size\":10,\"solidity\":0.2}},\"type\":\"barpolar\"}],\"pie\":[{\"automargin\":true,\"type\":\"pie\"}]},\"layout\":{\"autotypenumbers\":\"strict\",\"colorway\":[\"#636efa\",\"#EF553B\",\"#00cc96\",\"#ab63fa\",\"#FFA15A\",\"#19d3f3\",\"#FF6692\",\"#B6E880\",\"#FF97FF\",\"#FECB52\"],\"font\":{\"color\":\"#2a3f5f\"},\"hovermode\":\"closest\",\"hoverlabel\":{\"align\":\"left\"},\"paper_bgcolor\":\"white\",\"plot_bgcolor\":\"#E5ECF6\",\"polar\":{\"bgcolor\":\"#E5ECF6\",\"angularaxis\":{\"gridcolor\":\"white\",\"linecolor\":\"white\",\"ticks\":\"\"},\"radialaxis\":{\"gridcolor\":\"white\",\"linecolor\":\"white\",\"ticks\":\"\"}},\"ternary\":{\"bgcolor\":\"#E5ECF6\",\"aaxis\":{\"gridcolor\":\"white\",\"linecolor\":\"white\",\"ticks\":\"\"},\"baxis\":{\"gridcolor\":\"white\",\"linecolor\":\"white\",\"ticks\":\"\"},\"caxis\":{\"gridcolor\":\"white\",\"linecolor\":\"white\",\"ticks\":\"\"}},\"coloraxis\":{\"colorbar\":{\"outlinewidth\":0,\"ticks\":\"\"}},\"colorscale\":{\"sequential\":[[0.0,\"#0d0887\"],[0.1111111111111111,\"#46039f\"],[0.2222222222222222,\"#7201a8\"],[0.3333333333333333,\"#9c179e\"],[0.4444444444444444,\"#bd3786\"],[0.5555555555555556,\"#d8576b\"],[0.6666666666666666,\"#ed7953\"],[0.7777777777777778,\"#fb9f3a\"],[0.8888888888888888,\"#fdca26\"],[1.0,\"#f0f921\"]],\"sequentialminus\":[[0.0,\"#0d0887\"],[0.1111111111111111,\"#46039f\"],[0.2222222222222222,\"#7201a8\"],[0.3333333333333333,\"#9c179e\"],[0.4444444444444444,\"#bd3786\"],[0.5555555555555556,\"#d8576b\"],[0.6666666666666666,\"#ed7953\"],[0.7777777777777778,\"#fb9f3a\"],[0.8888888888888888,\"#fdca26\"],[1.0,\"#f0f921\"]],\"diverging\":[[0,\"#8e0152\"],[0.1,\"#c51b7d\"],[0.2,\"#de77ae\"],[0.3,\"#f1b6da\"],[0.4,\"#fde0ef\"],[0.5,\"#f7f7f7\"],[0.6,\"#e6f5d0\"],[0.7,\"#b8e186\"],[0.8,\"#7fbc41\"],[0.9,\"#4d9221\"],[1,\"#276419\"]]},\"xaxis\":{\"gridcolor\":\"white\",\"linecolor\":\"white\",\"ticks\":\"\",\"title\":{\"standoff\":15},\"zerolinecolor\":\"white\",\"automargin\":true,\"zerolinewidth\":2},\"yaxis\":{\"gridcolor\":\"white\",\"linecolor\":\"white\",\"ticks\":\"\",\"title\":{\"standoff\":15},\"zerolinecolor\":\"white\",\"automargin\":true,\"zerolinewidth\":2},\"scene\":{\"xaxis\":{\"backgroundcolor\":\"#E5ECF6\",\"gridcolor\":\"white\",\"linecolor\":\"white\",\"showbackground\":true,\"ticks\":\"\",\"zerolinecolor\":\"white\",\"gridwidth\":2},\"yaxis\":{\"backgroundcolor\":\"#E5ECF6\",\"gridcolor\":\"white\",\"linecolor\":\"white\",\"showbackground\":true,\"ticks\":\"\",\"zerolinecolor\":\"white\",\"gridwidth\":2},\"zaxis\":{\"backgroundcolor\":\"#E5ECF6\",\"gridcolor\":\"white\",\"linecolor\":\"white\",\"showbackground\":true,\"ticks\":\"\",\"zerolinecolor\":\"white\",\"gridwidth\":2}},\"shapedefaults\":{\"line\":{\"color\":\"#2a3f5f\"}},\"annotationdefaults\":{\"arrowcolor\":\"#2a3f5f\",\"arrowhead\":0,\"arrowwidth\":1},\"geo\":{\"bgcolor\":\"white\",\"landcolor\":\"#E5ECF6\",\"subunitcolor\":\"white\",\"showland\":true,\"showlakes\":true,\"lakecolor\":\"white\"},\"title\":{\"x\":0.05},\"mapbox\":{\"style\":\"light\"}}}},                        {\"responsive\": true}                    ).then(function(){\n",
       "                            \n",
       "var gd = document.getElementById('00ee7b87-0b4e-461c-ba2e-8704c1008bea');\n",
       "var x = new MutationObserver(function (mutations, observer) {{\n",
       "        var display = window.getComputedStyle(gd).display;\n",
       "        if (!display || display === 'none') {{\n",
       "            console.log([gd, 'removed!']);\n",
       "            Plotly.purge(gd);\n",
       "            observer.disconnect();\n",
       "        }}\n",
       "}});\n",
       "\n",
       "// Listen for the removal of the full notebook cells\n",
       "var notebookContainer = gd.closest('#notebook-container');\n",
       "if (notebookContainer) {{\n",
       "    x.observe(notebookContainer, {childList: true});\n",
       "}}\n",
       "\n",
       "// Listen for the clearing of the current output cell\n",
       "var outputEl = gd.closest('.output');\n",
       "if (outputEl) {{\n",
       "    x.observe(outputEl, {childList: true});\n",
       "}}\n",
       "\n",
       "                        })                };                });            </script>        </div>"
      ]
     },
     "metadata": {},
     "output_type": "display_data"
    }
   ],
   "source": [
    "types = ['real', 'semi-synthetic', 'synthetic']\n",
    "fig = go.Figure()\n",
    "for typ in types:\n",
    "    fig.add_trace(go.Violin(x=df['type'][df['type'] == typ],\n",
    "                            y=df['varsortability'][df['type'] == typ],\n",
    "                            name=typ,\n",
    "                            box_visible=True,\n",
    "                            meanline_visible=True))\n",
    "fig.show()\n",
    "fig.write_html(\"graph_interactive/datasets_type_violin.html\")\n",
    "    "
   ]
  },
  {
   "cell_type": "code",
   "execution_count": null,
   "id": "23cc6442",
   "metadata": {},
   "outputs": [],
   "source": []
  }
 ],
 "metadata": {
  "kernelspec": {
   "display_name": "torch-gpu",
   "language": "python",
   "name": "torch-gpu"
  },
  "language_info": {
   "codemirror_mode": {
    "name": "ipython",
    "version": 3
   },
   "file_extension": ".py",
   "mimetype": "text/x-python",
   "name": "python",
   "nbconvert_exporter": "python",
   "pygments_lexer": "ipython3",
   "version": "3.8.13"
  }
 },
 "nbformat": 4,
 "nbformat_minor": 5
}
